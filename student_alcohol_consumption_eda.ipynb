{
  "cells": [
    {
      "cell_type": "markdown",
      "metadata": {
        "id": "view-in-github",
        "colab_type": "text"
      },
      "source": [
        "<a href=\"https://colab.research.google.com/github/nikbott/Student-Alcohol-Consumption-EDA/blob/main/student_alcohol_consumption_eda.ipynb\" target=\"_parent\"><img src=\"https://colab.research.google.com/assets/colab-badge.svg\" alt=\"Open In Colab\"/></a>"
      ]
    },
    {
      "cell_type": "markdown",
      "source": [
        "# Análise Exploratória de Dados - Consumo de Álcool entre Estudantes"
      ],
      "metadata": {
        "id": "QnKKKC_bBN0V"
      }
    },
    {
      "cell_type": "markdown",
      "source": [
        "Melissa Shimada - 821620\n",
        "\n",
        "Vinícius Reyes Kury - 819730"
      ],
      "metadata": {
        "id": "8y2QA2HGAVfT"
      }
    },
    {
      "cell_type": "code",
      "execution_count": null,
      "metadata": {
        "id": "iCwYmeOpFyeQ"
      },
      "outputs": [],
      "source": [
        "import matplotlib.pyplot as plt\n",
        "import numpy as np\n",
        "import pandas as pd\n",
        "from scipy.stats import chi2_contingency, pearsonr, skew, ttest_ind\n",
        "import seaborn as sns\n",
        "import statsmodels.api as sm"
      ]
    },
    {
      "cell_type": "markdown",
      "metadata": {
        "id": "RWvxZo6yCpeb"
      },
      "source": [
        "# Determinação do Conjunto de Dados\n"
      ]
    },
    {
      "cell_type": "markdown",
      "metadata": {
        "id": "yMPvsW36JCW2"
      },
      "source": [
        "O conjunto de dados escolhido diz respeito ao consumo de álcool por estudantes de duas escolas secundárias em Portugal. Contém dados socioecnonômicos. de gênero e acadêmicos de alunos das trilhas de português e matemática das escolas \"Gabriel Pereira\" e \"Mousinho da Silveira\". Dados extraídos do [Kaggle](https://www.kaggle.com/datasets/uciml/student-alcohol-consumption)."
      ]
    },
    {
      "cell_type": "code",
      "execution_count": null,
      "metadata": {
        "id": "Hc7ER4aBDlyi",
        "colab": {
          "base_uri": "https://localhost:8080/"
        },
        "outputId": "8e5687b9-d5fc-4c3e-9c94-8ef35e3193ad"
      },
      "outputs": [
        {
          "output_type": "stream",
          "name": "stdout",
          "text": [
            "Drive already mounted at /content/drive; to attempt to forcibly remount, call drive.mount(\"/content/drive\", force_remount=True).\n"
          ]
        }
      ],
      "source": [
        "from google.colab import drive\n",
        "drive.mount('/content/drive')"
      ]
    },
    {
      "cell_type": "code",
      "execution_count": null,
      "metadata": {
        "id": "tMGN4kcVF4TY"
      },
      "outputs": [],
      "source": [
        "math = \"/content/drive/MyDrive/student_alcohol_consumption/student-mat.csv\"\n",
        "port = \"/content/drive/MyDrive/student_alcohol_consumption/student-por.csv\"\n",
        "df_math, df_port = pd.read_csv(math), pd.read_csv(port)"
      ]
    },
    {
      "cell_type": "code",
      "execution_count": null,
      "metadata": {
        "id": "KpRk2uYmeM1k",
        "colab": {
          "base_uri": "https://localhost:8080/",
          "height": 236
        },
        "outputId": "be5d0034-da99-451d-bb5f-f6e77b899a3b"
      },
      "outputs": [
        {
          "output_type": "display_data",
          "data": {
            "text/plain": [
              "  school sex  age address famsize Pstatus  Medu  Fedu     Mjob      Fjob  ...  \\\n",
              "0     GP   F   18       U     GT3       A     4     4  at_home   teacher  ...   \n",
              "1     GP   F   17       U     GT3       T     1     1  at_home     other  ...   \n",
              "2     GP   F   15       U     LE3       T     1     1  at_home     other  ...   \n",
              "3     GP   F   15       U     GT3       T     4     2   health  services  ...   \n",
              "4     GP   F   16       U     GT3       T     3     3    other     other  ...   \n",
              "\n",
              "  famrel freetime  goout  Dalc  Walc health absences  G1  G2  G3  \n",
              "0      4        3      4     1     1      3        6   5   6   6  \n",
              "1      5        3      3     1     1      3        4   5   5   6  \n",
              "2      4        3      2     2     3      3       10   7   8  10  \n",
              "3      3        2      2     1     1      5        2  15  14  15  \n",
              "4      4        3      2     1     2      5        4   6  10  10  \n",
              "\n",
              "[5 rows x 33 columns]"
            ],
            "text/html": [
              "\n",
              "  <div id=\"df-07f101c6-4e08-4bbe-b7c1-65ebd51f28a9\" class=\"colab-df-container\">\n",
              "    <div>\n",
              "<style scoped>\n",
              "    .dataframe tbody tr th:only-of-type {\n",
              "        vertical-align: middle;\n",
              "    }\n",
              "\n",
              "    .dataframe tbody tr th {\n",
              "        vertical-align: top;\n",
              "    }\n",
              "\n",
              "    .dataframe thead th {\n",
              "        text-align: right;\n",
              "    }\n",
              "</style>\n",
              "<table border=\"1\" class=\"dataframe\">\n",
              "  <thead>\n",
              "    <tr style=\"text-align: right;\">\n",
              "      <th></th>\n",
              "      <th>school</th>\n",
              "      <th>sex</th>\n",
              "      <th>age</th>\n",
              "      <th>address</th>\n",
              "      <th>famsize</th>\n",
              "      <th>Pstatus</th>\n",
              "      <th>Medu</th>\n",
              "      <th>Fedu</th>\n",
              "      <th>Mjob</th>\n",
              "      <th>Fjob</th>\n",
              "      <th>...</th>\n",
              "      <th>famrel</th>\n",
              "      <th>freetime</th>\n",
              "      <th>goout</th>\n",
              "      <th>Dalc</th>\n",
              "      <th>Walc</th>\n",
              "      <th>health</th>\n",
              "      <th>absences</th>\n",
              "      <th>G1</th>\n",
              "      <th>G2</th>\n",
              "      <th>G3</th>\n",
              "    </tr>\n",
              "  </thead>\n",
              "  <tbody>\n",
              "    <tr>\n",
              "      <th>0</th>\n",
              "      <td>GP</td>\n",
              "      <td>F</td>\n",
              "      <td>18</td>\n",
              "      <td>U</td>\n",
              "      <td>GT3</td>\n",
              "      <td>A</td>\n",
              "      <td>4</td>\n",
              "      <td>4</td>\n",
              "      <td>at_home</td>\n",
              "      <td>teacher</td>\n",
              "      <td>...</td>\n",
              "      <td>4</td>\n",
              "      <td>3</td>\n",
              "      <td>4</td>\n",
              "      <td>1</td>\n",
              "      <td>1</td>\n",
              "      <td>3</td>\n",
              "      <td>6</td>\n",
              "      <td>5</td>\n",
              "      <td>6</td>\n",
              "      <td>6</td>\n",
              "    </tr>\n",
              "    <tr>\n",
              "      <th>1</th>\n",
              "      <td>GP</td>\n",
              "      <td>F</td>\n",
              "      <td>17</td>\n",
              "      <td>U</td>\n",
              "      <td>GT3</td>\n",
              "      <td>T</td>\n",
              "      <td>1</td>\n",
              "      <td>1</td>\n",
              "      <td>at_home</td>\n",
              "      <td>other</td>\n",
              "      <td>...</td>\n",
              "      <td>5</td>\n",
              "      <td>3</td>\n",
              "      <td>3</td>\n",
              "      <td>1</td>\n",
              "      <td>1</td>\n",
              "      <td>3</td>\n",
              "      <td>4</td>\n",
              "      <td>5</td>\n",
              "      <td>5</td>\n",
              "      <td>6</td>\n",
              "    </tr>\n",
              "    <tr>\n",
              "      <th>2</th>\n",
              "      <td>GP</td>\n",
              "      <td>F</td>\n",
              "      <td>15</td>\n",
              "      <td>U</td>\n",
              "      <td>LE3</td>\n",
              "      <td>T</td>\n",
              "      <td>1</td>\n",
              "      <td>1</td>\n",
              "      <td>at_home</td>\n",
              "      <td>other</td>\n",
              "      <td>...</td>\n",
              "      <td>4</td>\n",
              "      <td>3</td>\n",
              "      <td>2</td>\n",
              "      <td>2</td>\n",
              "      <td>3</td>\n",
              "      <td>3</td>\n",
              "      <td>10</td>\n",
              "      <td>7</td>\n",
              "      <td>8</td>\n",
              "      <td>10</td>\n",
              "    </tr>\n",
              "    <tr>\n",
              "      <th>3</th>\n",
              "      <td>GP</td>\n",
              "      <td>F</td>\n",
              "      <td>15</td>\n",
              "      <td>U</td>\n",
              "      <td>GT3</td>\n",
              "      <td>T</td>\n",
              "      <td>4</td>\n",
              "      <td>2</td>\n",
              "      <td>health</td>\n",
              "      <td>services</td>\n",
              "      <td>...</td>\n",
              "      <td>3</td>\n",
              "      <td>2</td>\n",
              "      <td>2</td>\n",
              "      <td>1</td>\n",
              "      <td>1</td>\n",
              "      <td>5</td>\n",
              "      <td>2</td>\n",
              "      <td>15</td>\n",
              "      <td>14</td>\n",
              "      <td>15</td>\n",
              "    </tr>\n",
              "    <tr>\n",
              "      <th>4</th>\n",
              "      <td>GP</td>\n",
              "      <td>F</td>\n",
              "      <td>16</td>\n",
              "      <td>U</td>\n",
              "      <td>GT3</td>\n",
              "      <td>T</td>\n",
              "      <td>3</td>\n",
              "      <td>3</td>\n",
              "      <td>other</td>\n",
              "      <td>other</td>\n",
              "      <td>...</td>\n",
              "      <td>4</td>\n",
              "      <td>3</td>\n",
              "      <td>2</td>\n",
              "      <td>1</td>\n",
              "      <td>2</td>\n",
              "      <td>5</td>\n",
              "      <td>4</td>\n",
              "      <td>6</td>\n",
              "      <td>10</td>\n",
              "      <td>10</td>\n",
              "    </tr>\n",
              "  </tbody>\n",
              "</table>\n",
              "<p>5 rows × 33 columns</p>\n",
              "</div>\n",
              "    <div class=\"colab-df-buttons\">\n",
              "\n",
              "  <div class=\"colab-df-container\">\n",
              "    <button class=\"colab-df-convert\" onclick=\"convertToInteractive('df-07f101c6-4e08-4bbe-b7c1-65ebd51f28a9')\"\n",
              "            title=\"Convert this dataframe to an interactive table.\"\n",
              "            style=\"display:none;\">\n",
              "\n",
              "  <svg xmlns=\"http://www.w3.org/2000/svg\" height=\"24px\" viewBox=\"0 -960 960 960\">\n",
              "    <path d=\"M120-120v-720h720v720H120Zm60-500h600v-160H180v160Zm220 220h160v-160H400v160Zm0 220h160v-160H400v160ZM180-400h160v-160H180v160Zm440 0h160v-160H620v160ZM180-180h160v-160H180v160Zm440 0h160v-160H620v160Z\"/>\n",
              "  </svg>\n",
              "    </button>\n",
              "\n",
              "  <style>\n",
              "    .colab-df-container {\n",
              "      display:flex;\n",
              "      gap: 12px;\n",
              "    }\n",
              "\n",
              "    .colab-df-convert {\n",
              "      background-color: #E8F0FE;\n",
              "      border: none;\n",
              "      border-radius: 50%;\n",
              "      cursor: pointer;\n",
              "      display: none;\n",
              "      fill: #1967D2;\n",
              "      height: 32px;\n",
              "      padding: 0 0 0 0;\n",
              "      width: 32px;\n",
              "    }\n",
              "\n",
              "    .colab-df-convert:hover {\n",
              "      background-color: #E2EBFA;\n",
              "      box-shadow: 0px 1px 2px rgba(60, 64, 67, 0.3), 0px 1px 3px 1px rgba(60, 64, 67, 0.15);\n",
              "      fill: #174EA6;\n",
              "    }\n",
              "\n",
              "    .colab-df-buttons div {\n",
              "      margin-bottom: 4px;\n",
              "    }\n",
              "\n",
              "    [theme=dark] .colab-df-convert {\n",
              "      background-color: #3B4455;\n",
              "      fill: #D2E3FC;\n",
              "    }\n",
              "\n",
              "    [theme=dark] .colab-df-convert:hover {\n",
              "      background-color: #434B5C;\n",
              "      box-shadow: 0px 1px 3px 1px rgba(0, 0, 0, 0.15);\n",
              "      filter: drop-shadow(0px 1px 2px rgba(0, 0, 0, 0.3));\n",
              "      fill: #FFFFFF;\n",
              "    }\n",
              "  </style>\n",
              "\n",
              "    <script>\n",
              "      const buttonEl =\n",
              "        document.querySelector('#df-07f101c6-4e08-4bbe-b7c1-65ebd51f28a9 button.colab-df-convert');\n",
              "      buttonEl.style.display =\n",
              "        google.colab.kernel.accessAllowed ? 'block' : 'none';\n",
              "\n",
              "      async function convertToInteractive(key) {\n",
              "        const element = document.querySelector('#df-07f101c6-4e08-4bbe-b7c1-65ebd51f28a9');\n",
              "        const dataTable =\n",
              "          await google.colab.kernel.invokeFunction('convertToInteractive',\n",
              "                                                    [key], {});\n",
              "        if (!dataTable) return;\n",
              "\n",
              "        const docLinkHtml = 'Like what you see? Visit the ' +\n",
              "          '<a target=\"_blank\" href=https://colab.research.google.com/notebooks/data_table.ipynb>data table notebook</a>'\n",
              "          + ' to learn more about interactive tables.';\n",
              "        element.innerHTML = '';\n",
              "        dataTable['output_type'] = 'display_data';\n",
              "        await google.colab.output.renderOutput(dataTable, element);\n",
              "        const docLink = document.createElement('div');\n",
              "        docLink.innerHTML = docLinkHtml;\n",
              "        element.appendChild(docLink);\n",
              "      }\n",
              "    </script>\n",
              "  </div>\n",
              "\n",
              "\n",
              "<div id=\"df-33055783-ef08-4eed-88ad-a00871e6ba16\">\n",
              "  <button class=\"colab-df-quickchart\" onclick=\"quickchart('df-33055783-ef08-4eed-88ad-a00871e6ba16')\"\n",
              "            title=\"Suggest charts\"\n",
              "            style=\"display:none;\">\n",
              "\n",
              "<svg xmlns=\"http://www.w3.org/2000/svg\" height=\"24px\"viewBox=\"0 0 24 24\"\n",
              "     width=\"24px\">\n",
              "    <g>\n",
              "        <path d=\"M19 3H5c-1.1 0-2 .9-2 2v14c0 1.1.9 2 2 2h14c1.1 0 2-.9 2-2V5c0-1.1-.9-2-2-2zM9 17H7v-7h2v7zm4 0h-2V7h2v10zm4 0h-2v-4h2v4z\"/>\n",
              "    </g>\n",
              "</svg>\n",
              "  </button>\n",
              "\n",
              "<style>\n",
              "  .colab-df-quickchart {\n",
              "      --bg-color: #E8F0FE;\n",
              "      --fill-color: #1967D2;\n",
              "      --hover-bg-color: #E2EBFA;\n",
              "      --hover-fill-color: #174EA6;\n",
              "      --disabled-fill-color: #AAA;\n",
              "      --disabled-bg-color: #DDD;\n",
              "  }\n",
              "\n",
              "  [theme=dark] .colab-df-quickchart {\n",
              "      --bg-color: #3B4455;\n",
              "      --fill-color: #D2E3FC;\n",
              "      --hover-bg-color: #434B5C;\n",
              "      --hover-fill-color: #FFFFFF;\n",
              "      --disabled-bg-color: #3B4455;\n",
              "      --disabled-fill-color: #666;\n",
              "  }\n",
              "\n",
              "  .colab-df-quickchart {\n",
              "    background-color: var(--bg-color);\n",
              "    border: none;\n",
              "    border-radius: 50%;\n",
              "    cursor: pointer;\n",
              "    display: none;\n",
              "    fill: var(--fill-color);\n",
              "    height: 32px;\n",
              "    padding: 0;\n",
              "    width: 32px;\n",
              "  }\n",
              "\n",
              "  .colab-df-quickchart:hover {\n",
              "    background-color: var(--hover-bg-color);\n",
              "    box-shadow: 0 1px 2px rgba(60, 64, 67, 0.3), 0 1px 3px 1px rgba(60, 64, 67, 0.15);\n",
              "    fill: var(--button-hover-fill-color);\n",
              "  }\n",
              "\n",
              "  .colab-df-quickchart-complete:disabled,\n",
              "  .colab-df-quickchart-complete:disabled:hover {\n",
              "    background-color: var(--disabled-bg-color);\n",
              "    fill: var(--disabled-fill-color);\n",
              "    box-shadow: none;\n",
              "  }\n",
              "\n",
              "  .colab-df-spinner {\n",
              "    border: 2px solid var(--fill-color);\n",
              "    border-color: transparent;\n",
              "    border-bottom-color: var(--fill-color);\n",
              "    animation:\n",
              "      spin 1s steps(1) infinite;\n",
              "  }\n",
              "\n",
              "  @keyframes spin {\n",
              "    0% {\n",
              "      border-color: transparent;\n",
              "      border-bottom-color: var(--fill-color);\n",
              "      border-left-color: var(--fill-color);\n",
              "    }\n",
              "    20% {\n",
              "      border-color: transparent;\n",
              "      border-left-color: var(--fill-color);\n",
              "      border-top-color: var(--fill-color);\n",
              "    }\n",
              "    30% {\n",
              "      border-color: transparent;\n",
              "      border-left-color: var(--fill-color);\n",
              "      border-top-color: var(--fill-color);\n",
              "      border-right-color: var(--fill-color);\n",
              "    }\n",
              "    40% {\n",
              "      border-color: transparent;\n",
              "      border-right-color: var(--fill-color);\n",
              "      border-top-color: var(--fill-color);\n",
              "    }\n",
              "    60% {\n",
              "      border-color: transparent;\n",
              "      border-right-color: var(--fill-color);\n",
              "    }\n",
              "    80% {\n",
              "      border-color: transparent;\n",
              "      border-right-color: var(--fill-color);\n",
              "      border-bottom-color: var(--fill-color);\n",
              "    }\n",
              "    90% {\n",
              "      border-color: transparent;\n",
              "      border-bottom-color: var(--fill-color);\n",
              "    }\n",
              "  }\n",
              "</style>\n",
              "\n",
              "  <script>\n",
              "    async function quickchart(key) {\n",
              "      const quickchartButtonEl =\n",
              "        document.querySelector('#' + key + ' button');\n",
              "      quickchartButtonEl.disabled = true;  // To prevent multiple clicks.\n",
              "      quickchartButtonEl.classList.add('colab-df-spinner');\n",
              "      try {\n",
              "        const charts = await google.colab.kernel.invokeFunction(\n",
              "            'suggestCharts', [key], {});\n",
              "      } catch (error) {\n",
              "        console.error('Error during call to suggestCharts:', error);\n",
              "      }\n",
              "      quickchartButtonEl.classList.remove('colab-df-spinner');\n",
              "      quickchartButtonEl.classList.add('colab-df-quickchart-complete');\n",
              "    }\n",
              "    (() => {\n",
              "      let quickchartButtonEl =\n",
              "        document.querySelector('#df-33055783-ef08-4eed-88ad-a00871e6ba16 button');\n",
              "      quickchartButtonEl.style.display =\n",
              "        google.colab.kernel.accessAllowed ? 'block' : 'none';\n",
              "    })();\n",
              "  </script>\n",
              "</div>\n",
              "    </div>\n",
              "  </div>\n"
            ]
          },
          "metadata": {}
        }
      ],
      "source": [
        "display(df_math.head())"
      ]
    },
    {
      "cell_type": "code",
      "execution_count": null,
      "metadata": {
        "id": "MrjSqAsQeN_z",
        "colab": {
          "base_uri": "https://localhost:8080/",
          "height": 236
        },
        "outputId": "6d193861-ef2d-48b4-a601-7a274ed7a13c"
      },
      "outputs": [
        {
          "output_type": "display_data",
          "data": {
            "text/plain": [
              "  school sex  age address famsize Pstatus  Medu  Fedu     Mjob      Fjob  ...  \\\n",
              "0     GP   F   18       U     GT3       A     4     4  at_home   teacher  ...   \n",
              "1     GP   F   17       U     GT3       T     1     1  at_home     other  ...   \n",
              "2     GP   F   15       U     LE3       T     1     1  at_home     other  ...   \n",
              "3     GP   F   15       U     GT3       T     4     2   health  services  ...   \n",
              "4     GP   F   16       U     GT3       T     3     3    other     other  ...   \n",
              "\n",
              "  famrel freetime  goout  Dalc  Walc health absences  G1  G2  G3  \n",
              "0      4        3      4     1     1      3        4   0  11  11  \n",
              "1      5        3      3     1     1      3        2   9  11  11  \n",
              "2      4        3      2     2     3      3        6  12  13  12  \n",
              "3      3        2      2     1     1      5        0  14  14  14  \n",
              "4      4        3      2     1     2      5        0  11  13  13  \n",
              "\n",
              "[5 rows x 33 columns]"
            ],
            "text/html": [
              "\n",
              "  <div id=\"df-e57ef179-fbca-4d17-9923-90b46e1f7e96\" class=\"colab-df-container\">\n",
              "    <div>\n",
              "<style scoped>\n",
              "    .dataframe tbody tr th:only-of-type {\n",
              "        vertical-align: middle;\n",
              "    }\n",
              "\n",
              "    .dataframe tbody tr th {\n",
              "        vertical-align: top;\n",
              "    }\n",
              "\n",
              "    .dataframe thead th {\n",
              "        text-align: right;\n",
              "    }\n",
              "</style>\n",
              "<table border=\"1\" class=\"dataframe\">\n",
              "  <thead>\n",
              "    <tr style=\"text-align: right;\">\n",
              "      <th></th>\n",
              "      <th>school</th>\n",
              "      <th>sex</th>\n",
              "      <th>age</th>\n",
              "      <th>address</th>\n",
              "      <th>famsize</th>\n",
              "      <th>Pstatus</th>\n",
              "      <th>Medu</th>\n",
              "      <th>Fedu</th>\n",
              "      <th>Mjob</th>\n",
              "      <th>Fjob</th>\n",
              "      <th>...</th>\n",
              "      <th>famrel</th>\n",
              "      <th>freetime</th>\n",
              "      <th>goout</th>\n",
              "      <th>Dalc</th>\n",
              "      <th>Walc</th>\n",
              "      <th>health</th>\n",
              "      <th>absences</th>\n",
              "      <th>G1</th>\n",
              "      <th>G2</th>\n",
              "      <th>G3</th>\n",
              "    </tr>\n",
              "  </thead>\n",
              "  <tbody>\n",
              "    <tr>\n",
              "      <th>0</th>\n",
              "      <td>GP</td>\n",
              "      <td>F</td>\n",
              "      <td>18</td>\n",
              "      <td>U</td>\n",
              "      <td>GT3</td>\n",
              "      <td>A</td>\n",
              "      <td>4</td>\n",
              "      <td>4</td>\n",
              "      <td>at_home</td>\n",
              "      <td>teacher</td>\n",
              "      <td>...</td>\n",
              "      <td>4</td>\n",
              "      <td>3</td>\n",
              "      <td>4</td>\n",
              "      <td>1</td>\n",
              "      <td>1</td>\n",
              "      <td>3</td>\n",
              "      <td>4</td>\n",
              "      <td>0</td>\n",
              "      <td>11</td>\n",
              "      <td>11</td>\n",
              "    </tr>\n",
              "    <tr>\n",
              "      <th>1</th>\n",
              "      <td>GP</td>\n",
              "      <td>F</td>\n",
              "      <td>17</td>\n",
              "      <td>U</td>\n",
              "      <td>GT3</td>\n",
              "      <td>T</td>\n",
              "      <td>1</td>\n",
              "      <td>1</td>\n",
              "      <td>at_home</td>\n",
              "      <td>other</td>\n",
              "      <td>...</td>\n",
              "      <td>5</td>\n",
              "      <td>3</td>\n",
              "      <td>3</td>\n",
              "      <td>1</td>\n",
              "      <td>1</td>\n",
              "      <td>3</td>\n",
              "      <td>2</td>\n",
              "      <td>9</td>\n",
              "      <td>11</td>\n",
              "      <td>11</td>\n",
              "    </tr>\n",
              "    <tr>\n",
              "      <th>2</th>\n",
              "      <td>GP</td>\n",
              "      <td>F</td>\n",
              "      <td>15</td>\n",
              "      <td>U</td>\n",
              "      <td>LE3</td>\n",
              "      <td>T</td>\n",
              "      <td>1</td>\n",
              "      <td>1</td>\n",
              "      <td>at_home</td>\n",
              "      <td>other</td>\n",
              "      <td>...</td>\n",
              "      <td>4</td>\n",
              "      <td>3</td>\n",
              "      <td>2</td>\n",
              "      <td>2</td>\n",
              "      <td>3</td>\n",
              "      <td>3</td>\n",
              "      <td>6</td>\n",
              "      <td>12</td>\n",
              "      <td>13</td>\n",
              "      <td>12</td>\n",
              "    </tr>\n",
              "    <tr>\n",
              "      <th>3</th>\n",
              "      <td>GP</td>\n",
              "      <td>F</td>\n",
              "      <td>15</td>\n",
              "      <td>U</td>\n",
              "      <td>GT3</td>\n",
              "      <td>T</td>\n",
              "      <td>4</td>\n",
              "      <td>2</td>\n",
              "      <td>health</td>\n",
              "      <td>services</td>\n",
              "      <td>...</td>\n",
              "      <td>3</td>\n",
              "      <td>2</td>\n",
              "      <td>2</td>\n",
              "      <td>1</td>\n",
              "      <td>1</td>\n",
              "      <td>5</td>\n",
              "      <td>0</td>\n",
              "      <td>14</td>\n",
              "      <td>14</td>\n",
              "      <td>14</td>\n",
              "    </tr>\n",
              "    <tr>\n",
              "      <th>4</th>\n",
              "      <td>GP</td>\n",
              "      <td>F</td>\n",
              "      <td>16</td>\n",
              "      <td>U</td>\n",
              "      <td>GT3</td>\n",
              "      <td>T</td>\n",
              "      <td>3</td>\n",
              "      <td>3</td>\n",
              "      <td>other</td>\n",
              "      <td>other</td>\n",
              "      <td>...</td>\n",
              "      <td>4</td>\n",
              "      <td>3</td>\n",
              "      <td>2</td>\n",
              "      <td>1</td>\n",
              "      <td>2</td>\n",
              "      <td>5</td>\n",
              "      <td>0</td>\n",
              "      <td>11</td>\n",
              "      <td>13</td>\n",
              "      <td>13</td>\n",
              "    </tr>\n",
              "  </tbody>\n",
              "</table>\n",
              "<p>5 rows × 33 columns</p>\n",
              "</div>\n",
              "    <div class=\"colab-df-buttons\">\n",
              "\n",
              "  <div class=\"colab-df-container\">\n",
              "    <button class=\"colab-df-convert\" onclick=\"convertToInteractive('df-e57ef179-fbca-4d17-9923-90b46e1f7e96')\"\n",
              "            title=\"Convert this dataframe to an interactive table.\"\n",
              "            style=\"display:none;\">\n",
              "\n",
              "  <svg xmlns=\"http://www.w3.org/2000/svg\" height=\"24px\" viewBox=\"0 -960 960 960\">\n",
              "    <path d=\"M120-120v-720h720v720H120Zm60-500h600v-160H180v160Zm220 220h160v-160H400v160Zm0 220h160v-160H400v160ZM180-400h160v-160H180v160Zm440 0h160v-160H620v160ZM180-180h160v-160H180v160Zm440 0h160v-160H620v160Z\"/>\n",
              "  </svg>\n",
              "    </button>\n",
              "\n",
              "  <style>\n",
              "    .colab-df-container {\n",
              "      display:flex;\n",
              "      gap: 12px;\n",
              "    }\n",
              "\n",
              "    .colab-df-convert {\n",
              "      background-color: #E8F0FE;\n",
              "      border: none;\n",
              "      border-radius: 50%;\n",
              "      cursor: pointer;\n",
              "      display: none;\n",
              "      fill: #1967D2;\n",
              "      height: 32px;\n",
              "      padding: 0 0 0 0;\n",
              "      width: 32px;\n",
              "    }\n",
              "\n",
              "    .colab-df-convert:hover {\n",
              "      background-color: #E2EBFA;\n",
              "      box-shadow: 0px 1px 2px rgba(60, 64, 67, 0.3), 0px 1px 3px 1px rgba(60, 64, 67, 0.15);\n",
              "      fill: #174EA6;\n",
              "    }\n",
              "\n",
              "    .colab-df-buttons div {\n",
              "      margin-bottom: 4px;\n",
              "    }\n",
              "\n",
              "    [theme=dark] .colab-df-convert {\n",
              "      background-color: #3B4455;\n",
              "      fill: #D2E3FC;\n",
              "    }\n",
              "\n",
              "    [theme=dark] .colab-df-convert:hover {\n",
              "      background-color: #434B5C;\n",
              "      box-shadow: 0px 1px 3px 1px rgba(0, 0, 0, 0.15);\n",
              "      filter: drop-shadow(0px 1px 2px rgba(0, 0, 0, 0.3));\n",
              "      fill: #FFFFFF;\n",
              "    }\n",
              "  </style>\n",
              "\n",
              "    <script>\n",
              "      const buttonEl =\n",
              "        document.querySelector('#df-e57ef179-fbca-4d17-9923-90b46e1f7e96 button.colab-df-convert');\n",
              "      buttonEl.style.display =\n",
              "        google.colab.kernel.accessAllowed ? 'block' : 'none';\n",
              "\n",
              "      async function convertToInteractive(key) {\n",
              "        const element = document.querySelector('#df-e57ef179-fbca-4d17-9923-90b46e1f7e96');\n",
              "        const dataTable =\n",
              "          await google.colab.kernel.invokeFunction('convertToInteractive',\n",
              "                                                    [key], {});\n",
              "        if (!dataTable) return;\n",
              "\n",
              "        const docLinkHtml = 'Like what you see? Visit the ' +\n",
              "          '<a target=\"_blank\" href=https://colab.research.google.com/notebooks/data_table.ipynb>data table notebook</a>'\n",
              "          + ' to learn more about interactive tables.';\n",
              "        element.innerHTML = '';\n",
              "        dataTable['output_type'] = 'display_data';\n",
              "        await google.colab.output.renderOutput(dataTable, element);\n",
              "        const docLink = document.createElement('div');\n",
              "        docLink.innerHTML = docLinkHtml;\n",
              "        element.appendChild(docLink);\n",
              "      }\n",
              "    </script>\n",
              "  </div>\n",
              "\n",
              "\n",
              "<div id=\"df-6bbdde8d-cde9-4f18-bc1c-3030211abbfc\">\n",
              "  <button class=\"colab-df-quickchart\" onclick=\"quickchart('df-6bbdde8d-cde9-4f18-bc1c-3030211abbfc')\"\n",
              "            title=\"Suggest charts\"\n",
              "            style=\"display:none;\">\n",
              "\n",
              "<svg xmlns=\"http://www.w3.org/2000/svg\" height=\"24px\"viewBox=\"0 0 24 24\"\n",
              "     width=\"24px\">\n",
              "    <g>\n",
              "        <path d=\"M19 3H5c-1.1 0-2 .9-2 2v14c0 1.1.9 2 2 2h14c1.1 0 2-.9 2-2V5c0-1.1-.9-2-2-2zM9 17H7v-7h2v7zm4 0h-2V7h2v10zm4 0h-2v-4h2v4z\"/>\n",
              "    </g>\n",
              "</svg>\n",
              "  </button>\n",
              "\n",
              "<style>\n",
              "  .colab-df-quickchart {\n",
              "      --bg-color: #E8F0FE;\n",
              "      --fill-color: #1967D2;\n",
              "      --hover-bg-color: #E2EBFA;\n",
              "      --hover-fill-color: #174EA6;\n",
              "      --disabled-fill-color: #AAA;\n",
              "      --disabled-bg-color: #DDD;\n",
              "  }\n",
              "\n",
              "  [theme=dark] .colab-df-quickchart {\n",
              "      --bg-color: #3B4455;\n",
              "      --fill-color: #D2E3FC;\n",
              "      --hover-bg-color: #434B5C;\n",
              "      --hover-fill-color: #FFFFFF;\n",
              "      --disabled-bg-color: #3B4455;\n",
              "      --disabled-fill-color: #666;\n",
              "  }\n",
              "\n",
              "  .colab-df-quickchart {\n",
              "    background-color: var(--bg-color);\n",
              "    border: none;\n",
              "    border-radius: 50%;\n",
              "    cursor: pointer;\n",
              "    display: none;\n",
              "    fill: var(--fill-color);\n",
              "    height: 32px;\n",
              "    padding: 0;\n",
              "    width: 32px;\n",
              "  }\n",
              "\n",
              "  .colab-df-quickchart:hover {\n",
              "    background-color: var(--hover-bg-color);\n",
              "    box-shadow: 0 1px 2px rgba(60, 64, 67, 0.3), 0 1px 3px 1px rgba(60, 64, 67, 0.15);\n",
              "    fill: var(--button-hover-fill-color);\n",
              "  }\n",
              "\n",
              "  .colab-df-quickchart-complete:disabled,\n",
              "  .colab-df-quickchart-complete:disabled:hover {\n",
              "    background-color: var(--disabled-bg-color);\n",
              "    fill: var(--disabled-fill-color);\n",
              "    box-shadow: none;\n",
              "  }\n",
              "\n",
              "  .colab-df-spinner {\n",
              "    border: 2px solid var(--fill-color);\n",
              "    border-color: transparent;\n",
              "    border-bottom-color: var(--fill-color);\n",
              "    animation:\n",
              "      spin 1s steps(1) infinite;\n",
              "  }\n",
              "\n",
              "  @keyframes spin {\n",
              "    0% {\n",
              "      border-color: transparent;\n",
              "      border-bottom-color: var(--fill-color);\n",
              "      border-left-color: var(--fill-color);\n",
              "    }\n",
              "    20% {\n",
              "      border-color: transparent;\n",
              "      border-left-color: var(--fill-color);\n",
              "      border-top-color: var(--fill-color);\n",
              "    }\n",
              "    30% {\n",
              "      border-color: transparent;\n",
              "      border-left-color: var(--fill-color);\n",
              "      border-top-color: var(--fill-color);\n",
              "      border-right-color: var(--fill-color);\n",
              "    }\n",
              "    40% {\n",
              "      border-color: transparent;\n",
              "      border-right-color: var(--fill-color);\n",
              "      border-top-color: var(--fill-color);\n",
              "    }\n",
              "    60% {\n",
              "      border-color: transparent;\n",
              "      border-right-color: var(--fill-color);\n",
              "    }\n",
              "    80% {\n",
              "      border-color: transparent;\n",
              "      border-right-color: var(--fill-color);\n",
              "      border-bottom-color: var(--fill-color);\n",
              "    }\n",
              "    90% {\n",
              "      border-color: transparent;\n",
              "      border-bottom-color: var(--fill-color);\n",
              "    }\n",
              "  }\n",
              "</style>\n",
              "\n",
              "  <script>\n",
              "    async function quickchart(key) {\n",
              "      const quickchartButtonEl =\n",
              "        document.querySelector('#' + key + ' button');\n",
              "      quickchartButtonEl.disabled = true;  // To prevent multiple clicks.\n",
              "      quickchartButtonEl.classList.add('colab-df-spinner');\n",
              "      try {\n",
              "        const charts = await google.colab.kernel.invokeFunction(\n",
              "            'suggestCharts', [key], {});\n",
              "      } catch (error) {\n",
              "        console.error('Error during call to suggestCharts:', error);\n",
              "      }\n",
              "      quickchartButtonEl.classList.remove('colab-df-spinner');\n",
              "      quickchartButtonEl.classList.add('colab-df-quickchart-complete');\n",
              "    }\n",
              "    (() => {\n",
              "      let quickchartButtonEl =\n",
              "        document.querySelector('#df-6bbdde8d-cde9-4f18-bc1c-3030211abbfc button');\n",
              "      quickchartButtonEl.style.display =\n",
              "        google.colab.kernel.accessAllowed ? 'block' : 'none';\n",
              "    })();\n",
              "  </script>\n",
              "</div>\n",
              "    </div>\n",
              "  </div>\n"
            ]
          },
          "metadata": {}
        }
      ],
      "source": [
        "display(df_port.head())"
      ]
    },
    {
      "cell_type": "markdown",
      "metadata": {
        "id": "O8BqTSqBHkM_"
      },
      "source": [
        "A seguir encontram-se os atributos e tipos de dados presentes em ambos os datasets:\n",
        "\n",
        "- **school:** Escola do estudante (binário: 'GP' - Gabriel Pereira ou 'MS' - Mousinho da Silveira)\n",
        "- **sex:** Sexo do estudante (binário: 'F' - feminino ou 'M' - masculino)\n",
        "- **age:** Idade do estudante (numérico: de 15 a 22 anos)\n",
        "- **address:** Tipo de endereço da casa do estudante (binário: 'U' - urbano ou 'R' - rural)\n",
        "- **famsize:** Tamanho da família (binário: 'LE3' - menor ou igual a 3 ou 'GT3' - maior que 3)\n",
        "- **Pstatus:** Estado de coabitação dos pais (binário: 'T' - morando juntos ou 'A' - separados)\n",
        "- **Medu:** Educação da mãe (numérico: 0 - nenhum, 1 - ensino primário (4ª série), 2 – 5ª a 9ª série, 3 – ensino médio ou 4 – ensino superior)\n",
        "- **Fedu:** Educação do pai (numérico: 0 - nenhum, 1 - ensino primário (4ª série), 2 – 5ª a 9ª série, 3 – ensino médio ou 4 – ensino superior)\n",
        "- **Mjob:** Profissão da mãe (nominal: 'professora', relacionada à 'saúde', 'serviços' civis (por exemplo, administrativos ou policiais), 'em casa' ou 'outro')\n",
        "- **Fjob:** Profissão do pai (nominal: 'professor', relacionada à 'saúde', 'serviços' civis (por exemplo, administrativos ou policiais), 'em casa' ou 'outro')\n",
        "- **reason:** Razão para escolher esta escola (nominal: 'perto de casa', 'reputação da escola', 'preferência de curso' ou 'outro')\n",
        "- **guardian:** Guardião do estudante (nominal: 'mãe', 'pai' ou 'outro')\n",
        "- **traveltime:** Tempo de viagem de casa para a escola (numérico: 1 - <15 minutos, 2 - 15 a 30 minutos, 3 - 30 minutos a 1 hora, ou 4 - >1 hora)\n",
        "- **studytime:** Tempo de estudo semanal (numérico: 1 - <2 horas, 2 - 2 a 5 horas, 3 - 5 a 10 horas, ou 4 - >10 horas)\n",
        "- **failures:** Número de reprovações em classes anteriores (numérico: n se 1<=n<3, senão 4)\n",
        "- **schoolsup:** Apoio educacional extra (binário: sim ou não)\n",
        "- **famsup:** Apoio educacional familiar (binário: sim ou não)\n",
        "- **paid:** Aulas extras pagas dentro da disciplina do curso (Matemática ou Português) (binário: sim ou não)\n",
        "- **activities:** Atividades extracurriculares (binário: sim ou não)\n",
        "- **nursery:** Frequentou creche (binário: sim ou não)\n",
        "- **higher:** Deseja cursar ensino superior (binário: sim ou não)\n",
        "- **internet:** Acesso à Internet em casa (binário: sim ou não)\n",
        "- **romantic:** Com relacionamento romântico (binário: sim ou não)\n",
        "- **famrel:** Qualidade dos relacionamentos familiares (numérico: de 1 - muito ruim a 5 - excelente)\n",
        "- **freetime:** Tempo livre após a escola (numérico: de 1 - muito baixo a 5 - muito alto)\n",
        "- **goout:** Sair com amigos (numérico: de 1 - muito baixo a 5 - muito alto)\n",
        "- **Dalc:** Consumo de álcool durante a semana (numérico: de 1 - muito baixo a 5 - muito alto)\n",
        "- **Walc:** Consumo de álcool no fim de semana (numérico: de 1 - muito baixo a 5 - muito alto)\n",
        "- **health:** Estado de saúde atual (numérico: de 1 - muito ruim a 5 - muito bom)\n",
        "- **absences:** Número de faltas na escola (numérico: de 0 a 93)\n",
        "Here is the translation of the provided dataset description into Portuguese:\n",
        "- **G1:** Nota do primeiro período (numérico: de 0 a 20)\n",
        "- **G2:** Nota do segundo período (numérico: de 0 a 20)\n",
        "- **G3:** Nota final (numérico: de 0 a 20, alvo de saída)\n"
      ]
    },
    {
      "cell_type": "code",
      "execution_count": null,
      "metadata": {
        "id": "2Iq4Q1wNHD71",
        "colab": {
          "base_uri": "https://localhost:8080/",
          "height": 791
        },
        "outputId": "9dffd296-63f2-42c3-a355-c465b672ca4f"
      },
      "outputs": [
        {
          "output_type": "stream",
          "name": "stdout",
          "text": [
            "<class 'pandas.core.frame.DataFrame'>\n",
            "RangeIndex: 395 entries, 0 to 394\n",
            "Data columns (total 33 columns):\n",
            " #   Column      Non-Null Count  Dtype \n",
            "---  ------      --------------  ----- \n",
            " 0   school      395 non-null    object\n",
            " 1   sex         395 non-null    object\n",
            " 2   age         395 non-null    int64 \n",
            " 3   address     395 non-null    object\n",
            " 4   famsize     395 non-null    object\n",
            " 5   Pstatus     395 non-null    object\n",
            " 6   Medu        395 non-null    int64 \n",
            " 7   Fedu        395 non-null    int64 \n",
            " 8   Mjob        395 non-null    object\n",
            " 9   Fjob        395 non-null    object\n",
            " 10  reason      395 non-null    object\n",
            " 11  guardian    395 non-null    object\n",
            " 12  traveltime  395 non-null    int64 \n",
            " 13  studytime   395 non-null    int64 \n",
            " 14  failures    395 non-null    int64 \n",
            " 15  schoolsup   395 non-null    object\n",
            " 16  famsup      395 non-null    object\n",
            " 17  paid        395 non-null    object\n",
            " 18  activities  395 non-null    object\n",
            " 19  nursery     395 non-null    object\n",
            " 20  higher      395 non-null    object\n",
            " 21  internet    395 non-null    object\n",
            " 22  romantic    395 non-null    object\n",
            " 23  famrel      395 non-null    int64 \n",
            " 24  freetime    395 non-null    int64 \n",
            " 25  goout       395 non-null    int64 \n",
            " 26  Dalc        395 non-null    int64 \n",
            " 27  Walc        395 non-null    int64 \n",
            " 28  health      395 non-null    int64 \n",
            " 29  absences    395 non-null    int64 \n",
            " 30  G1          395 non-null    int64 \n",
            " 31  G2          395 non-null    int64 \n",
            " 32  G3          395 non-null    int64 \n",
            "dtypes: int64(16), object(17)\n",
            "memory usage: 102.0+ KB\n"
          ]
        },
        {
          "output_type": "display_data",
          "data": {
            "text/plain": [
              "None"
            ]
          },
          "metadata": {}
        }
      ],
      "source": [
        "display(df_math.info())"
      ]
    },
    {
      "cell_type": "code",
      "execution_count": null,
      "metadata": {
        "id": "tKlGBP9yeEdG",
        "colab": {
          "base_uri": "https://localhost:8080/",
          "height": 791
        },
        "outputId": "aeb83261-770b-4ef1-be11-3ae446c121d7"
      },
      "outputs": [
        {
          "output_type": "stream",
          "name": "stdout",
          "text": [
            "<class 'pandas.core.frame.DataFrame'>\n",
            "RangeIndex: 649 entries, 0 to 648\n",
            "Data columns (total 33 columns):\n",
            " #   Column      Non-Null Count  Dtype \n",
            "---  ------      --------------  ----- \n",
            " 0   school      649 non-null    object\n",
            " 1   sex         649 non-null    object\n",
            " 2   age         649 non-null    int64 \n",
            " 3   address     649 non-null    object\n",
            " 4   famsize     649 non-null    object\n",
            " 5   Pstatus     649 non-null    object\n",
            " 6   Medu        649 non-null    int64 \n",
            " 7   Fedu        649 non-null    int64 \n",
            " 8   Mjob        649 non-null    object\n",
            " 9   Fjob        649 non-null    object\n",
            " 10  reason      649 non-null    object\n",
            " 11  guardian    649 non-null    object\n",
            " 12  traveltime  649 non-null    int64 \n",
            " 13  studytime   649 non-null    int64 \n",
            " 14  failures    649 non-null    int64 \n",
            " 15  schoolsup   649 non-null    object\n",
            " 16  famsup      649 non-null    object\n",
            " 17  paid        649 non-null    object\n",
            " 18  activities  649 non-null    object\n",
            " 19  nursery     649 non-null    object\n",
            " 20  higher      649 non-null    object\n",
            " 21  internet    649 non-null    object\n",
            " 22  romantic    649 non-null    object\n",
            " 23  famrel      649 non-null    int64 \n",
            " 24  freetime    649 non-null    int64 \n",
            " 25  goout       649 non-null    int64 \n",
            " 26  Dalc        649 non-null    int64 \n",
            " 27  Walc        649 non-null    int64 \n",
            " 28  health      649 non-null    int64 \n",
            " 29  absences    649 non-null    int64 \n",
            " 30  G1          649 non-null    int64 \n",
            " 31  G2          649 non-null    int64 \n",
            " 32  G3          649 non-null    int64 \n",
            "dtypes: int64(16), object(17)\n",
            "memory usage: 167.4+ KB\n"
          ]
        },
        {
          "output_type": "display_data",
          "data": {
            "text/plain": [
              "None"
            ]
          },
          "metadata": {}
        }
      ],
      "source": [
        "display(df_port.info())"
      ]
    },
    {
      "cell_type": "markdown",
      "metadata": {
        "id": "FSaiDekYM9Xy"
      },
      "source": [
        "# Preparação dos dados"
      ]
    },
    {
      "cell_type": "markdown",
      "source": [
        "*Alguns estudantes estão presentes em ambos os data frames. Nesta análise, optou-se por analisar os data frames separadamente, de modo a testar a hipótese que a ênfase escolhida pelo aluno possui correlação com o consumo de álcool.*"
      ],
      "metadata": {
        "id": "e68UxDSolmn5"
      }
    },
    {
      "cell_type": "markdown",
      "metadata": {
        "id": "XO6hv7zANd3z"
      },
      "source": [
        "Algumas variáveis contém uma quantidade expressiva de outliers, especialmente *absences*, uma vez que a grande maioria dos estudantes possui poucas faltas. Posteriormente, será analisado se o consumo de álcool impacta na quantidade de faltas. *failures* também apresenta destaque, com a maioria nunca tendo repetido."
      ]
    },
    {
      "cell_type": "code",
      "execution_count": null,
      "metadata": {
        "id": "n87vFZ9NQALg"
      },
      "outputs": [],
      "source": [
        "def boxplot(df, title_prefix=\"\"):\n",
        "  numeric_columns = df.select_dtypes(include='int64').columns\n",
        "  # Setting up subplots\n",
        "  num_plots = len(numeric_columns)\n",
        "  num_cols = 3  # Number of columns in each row of subplots\n",
        "  num_rows = (num_plots + num_cols - 1) // num_cols  # Calculate number of rows\n",
        "\n",
        "  fig, axes = plt.subplots(num_rows, num_cols, figsize=(15, 5 * num_rows))\n",
        "\n",
        "  # Flatten the axes to handle both 1-row and multi-row subplots\n",
        "  axes = axes.flatten()\n",
        "\n",
        "  # Plotting vertical box plots for each numeric column\n",
        "  for i, column in enumerate(numeric_columns):\n",
        "    sns.boxplot(y=df[column], ax=axes[i], orient='v')\n",
        "    axes[i].set_title(f'Box Plot para {column}')\n",
        "\n",
        "  # Hide any excess subplots\n",
        "  for j in range(num_plots, len(axes)):\n",
        "    axes[j].axis('off')\n",
        "\n",
        "  # Set a title for the entire subplot frame\n",
        "  fig.suptitle(f'{title_prefix} - Box Plots', fontsize=16)\n",
        "\n",
        "  # Adjust layout to prevent overlapping\n",
        "  plt.tight_layout(rect=[0, 0, 1, 0.96])\n",
        "\n",
        "  plt.show()"
      ]
    },
    {
      "cell_type": "markdown",
      "metadata": {
        "id": "RuubogmzgFIe"
      },
      "source": [
        "## Matemática"
      ]
    },
    {
      "cell_type": "markdown",
      "source": [
        "Não há valores nulos ou ausentes."
      ],
      "metadata": {
        "id": "Dyg3sApGhcou"
      }
    },
    {
      "cell_type": "code",
      "execution_count": null,
      "metadata": {
        "id": "gNEvn2OqdQNj",
        "colab": {
          "base_uri": "https://localhost:8080/",
          "height": 658
        },
        "outputId": "ca2ad3d6-014b-49f9-8aac-a92da534bf68"
      },
      "outputs": [
        {
          "output_type": "display_data",
          "data": {
            "text/plain": [
              "school        0\n",
              "sex           0\n",
              "age           0\n",
              "address       0\n",
              "famsize       0\n",
              "Pstatus       0\n",
              "Medu          0\n",
              "Fedu          0\n",
              "Mjob          0\n",
              "Fjob          0\n",
              "reason        0\n",
              "guardian      0\n",
              "traveltime    0\n",
              "studytime     0\n",
              "failures      0\n",
              "schoolsup     0\n",
              "famsup        0\n",
              "paid          0\n",
              "activities    0\n",
              "nursery       0\n",
              "higher        0\n",
              "internet      0\n",
              "romantic      0\n",
              "famrel        0\n",
              "freetime      0\n",
              "goout         0\n",
              "Dalc          0\n",
              "Walc          0\n",
              "health        0\n",
              "absences      0\n",
              "G1            0\n",
              "G2            0\n",
              "G3            0\n",
              "dtype: int64"
            ]
          },
          "metadata": {}
        }
      ],
      "source": [
        "# Check for missing values\n",
        "display(df_math.isnull().sum())"
      ]
    },
    {
      "cell_type": "markdown",
      "source": [
        "Não há valores incorretos ou discrepantes (ruído)."
      ],
      "metadata": {
        "id": "l8TUm9vMhMDd"
      }
    },
    {
      "cell_type": "code",
      "execution_count": null,
      "metadata": {
        "id": "-o8tDPjvgSmM",
        "colab": {
          "base_uri": "https://localhost:8080/",
          "height": 343
        },
        "outputId": "88645ea8-a48e-44f3-f277-1f1d3c985c3d"
      },
      "outputs": [
        {
          "output_type": "display_data",
          "data": {
            "text/plain": [
              "\"Unique values for school: ['GP' 'MS']\""
            ],
            "application/vnd.google.colaboratory.intrinsic+json": {
              "type": "string"
            }
          },
          "metadata": {}
        },
        {
          "output_type": "display_data",
          "data": {
            "text/plain": [
              "\"Unique values for sex: ['F' 'M']\""
            ],
            "application/vnd.google.colaboratory.intrinsic+json": {
              "type": "string"
            }
          },
          "metadata": {}
        },
        {
          "output_type": "display_data",
          "data": {
            "text/plain": [
              "\"Unique values for address: ['U' 'R']\""
            ],
            "application/vnd.google.colaboratory.intrinsic+json": {
              "type": "string"
            }
          },
          "metadata": {}
        },
        {
          "output_type": "display_data",
          "data": {
            "text/plain": [
              "\"Unique values for famsize: ['GT3' 'LE3']\""
            ],
            "application/vnd.google.colaboratory.intrinsic+json": {
              "type": "string"
            }
          },
          "metadata": {}
        },
        {
          "output_type": "display_data",
          "data": {
            "text/plain": [
              "\"Unique values for Pstatus: ['A' 'T']\""
            ],
            "application/vnd.google.colaboratory.intrinsic+json": {
              "type": "string"
            }
          },
          "metadata": {}
        },
        {
          "output_type": "display_data",
          "data": {
            "text/plain": [
              "\"Unique values for Mjob: ['at_home' 'health' 'other' 'services' 'teacher']\""
            ],
            "application/vnd.google.colaboratory.intrinsic+json": {
              "type": "string"
            }
          },
          "metadata": {}
        },
        {
          "output_type": "display_data",
          "data": {
            "text/plain": [
              "\"Unique values for Fjob: ['teacher' 'other' 'services' 'health' 'at_home']\""
            ],
            "application/vnd.google.colaboratory.intrinsic+json": {
              "type": "string"
            }
          },
          "metadata": {}
        },
        {
          "output_type": "display_data",
          "data": {
            "text/plain": [
              "\"Unique values for reason: ['course' 'other' 'home' 'reputation']\""
            ],
            "application/vnd.google.colaboratory.intrinsic+json": {
              "type": "string"
            }
          },
          "metadata": {}
        },
        {
          "output_type": "display_data",
          "data": {
            "text/plain": [
              "\"Unique values for guardian: ['mother' 'father' 'other']\""
            ],
            "application/vnd.google.colaboratory.intrinsic+json": {
              "type": "string"
            }
          },
          "metadata": {}
        },
        {
          "output_type": "display_data",
          "data": {
            "text/plain": [
              "\"Unique values for schoolsup: ['yes' 'no']\""
            ],
            "application/vnd.google.colaboratory.intrinsic+json": {
              "type": "string"
            }
          },
          "metadata": {}
        },
        {
          "output_type": "display_data",
          "data": {
            "text/plain": [
              "\"Unique values for famsup: ['no' 'yes']\""
            ],
            "application/vnd.google.colaboratory.intrinsic+json": {
              "type": "string"
            }
          },
          "metadata": {}
        },
        {
          "output_type": "display_data",
          "data": {
            "text/plain": [
              "\"Unique values for paid: ['no' 'yes']\""
            ],
            "application/vnd.google.colaboratory.intrinsic+json": {
              "type": "string"
            }
          },
          "metadata": {}
        },
        {
          "output_type": "display_data",
          "data": {
            "text/plain": [
              "\"Unique values for activities: ['no' 'yes']\""
            ],
            "application/vnd.google.colaboratory.intrinsic+json": {
              "type": "string"
            }
          },
          "metadata": {}
        },
        {
          "output_type": "display_data",
          "data": {
            "text/plain": [
              "\"Unique values for nursery: ['yes' 'no']\""
            ],
            "application/vnd.google.colaboratory.intrinsic+json": {
              "type": "string"
            }
          },
          "metadata": {}
        },
        {
          "output_type": "display_data",
          "data": {
            "text/plain": [
              "\"Unique values for higher: ['yes' 'no']\""
            ],
            "application/vnd.google.colaboratory.intrinsic+json": {
              "type": "string"
            }
          },
          "metadata": {}
        },
        {
          "output_type": "display_data",
          "data": {
            "text/plain": [
              "\"Unique values for internet: ['no' 'yes']\""
            ],
            "application/vnd.google.colaboratory.intrinsic+json": {
              "type": "string"
            }
          },
          "metadata": {}
        },
        {
          "output_type": "display_data",
          "data": {
            "text/plain": [
              "\"Unique values for romantic: ['no' 'yes']\""
            ],
            "application/vnd.google.colaboratory.intrinsic+json": {
              "type": "string"
            }
          },
          "metadata": {}
        }
      ],
      "source": [
        "# Identifying Uncommon Values\n",
        "# Display unique values for each categorical column\n",
        "categorical_columns = df_math.select_dtypes(include='object').columns\n",
        "for column in categorical_columns:\n",
        "  unique_values = df_math[column].unique()\n",
        "  display(f\"Unique values for {column}: {unique_values}\")"
      ]
    },
    {
      "cell_type": "code",
      "execution_count": null,
      "metadata": {
        "id": "-i2DPCOOQVRg",
        "colab": {
          "base_uri": "https://localhost:8080/",
          "height": 2868
        },
        "outputId": "286ebedd-df31-4899-f406-7a4f3b68f1d8"
      },
      "outputs": [
        {
          "output_type": "display_data",
          "data": {
            "text/plain": [
              "<Figure size 1500x3000 with 18 Axes>"
            ],
            "image/svg+xml": "<?xml version=\"1.0\" encoding=\"utf-8\" standalone=\"no\"?>\n<!DOCTYPE svg PUBLIC \"-//W3C//DTD SVG 1.1//EN\"\n  \"http://www.w3.org/Graphics/SVG/1.1/DTD/svg11.dtd\">\n<svg xmlns:xlink=\"http://www.w3.org/1999/xlink\" width=\"1072.52375pt\" height=\"2120.4pt\" viewBox=\"0 0 1072.52375 2120.4\" xmlns=\"http://www.w3.org/2000/svg\" version=\"1.1\">\n <metadata>\n  <rdf:RDF xmlns:dc=\"http://purl.org/dc/elements/1.1/\" xmlns:cc=\"http://creativecommons.org/ns#\" xmlns:rdf=\"http://www.w3.org/1999/02/22-rdf-syntax-ns#\">\n   <cc:Work>\n    <dc:type rdf:resource=\"http://purl.org/dc/dcmitype/StillImage\"/>\n    <dc:date>2024-01-12T23:30:59.286343</dc:date>\n    <dc:format>image/svg+xml</dc:format>\n    <dc:creator>\n     <cc:Agent>\n      <dc:title>Matplotlib v3.7.1, https://matplotlib.org/</dc:title>\n     </cc:Agent>\n    </dc:creator>\n   </cc:Work>\n  </rdf:RDF>\n </metadata>\n <defs>\n  <style type=\"text/css\">*{stroke-linejoin: round; stroke-linecap: butt}</style>\n </defs>\n <g id=\"figure_1\">\n  <g id=\"patch_1\">\n   <path d=\"M 0 2120.4 \nL 1072.52375 2120.4 \nL 1072.52375 0 \nL 0 0 \nz\n\" style=\"fill: #ffffff\"/>\n  </g>\n  <g id=\"axes_1\">\n   <g id=\"patch_2\">\n    <path d=\"M 50.14375 411.7 \nL 352.52375 411.7 \nL 352.52375 102.48 \nL 50.14375 102.48 \nz\n\" style=\"fill: #ffffff\"/>\n   </g>\n   <g id=\"patch_3\">\n    <path d=\"M 80.38175 357.486104 \nL 322.28575 357.486104 \nL 322.28575 277.169221 \nL 80.38175 277.169221 \nL 80.38175 357.486104 \nz\n\" clip-path=\"url(#p8296bedb0b)\" style=\"fill: #3274a1; stroke: #3f3f3f; stroke-width: 1.5; stroke-linejoin: miter\"/>\n   </g>\n   <g id=\"matplotlib.axis_1\">\n    <g id=\"xtick_1\">\n     <g id=\"line2d_1\">\n      <defs>\n       <path id=\"m66ac7727a7\" d=\"M 0 0 \nL 0 3.5 \n\" style=\"stroke: #000000; stroke-width: 0.8\"/>\n      </defs>\n      <g>\n       <use xlink:href=\"#m66ac7727a7\" x=\"201.33375\" y=\"411.7\" style=\"stroke: #000000; stroke-width: 0.8\"/>\n      </g>\n     </g>\n    </g>\n   </g>\n   <g id=\"matplotlib.axis_2\">\n    <g id=\"ytick_1\">\n     <g id=\"line2d_2\">\n      <defs>\n       <path id=\"mbd7f2e0b6a\" d=\"M 0 0 \nL -3.5 0 \n\" style=\"stroke: #000000; stroke-width: 0.8\"/>\n      </defs>\n      <g>\n       <use xlink:href=\"#mbd7f2e0b6a\" x=\"50.14375\" y=\"397.644545\" style=\"stroke: #000000; stroke-width: 0.8\"/>\n      </g>\n     </g>\n     <g id=\"text_1\">\n      <!-- 15 -->\n      <g transform=\"translate(30.41875 401.443764) scale(0.1 -0.1)\">\n       <defs>\n        <path id=\"DejaVuSans-31\" d=\"M 794 531 \nL 1825 531 \nL 1825 4091 \nL 703 3866 \nL 703 4441 \nL 1819 4666 \nL 2450 4666 \nL 2450 531 \nL 3481 531 \nL 3481 0 \nL 794 0 \nL 794 531 \nz\n\" transform=\"scale(0.015625)\"/>\n        <path id=\"DejaVuSans-35\" d=\"M 691 4666 \nL 3169 4666 \nL 3169 4134 \nL 1269 4134 \nL 1269 2991 \nQ 1406 3038 1543 3061 \nQ 1681 3084 1819 3084 \nQ 2600 3084 3056 2656 \nQ 3513 2228 3513 1497 \nQ 3513 744 3044 326 \nQ 2575 -91 1722 -91 \nQ 1428 -91 1123 -41 \nQ 819 9 494 109 \nL 494 744 \nQ 775 591 1075 516 \nQ 1375 441 1709 441 \nQ 2250 441 2565 725 \nQ 2881 1009 2881 1497 \nQ 2881 1984 2565 2268 \nQ 2250 2553 1709 2553 \nQ 1456 2553 1204 2497 \nQ 953 2441 691 2322 \nL 691 4666 \nz\n\" transform=\"scale(0.015625)\"/>\n       </defs>\n       <use xlink:href=\"#DejaVuSans-31\"/>\n       <use xlink:href=\"#DejaVuSans-35\" x=\"63.623047\"/>\n      </g>\n     </g>\n    </g>\n    <g id=\"ytick_2\">\n     <g id=\"line2d_3\">\n      <g>\n       <use xlink:href=\"#mbd7f2e0b6a\" x=\"50.14375\" y=\"357.486104\" style=\"stroke: #000000; stroke-width: 0.8\"/>\n      </g>\n     </g>\n     <g id=\"text_2\">\n      <!-- 16 -->\n      <g transform=\"translate(30.41875 361.285323) scale(0.1 -0.1)\">\n       <defs>\n        <path id=\"DejaVuSans-36\" d=\"M 2113 2584 \nQ 1688 2584 1439 2293 \nQ 1191 2003 1191 1497 \nQ 1191 994 1439 701 \nQ 1688 409 2113 409 \nQ 2538 409 2786 701 \nQ 3034 994 3034 1497 \nQ 3034 2003 2786 2293 \nQ 2538 2584 2113 2584 \nz\nM 3366 4563 \nL 3366 3988 \nQ 3128 4100 2886 4159 \nQ 2644 4219 2406 4219 \nQ 1781 4219 1451 3797 \nQ 1122 3375 1075 2522 \nQ 1259 2794 1537 2939 \nQ 1816 3084 2150 3084 \nQ 2853 3084 3261 2657 \nQ 3669 2231 3669 1497 \nQ 3669 778 3244 343 \nQ 2819 -91 2113 -91 \nQ 1303 -91 875 529 \nQ 447 1150 447 2328 \nQ 447 3434 972 4092 \nQ 1497 4750 2381 4750 \nQ 2619 4750 2861 4703 \nQ 3103 4656 3366 4563 \nz\n\" transform=\"scale(0.015625)\"/>\n       </defs>\n       <use xlink:href=\"#DejaVuSans-31\"/>\n       <use xlink:href=\"#DejaVuSans-36\" x=\"63.623047\"/>\n      </g>\n     </g>\n    </g>\n    <g id=\"ytick_3\">\n     <g id=\"line2d_4\">\n      <g>\n       <use xlink:href=\"#mbd7f2e0b6a\" x=\"50.14375\" y=\"317.327662\" style=\"stroke: #000000; stroke-width: 0.8\"/>\n      </g>\n     </g>\n     <g id=\"text_3\">\n      <!-- 17 -->\n      <g transform=\"translate(30.41875 321.126881) scale(0.1 -0.1)\">\n       <defs>\n        <path id=\"DejaVuSans-37\" d=\"M 525 4666 \nL 3525 4666 \nL 3525 4397 \nL 1831 0 \nL 1172 0 \nL 2766 4134 \nL 525 4134 \nL 525 4666 \nz\n\" transform=\"scale(0.015625)\"/>\n       </defs>\n       <use xlink:href=\"#DejaVuSans-31\"/>\n       <use xlink:href=\"#DejaVuSans-37\" x=\"63.623047\"/>\n      </g>\n     </g>\n    </g>\n    <g id=\"ytick_4\">\n     <g id=\"line2d_5\">\n      <g>\n       <use xlink:href=\"#mbd7f2e0b6a\" x=\"50.14375\" y=\"277.169221\" style=\"stroke: #000000; stroke-width: 0.8\"/>\n      </g>\n     </g>\n     <g id=\"text_4\">\n      <!-- 18 -->\n      <g transform=\"translate(30.41875 280.96844) scale(0.1 -0.1)\">\n       <defs>\n        <path id=\"DejaVuSans-38\" d=\"M 2034 2216 \nQ 1584 2216 1326 1975 \nQ 1069 1734 1069 1313 \nQ 1069 891 1326 650 \nQ 1584 409 2034 409 \nQ 2484 409 2743 651 \nQ 3003 894 3003 1313 \nQ 3003 1734 2745 1975 \nQ 2488 2216 2034 2216 \nz\nM 1403 2484 \nQ 997 2584 770 2862 \nQ 544 3141 544 3541 \nQ 544 4100 942 4425 \nQ 1341 4750 2034 4750 \nQ 2731 4750 3128 4425 \nQ 3525 4100 3525 3541 \nQ 3525 3141 3298 2862 \nQ 3072 2584 2669 2484 \nQ 3125 2378 3379 2068 \nQ 3634 1759 3634 1313 \nQ 3634 634 3220 271 \nQ 2806 -91 2034 -91 \nQ 1263 -91 848 271 \nQ 434 634 434 1313 \nQ 434 1759 690 2068 \nQ 947 2378 1403 2484 \nz\nM 1172 3481 \nQ 1172 3119 1398 2916 \nQ 1625 2713 2034 2713 \nQ 2441 2713 2670 2916 \nQ 2900 3119 2900 3481 \nQ 2900 3844 2670 4047 \nQ 2441 4250 2034 4250 \nQ 1625 4250 1398 4047 \nQ 1172 3844 1172 3481 \nz\n\" transform=\"scale(0.015625)\"/>\n       </defs>\n       <use xlink:href=\"#DejaVuSans-31\"/>\n       <use xlink:href=\"#DejaVuSans-38\" x=\"63.623047\"/>\n      </g>\n     </g>\n    </g>\n    <g id=\"ytick_5\">\n     <g id=\"line2d_6\">\n      <g>\n       <use xlink:href=\"#mbd7f2e0b6a\" x=\"50.14375\" y=\"237.010779\" style=\"stroke: #000000; stroke-width: 0.8\"/>\n      </g>\n     </g>\n     <g id=\"text_5\">\n      <!-- 19 -->\n      <g transform=\"translate(30.41875 240.809998) scale(0.1 -0.1)\">\n       <defs>\n        <path id=\"DejaVuSans-39\" d=\"M 703 97 \nL 703 672 \nQ 941 559 1184 500 \nQ 1428 441 1663 441 \nQ 2288 441 2617 861 \nQ 2947 1281 2994 2138 \nQ 2813 1869 2534 1725 \nQ 2256 1581 1919 1581 \nQ 1219 1581 811 2004 \nQ 403 2428 403 3163 \nQ 403 3881 828 4315 \nQ 1253 4750 1959 4750 \nQ 2769 4750 3195 4129 \nQ 3622 3509 3622 2328 \nQ 3622 1225 3098 567 \nQ 2575 -91 1691 -91 \nQ 1453 -91 1209 -44 \nQ 966 3 703 97 \nz\nM 1959 2075 \nQ 2384 2075 2632 2365 \nQ 2881 2656 2881 3163 \nQ 2881 3666 2632 3958 \nQ 2384 4250 1959 4250 \nQ 1534 4250 1286 3958 \nQ 1038 3666 1038 3163 \nQ 1038 2656 1286 2365 \nQ 1534 2075 1959 2075 \nz\n\" transform=\"scale(0.015625)\"/>\n       </defs>\n       <use xlink:href=\"#DejaVuSans-31\"/>\n       <use xlink:href=\"#DejaVuSans-39\" x=\"63.623047\"/>\n      </g>\n     </g>\n    </g>\n    <g id=\"ytick_6\">\n     <g id=\"line2d_7\">\n      <g>\n       <use xlink:href=\"#mbd7f2e0b6a\" x=\"50.14375\" y=\"196.852338\" style=\"stroke: #000000; stroke-width: 0.8\"/>\n      </g>\n     </g>\n     <g id=\"text_6\">\n      <!-- 20 -->\n      <g transform=\"translate(30.41875 200.651556) scale(0.1 -0.1)\">\n       <defs>\n        <path id=\"DejaVuSans-32\" d=\"M 1228 531 \nL 3431 531 \nL 3431 0 \nL 469 0 \nL 469 531 \nQ 828 903 1448 1529 \nQ 2069 2156 2228 2338 \nQ 2531 2678 2651 2914 \nQ 2772 3150 2772 3378 \nQ 2772 3750 2511 3984 \nQ 2250 4219 1831 4219 \nQ 1534 4219 1204 4116 \nQ 875 4013 500 3803 \nL 500 4441 \nQ 881 4594 1212 4672 \nQ 1544 4750 1819 4750 \nQ 2544 4750 2975 4387 \nQ 3406 4025 3406 3419 \nQ 3406 3131 3298 2873 \nQ 3191 2616 2906 2266 \nQ 2828 2175 2409 1742 \nQ 1991 1309 1228 531 \nz\n\" transform=\"scale(0.015625)\"/>\n        <path id=\"DejaVuSans-30\" d=\"M 2034 4250 \nQ 1547 4250 1301 3770 \nQ 1056 3291 1056 2328 \nQ 1056 1369 1301 889 \nQ 1547 409 2034 409 \nQ 2525 409 2770 889 \nQ 3016 1369 3016 2328 \nQ 3016 3291 2770 3770 \nQ 2525 4250 2034 4250 \nz\nM 2034 4750 \nQ 2819 4750 3233 4129 \nQ 3647 3509 3647 2328 \nQ 3647 1150 3233 529 \nQ 2819 -91 2034 -91 \nQ 1250 -91 836 529 \nQ 422 1150 422 2328 \nQ 422 3509 836 4129 \nQ 1250 4750 2034 4750 \nz\n\" transform=\"scale(0.015625)\"/>\n       </defs>\n       <use xlink:href=\"#DejaVuSans-32\"/>\n       <use xlink:href=\"#DejaVuSans-30\" x=\"63.623047\"/>\n      </g>\n     </g>\n    </g>\n    <g id=\"ytick_7\">\n     <g id=\"line2d_8\">\n      <g>\n       <use xlink:href=\"#mbd7f2e0b6a\" x=\"50.14375\" y=\"156.693896\" style=\"stroke: #000000; stroke-width: 0.8\"/>\n      </g>\n     </g>\n     <g id=\"text_7\">\n      <!-- 21 -->\n      <g transform=\"translate(30.41875 160.493115) scale(0.1 -0.1)\">\n       <use xlink:href=\"#DejaVuSans-32\"/>\n       <use xlink:href=\"#DejaVuSans-31\" x=\"63.623047\"/>\n      </g>\n     </g>\n    </g>\n    <g id=\"ytick_8\">\n     <g id=\"line2d_9\">\n      <g>\n       <use xlink:href=\"#mbd7f2e0b6a\" x=\"50.14375\" y=\"116.535455\" style=\"stroke: #000000; stroke-width: 0.8\"/>\n      </g>\n     </g>\n     <g id=\"text_8\">\n      <!-- 22 -->\n      <g transform=\"translate(30.41875 120.334673) scale(0.1 -0.1)\">\n       <use xlink:href=\"#DejaVuSans-32\"/>\n       <use xlink:href=\"#DejaVuSans-32\" x=\"63.623047\"/>\n      </g>\n     </g>\n    </g>\n    <g id=\"text_9\">\n     <!-- age -->\n     <g transform=\"translate(24.339063 266.404844) rotate(-90) scale(0.1 -0.1)\">\n      <defs>\n       <path id=\"DejaVuSans-61\" d=\"M 2194 1759 \nQ 1497 1759 1228 1600 \nQ 959 1441 959 1056 \nQ 959 750 1161 570 \nQ 1363 391 1709 391 \nQ 2188 391 2477 730 \nQ 2766 1069 2766 1631 \nL 2766 1759 \nL 2194 1759 \nz\nM 3341 1997 \nL 3341 0 \nL 2766 0 \nL 2766 531 \nQ 2569 213 2275 61 \nQ 1981 -91 1556 -91 \nQ 1019 -91 701 211 \nQ 384 513 384 1019 \nQ 384 1609 779 1909 \nQ 1175 2209 1959 2209 \nL 2766 2209 \nL 2766 2266 \nQ 2766 2663 2505 2880 \nQ 2244 3097 1772 3097 \nQ 1472 3097 1187 3025 \nQ 903 2953 641 2809 \nL 641 3341 \nQ 956 3463 1253 3523 \nQ 1550 3584 1831 3584 \nQ 2591 3584 2966 3190 \nQ 3341 2797 3341 1997 \nz\n\" transform=\"scale(0.015625)\"/>\n       <path id=\"DejaVuSans-67\" d=\"M 2906 1791 \nQ 2906 2416 2648 2759 \nQ 2391 3103 1925 3103 \nQ 1463 3103 1205 2759 \nQ 947 2416 947 1791 \nQ 947 1169 1205 825 \nQ 1463 481 1925 481 \nQ 2391 481 2648 825 \nQ 2906 1169 2906 1791 \nz\nM 3481 434 \nQ 3481 -459 3084 -895 \nQ 2688 -1331 1869 -1331 \nQ 1566 -1331 1297 -1286 \nQ 1028 -1241 775 -1147 \nL 775 -588 \nQ 1028 -725 1275 -790 \nQ 1522 -856 1778 -856 \nQ 2344 -856 2625 -561 \nQ 2906 -266 2906 331 \nL 2906 616 \nQ 2728 306 2450 153 \nQ 2172 0 1784 0 \nQ 1141 0 747 490 \nQ 353 981 353 1791 \nQ 353 2603 747 3093 \nQ 1141 3584 1784 3584 \nQ 2172 3584 2450 3431 \nQ 2728 3278 2906 2969 \nL 2906 3500 \nL 3481 3500 \nL 3481 434 \nz\n\" transform=\"scale(0.015625)\"/>\n       <path id=\"DejaVuSans-65\" d=\"M 3597 1894 \nL 3597 1613 \nL 953 1613 \nQ 991 1019 1311 708 \nQ 1631 397 2203 397 \nQ 2534 397 2845 478 \nQ 3156 559 3463 722 \nL 3463 178 \nQ 3153 47 2828 -22 \nQ 2503 -91 2169 -91 \nQ 1331 -91 842 396 \nQ 353 884 353 1716 \nQ 353 2575 817 3079 \nQ 1281 3584 2069 3584 \nQ 2775 3584 3186 3129 \nQ 3597 2675 3597 1894 \nz\nM 3022 2063 \nQ 3016 2534 2758 2815 \nQ 2500 3097 2075 3097 \nQ 1594 3097 1305 2825 \nQ 1016 2553 972 2059 \nL 3022 2063 \nz\n\" transform=\"scale(0.015625)\"/>\n      </defs>\n      <use xlink:href=\"#DejaVuSans-61\"/>\n      <use xlink:href=\"#DejaVuSans-67\" x=\"61.279297\"/>\n      <use xlink:href=\"#DejaVuSans-65\" x=\"124.755859\"/>\n     </g>\n    </g>\n   </g>\n   <g id=\"line2d_10\">\n    <path d=\"M 201.33375 357.486104 \nL 201.33375 397.644545 \n\" clip-path=\"url(#p8296bedb0b)\" style=\"fill: none; stroke: #3f3f3f; stroke-width: 1.5; stroke-linecap: square\"/>\n   </g>\n   <g id=\"line2d_11\">\n    <path d=\"M 201.33375 277.169221 \nL 201.33375 156.693896 \n\" clip-path=\"url(#p8296bedb0b)\" style=\"fill: none; stroke: #3f3f3f; stroke-width: 1.5; stroke-linecap: square\"/>\n   </g>\n   <g id=\"line2d_12\">\n    <path d=\"M 140.85775 397.644545 \nL 261.80975 397.644545 \n\" clip-path=\"url(#p8296bedb0b)\" style=\"fill: none; stroke: #3f3f3f; stroke-width: 1.5; stroke-linecap: square\"/>\n   </g>\n   <g id=\"line2d_13\">\n    <path d=\"M 140.85775 156.693896 \nL 261.80975 156.693896 \n\" clip-path=\"url(#p8296bedb0b)\" style=\"fill: none; stroke: #3f3f3f; stroke-width: 1.5; stroke-linecap: square\"/>\n   </g>\n   <g id=\"line2d_14\">\n    <defs>\n     <path id=\"m946c25c304\" d=\"M -0 3.535534 \nL 2.12132 0 \nL -0 -3.535534 \nL -2.12132 -0 \nz\n\" style=\"stroke: #3f3f3f; stroke-linejoin: miter\"/>\n    </defs>\n    <g clip-path=\"url(#p8296bedb0b)\">\n     <use xlink:href=\"#m946c25c304\" x=\"201.33375\" y=\"116.535455\" style=\"fill: #3f3f3f; stroke: #3f3f3f; stroke-linejoin: miter\"/>\n    </g>\n   </g>\n   <g id=\"line2d_15\">\n    <path d=\"M 80.38175 317.327662 \nL 322.28575 317.327662 \n\" clip-path=\"url(#p8296bedb0b)\" style=\"fill: none; stroke: #3f3f3f; stroke-width: 1.5; stroke-linecap: square\"/>\n   </g>\n   <g id=\"patch_4\">\n    <path d=\"M 50.14375 411.7 \nL 50.14375 102.48 \n\" style=\"fill: none; stroke: #000000; stroke-width: 0.8; stroke-linejoin: miter; stroke-linecap: square\"/>\n   </g>\n   <g id=\"patch_5\">\n    <path d=\"M 352.52375 411.7 \nL 352.52375 102.48 \n\" style=\"fill: none; stroke: #000000; stroke-width: 0.8; stroke-linejoin: miter; stroke-linecap: square\"/>\n   </g>\n   <g id=\"patch_6\">\n    <path d=\"M 50.14375 411.7 \nL 352.52375 411.7 \n\" style=\"fill: none; stroke: #000000; stroke-width: 0.8; stroke-linejoin: miter; stroke-linecap: square\"/>\n   </g>\n   <g id=\"patch_7\">\n    <path d=\"M 50.14375 102.48 \nL 352.52375 102.48 \n\" style=\"fill: none; stroke: #000000; stroke-width: 0.8; stroke-linejoin: miter; stroke-linecap: square\"/>\n   </g>\n   <g id=\"text_10\">\n    <!-- Box Plot para age -->\n    <g transform=\"translate(148.34625 96.48) scale(0.12 -0.12)\">\n     <defs>\n      <path id=\"DejaVuSans-42\" d=\"M 1259 2228 \nL 1259 519 \nL 2272 519 \nQ 2781 519 3026 730 \nQ 3272 941 3272 1375 \nQ 3272 1813 3026 2020 \nQ 2781 2228 2272 2228 \nL 1259 2228 \nz\nM 1259 4147 \nL 1259 2741 \nL 2194 2741 \nQ 2656 2741 2882 2914 \nQ 3109 3088 3109 3444 \nQ 3109 3797 2882 3972 \nQ 2656 4147 2194 4147 \nL 1259 4147 \nz\nM 628 4666 \nL 2241 4666 \nQ 2963 4666 3353 4366 \nQ 3744 4066 3744 3513 \nQ 3744 3084 3544 2831 \nQ 3344 2578 2956 2516 \nQ 3422 2416 3680 2098 \nQ 3938 1781 3938 1306 \nQ 3938 681 3513 340 \nQ 3088 0 2303 0 \nL 628 0 \nL 628 4666 \nz\n\" transform=\"scale(0.015625)\"/>\n      <path id=\"DejaVuSans-6f\" d=\"M 1959 3097 \nQ 1497 3097 1228 2736 \nQ 959 2375 959 1747 \nQ 959 1119 1226 758 \nQ 1494 397 1959 397 \nQ 2419 397 2687 759 \nQ 2956 1122 2956 1747 \nQ 2956 2369 2687 2733 \nQ 2419 3097 1959 3097 \nz\nM 1959 3584 \nQ 2709 3584 3137 3096 \nQ 3566 2609 3566 1747 \nQ 3566 888 3137 398 \nQ 2709 -91 1959 -91 \nQ 1206 -91 779 398 \nQ 353 888 353 1747 \nQ 353 2609 779 3096 \nQ 1206 3584 1959 3584 \nz\n\" transform=\"scale(0.015625)\"/>\n      <path id=\"DejaVuSans-78\" d=\"M 3513 3500 \nL 2247 1797 \nL 3578 0 \nL 2900 0 \nL 1881 1375 \nL 863 0 \nL 184 0 \nL 1544 1831 \nL 300 3500 \nL 978 3500 \nL 1906 2253 \nL 2834 3500 \nL 3513 3500 \nz\n\" transform=\"scale(0.015625)\"/>\n      <path id=\"DejaVuSans-20\" transform=\"scale(0.015625)\"/>\n      <path id=\"DejaVuSans-50\" d=\"M 1259 4147 \nL 1259 2394 \nL 2053 2394 \nQ 2494 2394 2734 2622 \nQ 2975 2850 2975 3272 \nQ 2975 3691 2734 3919 \nQ 2494 4147 2053 4147 \nL 1259 4147 \nz\nM 628 4666 \nL 2053 4666 \nQ 2838 4666 3239 4311 \nQ 3641 3956 3641 3272 \nQ 3641 2581 3239 2228 \nQ 2838 1875 2053 1875 \nL 1259 1875 \nL 1259 0 \nL 628 0 \nL 628 4666 \nz\n\" transform=\"scale(0.015625)\"/>\n      <path id=\"DejaVuSans-6c\" d=\"M 603 4863 \nL 1178 4863 \nL 1178 0 \nL 603 0 \nL 603 4863 \nz\n\" transform=\"scale(0.015625)\"/>\n      <path id=\"DejaVuSans-74\" d=\"M 1172 4494 \nL 1172 3500 \nL 2356 3500 \nL 2356 3053 \nL 1172 3053 \nL 1172 1153 \nQ 1172 725 1289 603 \nQ 1406 481 1766 481 \nL 2356 481 \nL 2356 0 \nL 1766 0 \nQ 1100 0 847 248 \nQ 594 497 594 1153 \nL 594 3053 \nL 172 3053 \nL 172 3500 \nL 594 3500 \nL 594 4494 \nL 1172 4494 \nz\n\" transform=\"scale(0.015625)\"/>\n      <path id=\"DejaVuSans-70\" d=\"M 1159 525 \nL 1159 -1331 \nL 581 -1331 \nL 581 3500 \nL 1159 3500 \nL 1159 2969 \nQ 1341 3281 1617 3432 \nQ 1894 3584 2278 3584 \nQ 2916 3584 3314 3078 \nQ 3713 2572 3713 1747 \nQ 3713 922 3314 415 \nQ 2916 -91 2278 -91 \nQ 1894 -91 1617 61 \nQ 1341 213 1159 525 \nz\nM 3116 1747 \nQ 3116 2381 2855 2742 \nQ 2594 3103 2138 3103 \nQ 1681 3103 1420 2742 \nQ 1159 2381 1159 1747 \nQ 1159 1113 1420 752 \nQ 1681 391 2138 391 \nQ 2594 391 2855 752 \nQ 3116 1113 3116 1747 \nz\n\" transform=\"scale(0.015625)\"/>\n      <path id=\"DejaVuSans-72\" d=\"M 2631 2963 \nQ 2534 3019 2420 3045 \nQ 2306 3072 2169 3072 \nQ 1681 3072 1420 2755 \nQ 1159 2438 1159 1844 \nL 1159 0 \nL 581 0 \nL 581 3500 \nL 1159 3500 \nL 1159 2956 \nQ 1341 3275 1631 3429 \nQ 1922 3584 2338 3584 \nQ 2397 3584 2469 3576 \nQ 2541 3569 2628 3553 \nL 2631 2963 \nz\n\" transform=\"scale(0.015625)\"/>\n     </defs>\n     <use xlink:href=\"#DejaVuSans-42\"/>\n     <use xlink:href=\"#DejaVuSans-6f\" x=\"68.603516\"/>\n     <use xlink:href=\"#DejaVuSans-78\" x=\"126.660156\"/>\n     <use xlink:href=\"#DejaVuSans-20\" x=\"185.839844\"/>\n     <use xlink:href=\"#DejaVuSans-50\" x=\"217.626953\"/>\n     <use xlink:href=\"#DejaVuSans-6c\" x=\"277.929688\"/>\n     <use xlink:href=\"#DejaVuSans-6f\" x=\"305.712891\"/>\n     <use xlink:href=\"#DejaVuSans-74\" x=\"366.894531\"/>\n     <use xlink:href=\"#DejaVuSans-20\" x=\"406.103516\"/>\n     <use xlink:href=\"#DejaVuSans-70\" x=\"437.890625\"/>\n     <use xlink:href=\"#DejaVuSans-61\" x=\"501.367188\"/>\n     <use xlink:href=\"#DejaVuSans-72\" x=\"562.646484\"/>\n     <use xlink:href=\"#DejaVuSans-61\" x=\"603.759766\"/>\n     <use xlink:href=\"#DejaVuSans-20\" x=\"665.039062\"/>\n     <use xlink:href=\"#DejaVuSans-61\" x=\"696.826172\"/>\n     <use xlink:href=\"#DejaVuSans-67\" x=\"758.105469\"/>\n     <use xlink:href=\"#DejaVuSans-65\" x=\"821.582031\"/>\n    </g>\n   </g>\n  </g>\n  <g id=\"axes_2\">\n   <g id=\"patch_8\">\n    <path d=\"M 406.54375 411.7 \nL 708.92375 411.7 \nL 708.92375 102.48 \nL 406.54375 102.48 \nz\n\" style=\"fill: #ffffff\"/>\n   </g>\n   <g id=\"patch_9\">\n    <path d=\"M 436.78175 257.09 \nL 678.68575 257.09 \nL 678.68575 116.535455 \nL 436.78175 116.535455 \nL 436.78175 257.09 \nz\n\" clip-path=\"url(#p7b69fcff9f)\" style=\"fill: #3274a1; stroke: #3f3f3f; stroke-width: 1.5; stroke-linejoin: miter\"/>\n   </g>\n   <g id=\"matplotlib.axis_3\">\n    <g id=\"xtick_2\">\n     <g id=\"line2d_16\">\n      <g>\n       <use xlink:href=\"#m66ac7727a7\" x=\"557.73375\" y=\"411.7\" style=\"stroke: #000000; stroke-width: 0.8\"/>\n      </g>\n     </g>\n    </g>\n   </g>\n   <g id=\"matplotlib.axis_4\">\n    <g id=\"ytick_9\">\n     <g id=\"line2d_17\">\n      <g>\n       <use xlink:href=\"#mbd7f2e0b6a\" x=\"406.54375\" y=\"397.644545\" style=\"stroke: #000000; stroke-width: 0.8\"/>\n      </g>\n     </g>\n     <g id=\"text_11\">\n      <!-- 0.0 -->\n      <g transform=\"translate(383.640625 401.443764) scale(0.1 -0.1)\">\n       <defs>\n        <path id=\"DejaVuSans-2e\" d=\"M 684 794 \nL 1344 794 \nL 1344 0 \nL 684 0 \nL 684 794 \nz\n\" transform=\"scale(0.015625)\"/>\n       </defs>\n       <use xlink:href=\"#DejaVuSans-30\"/>\n       <use xlink:href=\"#DejaVuSans-2e\" x=\"63.623047\"/>\n       <use xlink:href=\"#DejaVuSans-30\" x=\"95.410156\"/>\n      </g>\n     </g>\n    </g>\n    <g id=\"ytick_10\">\n     <g id=\"line2d_18\">\n      <g>\n       <use xlink:href=\"#mbd7f2e0b6a\" x=\"406.54375\" y=\"362.505909\" style=\"stroke: #000000; stroke-width: 0.8\"/>\n      </g>\n     </g>\n     <g id=\"text_12\">\n      <!-- 0.5 -->\n      <g transform=\"translate(383.640625 366.305128) scale(0.1 -0.1)\">\n       <use xlink:href=\"#DejaVuSans-30\"/>\n       <use xlink:href=\"#DejaVuSans-2e\" x=\"63.623047\"/>\n       <use xlink:href=\"#DejaVuSans-35\" x=\"95.410156\"/>\n      </g>\n     </g>\n    </g>\n    <g id=\"ytick_11\">\n     <g id=\"line2d_19\">\n      <g>\n       <use xlink:href=\"#mbd7f2e0b6a\" x=\"406.54375\" y=\"327.367273\" style=\"stroke: #000000; stroke-width: 0.8\"/>\n      </g>\n     </g>\n     <g id=\"text_13\">\n      <!-- 1.0 -->\n      <g transform=\"translate(383.640625 331.166491) scale(0.1 -0.1)\">\n       <use xlink:href=\"#DejaVuSans-31\"/>\n       <use xlink:href=\"#DejaVuSans-2e\" x=\"63.623047\"/>\n       <use xlink:href=\"#DejaVuSans-30\" x=\"95.410156\"/>\n      </g>\n     </g>\n    </g>\n    <g id=\"ytick_12\">\n     <g id=\"line2d_20\">\n      <g>\n       <use xlink:href=\"#mbd7f2e0b6a\" x=\"406.54375\" y=\"292.228636\" style=\"stroke: #000000; stroke-width: 0.8\"/>\n      </g>\n     </g>\n     <g id=\"text_14\">\n      <!-- 1.5 -->\n      <g transform=\"translate(383.640625 296.027855) scale(0.1 -0.1)\">\n       <use xlink:href=\"#DejaVuSans-31\"/>\n       <use xlink:href=\"#DejaVuSans-2e\" x=\"63.623047\"/>\n       <use xlink:href=\"#DejaVuSans-35\" x=\"95.410156\"/>\n      </g>\n     </g>\n    </g>\n    <g id=\"ytick_13\">\n     <g id=\"line2d_21\">\n      <g>\n       <use xlink:href=\"#mbd7f2e0b6a\" x=\"406.54375\" y=\"257.09\" style=\"stroke: #000000; stroke-width: 0.8\"/>\n      </g>\n     </g>\n     <g id=\"text_15\">\n      <!-- 2.0 -->\n      <g transform=\"translate(383.640625 260.889219) scale(0.1 -0.1)\">\n       <use xlink:href=\"#DejaVuSans-32\"/>\n       <use xlink:href=\"#DejaVuSans-2e\" x=\"63.623047\"/>\n       <use xlink:href=\"#DejaVuSans-30\" x=\"95.410156\"/>\n      </g>\n     </g>\n    </g>\n    <g id=\"ytick_14\">\n     <g id=\"line2d_22\">\n      <g>\n       <use xlink:href=\"#mbd7f2e0b6a\" x=\"406.54375\" y=\"221.951364\" style=\"stroke: #000000; stroke-width: 0.8\"/>\n      </g>\n     </g>\n     <g id=\"text_16\">\n      <!-- 2.5 -->\n      <g transform=\"translate(383.640625 225.750582) scale(0.1 -0.1)\">\n       <use xlink:href=\"#DejaVuSans-32\"/>\n       <use xlink:href=\"#DejaVuSans-2e\" x=\"63.623047\"/>\n       <use xlink:href=\"#DejaVuSans-35\" x=\"95.410156\"/>\n      </g>\n     </g>\n    </g>\n    <g id=\"ytick_15\">\n     <g id=\"line2d_23\">\n      <g>\n       <use xlink:href=\"#mbd7f2e0b6a\" x=\"406.54375\" y=\"186.812727\" style=\"stroke: #000000; stroke-width: 0.8\"/>\n      </g>\n     </g>\n     <g id=\"text_17\">\n      <!-- 3.0 -->\n      <g transform=\"translate(383.640625 190.611946) scale(0.1 -0.1)\">\n       <defs>\n        <path id=\"DejaVuSans-33\" d=\"M 2597 2516 \nQ 3050 2419 3304 2112 \nQ 3559 1806 3559 1356 \nQ 3559 666 3084 287 \nQ 2609 -91 1734 -91 \nQ 1441 -91 1130 -33 \nQ 819 25 488 141 \nL 488 750 \nQ 750 597 1062 519 \nQ 1375 441 1716 441 \nQ 2309 441 2620 675 \nQ 2931 909 2931 1356 \nQ 2931 1769 2642 2001 \nQ 2353 2234 1838 2234 \nL 1294 2234 \nL 1294 2753 \nL 1863 2753 \nQ 2328 2753 2575 2939 \nQ 2822 3125 2822 3475 \nQ 2822 3834 2567 4026 \nQ 2313 4219 1838 4219 \nQ 1578 4219 1281 4162 \nQ 984 4106 628 3988 \nL 628 4550 \nQ 988 4650 1302 4700 \nQ 1616 4750 1894 4750 \nQ 2613 4750 3031 4423 \nQ 3450 4097 3450 3541 \nQ 3450 3153 3228 2886 \nQ 3006 2619 2597 2516 \nz\n\" transform=\"scale(0.015625)\"/>\n       </defs>\n       <use xlink:href=\"#DejaVuSans-33\"/>\n       <use xlink:href=\"#DejaVuSans-2e\" x=\"63.623047\"/>\n       <use xlink:href=\"#DejaVuSans-30\" x=\"95.410156\"/>\n      </g>\n     </g>\n    </g>\n    <g id=\"ytick_16\">\n     <g id=\"line2d_24\">\n      <g>\n       <use xlink:href=\"#mbd7f2e0b6a\" x=\"406.54375\" y=\"151.674091\" style=\"stroke: #000000; stroke-width: 0.8\"/>\n      </g>\n     </g>\n     <g id=\"text_18\">\n      <!-- 3.5 -->\n      <g transform=\"translate(383.640625 155.47331) scale(0.1 -0.1)\">\n       <use xlink:href=\"#DejaVuSans-33\"/>\n       <use xlink:href=\"#DejaVuSans-2e\" x=\"63.623047\"/>\n       <use xlink:href=\"#DejaVuSans-35\" x=\"95.410156\"/>\n      </g>\n     </g>\n    </g>\n    <g id=\"ytick_17\">\n     <g id=\"line2d_25\">\n      <g>\n       <use xlink:href=\"#mbd7f2e0b6a\" x=\"406.54375\" y=\"116.535455\" style=\"stroke: #000000; stroke-width: 0.8\"/>\n      </g>\n     </g>\n     <g id=\"text_19\">\n      <!-- 4.0 -->\n      <g transform=\"translate(383.640625 120.334673) scale(0.1 -0.1)\">\n       <defs>\n        <path id=\"DejaVuSans-34\" d=\"M 2419 4116 \nL 825 1625 \nL 2419 1625 \nL 2419 4116 \nz\nM 2253 4666 \nL 3047 4666 \nL 3047 1625 \nL 3713 1625 \nL 3713 1100 \nL 3047 1100 \nL 3047 0 \nL 2419 0 \nL 2419 1100 \nL 313 1100 \nL 313 1709 \nL 2253 4666 \nz\n\" transform=\"scale(0.015625)\"/>\n       </defs>\n       <use xlink:href=\"#DejaVuSans-34\"/>\n       <use xlink:href=\"#DejaVuSans-2e\" x=\"63.623047\"/>\n       <use xlink:href=\"#DejaVuSans-30\" x=\"95.410156\"/>\n      </g>\n     </g>\n    </g>\n    <g id=\"text_20\">\n     <!-- Medu -->\n     <g transform=\"translate(377.560938 270.823594) rotate(-90) scale(0.1 -0.1)\">\n      <defs>\n       <path id=\"DejaVuSans-4d\" d=\"M 628 4666 \nL 1569 4666 \nL 2759 1491 \nL 3956 4666 \nL 4897 4666 \nL 4897 0 \nL 4281 0 \nL 4281 4097 \nL 3078 897 \nL 2444 897 \nL 1241 4097 \nL 1241 0 \nL 628 0 \nL 628 4666 \nz\n\" transform=\"scale(0.015625)\"/>\n       <path id=\"DejaVuSans-64\" d=\"M 2906 2969 \nL 2906 4863 \nL 3481 4863 \nL 3481 0 \nL 2906 0 \nL 2906 525 \nQ 2725 213 2448 61 \nQ 2172 -91 1784 -91 \nQ 1150 -91 751 415 \nQ 353 922 353 1747 \nQ 353 2572 751 3078 \nQ 1150 3584 1784 3584 \nQ 2172 3584 2448 3432 \nQ 2725 3281 2906 2969 \nz\nM 947 1747 \nQ 947 1113 1208 752 \nQ 1469 391 1925 391 \nQ 2381 391 2643 752 \nQ 2906 1113 2906 1747 \nQ 2906 2381 2643 2742 \nQ 2381 3103 1925 3103 \nQ 1469 3103 1208 2742 \nQ 947 2381 947 1747 \nz\n\" transform=\"scale(0.015625)\"/>\n       <path id=\"DejaVuSans-75\" d=\"M 544 1381 \nL 544 3500 \nL 1119 3500 \nL 1119 1403 \nQ 1119 906 1312 657 \nQ 1506 409 1894 409 \nQ 2359 409 2629 706 \nQ 2900 1003 2900 1516 \nL 2900 3500 \nL 3475 3500 \nL 3475 0 \nL 2900 0 \nL 2900 538 \nQ 2691 219 2414 64 \nQ 2138 -91 1772 -91 \nQ 1169 -91 856 284 \nQ 544 659 544 1381 \nz\nM 1991 3584 \nL 1991 3584 \nz\n\" transform=\"scale(0.015625)\"/>\n      </defs>\n      <use xlink:href=\"#DejaVuSans-4d\"/>\n      <use xlink:href=\"#DejaVuSans-65\" x=\"86.279297\"/>\n      <use xlink:href=\"#DejaVuSans-64\" x=\"147.802734\"/>\n      <use xlink:href=\"#DejaVuSans-75\" x=\"211.279297\"/>\n     </g>\n    </g>\n   </g>\n   <g id=\"line2d_26\">\n    <path d=\"M 557.73375 257.09 \nL 557.73375 397.644545 \n\" clip-path=\"url(#p7b69fcff9f)\" style=\"fill: none; stroke: #3f3f3f; stroke-width: 1.5; stroke-linecap: square\"/>\n   </g>\n   <g id=\"line2d_27\">\n    <path d=\"M 557.73375 116.535455 \nL 557.73375 116.535455 \n\" clip-path=\"url(#p7b69fcff9f)\" style=\"fill: none; stroke: #3f3f3f; stroke-width: 1.5; stroke-linecap: square\"/>\n   </g>\n   <g id=\"line2d_28\">\n    <path d=\"M 497.25775 397.644545 \nL 618.20975 397.644545 \n\" clip-path=\"url(#p7b69fcff9f)\" style=\"fill: none; stroke: #3f3f3f; stroke-width: 1.5; stroke-linecap: square\"/>\n   </g>\n   <g id=\"line2d_29\">\n    <path d=\"M 497.25775 116.535455 \nL 618.20975 116.535455 \n\" clip-path=\"url(#p7b69fcff9f)\" style=\"fill: none; stroke: #3f3f3f; stroke-width: 1.5; stroke-linecap: square\"/>\n   </g>\n   <g id=\"line2d_30\"/>\n   <g id=\"line2d_31\">\n    <path d=\"M 436.78175 186.812727 \nL 678.68575 186.812727 \n\" clip-path=\"url(#p7b69fcff9f)\" style=\"fill: none; stroke: #3f3f3f; stroke-width: 1.5; stroke-linecap: square\"/>\n   </g>\n   <g id=\"patch_10\">\n    <path d=\"M 406.54375 411.7 \nL 406.54375 102.48 \n\" style=\"fill: none; stroke: #000000; stroke-width: 0.8; stroke-linejoin: miter; stroke-linecap: square\"/>\n   </g>\n   <g id=\"patch_11\">\n    <path d=\"M 708.92375 411.7 \nL 708.92375 102.48 \n\" style=\"fill: none; stroke: #000000; stroke-width: 0.8; stroke-linejoin: miter; stroke-linecap: square\"/>\n   </g>\n   <g id=\"patch_12\">\n    <path d=\"M 406.54375 411.7 \nL 708.92375 411.7 \n\" style=\"fill: none; stroke: #000000; stroke-width: 0.8; stroke-linejoin: miter; stroke-linecap: square\"/>\n   </g>\n   <g id=\"patch_13\">\n    <path d=\"M 406.54375 102.48 \nL 708.92375 102.48 \n\" style=\"fill: none; stroke: #000000; stroke-width: 0.8; stroke-linejoin: miter; stroke-linecap: square\"/>\n   </g>\n   <g id=\"text_21\">\n    <!-- Box Plot para Medu -->\n    <g transform=\"translate(499.44375 96.48) scale(0.12 -0.12)\">\n     <use xlink:href=\"#DejaVuSans-42\"/>\n     <use xlink:href=\"#DejaVuSans-6f\" x=\"68.603516\"/>\n     <use xlink:href=\"#DejaVuSans-78\" x=\"126.660156\"/>\n     <use xlink:href=\"#DejaVuSans-20\" x=\"185.839844\"/>\n     <use xlink:href=\"#DejaVuSans-50\" x=\"217.626953\"/>\n     <use xlink:href=\"#DejaVuSans-6c\" x=\"277.929688\"/>\n     <use xlink:href=\"#DejaVuSans-6f\" x=\"305.712891\"/>\n     <use xlink:href=\"#DejaVuSans-74\" x=\"366.894531\"/>\n     <use xlink:href=\"#DejaVuSans-20\" x=\"406.103516\"/>\n     <use xlink:href=\"#DejaVuSans-70\" x=\"437.890625\"/>\n     <use xlink:href=\"#DejaVuSans-61\" x=\"501.367188\"/>\n     <use xlink:href=\"#DejaVuSans-72\" x=\"562.646484\"/>\n     <use xlink:href=\"#DejaVuSans-61\" x=\"603.759766\"/>\n     <use xlink:href=\"#DejaVuSans-20\" x=\"665.039062\"/>\n     <use xlink:href=\"#DejaVuSans-4d\" x=\"696.826172\"/>\n     <use xlink:href=\"#DejaVuSans-65\" x=\"783.105469\"/>\n     <use xlink:href=\"#DejaVuSans-64\" x=\"844.628906\"/>\n     <use xlink:href=\"#DejaVuSans-75\" x=\"908.105469\"/>\n    </g>\n   </g>\n  </g>\n  <g id=\"axes_3\">\n   <g id=\"patch_14\">\n    <path d=\"M 762.94375 411.7 \nL 1065.32375 411.7 \nL 1065.32375 102.48 \nL 762.94375 102.48 \nz\n\" style=\"fill: #ffffff\"/>\n   </g>\n   <g id=\"patch_15\">\n    <path d=\"M 793.18175 257.09 \nL 1035.08575 257.09 \nL 1035.08575 186.812727 \nL 793.18175 186.812727 \nL 793.18175 257.09 \nz\n\" clip-path=\"url(#p4b1f3b0094)\" style=\"fill: #3274a1; stroke: #3f3f3f; stroke-width: 1.5; stroke-linejoin: miter\"/>\n   </g>\n   <g id=\"matplotlib.axis_5\">\n    <g id=\"xtick_3\">\n     <g id=\"line2d_32\">\n      <g>\n       <use xlink:href=\"#m66ac7727a7\" x=\"914.13375\" y=\"411.7\" style=\"stroke: #000000; stroke-width: 0.8\"/>\n      </g>\n     </g>\n    </g>\n   </g>\n   <g id=\"matplotlib.axis_6\">\n    <g id=\"ytick_18\">\n     <g id=\"line2d_33\">\n      <g>\n       <use xlink:href=\"#mbd7f2e0b6a\" x=\"762.94375\" y=\"397.644545\" style=\"stroke: #000000; stroke-width: 0.8\"/>\n      </g>\n     </g>\n     <g id=\"text_22\">\n      <!-- 0.0 -->\n      <g transform=\"translate(740.040625 401.443764) scale(0.1 -0.1)\">\n       <use xlink:href=\"#DejaVuSans-30\"/>\n       <use xlink:href=\"#DejaVuSans-2e\" x=\"63.623047\"/>\n       <use xlink:href=\"#DejaVuSans-30\" x=\"95.410156\"/>\n      </g>\n     </g>\n    </g>\n    <g id=\"ytick_19\">\n     <g id=\"line2d_34\">\n      <g>\n       <use xlink:href=\"#mbd7f2e0b6a\" x=\"762.94375\" y=\"362.505909\" style=\"stroke: #000000; stroke-width: 0.8\"/>\n      </g>\n     </g>\n     <g id=\"text_23\">\n      <!-- 0.5 -->\n      <g transform=\"translate(740.040625 366.305128) scale(0.1 -0.1)\">\n       <use xlink:href=\"#DejaVuSans-30\"/>\n       <use xlink:href=\"#DejaVuSans-2e\" x=\"63.623047\"/>\n       <use xlink:href=\"#DejaVuSans-35\" x=\"95.410156\"/>\n      </g>\n     </g>\n    </g>\n    <g id=\"ytick_20\">\n     <g id=\"line2d_35\">\n      <g>\n       <use xlink:href=\"#mbd7f2e0b6a\" x=\"762.94375\" y=\"327.367273\" style=\"stroke: #000000; stroke-width: 0.8\"/>\n      </g>\n     </g>\n     <g id=\"text_24\">\n      <!-- 1.0 -->\n      <g transform=\"translate(740.040625 331.166491) scale(0.1 -0.1)\">\n       <use xlink:href=\"#DejaVuSans-31\"/>\n       <use xlink:href=\"#DejaVuSans-2e\" x=\"63.623047\"/>\n       <use xlink:href=\"#DejaVuSans-30\" x=\"95.410156\"/>\n      </g>\n     </g>\n    </g>\n    <g id=\"ytick_21\">\n     <g id=\"line2d_36\">\n      <g>\n       <use xlink:href=\"#mbd7f2e0b6a\" x=\"762.94375\" y=\"292.228636\" style=\"stroke: #000000; stroke-width: 0.8\"/>\n      </g>\n     </g>\n     <g id=\"text_25\">\n      <!-- 1.5 -->\n      <g transform=\"translate(740.040625 296.027855) scale(0.1 -0.1)\">\n       <use xlink:href=\"#DejaVuSans-31\"/>\n       <use xlink:href=\"#DejaVuSans-2e\" x=\"63.623047\"/>\n       <use xlink:href=\"#DejaVuSans-35\" x=\"95.410156\"/>\n      </g>\n     </g>\n    </g>\n    <g id=\"ytick_22\">\n     <g id=\"line2d_37\">\n      <g>\n       <use xlink:href=\"#mbd7f2e0b6a\" x=\"762.94375\" y=\"257.09\" style=\"stroke: #000000; stroke-width: 0.8\"/>\n      </g>\n     </g>\n     <g id=\"text_26\">\n      <!-- 2.0 -->\n      <g transform=\"translate(740.040625 260.889219) scale(0.1 -0.1)\">\n       <use xlink:href=\"#DejaVuSans-32\"/>\n       <use xlink:href=\"#DejaVuSans-2e\" x=\"63.623047\"/>\n       <use xlink:href=\"#DejaVuSans-30\" x=\"95.410156\"/>\n      </g>\n     </g>\n    </g>\n    <g id=\"ytick_23\">\n     <g id=\"line2d_38\">\n      <g>\n       <use xlink:href=\"#mbd7f2e0b6a\" x=\"762.94375\" y=\"221.951364\" style=\"stroke: #000000; stroke-width: 0.8\"/>\n      </g>\n     </g>\n     <g id=\"text_27\">\n      <!-- 2.5 -->\n      <g transform=\"translate(740.040625 225.750582) scale(0.1 -0.1)\">\n       <use xlink:href=\"#DejaVuSans-32\"/>\n       <use xlink:href=\"#DejaVuSans-2e\" x=\"63.623047\"/>\n       <use xlink:href=\"#DejaVuSans-35\" x=\"95.410156\"/>\n      </g>\n     </g>\n    </g>\n    <g id=\"ytick_24\">\n     <g id=\"line2d_39\">\n      <g>\n       <use xlink:href=\"#mbd7f2e0b6a\" x=\"762.94375\" y=\"186.812727\" style=\"stroke: #000000; stroke-width: 0.8\"/>\n      </g>\n     </g>\n     <g id=\"text_28\">\n      <!-- 3.0 -->\n      <g transform=\"translate(740.040625 190.611946) scale(0.1 -0.1)\">\n       <use xlink:href=\"#DejaVuSans-33\"/>\n       <use xlink:href=\"#DejaVuSans-2e\" x=\"63.623047\"/>\n       <use xlink:href=\"#DejaVuSans-30\" x=\"95.410156\"/>\n      </g>\n     </g>\n    </g>\n    <g id=\"ytick_25\">\n     <g id=\"line2d_40\">\n      <g>\n       <use xlink:href=\"#mbd7f2e0b6a\" x=\"762.94375\" y=\"151.674091\" style=\"stroke: #000000; stroke-width: 0.8\"/>\n      </g>\n     </g>\n     <g id=\"text_29\">\n      <!-- 3.5 -->\n      <g transform=\"translate(740.040625 155.47331) scale(0.1 -0.1)\">\n       <use xlink:href=\"#DejaVuSans-33\"/>\n       <use xlink:href=\"#DejaVuSans-2e\" x=\"63.623047\"/>\n       <use xlink:href=\"#DejaVuSans-35\" x=\"95.410156\"/>\n      </g>\n     </g>\n    </g>\n    <g id=\"ytick_26\">\n     <g id=\"line2d_41\">\n      <g>\n       <use xlink:href=\"#mbd7f2e0b6a\" x=\"762.94375\" y=\"116.535455\" style=\"stroke: #000000; stroke-width: 0.8\"/>\n      </g>\n     </g>\n     <g id=\"text_30\">\n      <!-- 4.0 -->\n      <g transform=\"translate(740.040625 120.334673) scale(0.1 -0.1)\">\n       <use xlink:href=\"#DejaVuSans-34\"/>\n       <use xlink:href=\"#DejaVuSans-2e\" x=\"63.623047\"/>\n       <use xlink:href=\"#DejaVuSans-30\" x=\"95.410156\"/>\n      </g>\n     </g>\n    </g>\n    <g id=\"text_31\">\n     <!-- Fedu -->\n     <g transform=\"translate(733.960938 269.110313) rotate(-90) scale(0.1 -0.1)\">\n      <defs>\n       <path id=\"DejaVuSans-46\" d=\"M 628 4666 \nL 3309 4666 \nL 3309 4134 \nL 1259 4134 \nL 1259 2759 \nL 3109 2759 \nL 3109 2228 \nL 1259 2228 \nL 1259 0 \nL 628 0 \nL 628 4666 \nz\n\" transform=\"scale(0.015625)\"/>\n      </defs>\n      <use xlink:href=\"#DejaVuSans-46\"/>\n      <use xlink:href=\"#DejaVuSans-65\" x=\"52.019531\"/>\n      <use xlink:href=\"#DejaVuSans-64\" x=\"113.542969\"/>\n      <use xlink:href=\"#DejaVuSans-75\" x=\"177.019531\"/>\n     </g>\n    </g>\n   </g>\n   <g id=\"line2d_42\">\n    <path d=\"M 914.13375 257.09 \nL 914.13375 327.367273 \n\" clip-path=\"url(#p4b1f3b0094)\" style=\"fill: none; stroke: #3f3f3f; stroke-width: 1.5; stroke-linecap: square\"/>\n   </g>\n   <g id=\"line2d_43\">\n    <path d=\"M 914.13375 186.812727 \nL 914.13375 116.535455 \n\" clip-path=\"url(#p4b1f3b0094)\" style=\"fill: none; stroke: #3f3f3f; stroke-width: 1.5; stroke-linecap: square\"/>\n   </g>\n   <g id=\"line2d_44\">\n    <path d=\"M 853.65775 327.367273 \nL 974.60975 327.367273 \n\" clip-path=\"url(#p4b1f3b0094)\" style=\"fill: none; stroke: #3f3f3f; stroke-width: 1.5; stroke-linecap: square\"/>\n   </g>\n   <g id=\"line2d_45\">\n    <path d=\"M 853.65775 116.535455 \nL 974.60975 116.535455 \n\" clip-path=\"url(#p4b1f3b0094)\" style=\"fill: none; stroke: #3f3f3f; stroke-width: 1.5; stroke-linecap: square\"/>\n   </g>\n   <g id=\"line2d_46\">\n    <g clip-path=\"url(#p4b1f3b0094)\">\n     <use xlink:href=\"#m946c25c304\" x=\"914.13375\" y=\"397.644545\" style=\"fill: #3f3f3f; stroke: #3f3f3f; stroke-linejoin: miter\"/>\n     <use xlink:href=\"#m946c25c304\" x=\"914.13375\" y=\"397.644545\" style=\"fill: #3f3f3f; stroke: #3f3f3f; stroke-linejoin: miter\"/>\n    </g>\n   </g>\n   <g id=\"line2d_47\">\n    <path d=\"M 793.18175 257.09 \nL 1035.08575 257.09 \n\" clip-path=\"url(#p4b1f3b0094)\" style=\"fill: none; stroke: #3f3f3f; stroke-width: 1.5; stroke-linecap: square\"/>\n   </g>\n   <g id=\"patch_16\">\n    <path d=\"M 762.94375 411.7 \nL 762.94375 102.48 \n\" style=\"fill: none; stroke: #000000; stroke-width: 0.8; stroke-linejoin: miter; stroke-linecap: square\"/>\n   </g>\n   <g id=\"patch_17\">\n    <path d=\"M 1065.32375 411.7 \nL 1065.32375 102.48 \n\" style=\"fill: none; stroke: #000000; stroke-width: 0.8; stroke-linejoin: miter; stroke-linecap: square\"/>\n   </g>\n   <g id=\"patch_18\">\n    <path d=\"M 762.94375 411.7 \nL 1065.32375 411.7 \n\" style=\"fill: none; stroke: #000000; stroke-width: 0.8; stroke-linejoin: miter; stroke-linecap: square\"/>\n   </g>\n   <g id=\"patch_19\">\n    <path d=\"M 762.94375 102.48 \nL 1065.32375 102.48 \n\" style=\"fill: none; stroke: #000000; stroke-width: 0.8; stroke-linejoin: miter; stroke-linecap: square\"/>\n   </g>\n   <g id=\"text_32\">\n    <!-- Box Plot para Fedu -->\n    <g transform=\"translate(857.899687 96.48) scale(0.12 -0.12)\">\n     <use xlink:href=\"#DejaVuSans-42\"/>\n     <use xlink:href=\"#DejaVuSans-6f\" x=\"68.603516\"/>\n     <use xlink:href=\"#DejaVuSans-78\" x=\"126.660156\"/>\n     <use xlink:href=\"#DejaVuSans-20\" x=\"185.839844\"/>\n     <use xlink:href=\"#DejaVuSans-50\" x=\"217.626953\"/>\n     <use xlink:href=\"#DejaVuSans-6c\" x=\"277.929688\"/>\n     <use xlink:href=\"#DejaVuSans-6f\" x=\"305.712891\"/>\n     <use xlink:href=\"#DejaVuSans-74\" x=\"366.894531\"/>\n     <use xlink:href=\"#DejaVuSans-20\" x=\"406.103516\"/>\n     <use xlink:href=\"#DejaVuSans-70\" x=\"437.890625\"/>\n     <use xlink:href=\"#DejaVuSans-61\" x=\"501.367188\"/>\n     <use xlink:href=\"#DejaVuSans-72\" x=\"562.646484\"/>\n     <use xlink:href=\"#DejaVuSans-61\" x=\"603.759766\"/>\n     <use xlink:href=\"#DejaVuSans-20\" x=\"665.039062\"/>\n     <use xlink:href=\"#DejaVuSans-46\" x=\"696.826172\"/>\n     <use xlink:href=\"#DejaVuSans-65\" x=\"748.845703\"/>\n     <use xlink:href=\"#DejaVuSans-64\" x=\"810.369141\"/>\n     <use xlink:href=\"#DejaVuSans-75\" x=\"873.845703\"/>\n    </g>\n   </g>\n  </g>\n  <g id=\"axes_4\">\n   <g id=\"patch_20\">\n    <path d=\"M 50.14375 751.3 \nL 352.52375 751.3 \nL 352.52375 442.08 \nL 50.14375 442.08 \nz\n\" style=\"fill: #ffffff\"/>\n   </g>\n   <g id=\"patch_21\">\n    <path d=\"M 80.38175 737.244545 \nL 322.28575 737.244545 \nL 322.28575 643.541515 \nL 80.38175 643.541515 \nL 80.38175 737.244545 \nz\n\" clip-path=\"url(#p93ffe4b99f)\" style=\"fill: #3274a1; stroke: #3f3f3f; stroke-width: 1.5; stroke-linejoin: miter\"/>\n   </g>\n   <g id=\"matplotlib.axis_7\">\n    <g id=\"xtick_4\">\n     <g id=\"line2d_48\">\n      <g>\n       <use xlink:href=\"#m66ac7727a7\" x=\"201.33375\" y=\"751.3\" style=\"stroke: #000000; stroke-width: 0.8\"/>\n      </g>\n     </g>\n    </g>\n   </g>\n   <g id=\"matplotlib.axis_8\">\n    <g id=\"ytick_27\">\n     <g id=\"line2d_49\">\n      <g>\n       <use xlink:href=\"#mbd7f2e0b6a\" x=\"50.14375\" y=\"737.244545\" style=\"stroke: #000000; stroke-width: 0.8\"/>\n      </g>\n     </g>\n     <g id=\"text_33\">\n      <!-- 1.0 -->\n      <g transform=\"translate(27.240625 741.043764) scale(0.1 -0.1)\">\n       <use xlink:href=\"#DejaVuSans-31\"/>\n       <use xlink:href=\"#DejaVuSans-2e\" x=\"63.623047\"/>\n       <use xlink:href=\"#DejaVuSans-30\" x=\"95.410156\"/>\n      </g>\n     </g>\n    </g>\n    <g id=\"ytick_28\">\n     <g id=\"line2d_50\">\n      <g>\n       <use xlink:href=\"#mbd7f2e0b6a\" x=\"50.14375\" y=\"690.39303\" style=\"stroke: #000000; stroke-width: 0.8\"/>\n      </g>\n     </g>\n     <g id=\"text_34\">\n      <!-- 1.5 -->\n      <g transform=\"translate(27.240625 694.192249) scale(0.1 -0.1)\">\n       <use xlink:href=\"#DejaVuSans-31\"/>\n       <use xlink:href=\"#DejaVuSans-2e\" x=\"63.623047\"/>\n       <use xlink:href=\"#DejaVuSans-35\" x=\"95.410156\"/>\n      </g>\n     </g>\n    </g>\n    <g id=\"ytick_29\">\n     <g id=\"line2d_51\">\n      <g>\n       <use xlink:href=\"#mbd7f2e0b6a\" x=\"50.14375\" y=\"643.541515\" style=\"stroke: #000000; stroke-width: 0.8\"/>\n      </g>\n     </g>\n     <g id=\"text_35\">\n      <!-- 2.0 -->\n      <g transform=\"translate(27.240625 647.340734) scale(0.1 -0.1)\">\n       <use xlink:href=\"#DejaVuSans-32\"/>\n       <use xlink:href=\"#DejaVuSans-2e\" x=\"63.623047\"/>\n       <use xlink:href=\"#DejaVuSans-30\" x=\"95.410156\"/>\n      </g>\n     </g>\n    </g>\n    <g id=\"ytick_30\">\n     <g id=\"line2d_52\">\n      <g>\n       <use xlink:href=\"#mbd7f2e0b6a\" x=\"50.14375\" y=\"596.69\" style=\"stroke: #000000; stroke-width: 0.8\"/>\n      </g>\n     </g>\n     <g id=\"text_36\">\n      <!-- 2.5 -->\n      <g transform=\"translate(27.240625 600.489219) scale(0.1 -0.1)\">\n       <use xlink:href=\"#DejaVuSans-32\"/>\n       <use xlink:href=\"#DejaVuSans-2e\" x=\"63.623047\"/>\n       <use xlink:href=\"#DejaVuSans-35\" x=\"95.410156\"/>\n      </g>\n     </g>\n    </g>\n    <g id=\"ytick_31\">\n     <g id=\"line2d_53\">\n      <g>\n       <use xlink:href=\"#mbd7f2e0b6a\" x=\"50.14375\" y=\"549.838485\" style=\"stroke: #000000; stroke-width: 0.8\"/>\n      </g>\n     </g>\n     <g id=\"text_37\">\n      <!-- 3.0 -->\n      <g transform=\"translate(27.240625 553.637704) scale(0.1 -0.1)\">\n       <use xlink:href=\"#DejaVuSans-33\"/>\n       <use xlink:href=\"#DejaVuSans-2e\" x=\"63.623047\"/>\n       <use xlink:href=\"#DejaVuSans-30\" x=\"95.410156\"/>\n      </g>\n     </g>\n    </g>\n    <g id=\"ytick_32\">\n     <g id=\"line2d_54\">\n      <g>\n       <use xlink:href=\"#mbd7f2e0b6a\" x=\"50.14375\" y=\"502.98697\" style=\"stroke: #000000; stroke-width: 0.8\"/>\n      </g>\n     </g>\n     <g id=\"text_38\">\n      <!-- 3.5 -->\n      <g transform=\"translate(27.240625 506.786188) scale(0.1 -0.1)\">\n       <use xlink:href=\"#DejaVuSans-33\"/>\n       <use xlink:href=\"#DejaVuSans-2e\" x=\"63.623047\"/>\n       <use xlink:href=\"#DejaVuSans-35\" x=\"95.410156\"/>\n      </g>\n     </g>\n    </g>\n    <g id=\"ytick_33\">\n     <g id=\"line2d_55\">\n      <g>\n       <use xlink:href=\"#mbd7f2e0b6a\" x=\"50.14375\" y=\"456.135455\" style=\"stroke: #000000; stroke-width: 0.8\"/>\n      </g>\n     </g>\n     <g id=\"text_39\">\n      <!-- 4.0 -->\n      <g transform=\"translate(27.240625 459.934673) scale(0.1 -0.1)\">\n       <use xlink:href=\"#DejaVuSans-34\"/>\n       <use xlink:href=\"#DejaVuSans-2e\" x=\"63.623047\"/>\n       <use xlink:href=\"#DejaVuSans-30\" x=\"95.410156\"/>\n      </g>\n     </g>\n    </g>\n    <g id=\"text_40\">\n     <!-- traveltime -->\n     <g transform=\"translate(21.160937 622.490781) rotate(-90) scale(0.1 -0.1)\">\n      <defs>\n       <path id=\"DejaVuSans-76\" d=\"M 191 3500 \nL 800 3500 \nL 1894 563 \nL 2988 3500 \nL 3597 3500 \nL 2284 0 \nL 1503 0 \nL 191 3500 \nz\n\" transform=\"scale(0.015625)\"/>\n       <path id=\"DejaVuSans-69\" d=\"M 603 3500 \nL 1178 3500 \nL 1178 0 \nL 603 0 \nL 603 3500 \nz\nM 603 4863 \nL 1178 4863 \nL 1178 4134 \nL 603 4134 \nL 603 4863 \nz\n\" transform=\"scale(0.015625)\"/>\n       <path id=\"DejaVuSans-6d\" d=\"M 3328 2828 \nQ 3544 3216 3844 3400 \nQ 4144 3584 4550 3584 \nQ 5097 3584 5394 3201 \nQ 5691 2819 5691 2113 \nL 5691 0 \nL 5113 0 \nL 5113 2094 \nQ 5113 2597 4934 2840 \nQ 4756 3084 4391 3084 \nQ 3944 3084 3684 2787 \nQ 3425 2491 3425 1978 \nL 3425 0 \nL 2847 0 \nL 2847 2094 \nQ 2847 2600 2669 2842 \nQ 2491 3084 2119 3084 \nQ 1678 3084 1418 2786 \nQ 1159 2488 1159 1978 \nL 1159 0 \nL 581 0 \nL 581 3500 \nL 1159 3500 \nL 1159 2956 \nQ 1356 3278 1631 3431 \nQ 1906 3584 2284 3584 \nQ 2666 3584 2933 3390 \nQ 3200 3197 3328 2828 \nz\n\" transform=\"scale(0.015625)\"/>\n      </defs>\n      <use xlink:href=\"#DejaVuSans-74\"/>\n      <use xlink:href=\"#DejaVuSans-72\" x=\"39.208984\"/>\n      <use xlink:href=\"#DejaVuSans-61\" x=\"80.322266\"/>\n      <use xlink:href=\"#DejaVuSans-76\" x=\"141.601562\"/>\n      <use xlink:href=\"#DejaVuSans-65\" x=\"200.78125\"/>\n      <use xlink:href=\"#DejaVuSans-6c\" x=\"262.304688\"/>\n      <use xlink:href=\"#DejaVuSans-74\" x=\"290.087891\"/>\n      <use xlink:href=\"#DejaVuSans-69\" x=\"329.296875\"/>\n      <use xlink:href=\"#DejaVuSans-6d\" x=\"357.080078\"/>\n      <use xlink:href=\"#DejaVuSans-65\" x=\"454.492188\"/>\n     </g>\n    </g>\n   </g>\n   <g id=\"line2d_56\">\n    <path d=\"M 201.33375 737.244545 \nL 201.33375 737.244545 \n\" clip-path=\"url(#p93ffe4b99f)\" style=\"fill: none; stroke: #3f3f3f; stroke-width: 1.5; stroke-linecap: square\"/>\n   </g>\n   <g id=\"line2d_57\">\n    <path d=\"M 201.33375 643.541515 \nL 201.33375 549.838485 \n\" clip-path=\"url(#p93ffe4b99f)\" style=\"fill: none; stroke: #3f3f3f; stroke-width: 1.5; stroke-linecap: square\"/>\n   </g>\n   <g id=\"line2d_58\">\n    <path d=\"M 140.85775 737.244545 \nL 261.80975 737.244545 \n\" clip-path=\"url(#p93ffe4b99f)\" style=\"fill: none; stroke: #3f3f3f; stroke-width: 1.5; stroke-linecap: square\"/>\n   </g>\n   <g id=\"line2d_59\">\n    <path d=\"M 140.85775 549.838485 \nL 261.80975 549.838485 \n\" clip-path=\"url(#p93ffe4b99f)\" style=\"fill: none; stroke: #3f3f3f; stroke-width: 1.5; stroke-linecap: square\"/>\n   </g>\n   <g id=\"line2d_60\">\n    <g clip-path=\"url(#p93ffe4b99f)\">\n     <use xlink:href=\"#m946c25c304\" x=\"201.33375\" y=\"456.135455\" style=\"fill: #3f3f3f; stroke: #3f3f3f; stroke-linejoin: miter\"/>\n     <use xlink:href=\"#m946c25c304\" x=\"201.33375\" y=\"456.135455\" style=\"fill: #3f3f3f; stroke: #3f3f3f; stroke-linejoin: miter\"/>\n     <use xlink:href=\"#m946c25c304\" x=\"201.33375\" y=\"456.135455\" style=\"fill: #3f3f3f; stroke: #3f3f3f; stroke-linejoin: miter\"/>\n     <use xlink:href=\"#m946c25c304\" x=\"201.33375\" y=\"456.135455\" style=\"fill: #3f3f3f; stroke: #3f3f3f; stroke-linejoin: miter\"/>\n     <use xlink:href=\"#m946c25c304\" x=\"201.33375\" y=\"456.135455\" style=\"fill: #3f3f3f; stroke: #3f3f3f; stroke-linejoin: miter\"/>\n     <use xlink:href=\"#m946c25c304\" x=\"201.33375\" y=\"456.135455\" style=\"fill: #3f3f3f; stroke: #3f3f3f; stroke-linejoin: miter\"/>\n     <use xlink:href=\"#m946c25c304\" x=\"201.33375\" y=\"456.135455\" style=\"fill: #3f3f3f; stroke: #3f3f3f; stroke-linejoin: miter\"/>\n     <use xlink:href=\"#m946c25c304\" x=\"201.33375\" y=\"456.135455\" style=\"fill: #3f3f3f; stroke: #3f3f3f; stroke-linejoin: miter\"/>\n    </g>\n   </g>\n   <g id=\"line2d_61\">\n    <path d=\"M 80.38175 737.244545 \nL 322.28575 737.244545 \n\" clip-path=\"url(#p93ffe4b99f)\" style=\"fill: none; stroke: #3f3f3f; stroke-width: 1.5; stroke-linecap: square\"/>\n   </g>\n   <g id=\"patch_22\">\n    <path d=\"M 50.14375 751.3 \nL 50.14375 442.08 \n\" style=\"fill: none; stroke: #000000; stroke-width: 0.8; stroke-linejoin: miter; stroke-linecap: square\"/>\n   </g>\n   <g id=\"patch_23\">\n    <path d=\"M 352.52375 751.3 \nL 352.52375 442.08 \n\" style=\"fill: none; stroke: #000000; stroke-width: 0.8; stroke-linejoin: miter; stroke-linecap: square\"/>\n   </g>\n   <g id=\"patch_24\">\n    <path d=\"M 50.14375 751.3 \nL 352.52375 751.3 \n\" style=\"fill: none; stroke: #000000; stroke-width: 0.8; stroke-linejoin: miter; stroke-linecap: square\"/>\n   </g>\n   <g id=\"patch_25\">\n    <path d=\"M 50.14375 442.08 \nL 352.52375 442.08 \n\" style=\"fill: none; stroke: #000000; stroke-width: 0.8; stroke-linejoin: miter; stroke-linecap: square\"/>\n   </g>\n   <g id=\"text_41\">\n    <!-- Box Plot para traveltime -->\n    <g transform=\"translate(128.563125 436.08) scale(0.12 -0.12)\">\n     <use xlink:href=\"#DejaVuSans-42\"/>\n     <use xlink:href=\"#DejaVuSans-6f\" x=\"68.603516\"/>\n     <use xlink:href=\"#DejaVuSans-78\" x=\"126.660156\"/>\n     <use xlink:href=\"#DejaVuSans-20\" x=\"185.839844\"/>\n     <use xlink:href=\"#DejaVuSans-50\" x=\"217.626953\"/>\n     <use xlink:href=\"#DejaVuSans-6c\" x=\"277.929688\"/>\n     <use xlink:href=\"#DejaVuSans-6f\" x=\"305.712891\"/>\n     <use xlink:href=\"#DejaVuSans-74\" x=\"366.894531\"/>\n     <use xlink:href=\"#DejaVuSans-20\" x=\"406.103516\"/>\n     <use xlink:href=\"#DejaVuSans-70\" x=\"437.890625\"/>\n     <use xlink:href=\"#DejaVuSans-61\" x=\"501.367188\"/>\n     <use xlink:href=\"#DejaVuSans-72\" x=\"562.646484\"/>\n     <use xlink:href=\"#DejaVuSans-61\" x=\"603.759766\"/>\n     <use xlink:href=\"#DejaVuSans-20\" x=\"665.039062\"/>\n     <use xlink:href=\"#DejaVuSans-74\" x=\"696.826172\"/>\n     <use xlink:href=\"#DejaVuSans-72\" x=\"736.035156\"/>\n     <use xlink:href=\"#DejaVuSans-61\" x=\"777.148438\"/>\n     <use xlink:href=\"#DejaVuSans-76\" x=\"838.427734\"/>\n     <use xlink:href=\"#DejaVuSans-65\" x=\"897.607422\"/>\n     <use xlink:href=\"#DejaVuSans-6c\" x=\"959.130859\"/>\n     <use xlink:href=\"#DejaVuSans-74\" x=\"986.914062\"/>\n     <use xlink:href=\"#DejaVuSans-69\" x=\"1026.123047\"/>\n     <use xlink:href=\"#DejaVuSans-6d\" x=\"1053.90625\"/>\n     <use xlink:href=\"#DejaVuSans-65\" x=\"1151.318359\"/>\n    </g>\n   </g>\n  </g>\n  <g id=\"axes_5\">\n   <g id=\"patch_26\">\n    <path d=\"M 406.54375 751.3 \nL 708.92375 751.3 \nL 708.92375 442.08 \nL 406.54375 442.08 \nz\n\" style=\"fill: #ffffff\"/>\n   </g>\n   <g id=\"patch_27\">\n    <path d=\"M 436.78175 737.244545 \nL 678.68575 737.244545 \nL 678.68575 643.541515 \nL 436.78175 643.541515 \nL 436.78175 737.244545 \nz\n\" clip-path=\"url(#pd893588b48)\" style=\"fill: #3274a1; stroke: #3f3f3f; stroke-width: 1.5; stroke-linejoin: miter\"/>\n   </g>\n   <g id=\"matplotlib.axis_9\">\n    <g id=\"xtick_5\">\n     <g id=\"line2d_62\">\n      <g>\n       <use xlink:href=\"#m66ac7727a7\" x=\"557.73375\" y=\"751.3\" style=\"stroke: #000000; stroke-width: 0.8\"/>\n      </g>\n     </g>\n    </g>\n   </g>\n   <g id=\"matplotlib.axis_10\">\n    <g id=\"ytick_34\">\n     <g id=\"line2d_63\">\n      <g>\n       <use xlink:href=\"#mbd7f2e0b6a\" x=\"406.54375\" y=\"737.244545\" style=\"stroke: #000000; stroke-width: 0.8\"/>\n      </g>\n     </g>\n     <g id=\"text_42\">\n      <!-- 1.0 -->\n      <g transform=\"translate(383.640625 741.043764) scale(0.1 -0.1)\">\n       <use xlink:href=\"#DejaVuSans-31\"/>\n       <use xlink:href=\"#DejaVuSans-2e\" x=\"63.623047\"/>\n       <use xlink:href=\"#DejaVuSans-30\" x=\"95.410156\"/>\n      </g>\n     </g>\n    </g>\n    <g id=\"ytick_35\">\n     <g id=\"line2d_64\">\n      <g>\n       <use xlink:href=\"#mbd7f2e0b6a\" x=\"406.54375\" y=\"690.39303\" style=\"stroke: #000000; stroke-width: 0.8\"/>\n      </g>\n     </g>\n     <g id=\"text_43\">\n      <!-- 1.5 -->\n      <g transform=\"translate(383.640625 694.192249) scale(0.1 -0.1)\">\n       <use xlink:href=\"#DejaVuSans-31\"/>\n       <use xlink:href=\"#DejaVuSans-2e\" x=\"63.623047\"/>\n       <use xlink:href=\"#DejaVuSans-35\" x=\"95.410156\"/>\n      </g>\n     </g>\n    </g>\n    <g id=\"ytick_36\">\n     <g id=\"line2d_65\">\n      <g>\n       <use xlink:href=\"#mbd7f2e0b6a\" x=\"406.54375\" y=\"643.541515\" style=\"stroke: #000000; stroke-width: 0.8\"/>\n      </g>\n     </g>\n     <g id=\"text_44\">\n      <!-- 2.0 -->\n      <g transform=\"translate(383.640625 647.340734) scale(0.1 -0.1)\">\n       <use xlink:href=\"#DejaVuSans-32\"/>\n       <use xlink:href=\"#DejaVuSans-2e\" x=\"63.623047\"/>\n       <use xlink:href=\"#DejaVuSans-30\" x=\"95.410156\"/>\n      </g>\n     </g>\n    </g>\n    <g id=\"ytick_37\">\n     <g id=\"line2d_66\">\n      <g>\n       <use xlink:href=\"#mbd7f2e0b6a\" x=\"406.54375\" y=\"596.69\" style=\"stroke: #000000; stroke-width: 0.8\"/>\n      </g>\n     </g>\n     <g id=\"text_45\">\n      <!-- 2.5 -->\n      <g transform=\"translate(383.640625 600.489219) scale(0.1 -0.1)\">\n       <use xlink:href=\"#DejaVuSans-32\"/>\n       <use xlink:href=\"#DejaVuSans-2e\" x=\"63.623047\"/>\n       <use xlink:href=\"#DejaVuSans-35\" x=\"95.410156\"/>\n      </g>\n     </g>\n    </g>\n    <g id=\"ytick_38\">\n     <g id=\"line2d_67\">\n      <g>\n       <use xlink:href=\"#mbd7f2e0b6a\" x=\"406.54375\" y=\"549.838485\" style=\"stroke: #000000; stroke-width: 0.8\"/>\n      </g>\n     </g>\n     <g id=\"text_46\">\n      <!-- 3.0 -->\n      <g transform=\"translate(383.640625 553.637704) scale(0.1 -0.1)\">\n       <use xlink:href=\"#DejaVuSans-33\"/>\n       <use xlink:href=\"#DejaVuSans-2e\" x=\"63.623047\"/>\n       <use xlink:href=\"#DejaVuSans-30\" x=\"95.410156\"/>\n      </g>\n     </g>\n    </g>\n    <g id=\"ytick_39\">\n     <g id=\"line2d_68\">\n      <g>\n       <use xlink:href=\"#mbd7f2e0b6a\" x=\"406.54375\" y=\"502.98697\" style=\"stroke: #000000; stroke-width: 0.8\"/>\n      </g>\n     </g>\n     <g id=\"text_47\">\n      <!-- 3.5 -->\n      <g transform=\"translate(383.640625 506.786188) scale(0.1 -0.1)\">\n       <use xlink:href=\"#DejaVuSans-33\"/>\n       <use xlink:href=\"#DejaVuSans-2e\" x=\"63.623047\"/>\n       <use xlink:href=\"#DejaVuSans-35\" x=\"95.410156\"/>\n      </g>\n     </g>\n    </g>\n    <g id=\"ytick_40\">\n     <g id=\"line2d_69\">\n      <g>\n       <use xlink:href=\"#mbd7f2e0b6a\" x=\"406.54375\" y=\"456.135455\" style=\"stroke: #000000; stroke-width: 0.8\"/>\n      </g>\n     </g>\n     <g id=\"text_48\">\n      <!-- 4.0 -->\n      <g transform=\"translate(383.640625 459.934673) scale(0.1 -0.1)\">\n       <use xlink:href=\"#DejaVuSans-34\"/>\n       <use xlink:href=\"#DejaVuSans-2e\" x=\"63.623047\"/>\n       <use xlink:href=\"#DejaVuSans-30\" x=\"95.410156\"/>\n      </g>\n     </g>\n    </g>\n    <g id=\"text_49\">\n     <!-- studytime -->\n     <g transform=\"translate(377.560938 621.853281) rotate(-90) scale(0.1 -0.1)\">\n      <defs>\n       <path id=\"DejaVuSans-73\" d=\"M 2834 3397 \nL 2834 2853 \nQ 2591 2978 2328 3040 \nQ 2066 3103 1784 3103 \nQ 1356 3103 1142 2972 \nQ 928 2841 928 2578 \nQ 928 2378 1081 2264 \nQ 1234 2150 1697 2047 \nL 1894 2003 \nQ 2506 1872 2764 1633 \nQ 3022 1394 3022 966 \nQ 3022 478 2636 193 \nQ 2250 -91 1575 -91 \nQ 1294 -91 989 -36 \nQ 684 19 347 128 \nL 347 722 \nQ 666 556 975 473 \nQ 1284 391 1588 391 \nQ 1994 391 2212 530 \nQ 2431 669 2431 922 \nQ 2431 1156 2273 1281 \nQ 2116 1406 1581 1522 \nL 1381 1569 \nQ 847 1681 609 1914 \nQ 372 2147 372 2553 \nQ 372 3047 722 3315 \nQ 1072 3584 1716 3584 \nQ 2034 3584 2315 3537 \nQ 2597 3491 2834 3397 \nz\n\" transform=\"scale(0.015625)\"/>\n       <path id=\"DejaVuSans-79\" d=\"M 2059 -325 \nQ 1816 -950 1584 -1140 \nQ 1353 -1331 966 -1331 \nL 506 -1331 \nL 506 -850 \nL 844 -850 \nQ 1081 -850 1212 -737 \nQ 1344 -625 1503 -206 \nL 1606 56 \nL 191 3500 \nL 800 3500 \nL 1894 763 \nL 2988 3500 \nL 3597 3500 \nL 2059 -325 \nz\n\" transform=\"scale(0.015625)\"/>\n      </defs>\n      <use xlink:href=\"#DejaVuSans-73\"/>\n      <use xlink:href=\"#DejaVuSans-74\" x=\"52.099609\"/>\n      <use xlink:href=\"#DejaVuSans-75\" x=\"91.308594\"/>\n      <use xlink:href=\"#DejaVuSans-64\" x=\"154.6875\"/>\n      <use xlink:href=\"#DejaVuSans-79\" x=\"218.164062\"/>\n      <use xlink:href=\"#DejaVuSans-74\" x=\"277.34375\"/>\n      <use xlink:href=\"#DejaVuSans-69\" x=\"316.552734\"/>\n      <use xlink:href=\"#DejaVuSans-6d\" x=\"344.335938\"/>\n      <use xlink:href=\"#DejaVuSans-65\" x=\"441.748047\"/>\n     </g>\n    </g>\n   </g>\n   <g id=\"line2d_70\">\n    <path d=\"M 557.73375 737.244545 \nL 557.73375 737.244545 \n\" clip-path=\"url(#pd893588b48)\" style=\"fill: none; stroke: #3f3f3f; stroke-width: 1.5; stroke-linecap: square\"/>\n   </g>\n   <g id=\"line2d_71\">\n    <path d=\"M 557.73375 643.541515 \nL 557.73375 549.838485 \n\" clip-path=\"url(#pd893588b48)\" style=\"fill: none; stroke: #3f3f3f; stroke-width: 1.5; stroke-linecap: square\"/>\n   </g>\n   <g id=\"line2d_72\">\n    <path d=\"M 497.25775 737.244545 \nL 618.20975 737.244545 \n\" clip-path=\"url(#pd893588b48)\" style=\"fill: none; stroke: #3f3f3f; stroke-width: 1.5; stroke-linecap: square\"/>\n   </g>\n   <g id=\"line2d_73\">\n    <path d=\"M 497.25775 549.838485 \nL 618.20975 549.838485 \n\" clip-path=\"url(#pd893588b48)\" style=\"fill: none; stroke: #3f3f3f; stroke-width: 1.5; stroke-linecap: square\"/>\n   </g>\n   <g id=\"line2d_74\">\n    <g clip-path=\"url(#pd893588b48)\">\n     <use xlink:href=\"#m946c25c304\" x=\"557.73375\" y=\"456.135455\" style=\"fill: #3f3f3f; stroke: #3f3f3f; stroke-linejoin: miter\"/>\n     <use xlink:href=\"#m946c25c304\" x=\"557.73375\" y=\"456.135455\" style=\"fill: #3f3f3f; stroke: #3f3f3f; stroke-linejoin: miter\"/>\n     <use xlink:href=\"#m946c25c304\" x=\"557.73375\" y=\"456.135455\" style=\"fill: #3f3f3f; stroke: #3f3f3f; stroke-linejoin: miter\"/>\n     <use xlink:href=\"#m946c25c304\" x=\"557.73375\" y=\"456.135455\" style=\"fill: #3f3f3f; stroke: #3f3f3f; stroke-linejoin: miter\"/>\n     <use xlink:href=\"#m946c25c304\" x=\"557.73375\" y=\"456.135455\" style=\"fill: #3f3f3f; stroke: #3f3f3f; stroke-linejoin: miter\"/>\n     <use xlink:href=\"#m946c25c304\" x=\"557.73375\" y=\"456.135455\" style=\"fill: #3f3f3f; stroke: #3f3f3f; stroke-linejoin: miter\"/>\n     <use xlink:href=\"#m946c25c304\" x=\"557.73375\" y=\"456.135455\" style=\"fill: #3f3f3f; stroke: #3f3f3f; stroke-linejoin: miter\"/>\n     <use xlink:href=\"#m946c25c304\" x=\"557.73375\" y=\"456.135455\" style=\"fill: #3f3f3f; stroke: #3f3f3f; stroke-linejoin: miter\"/>\n     <use xlink:href=\"#m946c25c304\" x=\"557.73375\" y=\"456.135455\" style=\"fill: #3f3f3f; stroke: #3f3f3f; stroke-linejoin: miter\"/>\n     <use xlink:href=\"#m946c25c304\" x=\"557.73375\" y=\"456.135455\" style=\"fill: #3f3f3f; stroke: #3f3f3f; stroke-linejoin: miter\"/>\n     <use xlink:href=\"#m946c25c304\" x=\"557.73375\" y=\"456.135455\" style=\"fill: #3f3f3f; stroke: #3f3f3f; stroke-linejoin: miter\"/>\n     <use xlink:href=\"#m946c25c304\" x=\"557.73375\" y=\"456.135455\" style=\"fill: #3f3f3f; stroke: #3f3f3f; stroke-linejoin: miter\"/>\n     <use xlink:href=\"#m946c25c304\" x=\"557.73375\" y=\"456.135455\" style=\"fill: #3f3f3f; stroke: #3f3f3f; stroke-linejoin: miter\"/>\n     <use xlink:href=\"#m946c25c304\" x=\"557.73375\" y=\"456.135455\" style=\"fill: #3f3f3f; stroke: #3f3f3f; stroke-linejoin: miter\"/>\n     <use xlink:href=\"#m946c25c304\" x=\"557.73375\" y=\"456.135455\" style=\"fill: #3f3f3f; stroke: #3f3f3f; stroke-linejoin: miter\"/>\n     <use xlink:href=\"#m946c25c304\" x=\"557.73375\" y=\"456.135455\" style=\"fill: #3f3f3f; stroke: #3f3f3f; stroke-linejoin: miter\"/>\n     <use xlink:href=\"#m946c25c304\" x=\"557.73375\" y=\"456.135455\" style=\"fill: #3f3f3f; stroke: #3f3f3f; stroke-linejoin: miter\"/>\n     <use xlink:href=\"#m946c25c304\" x=\"557.73375\" y=\"456.135455\" style=\"fill: #3f3f3f; stroke: #3f3f3f; stroke-linejoin: miter\"/>\n     <use xlink:href=\"#m946c25c304\" x=\"557.73375\" y=\"456.135455\" style=\"fill: #3f3f3f; stroke: #3f3f3f; stroke-linejoin: miter\"/>\n     <use xlink:href=\"#m946c25c304\" x=\"557.73375\" y=\"456.135455\" style=\"fill: #3f3f3f; stroke: #3f3f3f; stroke-linejoin: miter\"/>\n     <use xlink:href=\"#m946c25c304\" x=\"557.73375\" y=\"456.135455\" style=\"fill: #3f3f3f; stroke: #3f3f3f; stroke-linejoin: miter\"/>\n     <use xlink:href=\"#m946c25c304\" x=\"557.73375\" y=\"456.135455\" style=\"fill: #3f3f3f; stroke: #3f3f3f; stroke-linejoin: miter\"/>\n     <use xlink:href=\"#m946c25c304\" x=\"557.73375\" y=\"456.135455\" style=\"fill: #3f3f3f; stroke: #3f3f3f; stroke-linejoin: miter\"/>\n     <use xlink:href=\"#m946c25c304\" x=\"557.73375\" y=\"456.135455\" style=\"fill: #3f3f3f; stroke: #3f3f3f; stroke-linejoin: miter\"/>\n     <use xlink:href=\"#m946c25c304\" x=\"557.73375\" y=\"456.135455\" style=\"fill: #3f3f3f; stroke: #3f3f3f; stroke-linejoin: miter\"/>\n     <use xlink:href=\"#m946c25c304\" x=\"557.73375\" y=\"456.135455\" style=\"fill: #3f3f3f; stroke: #3f3f3f; stroke-linejoin: miter\"/>\n     <use xlink:href=\"#m946c25c304\" x=\"557.73375\" y=\"456.135455\" style=\"fill: #3f3f3f; stroke: #3f3f3f; stroke-linejoin: miter\"/>\n    </g>\n   </g>\n   <g id=\"line2d_75\">\n    <path d=\"M 436.78175 643.541515 \nL 678.68575 643.541515 \n\" clip-path=\"url(#pd893588b48)\" style=\"fill: none; stroke: #3f3f3f; stroke-width: 1.5; stroke-linecap: square\"/>\n   </g>\n   <g id=\"patch_28\">\n    <path d=\"M 406.54375 751.3 \nL 406.54375 442.08 \n\" style=\"fill: none; stroke: #000000; stroke-width: 0.8; stroke-linejoin: miter; stroke-linecap: square\"/>\n   </g>\n   <g id=\"patch_29\">\n    <path d=\"M 708.92375 751.3 \nL 708.92375 442.08 \n\" style=\"fill: none; stroke: #000000; stroke-width: 0.8; stroke-linejoin: miter; stroke-linecap: square\"/>\n   </g>\n   <g id=\"patch_30\">\n    <path d=\"M 406.54375 751.3 \nL 708.92375 751.3 \n\" style=\"fill: none; stroke: #000000; stroke-width: 0.8; stroke-linejoin: miter; stroke-linecap: square\"/>\n   </g>\n   <g id=\"patch_31\">\n    <path d=\"M 406.54375 442.08 \nL 708.92375 442.08 \n\" style=\"fill: none; stroke: #000000; stroke-width: 0.8; stroke-linejoin: miter; stroke-linecap: square\"/>\n   </g>\n   <g id=\"text_50\">\n    <!-- Box Plot para studytime -->\n    <g transform=\"translate(485.728125 436.08) scale(0.12 -0.12)\">\n     <use xlink:href=\"#DejaVuSans-42\"/>\n     <use xlink:href=\"#DejaVuSans-6f\" x=\"68.603516\"/>\n     <use xlink:href=\"#DejaVuSans-78\" x=\"126.660156\"/>\n     <use xlink:href=\"#DejaVuSans-20\" x=\"185.839844\"/>\n     <use xlink:href=\"#DejaVuSans-50\" x=\"217.626953\"/>\n     <use xlink:href=\"#DejaVuSans-6c\" x=\"277.929688\"/>\n     <use xlink:href=\"#DejaVuSans-6f\" x=\"305.712891\"/>\n     <use xlink:href=\"#DejaVuSans-74\" x=\"366.894531\"/>\n     <use xlink:href=\"#DejaVuSans-20\" x=\"406.103516\"/>\n     <use xlink:href=\"#DejaVuSans-70\" x=\"437.890625\"/>\n     <use xlink:href=\"#DejaVuSans-61\" x=\"501.367188\"/>\n     <use xlink:href=\"#DejaVuSans-72\" x=\"562.646484\"/>\n     <use xlink:href=\"#DejaVuSans-61\" x=\"603.759766\"/>\n     <use xlink:href=\"#DejaVuSans-20\" x=\"665.039062\"/>\n     <use xlink:href=\"#DejaVuSans-73\" x=\"696.826172\"/>\n     <use xlink:href=\"#DejaVuSans-74\" x=\"748.925781\"/>\n     <use xlink:href=\"#DejaVuSans-75\" x=\"788.134766\"/>\n     <use xlink:href=\"#DejaVuSans-64\" x=\"851.513672\"/>\n     <use xlink:href=\"#DejaVuSans-79\" x=\"914.990234\"/>\n     <use xlink:href=\"#DejaVuSans-74\" x=\"974.169922\"/>\n     <use xlink:href=\"#DejaVuSans-69\" x=\"1013.378906\"/>\n     <use xlink:href=\"#DejaVuSans-6d\" x=\"1041.162109\"/>\n     <use xlink:href=\"#DejaVuSans-65\" x=\"1138.574219\"/>\n    </g>\n   </g>\n  </g>\n  <g id=\"axes_6\">\n   <g id=\"patch_32\">\n    <path d=\"M 762.94375 751.3 \nL 1065.32375 751.3 \nL 1065.32375 442.08 \nL 762.94375 442.08 \nz\n\" style=\"fill: #ffffff\"/>\n   </g>\n   <g id=\"patch_33\">\n    <path d=\"M 793.18175 737.244545 \nL 1035.08575 737.244545 \nL 1035.08575 737.244545 \nL 793.18175 737.244545 \nL 793.18175 737.244545 \nz\n\" clip-path=\"url(#p187abaa70f)\" style=\"fill: #3274a1; stroke: #3f3f3f; stroke-width: 1.5; stroke-linejoin: miter\"/>\n   </g>\n   <g id=\"matplotlib.axis_11\">\n    <g id=\"xtick_6\">\n     <g id=\"line2d_76\">\n      <g>\n       <use xlink:href=\"#m66ac7727a7\" x=\"914.13375\" y=\"751.3\" style=\"stroke: #000000; stroke-width: 0.8\"/>\n      </g>\n     </g>\n    </g>\n   </g>\n   <g id=\"matplotlib.axis_12\">\n    <g id=\"ytick_41\">\n     <g id=\"line2d_77\">\n      <g>\n       <use xlink:href=\"#mbd7f2e0b6a\" x=\"762.94375\" y=\"737.244545\" style=\"stroke: #000000; stroke-width: 0.8\"/>\n      </g>\n     </g>\n     <g id=\"text_51\">\n      <!-- 0.0 -->\n      <g transform=\"translate(740.040625 741.043764) scale(0.1 -0.1)\">\n       <use xlink:href=\"#DejaVuSans-30\"/>\n       <use xlink:href=\"#DejaVuSans-2e\" x=\"63.623047\"/>\n       <use xlink:href=\"#DejaVuSans-30\" x=\"95.410156\"/>\n      </g>\n     </g>\n    </g>\n    <g id=\"ytick_42\">\n     <g id=\"line2d_78\">\n      <g>\n       <use xlink:href=\"#mbd7f2e0b6a\" x=\"762.94375\" y=\"690.39303\" style=\"stroke: #000000; stroke-width: 0.8\"/>\n      </g>\n     </g>\n     <g id=\"text_52\">\n      <!-- 0.5 -->\n      <g transform=\"translate(740.040625 694.192249) scale(0.1 -0.1)\">\n       <use xlink:href=\"#DejaVuSans-30\"/>\n       <use xlink:href=\"#DejaVuSans-2e\" x=\"63.623047\"/>\n       <use xlink:href=\"#DejaVuSans-35\" x=\"95.410156\"/>\n      </g>\n     </g>\n    </g>\n    <g id=\"ytick_43\">\n     <g id=\"line2d_79\">\n      <g>\n       <use xlink:href=\"#mbd7f2e0b6a\" x=\"762.94375\" y=\"643.541515\" style=\"stroke: #000000; stroke-width: 0.8\"/>\n      </g>\n     </g>\n     <g id=\"text_53\">\n      <!-- 1.0 -->\n      <g transform=\"translate(740.040625 647.340734) scale(0.1 -0.1)\">\n       <use xlink:href=\"#DejaVuSans-31\"/>\n       <use xlink:href=\"#DejaVuSans-2e\" x=\"63.623047\"/>\n       <use xlink:href=\"#DejaVuSans-30\" x=\"95.410156\"/>\n      </g>\n     </g>\n    </g>\n    <g id=\"ytick_44\">\n     <g id=\"line2d_80\">\n      <g>\n       <use xlink:href=\"#mbd7f2e0b6a\" x=\"762.94375\" y=\"596.69\" style=\"stroke: #000000; stroke-width: 0.8\"/>\n      </g>\n     </g>\n     <g id=\"text_54\">\n      <!-- 1.5 -->\n      <g transform=\"translate(740.040625 600.489219) scale(0.1 -0.1)\">\n       <use xlink:href=\"#DejaVuSans-31\"/>\n       <use xlink:href=\"#DejaVuSans-2e\" x=\"63.623047\"/>\n       <use xlink:href=\"#DejaVuSans-35\" x=\"95.410156\"/>\n      </g>\n     </g>\n    </g>\n    <g id=\"ytick_45\">\n     <g id=\"line2d_81\">\n      <g>\n       <use xlink:href=\"#mbd7f2e0b6a\" x=\"762.94375\" y=\"549.838485\" style=\"stroke: #000000; stroke-width: 0.8\"/>\n      </g>\n     </g>\n     <g id=\"text_55\">\n      <!-- 2.0 -->\n      <g transform=\"translate(740.040625 553.637704) scale(0.1 -0.1)\">\n       <use xlink:href=\"#DejaVuSans-32\"/>\n       <use xlink:href=\"#DejaVuSans-2e\" x=\"63.623047\"/>\n       <use xlink:href=\"#DejaVuSans-30\" x=\"95.410156\"/>\n      </g>\n     </g>\n    </g>\n    <g id=\"ytick_46\">\n     <g id=\"line2d_82\">\n      <g>\n       <use xlink:href=\"#mbd7f2e0b6a\" x=\"762.94375\" y=\"502.98697\" style=\"stroke: #000000; stroke-width: 0.8\"/>\n      </g>\n     </g>\n     <g id=\"text_56\">\n      <!-- 2.5 -->\n      <g transform=\"translate(740.040625 506.786188) scale(0.1 -0.1)\">\n       <use xlink:href=\"#DejaVuSans-32\"/>\n       <use xlink:href=\"#DejaVuSans-2e\" x=\"63.623047\"/>\n       <use xlink:href=\"#DejaVuSans-35\" x=\"95.410156\"/>\n      </g>\n     </g>\n    </g>\n    <g id=\"ytick_47\">\n     <g id=\"line2d_83\">\n      <g>\n       <use xlink:href=\"#mbd7f2e0b6a\" x=\"762.94375\" y=\"456.135455\" style=\"stroke: #000000; stroke-width: 0.8\"/>\n      </g>\n     </g>\n     <g id=\"text_57\">\n      <!-- 3.0 -->\n      <g transform=\"translate(740.040625 459.934673) scale(0.1 -0.1)\">\n       <use xlink:href=\"#DejaVuSans-33\"/>\n       <use xlink:href=\"#DejaVuSans-2e\" x=\"63.623047\"/>\n       <use xlink:href=\"#DejaVuSans-30\" x=\"95.410156\"/>\n      </g>\n     </g>\n    </g>\n    <g id=\"text_58\">\n     <!-- failures -->\n     <g transform=\"translate(733.960938 615.085313) rotate(-90) scale(0.1 -0.1)\">\n      <defs>\n       <path id=\"DejaVuSans-66\" d=\"M 2375 4863 \nL 2375 4384 \nL 1825 4384 \nQ 1516 4384 1395 4259 \nQ 1275 4134 1275 3809 \nL 1275 3500 \nL 2222 3500 \nL 2222 3053 \nL 1275 3053 \nL 1275 0 \nL 697 0 \nL 697 3053 \nL 147 3053 \nL 147 3500 \nL 697 3500 \nL 697 3744 \nQ 697 4328 969 4595 \nQ 1241 4863 1831 4863 \nL 2375 4863 \nz\n\" transform=\"scale(0.015625)\"/>\n      </defs>\n      <use xlink:href=\"#DejaVuSans-66\"/>\n      <use xlink:href=\"#DejaVuSans-61\" x=\"35.205078\"/>\n      <use xlink:href=\"#DejaVuSans-69\" x=\"96.484375\"/>\n      <use xlink:href=\"#DejaVuSans-6c\" x=\"124.267578\"/>\n      <use xlink:href=\"#DejaVuSans-75\" x=\"152.050781\"/>\n      <use xlink:href=\"#DejaVuSans-72\" x=\"215.429688\"/>\n      <use xlink:href=\"#DejaVuSans-65\" x=\"254.292969\"/>\n      <use xlink:href=\"#DejaVuSans-73\" x=\"315.816406\"/>\n     </g>\n    </g>\n   </g>\n   <g id=\"line2d_84\">\n    <path d=\"M 914.13375 737.244545 \nL 914.13375 737.244545 \n\" clip-path=\"url(#p187abaa70f)\" style=\"fill: none; stroke: #3f3f3f; stroke-width: 1.5; stroke-linecap: square\"/>\n   </g>\n   <g id=\"line2d_85\">\n    <path d=\"M 914.13375 737.244545 \nL 914.13375 737.244545 \n\" clip-path=\"url(#p187abaa70f)\" style=\"fill: none; stroke: #3f3f3f; stroke-width: 1.5; stroke-linecap: square\"/>\n   </g>\n   <g id=\"line2d_86\">\n    <path d=\"M 853.65775 737.244545 \nL 974.60975 737.244545 \n\" clip-path=\"url(#p187abaa70f)\" style=\"fill: none; stroke: #3f3f3f; stroke-width: 1.5; stroke-linecap: square\"/>\n   </g>\n   <g id=\"line2d_87\">\n    <path d=\"M 853.65775 737.244545 \nL 974.60975 737.244545 \n\" clip-path=\"url(#p187abaa70f)\" style=\"fill: none; stroke: #3f3f3f; stroke-width: 1.5; stroke-linecap: square\"/>\n   </g>\n   <g id=\"line2d_88\">\n    <g clip-path=\"url(#p187abaa70f)\">\n     <use xlink:href=\"#m946c25c304\" x=\"914.13375\" y=\"456.135455\" style=\"fill: #3f3f3f; stroke: #3f3f3f; stroke-linejoin: miter\"/>\n     <use xlink:href=\"#m946c25c304\" x=\"914.13375\" y=\"456.135455\" style=\"fill: #3f3f3f; stroke: #3f3f3f; stroke-linejoin: miter\"/>\n     <use xlink:href=\"#m946c25c304\" x=\"914.13375\" y=\"549.838485\" style=\"fill: #3f3f3f; stroke: #3f3f3f; stroke-linejoin: miter\"/>\n     <use xlink:href=\"#m946c25c304\" x=\"914.13375\" y=\"643.541515\" style=\"fill: #3f3f3f; stroke: #3f3f3f; stroke-linejoin: miter\"/>\n     <use xlink:href=\"#m946c25c304\" x=\"914.13375\" y=\"643.541515\" style=\"fill: #3f3f3f; stroke: #3f3f3f; stroke-linejoin: miter\"/>\n     <use xlink:href=\"#m946c25c304\" x=\"914.13375\" y=\"643.541515\" style=\"fill: #3f3f3f; stroke: #3f3f3f; stroke-linejoin: miter\"/>\n     <use xlink:href=\"#m946c25c304\" x=\"914.13375\" y=\"643.541515\" style=\"fill: #3f3f3f; stroke: #3f3f3f; stroke-linejoin: miter\"/>\n     <use xlink:href=\"#m946c25c304\" x=\"914.13375\" y=\"549.838485\" style=\"fill: #3f3f3f; stroke: #3f3f3f; stroke-linejoin: miter\"/>\n     <use xlink:href=\"#m946c25c304\" x=\"914.13375\" y=\"456.135455\" style=\"fill: #3f3f3f; stroke: #3f3f3f; stroke-linejoin: miter\"/>\n     <use xlink:href=\"#m946c25c304\" x=\"914.13375\" y=\"549.838485\" style=\"fill: #3f3f3f; stroke: #3f3f3f; stroke-linejoin: miter\"/>\n     <use xlink:href=\"#m946c25c304\" x=\"914.13375\" y=\"643.541515\" style=\"fill: #3f3f3f; stroke: #3f3f3f; stroke-linejoin: miter\"/>\n     <use xlink:href=\"#m946c25c304\" x=\"914.13375\" y=\"643.541515\" style=\"fill: #3f3f3f; stroke: #3f3f3f; stroke-linejoin: miter\"/>\n     <use xlink:href=\"#m946c25c304\" x=\"914.13375\" y=\"643.541515\" style=\"fill: #3f3f3f; stroke: #3f3f3f; stroke-linejoin: miter\"/>\n     <use xlink:href=\"#m946c25c304\" x=\"914.13375\" y=\"643.541515\" style=\"fill: #3f3f3f; stroke: #3f3f3f; stroke-linejoin: miter\"/>\n     <use xlink:href=\"#m946c25c304\" x=\"914.13375\" y=\"643.541515\" style=\"fill: #3f3f3f; stroke: #3f3f3f; stroke-linejoin: miter\"/>\n     <use xlink:href=\"#m946c25c304\" x=\"914.13375\" y=\"456.135455\" style=\"fill: #3f3f3f; stroke: #3f3f3f; stroke-linejoin: miter\"/>\n     <use xlink:href=\"#m946c25c304\" x=\"914.13375\" y=\"549.838485\" style=\"fill: #3f3f3f; stroke: #3f3f3f; stroke-linejoin: miter\"/>\n     <use xlink:href=\"#m946c25c304\" x=\"914.13375\" y=\"549.838485\" style=\"fill: #3f3f3f; stroke: #3f3f3f; stroke-linejoin: miter\"/>\n     <use xlink:href=\"#m946c25c304\" x=\"914.13375\" y=\"549.838485\" style=\"fill: #3f3f3f; stroke: #3f3f3f; stroke-linejoin: miter\"/>\n     <use xlink:href=\"#m946c25c304\" x=\"914.13375\" y=\"643.541515\" style=\"fill: #3f3f3f; stroke: #3f3f3f; stroke-linejoin: miter\"/>\n     <use xlink:href=\"#m946c25c304\" x=\"914.13375\" y=\"549.838485\" style=\"fill: #3f3f3f; stroke: #3f3f3f; stroke-linejoin: miter\"/>\n     <use xlink:href=\"#m946c25c304\" x=\"914.13375\" y=\"456.135455\" style=\"fill: #3f3f3f; stroke: #3f3f3f; stroke-linejoin: miter\"/>\n     <use xlink:href=\"#m946c25c304\" x=\"914.13375\" y=\"456.135455\" style=\"fill: #3f3f3f; stroke: #3f3f3f; stroke-linejoin: miter\"/>\n     <use xlink:href=\"#m946c25c304\" x=\"914.13375\" y=\"456.135455\" style=\"fill: #3f3f3f; stroke: #3f3f3f; stroke-linejoin: miter\"/>\n     <use xlink:href=\"#m946c25c304\" x=\"914.13375\" y=\"456.135455\" style=\"fill: #3f3f3f; stroke: #3f3f3f; stroke-linejoin: miter\"/>\n     <use xlink:href=\"#m946c25c304\" x=\"914.13375\" y=\"643.541515\" style=\"fill: #3f3f3f; stroke: #3f3f3f; stroke-linejoin: miter\"/>\n     <use xlink:href=\"#m946c25c304\" x=\"914.13375\" y=\"549.838485\" style=\"fill: #3f3f3f; stroke: #3f3f3f; stroke-linejoin: miter\"/>\n     <use xlink:href=\"#m946c25c304\" x=\"914.13375\" y=\"456.135455\" style=\"fill: #3f3f3f; stroke: #3f3f3f; stroke-linejoin: miter\"/>\n     <use xlink:href=\"#m946c25c304\" x=\"914.13375\" y=\"456.135455\" style=\"fill: #3f3f3f; stroke: #3f3f3f; stroke-linejoin: miter\"/>\n     <use xlink:href=\"#m946c25c304\" x=\"914.13375\" y=\"643.541515\" style=\"fill: #3f3f3f; stroke: #3f3f3f; stroke-linejoin: miter\"/>\n     <use xlink:href=\"#m946c25c304\" x=\"914.13375\" y=\"549.838485\" style=\"fill: #3f3f3f; stroke: #3f3f3f; stroke-linejoin: miter\"/>\n     <use xlink:href=\"#m946c25c304\" x=\"914.13375\" y=\"549.838485\" style=\"fill: #3f3f3f; stroke: #3f3f3f; stroke-linejoin: miter\"/>\n     <use xlink:href=\"#m946c25c304\" x=\"914.13375\" y=\"643.541515\" style=\"fill: #3f3f3f; stroke: #3f3f3f; stroke-linejoin: miter\"/>\n     <use xlink:href=\"#m946c25c304\" x=\"914.13375\" y=\"456.135455\" style=\"fill: #3f3f3f; stroke: #3f3f3f; stroke-linejoin: miter\"/>\n     <use xlink:href=\"#m946c25c304\" x=\"914.13375\" y=\"643.541515\" style=\"fill: #3f3f3f; stroke: #3f3f3f; stroke-linejoin: miter\"/>\n     <use xlink:href=\"#m946c25c304\" x=\"914.13375\" y=\"549.838485\" style=\"fill: #3f3f3f; stroke: #3f3f3f; stroke-linejoin: miter\"/>\n     <use xlink:href=\"#m946c25c304\" x=\"914.13375\" y=\"456.135455\" style=\"fill: #3f3f3f; stroke: #3f3f3f; stroke-linejoin: miter\"/>\n     <use xlink:href=\"#m946c25c304\" x=\"914.13375\" y=\"643.541515\" style=\"fill: #3f3f3f; stroke: #3f3f3f; stroke-linejoin: miter\"/>\n     <use xlink:href=\"#m946c25c304\" x=\"914.13375\" y=\"643.541515\" style=\"fill: #3f3f3f; stroke: #3f3f3f; stroke-linejoin: miter\"/>\n     <use xlink:href=\"#m946c25c304\" x=\"914.13375\" y=\"456.135455\" style=\"fill: #3f3f3f; stroke: #3f3f3f; stroke-linejoin: miter\"/>\n     <use xlink:href=\"#m946c25c304\" x=\"914.13375\" y=\"643.541515\" style=\"fill: #3f3f3f; stroke: #3f3f3f; stroke-linejoin: miter\"/>\n     <use xlink:href=\"#m946c25c304\" x=\"914.13375\" y=\"549.838485\" style=\"fill: #3f3f3f; stroke: #3f3f3f; stroke-linejoin: miter\"/>\n     <use xlink:href=\"#m946c25c304\" x=\"914.13375\" y=\"643.541515\" style=\"fill: #3f3f3f; stroke: #3f3f3f; stroke-linejoin: miter\"/>\n     <use xlink:href=\"#m946c25c304\" x=\"914.13375\" y=\"643.541515\" style=\"fill: #3f3f3f; stroke: #3f3f3f; stroke-linejoin: miter\"/>\n     <use xlink:href=\"#m946c25c304\" x=\"914.13375\" y=\"643.541515\" style=\"fill: #3f3f3f; stroke: #3f3f3f; stroke-linejoin: miter\"/>\n     <use xlink:href=\"#m946c25c304\" x=\"914.13375\" y=\"643.541515\" style=\"fill: #3f3f3f; stroke: #3f3f3f; stroke-linejoin: miter\"/>\n     <use xlink:href=\"#m946c25c304\" x=\"914.13375\" y=\"456.135455\" style=\"fill: #3f3f3f; stroke: #3f3f3f; stroke-linejoin: miter\"/>\n     <use xlink:href=\"#m946c25c304\" x=\"914.13375\" y=\"643.541515\" style=\"fill: #3f3f3f; stroke: #3f3f3f; stroke-linejoin: miter\"/>\n     <use xlink:href=\"#m946c25c304\" x=\"914.13375\" y=\"643.541515\" style=\"fill: #3f3f3f; stroke: #3f3f3f; stroke-linejoin: miter\"/>\n     <use xlink:href=\"#m946c25c304\" x=\"914.13375\" y=\"643.541515\" style=\"fill: #3f3f3f; stroke: #3f3f3f; stroke-linejoin: miter\"/>\n     <use xlink:href=\"#m946c25c304\" x=\"914.13375\" y=\"643.541515\" style=\"fill: #3f3f3f; stroke: #3f3f3f; stroke-linejoin: miter\"/>\n     <use xlink:href=\"#m946c25c304\" x=\"914.13375\" y=\"549.838485\" style=\"fill: #3f3f3f; stroke: #3f3f3f; stroke-linejoin: miter\"/>\n     <use xlink:href=\"#m946c25c304\" x=\"914.13375\" y=\"643.541515\" style=\"fill: #3f3f3f; stroke: #3f3f3f; stroke-linejoin: miter\"/>\n     <use xlink:href=\"#m946c25c304\" x=\"914.13375\" y=\"643.541515\" style=\"fill: #3f3f3f; stroke: #3f3f3f; stroke-linejoin: miter\"/>\n     <use xlink:href=\"#m946c25c304\" x=\"914.13375\" y=\"643.541515\" style=\"fill: #3f3f3f; stroke: #3f3f3f; stroke-linejoin: miter\"/>\n     <use xlink:href=\"#m946c25c304\" x=\"914.13375\" y=\"643.541515\" style=\"fill: #3f3f3f; stroke: #3f3f3f; stroke-linejoin: miter\"/>\n     <use xlink:href=\"#m946c25c304\" x=\"914.13375\" y=\"643.541515\" style=\"fill: #3f3f3f; stroke: #3f3f3f; stroke-linejoin: miter\"/>\n     <use xlink:href=\"#m946c25c304\" x=\"914.13375\" y=\"643.541515\" style=\"fill: #3f3f3f; stroke: #3f3f3f; stroke-linejoin: miter\"/>\n     <use xlink:href=\"#m946c25c304\" x=\"914.13375\" y=\"643.541515\" style=\"fill: #3f3f3f; stroke: #3f3f3f; stroke-linejoin: miter\"/>\n     <use xlink:href=\"#m946c25c304\" x=\"914.13375\" y=\"643.541515\" style=\"fill: #3f3f3f; stroke: #3f3f3f; stroke-linejoin: miter\"/>\n     <use xlink:href=\"#m946c25c304\" x=\"914.13375\" y=\"643.541515\" style=\"fill: #3f3f3f; stroke: #3f3f3f; stroke-linejoin: miter\"/>\n     <use xlink:href=\"#m946c25c304\" x=\"914.13375\" y=\"643.541515\" style=\"fill: #3f3f3f; stroke: #3f3f3f; stroke-linejoin: miter\"/>\n     <use xlink:href=\"#m946c25c304\" x=\"914.13375\" y=\"643.541515\" style=\"fill: #3f3f3f; stroke: #3f3f3f; stroke-linejoin: miter\"/>\n     <use xlink:href=\"#m946c25c304\" x=\"914.13375\" y=\"549.838485\" style=\"fill: #3f3f3f; stroke: #3f3f3f; stroke-linejoin: miter\"/>\n     <use xlink:href=\"#m946c25c304\" x=\"914.13375\" y=\"643.541515\" style=\"fill: #3f3f3f; stroke: #3f3f3f; stroke-linejoin: miter\"/>\n     <use xlink:href=\"#m946c25c304\" x=\"914.13375\" y=\"643.541515\" style=\"fill: #3f3f3f; stroke: #3f3f3f; stroke-linejoin: miter\"/>\n     <use xlink:href=\"#m946c25c304\" x=\"914.13375\" y=\"643.541515\" style=\"fill: #3f3f3f; stroke: #3f3f3f; stroke-linejoin: miter\"/>\n     <use xlink:href=\"#m946c25c304\" x=\"914.13375\" y=\"643.541515\" style=\"fill: #3f3f3f; stroke: #3f3f3f; stroke-linejoin: miter\"/>\n     <use xlink:href=\"#m946c25c304\" x=\"914.13375\" y=\"643.541515\" style=\"fill: #3f3f3f; stroke: #3f3f3f; stroke-linejoin: miter\"/>\n     <use xlink:href=\"#m946c25c304\" x=\"914.13375\" y=\"643.541515\" style=\"fill: #3f3f3f; stroke: #3f3f3f; stroke-linejoin: miter\"/>\n     <use xlink:href=\"#m946c25c304\" x=\"914.13375\" y=\"456.135455\" style=\"fill: #3f3f3f; stroke: #3f3f3f; stroke-linejoin: miter\"/>\n     <use xlink:href=\"#m946c25c304\" x=\"914.13375\" y=\"643.541515\" style=\"fill: #3f3f3f; stroke: #3f3f3f; stroke-linejoin: miter\"/>\n     <use xlink:href=\"#m946c25c304\" x=\"914.13375\" y=\"643.541515\" style=\"fill: #3f3f3f; stroke: #3f3f3f; stroke-linejoin: miter\"/>\n     <use xlink:href=\"#m946c25c304\" x=\"914.13375\" y=\"643.541515\" style=\"fill: #3f3f3f; stroke: #3f3f3f; stroke-linejoin: miter\"/>\n     <use xlink:href=\"#m946c25c304\" x=\"914.13375\" y=\"643.541515\" style=\"fill: #3f3f3f; stroke: #3f3f3f; stroke-linejoin: miter\"/>\n     <use xlink:href=\"#m946c25c304\" x=\"914.13375\" y=\"549.838485\" style=\"fill: #3f3f3f; stroke: #3f3f3f; stroke-linejoin: miter\"/>\n     <use xlink:href=\"#m946c25c304\" x=\"914.13375\" y=\"549.838485\" style=\"fill: #3f3f3f; stroke: #3f3f3f; stroke-linejoin: miter\"/>\n     <use xlink:href=\"#m946c25c304\" x=\"914.13375\" y=\"643.541515\" style=\"fill: #3f3f3f; stroke: #3f3f3f; stroke-linejoin: miter\"/>\n     <use xlink:href=\"#m946c25c304\" x=\"914.13375\" y=\"643.541515\" style=\"fill: #3f3f3f; stroke: #3f3f3f; stroke-linejoin: miter\"/>\n     <use xlink:href=\"#m946c25c304\" x=\"914.13375\" y=\"643.541515\" style=\"fill: #3f3f3f; stroke: #3f3f3f; stroke-linejoin: miter\"/>\n     <use xlink:href=\"#m946c25c304\" x=\"914.13375\" y=\"643.541515\" style=\"fill: #3f3f3f; stroke: #3f3f3f; stroke-linejoin: miter\"/>\n     <use xlink:href=\"#m946c25c304\" x=\"914.13375\" y=\"549.838485\" style=\"fill: #3f3f3f; stroke: #3f3f3f; stroke-linejoin: miter\"/>\n     <use xlink:href=\"#m946c25c304\" x=\"914.13375\" y=\"456.135455\" style=\"fill: #3f3f3f; stroke: #3f3f3f; stroke-linejoin: miter\"/>\n    </g>\n   </g>\n   <g id=\"line2d_89\">\n    <path d=\"M 793.18175 737.244545 \nL 1035.08575 737.244545 \n\" clip-path=\"url(#p187abaa70f)\" style=\"fill: none; stroke: #3f3f3f; stroke-width: 1.5; stroke-linecap: square\"/>\n   </g>\n   <g id=\"patch_34\">\n    <path d=\"M 762.94375 751.3 \nL 762.94375 442.08 \n\" style=\"fill: none; stroke: #000000; stroke-width: 0.8; stroke-linejoin: miter; stroke-linecap: square\"/>\n   </g>\n   <g id=\"patch_35\">\n    <path d=\"M 1065.32375 751.3 \nL 1065.32375 442.08 \n\" style=\"fill: none; stroke: #000000; stroke-width: 0.8; stroke-linejoin: miter; stroke-linecap: square\"/>\n   </g>\n   <g id=\"patch_36\">\n    <path d=\"M 762.94375 751.3 \nL 1065.32375 751.3 \n\" style=\"fill: none; stroke: #000000; stroke-width: 0.8; stroke-linejoin: miter; stroke-linecap: square\"/>\n   </g>\n   <g id=\"patch_37\">\n    <path d=\"M 762.94375 442.08 \nL 1065.32375 442.08 \n\" style=\"fill: none; stroke: #000000; stroke-width: 0.8; stroke-linejoin: miter; stroke-linecap: square\"/>\n   </g>\n   <g id=\"text_59\">\n    <!-- Box Plot para failures -->\n    <g transform=\"translate(850.249687 436.08) scale(0.12 -0.12)\">\n     <use xlink:href=\"#DejaVuSans-42\"/>\n     <use xlink:href=\"#DejaVuSans-6f\" x=\"68.603516\"/>\n     <use xlink:href=\"#DejaVuSans-78\" x=\"126.660156\"/>\n     <use xlink:href=\"#DejaVuSans-20\" x=\"185.839844\"/>\n     <use xlink:href=\"#DejaVuSans-50\" x=\"217.626953\"/>\n     <use xlink:href=\"#DejaVuSans-6c\" x=\"277.929688\"/>\n     <use xlink:href=\"#DejaVuSans-6f\" x=\"305.712891\"/>\n     <use xlink:href=\"#DejaVuSans-74\" x=\"366.894531\"/>\n     <use xlink:href=\"#DejaVuSans-20\" x=\"406.103516\"/>\n     <use xlink:href=\"#DejaVuSans-70\" x=\"437.890625\"/>\n     <use xlink:href=\"#DejaVuSans-61\" x=\"501.367188\"/>\n     <use xlink:href=\"#DejaVuSans-72\" x=\"562.646484\"/>\n     <use xlink:href=\"#DejaVuSans-61\" x=\"603.759766\"/>\n     <use xlink:href=\"#DejaVuSans-20\" x=\"665.039062\"/>\n     <use xlink:href=\"#DejaVuSans-66\" x=\"696.826172\"/>\n     <use xlink:href=\"#DejaVuSans-61\" x=\"732.03125\"/>\n     <use xlink:href=\"#DejaVuSans-69\" x=\"793.310547\"/>\n     <use xlink:href=\"#DejaVuSans-6c\" x=\"821.09375\"/>\n     <use xlink:href=\"#DejaVuSans-75\" x=\"848.876953\"/>\n     <use xlink:href=\"#DejaVuSans-72\" x=\"912.255859\"/>\n     <use xlink:href=\"#DejaVuSans-65\" x=\"951.119141\"/>\n     <use xlink:href=\"#DejaVuSans-73\" x=\"1012.642578\"/>\n    </g>\n   </g>\n  </g>\n  <g id=\"axes_7\">\n   <g id=\"patch_38\">\n    <path d=\"M 50.14375 1090.9 \nL 352.52375 1090.9 \nL 352.52375 781.68 \nL 50.14375 781.68 \nz\n\" style=\"fill: #ffffff\"/>\n   </g>\n   <g id=\"patch_39\">\n    <path d=\"M 80.38175 866.012727 \nL 322.28575 866.012727 \nL 322.28575 795.735455 \nL 80.38175 795.735455 \nL 80.38175 866.012727 \nz\n\" clip-path=\"url(#pdb1180774b)\" style=\"fill: #3274a1; stroke: #3f3f3f; stroke-width: 1.5; stroke-linejoin: miter\"/>\n   </g>\n   <g id=\"matplotlib.axis_13\">\n    <g id=\"xtick_7\">\n     <g id=\"line2d_90\">\n      <g>\n       <use xlink:href=\"#m66ac7727a7\" x=\"201.33375\" y=\"1090.9\" style=\"stroke: #000000; stroke-width: 0.8\"/>\n      </g>\n     </g>\n    </g>\n   </g>\n   <g id=\"matplotlib.axis_14\">\n    <g id=\"ytick_48\">\n     <g id=\"line2d_91\">\n      <g>\n       <use xlink:href=\"#mbd7f2e0b6a\" x=\"50.14375\" y=\"1076.844545\" style=\"stroke: #000000; stroke-width: 0.8\"/>\n      </g>\n     </g>\n     <g id=\"text_60\">\n      <!-- 1.0 -->\n      <g transform=\"translate(27.240625 1080.643764) scale(0.1 -0.1)\">\n       <use xlink:href=\"#DejaVuSans-31\"/>\n       <use xlink:href=\"#DejaVuSans-2e\" x=\"63.623047\"/>\n       <use xlink:href=\"#DejaVuSans-30\" x=\"95.410156\"/>\n      </g>\n     </g>\n    </g>\n    <g id=\"ytick_49\">\n     <g id=\"line2d_92\">\n      <g>\n       <use xlink:href=\"#mbd7f2e0b6a\" x=\"50.14375\" y=\"1041.705909\" style=\"stroke: #000000; stroke-width: 0.8\"/>\n      </g>\n     </g>\n     <g id=\"text_61\">\n      <!-- 1.5 -->\n      <g transform=\"translate(27.240625 1045.505128) scale(0.1 -0.1)\">\n       <use xlink:href=\"#DejaVuSans-31\"/>\n       <use xlink:href=\"#DejaVuSans-2e\" x=\"63.623047\"/>\n       <use xlink:href=\"#DejaVuSans-35\" x=\"95.410156\"/>\n      </g>\n     </g>\n    </g>\n    <g id=\"ytick_50\">\n     <g id=\"line2d_93\">\n      <g>\n       <use xlink:href=\"#mbd7f2e0b6a\" x=\"50.14375\" y=\"1006.567273\" style=\"stroke: #000000; stroke-width: 0.8\"/>\n      </g>\n     </g>\n     <g id=\"text_62\">\n      <!-- 2.0 -->\n      <g transform=\"translate(27.240625 1010.366491) scale(0.1 -0.1)\">\n       <use xlink:href=\"#DejaVuSans-32\"/>\n       <use xlink:href=\"#DejaVuSans-2e\" x=\"63.623047\"/>\n       <use xlink:href=\"#DejaVuSans-30\" x=\"95.410156\"/>\n      </g>\n     </g>\n    </g>\n    <g id=\"ytick_51\">\n     <g id=\"line2d_94\">\n      <g>\n       <use xlink:href=\"#mbd7f2e0b6a\" x=\"50.14375\" y=\"971.428636\" style=\"stroke: #000000; stroke-width: 0.8\"/>\n      </g>\n     </g>\n     <g id=\"text_63\">\n      <!-- 2.5 -->\n      <g transform=\"translate(27.240625 975.227855) scale(0.1 -0.1)\">\n       <use xlink:href=\"#DejaVuSans-32\"/>\n       <use xlink:href=\"#DejaVuSans-2e\" x=\"63.623047\"/>\n       <use xlink:href=\"#DejaVuSans-35\" x=\"95.410156\"/>\n      </g>\n     </g>\n    </g>\n    <g id=\"ytick_52\">\n     <g id=\"line2d_95\">\n      <g>\n       <use xlink:href=\"#mbd7f2e0b6a\" x=\"50.14375\" y=\"936.29\" style=\"stroke: #000000; stroke-width: 0.8\"/>\n      </g>\n     </g>\n     <g id=\"text_64\">\n      <!-- 3.0 -->\n      <g transform=\"translate(27.240625 940.089219) scale(0.1 -0.1)\">\n       <use xlink:href=\"#DejaVuSans-33\"/>\n       <use xlink:href=\"#DejaVuSans-2e\" x=\"63.623047\"/>\n       <use xlink:href=\"#DejaVuSans-30\" x=\"95.410156\"/>\n      </g>\n     </g>\n    </g>\n    <g id=\"ytick_53\">\n     <g id=\"line2d_96\">\n      <g>\n       <use xlink:href=\"#mbd7f2e0b6a\" x=\"50.14375\" y=\"901.151364\" style=\"stroke: #000000; stroke-width: 0.8\"/>\n      </g>\n     </g>\n     <g id=\"text_65\">\n      <!-- 3.5 -->\n      <g transform=\"translate(27.240625 904.950582) scale(0.1 -0.1)\">\n       <use xlink:href=\"#DejaVuSans-33\"/>\n       <use xlink:href=\"#DejaVuSans-2e\" x=\"63.623047\"/>\n       <use xlink:href=\"#DejaVuSans-35\" x=\"95.410156\"/>\n      </g>\n     </g>\n    </g>\n    <g id=\"ytick_54\">\n     <g id=\"line2d_97\">\n      <g>\n       <use xlink:href=\"#mbd7f2e0b6a\" x=\"50.14375\" y=\"866.012727\" style=\"stroke: #000000; stroke-width: 0.8\"/>\n      </g>\n     </g>\n     <g id=\"text_66\">\n      <!-- 4.0 -->\n      <g transform=\"translate(27.240625 869.811946) scale(0.1 -0.1)\">\n       <use xlink:href=\"#DejaVuSans-34\"/>\n       <use xlink:href=\"#DejaVuSans-2e\" x=\"63.623047\"/>\n       <use xlink:href=\"#DejaVuSans-30\" x=\"95.410156\"/>\n      </g>\n     </g>\n    </g>\n    <g id=\"ytick_55\">\n     <g id=\"line2d_98\">\n      <g>\n       <use xlink:href=\"#mbd7f2e0b6a\" x=\"50.14375\" y=\"830.874091\" style=\"stroke: #000000; stroke-width: 0.8\"/>\n      </g>\n     </g>\n     <g id=\"text_67\">\n      <!-- 4.5 -->\n      <g transform=\"translate(27.240625 834.67331) scale(0.1 -0.1)\">\n       <use xlink:href=\"#DejaVuSans-34\"/>\n       <use xlink:href=\"#DejaVuSans-2e\" x=\"63.623047\"/>\n       <use xlink:href=\"#DejaVuSans-35\" x=\"95.410156\"/>\n      </g>\n     </g>\n    </g>\n    <g id=\"ytick_56\">\n     <g id=\"line2d_99\">\n      <g>\n       <use xlink:href=\"#mbd7f2e0b6a\" x=\"50.14375\" y=\"795.735455\" style=\"stroke: #000000; stroke-width: 0.8\"/>\n      </g>\n     </g>\n     <g id=\"text_68\">\n      <!-- 5.0 -->\n      <g transform=\"translate(27.240625 799.534673) scale(0.1 -0.1)\">\n       <use xlink:href=\"#DejaVuSans-35\"/>\n       <use xlink:href=\"#DejaVuSans-2e\" x=\"63.623047\"/>\n       <use xlink:href=\"#DejaVuSans-30\" x=\"95.410156\"/>\n      </g>\n     </g>\n    </g>\n    <g id=\"text_69\">\n     <!-- famrel -->\n     <g transform=\"translate(21.160937 952.393125) rotate(-90) scale(0.1 -0.1)\">\n      <use xlink:href=\"#DejaVuSans-66\"/>\n      <use xlink:href=\"#DejaVuSans-61\" x=\"35.205078\"/>\n      <use xlink:href=\"#DejaVuSans-6d\" x=\"96.484375\"/>\n      <use xlink:href=\"#DejaVuSans-72\" x=\"193.896484\"/>\n      <use xlink:href=\"#DejaVuSans-65\" x=\"232.759766\"/>\n      <use xlink:href=\"#DejaVuSans-6c\" x=\"294.283203\"/>\n     </g>\n    </g>\n   </g>\n   <g id=\"line2d_100\">\n    <path d=\"M 201.33375 866.012727 \nL 201.33375 936.29 \n\" clip-path=\"url(#pdb1180774b)\" style=\"fill: none; stroke: #3f3f3f; stroke-width: 1.5; stroke-linecap: square\"/>\n   </g>\n   <g id=\"line2d_101\">\n    <path d=\"M 201.33375 795.735455 \nL 201.33375 795.735455 \n\" clip-path=\"url(#pdb1180774b)\" style=\"fill: none; stroke: #3f3f3f; stroke-width: 1.5; stroke-linecap: square\"/>\n   </g>\n   <g id=\"line2d_102\">\n    <path d=\"M 140.85775 936.29 \nL 261.80975 936.29 \n\" clip-path=\"url(#pdb1180774b)\" style=\"fill: none; stroke: #3f3f3f; stroke-width: 1.5; stroke-linecap: square\"/>\n   </g>\n   <g id=\"line2d_103\">\n    <path d=\"M 140.85775 795.735455 \nL 261.80975 795.735455 \n\" clip-path=\"url(#pdb1180774b)\" style=\"fill: none; stroke: #3f3f3f; stroke-width: 1.5; stroke-linecap: square\"/>\n   </g>\n   <g id=\"line2d_104\">\n    <g clip-path=\"url(#pdb1180774b)\">\n     <use xlink:href=\"#m946c25c304\" x=\"201.33375\" y=\"1076.844545\" style=\"fill: #3f3f3f; stroke: #3f3f3f; stroke-linejoin: miter\"/>\n     <use xlink:href=\"#m946c25c304\" x=\"201.33375\" y=\"1006.567273\" style=\"fill: #3f3f3f; stroke: #3f3f3f; stroke-linejoin: miter\"/>\n     <use xlink:href=\"#m946c25c304\" x=\"201.33375\" y=\"1006.567273\" style=\"fill: #3f3f3f; stroke: #3f3f3f; stroke-linejoin: miter\"/>\n     <use xlink:href=\"#m946c25c304\" x=\"201.33375\" y=\"1006.567273\" style=\"fill: #3f3f3f; stroke: #3f3f3f; stroke-linejoin: miter\"/>\n     <use xlink:href=\"#m946c25c304\" x=\"201.33375\" y=\"1006.567273\" style=\"fill: #3f3f3f; stroke: #3f3f3f; stroke-linejoin: miter\"/>\n     <use xlink:href=\"#m946c25c304\" x=\"201.33375\" y=\"1076.844545\" style=\"fill: #3f3f3f; stroke: #3f3f3f; stroke-linejoin: miter\"/>\n     <use xlink:href=\"#m946c25c304\" x=\"201.33375\" y=\"1006.567273\" style=\"fill: #3f3f3f; stroke: #3f3f3f; stroke-linejoin: miter\"/>\n     <use xlink:href=\"#m946c25c304\" x=\"201.33375\" y=\"1076.844545\" style=\"fill: #3f3f3f; stroke: #3f3f3f; stroke-linejoin: miter\"/>\n     <use xlink:href=\"#m946c25c304\" x=\"201.33375\" y=\"1006.567273\" style=\"fill: #3f3f3f; stroke: #3f3f3f; stroke-linejoin: miter\"/>\n     <use xlink:href=\"#m946c25c304\" x=\"201.33375\" y=\"1006.567273\" style=\"fill: #3f3f3f; stroke: #3f3f3f; stroke-linejoin: miter\"/>\n     <use xlink:href=\"#m946c25c304\" x=\"201.33375\" y=\"1006.567273\" style=\"fill: #3f3f3f; stroke: #3f3f3f; stroke-linejoin: miter\"/>\n     <use xlink:href=\"#m946c25c304\" x=\"201.33375\" y=\"1006.567273\" style=\"fill: #3f3f3f; stroke: #3f3f3f; stroke-linejoin: miter\"/>\n     <use xlink:href=\"#m946c25c304\" x=\"201.33375\" y=\"1076.844545\" style=\"fill: #3f3f3f; stroke: #3f3f3f; stroke-linejoin: miter\"/>\n     <use xlink:href=\"#m946c25c304\" x=\"201.33375\" y=\"1006.567273\" style=\"fill: #3f3f3f; stroke: #3f3f3f; stroke-linejoin: miter\"/>\n     <use xlink:href=\"#m946c25c304\" x=\"201.33375\" y=\"1076.844545\" style=\"fill: #3f3f3f; stroke: #3f3f3f; stroke-linejoin: miter\"/>\n     <use xlink:href=\"#m946c25c304\" x=\"201.33375\" y=\"1006.567273\" style=\"fill: #3f3f3f; stroke: #3f3f3f; stroke-linejoin: miter\"/>\n     <use xlink:href=\"#m946c25c304\" x=\"201.33375\" y=\"1006.567273\" style=\"fill: #3f3f3f; stroke: #3f3f3f; stroke-linejoin: miter\"/>\n     <use xlink:href=\"#m946c25c304\" x=\"201.33375\" y=\"1006.567273\" style=\"fill: #3f3f3f; stroke: #3f3f3f; stroke-linejoin: miter\"/>\n     <use xlink:href=\"#m946c25c304\" x=\"201.33375\" y=\"1006.567273\" style=\"fill: #3f3f3f; stroke: #3f3f3f; stroke-linejoin: miter\"/>\n     <use xlink:href=\"#m946c25c304\" x=\"201.33375\" y=\"1006.567273\" style=\"fill: #3f3f3f; stroke: #3f3f3f; stroke-linejoin: miter\"/>\n     <use xlink:href=\"#m946c25c304\" x=\"201.33375\" y=\"1076.844545\" style=\"fill: #3f3f3f; stroke: #3f3f3f; stroke-linejoin: miter\"/>\n     <use xlink:href=\"#m946c25c304\" x=\"201.33375\" y=\"1006.567273\" style=\"fill: #3f3f3f; stroke: #3f3f3f; stroke-linejoin: miter\"/>\n     <use xlink:href=\"#m946c25c304\" x=\"201.33375\" y=\"1076.844545\" style=\"fill: #3f3f3f; stroke: #3f3f3f; stroke-linejoin: miter\"/>\n     <use xlink:href=\"#m946c25c304\" x=\"201.33375\" y=\"1006.567273\" style=\"fill: #3f3f3f; stroke: #3f3f3f; stroke-linejoin: miter\"/>\n     <use xlink:href=\"#m946c25c304\" x=\"201.33375\" y=\"1076.844545\" style=\"fill: #3f3f3f; stroke: #3f3f3f; stroke-linejoin: miter\"/>\n     <use xlink:href=\"#m946c25c304\" x=\"201.33375\" y=\"1006.567273\" style=\"fill: #3f3f3f; stroke: #3f3f3f; stroke-linejoin: miter\"/>\n    </g>\n   </g>\n   <g id=\"line2d_105\">\n    <path d=\"M 80.38175 866.012727 \nL 322.28575 866.012727 \n\" clip-path=\"url(#pdb1180774b)\" style=\"fill: none; stroke: #3f3f3f; stroke-width: 1.5; stroke-linecap: square\"/>\n   </g>\n   <g id=\"patch_40\">\n    <path d=\"M 50.14375 1090.9 \nL 50.14375 781.68 \n\" style=\"fill: none; stroke: #000000; stroke-width: 0.8; stroke-linejoin: miter; stroke-linecap: square\"/>\n   </g>\n   <g id=\"patch_41\">\n    <path d=\"M 352.52375 1090.9 \nL 352.52375 781.68 \n\" style=\"fill: none; stroke: #000000; stroke-width: 0.8; stroke-linejoin: miter; stroke-linecap: square\"/>\n   </g>\n   <g id=\"patch_42\">\n    <path d=\"M 50.14375 1090.9 \nL 352.52375 1090.9 \n\" style=\"fill: none; stroke: #000000; stroke-width: 0.8; stroke-linejoin: miter; stroke-linecap: square\"/>\n   </g>\n   <g id=\"patch_43\">\n    <path d=\"M 50.14375 781.68 \nL 352.52375 781.68 \n\" style=\"fill: none; stroke: #000000; stroke-width: 0.8; stroke-linejoin: miter; stroke-linecap: square\"/>\n   </g>\n   <g id=\"text_70\">\n    <!-- Box Plot para famrel -->\n    <g transform=\"translate(140.200312 775.68) scale(0.12 -0.12)\">\n     <use xlink:href=\"#DejaVuSans-42\"/>\n     <use xlink:href=\"#DejaVuSans-6f\" x=\"68.603516\"/>\n     <use xlink:href=\"#DejaVuSans-78\" x=\"126.660156\"/>\n     <use xlink:href=\"#DejaVuSans-20\" x=\"185.839844\"/>\n     <use xlink:href=\"#DejaVuSans-50\" x=\"217.626953\"/>\n     <use xlink:href=\"#DejaVuSans-6c\" x=\"277.929688\"/>\n     <use xlink:href=\"#DejaVuSans-6f\" x=\"305.712891\"/>\n     <use xlink:href=\"#DejaVuSans-74\" x=\"366.894531\"/>\n     <use xlink:href=\"#DejaVuSans-20\" x=\"406.103516\"/>\n     <use xlink:href=\"#DejaVuSans-70\" x=\"437.890625\"/>\n     <use xlink:href=\"#DejaVuSans-61\" x=\"501.367188\"/>\n     <use xlink:href=\"#DejaVuSans-72\" x=\"562.646484\"/>\n     <use xlink:href=\"#DejaVuSans-61\" x=\"603.759766\"/>\n     <use xlink:href=\"#DejaVuSans-20\" x=\"665.039062\"/>\n     <use xlink:href=\"#DejaVuSans-66\" x=\"696.826172\"/>\n     <use xlink:href=\"#DejaVuSans-61\" x=\"732.03125\"/>\n     <use xlink:href=\"#DejaVuSans-6d\" x=\"793.310547\"/>\n     <use xlink:href=\"#DejaVuSans-72\" x=\"890.722656\"/>\n     <use xlink:href=\"#DejaVuSans-65\" x=\"929.585938\"/>\n     <use xlink:href=\"#DejaVuSans-6c\" x=\"991.109375\"/>\n    </g>\n   </g>\n  </g>\n  <g id=\"axes_8\">\n   <g id=\"patch_44\">\n    <path d=\"M 406.54375 1090.9 \nL 708.92375 1090.9 \nL 708.92375 781.68 \nL 406.54375 781.68 \nz\n\" style=\"fill: #ffffff\"/>\n   </g>\n   <g id=\"patch_45\">\n    <path d=\"M 436.78175 936.29 \nL 678.68575 936.29 \nL 678.68575 866.012727 \nL 436.78175 866.012727 \nL 436.78175 936.29 \nz\n\" clip-path=\"url(#p02bff96783)\" style=\"fill: #3274a1; stroke: #3f3f3f; stroke-width: 1.5; stroke-linejoin: miter\"/>\n   </g>\n   <g id=\"matplotlib.axis_15\">\n    <g id=\"xtick_8\">\n     <g id=\"line2d_106\">\n      <g>\n       <use xlink:href=\"#m66ac7727a7\" x=\"557.73375\" y=\"1090.9\" style=\"stroke: #000000; stroke-width: 0.8\"/>\n      </g>\n     </g>\n    </g>\n   </g>\n   <g id=\"matplotlib.axis_16\">\n    <g id=\"ytick_57\">\n     <g id=\"line2d_107\">\n      <g>\n       <use xlink:href=\"#mbd7f2e0b6a\" x=\"406.54375\" y=\"1076.844545\" style=\"stroke: #000000; stroke-width: 0.8\"/>\n      </g>\n     </g>\n     <g id=\"text_71\">\n      <!-- 1.0 -->\n      <g transform=\"translate(383.640625 1080.643764) scale(0.1 -0.1)\">\n       <use xlink:href=\"#DejaVuSans-31\"/>\n       <use xlink:href=\"#DejaVuSans-2e\" x=\"63.623047\"/>\n       <use xlink:href=\"#DejaVuSans-30\" x=\"95.410156\"/>\n      </g>\n     </g>\n    </g>\n    <g id=\"ytick_58\">\n     <g id=\"line2d_108\">\n      <g>\n       <use xlink:href=\"#mbd7f2e0b6a\" x=\"406.54375\" y=\"1041.705909\" style=\"stroke: #000000; stroke-width: 0.8\"/>\n      </g>\n     </g>\n     <g id=\"text_72\">\n      <!-- 1.5 -->\n      <g transform=\"translate(383.640625 1045.505128) scale(0.1 -0.1)\">\n       <use xlink:href=\"#DejaVuSans-31\"/>\n       <use xlink:href=\"#DejaVuSans-2e\" x=\"63.623047\"/>\n       <use xlink:href=\"#DejaVuSans-35\" x=\"95.410156\"/>\n      </g>\n     </g>\n    </g>\n    <g id=\"ytick_59\">\n     <g id=\"line2d_109\">\n      <g>\n       <use xlink:href=\"#mbd7f2e0b6a\" x=\"406.54375\" y=\"1006.567273\" style=\"stroke: #000000; stroke-width: 0.8\"/>\n      </g>\n     </g>\n     <g id=\"text_73\">\n      <!-- 2.0 -->\n      <g transform=\"translate(383.640625 1010.366491) scale(0.1 -0.1)\">\n       <use xlink:href=\"#DejaVuSans-32\"/>\n       <use xlink:href=\"#DejaVuSans-2e\" x=\"63.623047\"/>\n       <use xlink:href=\"#DejaVuSans-30\" x=\"95.410156\"/>\n      </g>\n     </g>\n    </g>\n    <g id=\"ytick_60\">\n     <g id=\"line2d_110\">\n      <g>\n       <use xlink:href=\"#mbd7f2e0b6a\" x=\"406.54375\" y=\"971.428636\" style=\"stroke: #000000; stroke-width: 0.8\"/>\n      </g>\n     </g>\n     <g id=\"text_74\">\n      <!-- 2.5 -->\n      <g transform=\"translate(383.640625 975.227855) scale(0.1 -0.1)\">\n       <use xlink:href=\"#DejaVuSans-32\"/>\n       <use xlink:href=\"#DejaVuSans-2e\" x=\"63.623047\"/>\n       <use xlink:href=\"#DejaVuSans-35\" x=\"95.410156\"/>\n      </g>\n     </g>\n    </g>\n    <g id=\"ytick_61\">\n     <g id=\"line2d_111\">\n      <g>\n       <use xlink:href=\"#mbd7f2e0b6a\" x=\"406.54375\" y=\"936.29\" style=\"stroke: #000000; stroke-width: 0.8\"/>\n      </g>\n     </g>\n     <g id=\"text_75\">\n      <!-- 3.0 -->\n      <g transform=\"translate(383.640625 940.089219) scale(0.1 -0.1)\">\n       <use xlink:href=\"#DejaVuSans-33\"/>\n       <use xlink:href=\"#DejaVuSans-2e\" x=\"63.623047\"/>\n       <use xlink:href=\"#DejaVuSans-30\" x=\"95.410156\"/>\n      </g>\n     </g>\n    </g>\n    <g id=\"ytick_62\">\n     <g id=\"line2d_112\">\n      <g>\n       <use xlink:href=\"#mbd7f2e0b6a\" x=\"406.54375\" y=\"901.151364\" style=\"stroke: #000000; stroke-width: 0.8\"/>\n      </g>\n     </g>\n     <g id=\"text_76\">\n      <!-- 3.5 -->\n      <g transform=\"translate(383.640625 904.950582) scale(0.1 -0.1)\">\n       <use xlink:href=\"#DejaVuSans-33\"/>\n       <use xlink:href=\"#DejaVuSans-2e\" x=\"63.623047\"/>\n       <use xlink:href=\"#DejaVuSans-35\" x=\"95.410156\"/>\n      </g>\n     </g>\n    </g>\n    <g id=\"ytick_63\">\n     <g id=\"line2d_113\">\n      <g>\n       <use xlink:href=\"#mbd7f2e0b6a\" x=\"406.54375\" y=\"866.012727\" style=\"stroke: #000000; stroke-width: 0.8\"/>\n      </g>\n     </g>\n     <g id=\"text_77\">\n      <!-- 4.0 -->\n      <g transform=\"translate(383.640625 869.811946) scale(0.1 -0.1)\">\n       <use xlink:href=\"#DejaVuSans-34\"/>\n       <use xlink:href=\"#DejaVuSans-2e\" x=\"63.623047\"/>\n       <use xlink:href=\"#DejaVuSans-30\" x=\"95.410156\"/>\n      </g>\n     </g>\n    </g>\n    <g id=\"ytick_64\">\n     <g id=\"line2d_114\">\n      <g>\n       <use xlink:href=\"#mbd7f2e0b6a\" x=\"406.54375\" y=\"830.874091\" style=\"stroke: #000000; stroke-width: 0.8\"/>\n      </g>\n     </g>\n     <g id=\"text_78\">\n      <!-- 4.5 -->\n      <g transform=\"translate(383.640625 834.67331) scale(0.1 -0.1)\">\n       <use xlink:href=\"#DejaVuSans-34\"/>\n       <use xlink:href=\"#DejaVuSans-2e\" x=\"63.623047\"/>\n       <use xlink:href=\"#DejaVuSans-35\" x=\"95.410156\"/>\n      </g>\n     </g>\n    </g>\n    <g id=\"ytick_65\">\n     <g id=\"line2d_115\">\n      <g>\n       <use xlink:href=\"#mbd7f2e0b6a\" x=\"406.54375\" y=\"795.735455\" style=\"stroke: #000000; stroke-width: 0.8\"/>\n      </g>\n     </g>\n     <g id=\"text_79\">\n      <!-- 5.0 -->\n      <g transform=\"translate(383.640625 799.534673) scale(0.1 -0.1)\">\n       <use xlink:href=\"#DejaVuSans-35\"/>\n       <use xlink:href=\"#DejaVuSans-2e\" x=\"63.623047\"/>\n       <use xlink:href=\"#DejaVuSans-30\" x=\"95.410156\"/>\n      </g>\n     </g>\n    </g>\n    <g id=\"text_80\">\n     <!-- freetime -->\n     <g transform=\"translate(377.560938 957.442344) rotate(-90) scale(0.1 -0.1)\">\n      <use xlink:href=\"#DejaVuSans-66\"/>\n      <use xlink:href=\"#DejaVuSans-72\" x=\"35.205078\"/>\n      <use xlink:href=\"#DejaVuSans-65\" x=\"74.068359\"/>\n      <use xlink:href=\"#DejaVuSans-65\" x=\"135.591797\"/>\n      <use xlink:href=\"#DejaVuSans-74\" x=\"197.115234\"/>\n      <use xlink:href=\"#DejaVuSans-69\" x=\"236.324219\"/>\n      <use xlink:href=\"#DejaVuSans-6d\" x=\"264.107422\"/>\n      <use xlink:href=\"#DejaVuSans-65\" x=\"361.519531\"/>\n     </g>\n    </g>\n   </g>\n   <g id=\"line2d_116\">\n    <path d=\"M 557.73375 936.29 \nL 557.73375 1006.567273 \n\" clip-path=\"url(#p02bff96783)\" style=\"fill: none; stroke: #3f3f3f; stroke-width: 1.5; stroke-linecap: square\"/>\n   </g>\n   <g id=\"line2d_117\">\n    <path d=\"M 557.73375 866.012727 \nL 557.73375 795.735455 \n\" clip-path=\"url(#p02bff96783)\" style=\"fill: none; stroke: #3f3f3f; stroke-width: 1.5; stroke-linecap: square\"/>\n   </g>\n   <g id=\"line2d_118\">\n    <path d=\"M 497.25775 1006.567273 \nL 618.20975 1006.567273 \n\" clip-path=\"url(#p02bff96783)\" style=\"fill: none; stroke: #3f3f3f; stroke-width: 1.5; stroke-linecap: square\"/>\n   </g>\n   <g id=\"line2d_119\">\n    <path d=\"M 497.25775 795.735455 \nL 618.20975 795.735455 \n\" clip-path=\"url(#p02bff96783)\" style=\"fill: none; stroke: #3f3f3f; stroke-width: 1.5; stroke-linecap: square\"/>\n   </g>\n   <g id=\"line2d_120\">\n    <g clip-path=\"url(#p02bff96783)\">\n     <use xlink:href=\"#m946c25c304\" x=\"557.73375\" y=\"1076.844545\" style=\"fill: #3f3f3f; stroke: #3f3f3f; stroke-linejoin: miter\"/>\n     <use xlink:href=\"#m946c25c304\" x=\"557.73375\" y=\"1076.844545\" style=\"fill: #3f3f3f; stroke: #3f3f3f; stroke-linejoin: miter\"/>\n     <use xlink:href=\"#m946c25c304\" x=\"557.73375\" y=\"1076.844545\" style=\"fill: #3f3f3f; stroke: #3f3f3f; stroke-linejoin: miter\"/>\n     <use xlink:href=\"#m946c25c304\" x=\"557.73375\" y=\"1076.844545\" style=\"fill: #3f3f3f; stroke: #3f3f3f; stroke-linejoin: miter\"/>\n     <use xlink:href=\"#m946c25c304\" x=\"557.73375\" y=\"1076.844545\" style=\"fill: #3f3f3f; stroke: #3f3f3f; stroke-linejoin: miter\"/>\n     <use xlink:href=\"#m946c25c304\" x=\"557.73375\" y=\"1076.844545\" style=\"fill: #3f3f3f; stroke: #3f3f3f; stroke-linejoin: miter\"/>\n     <use xlink:href=\"#m946c25c304\" x=\"557.73375\" y=\"1076.844545\" style=\"fill: #3f3f3f; stroke: #3f3f3f; stroke-linejoin: miter\"/>\n     <use xlink:href=\"#m946c25c304\" x=\"557.73375\" y=\"1076.844545\" style=\"fill: #3f3f3f; stroke: #3f3f3f; stroke-linejoin: miter\"/>\n     <use xlink:href=\"#m946c25c304\" x=\"557.73375\" y=\"1076.844545\" style=\"fill: #3f3f3f; stroke: #3f3f3f; stroke-linejoin: miter\"/>\n     <use xlink:href=\"#m946c25c304\" x=\"557.73375\" y=\"1076.844545\" style=\"fill: #3f3f3f; stroke: #3f3f3f; stroke-linejoin: miter\"/>\n     <use xlink:href=\"#m946c25c304\" x=\"557.73375\" y=\"1076.844545\" style=\"fill: #3f3f3f; stroke: #3f3f3f; stroke-linejoin: miter\"/>\n     <use xlink:href=\"#m946c25c304\" x=\"557.73375\" y=\"1076.844545\" style=\"fill: #3f3f3f; stroke: #3f3f3f; stroke-linejoin: miter\"/>\n     <use xlink:href=\"#m946c25c304\" x=\"557.73375\" y=\"1076.844545\" style=\"fill: #3f3f3f; stroke: #3f3f3f; stroke-linejoin: miter\"/>\n     <use xlink:href=\"#m946c25c304\" x=\"557.73375\" y=\"1076.844545\" style=\"fill: #3f3f3f; stroke: #3f3f3f; stroke-linejoin: miter\"/>\n     <use xlink:href=\"#m946c25c304\" x=\"557.73375\" y=\"1076.844545\" style=\"fill: #3f3f3f; stroke: #3f3f3f; stroke-linejoin: miter\"/>\n     <use xlink:href=\"#m946c25c304\" x=\"557.73375\" y=\"1076.844545\" style=\"fill: #3f3f3f; stroke: #3f3f3f; stroke-linejoin: miter\"/>\n     <use xlink:href=\"#m946c25c304\" x=\"557.73375\" y=\"1076.844545\" style=\"fill: #3f3f3f; stroke: #3f3f3f; stroke-linejoin: miter\"/>\n     <use xlink:href=\"#m946c25c304\" x=\"557.73375\" y=\"1076.844545\" style=\"fill: #3f3f3f; stroke: #3f3f3f; stroke-linejoin: miter\"/>\n     <use xlink:href=\"#m946c25c304\" x=\"557.73375\" y=\"1076.844545\" style=\"fill: #3f3f3f; stroke: #3f3f3f; stroke-linejoin: miter\"/>\n    </g>\n   </g>\n   <g id=\"line2d_121\">\n    <path d=\"M 436.78175 936.29 \nL 678.68575 936.29 \n\" clip-path=\"url(#p02bff96783)\" style=\"fill: none; stroke: #3f3f3f; stroke-width: 1.5; stroke-linecap: square\"/>\n   </g>\n   <g id=\"patch_46\">\n    <path d=\"M 406.54375 1090.9 \nL 406.54375 781.68 \n\" style=\"fill: none; stroke: #000000; stroke-width: 0.8; stroke-linejoin: miter; stroke-linecap: square\"/>\n   </g>\n   <g id=\"patch_47\">\n    <path d=\"M 708.92375 1090.9 \nL 708.92375 781.68 \n\" style=\"fill: none; stroke: #000000; stroke-width: 0.8; stroke-linejoin: miter; stroke-linecap: square\"/>\n   </g>\n   <g id=\"patch_48\">\n    <path d=\"M 406.54375 1090.9 \nL 708.92375 1090.9 \n\" style=\"fill: none; stroke: #000000; stroke-width: 0.8; stroke-linejoin: miter; stroke-linecap: square\"/>\n   </g>\n   <g id=\"patch_49\">\n    <path d=\"M 406.54375 781.68 \nL 708.92375 781.68 \n\" style=\"fill: none; stroke: #000000; stroke-width: 0.8; stroke-linejoin: miter; stroke-linecap: square\"/>\n   </g>\n   <g id=\"text_81\">\n    <!-- Box Plot para freetime -->\n    <g transform=\"translate(490.54125 775.68) scale(0.12 -0.12)\">\n     <use xlink:href=\"#DejaVuSans-42\"/>\n     <use xlink:href=\"#DejaVuSans-6f\" x=\"68.603516\"/>\n     <use xlink:href=\"#DejaVuSans-78\" x=\"126.660156\"/>\n     <use xlink:href=\"#DejaVuSans-20\" x=\"185.839844\"/>\n     <use xlink:href=\"#DejaVuSans-50\" x=\"217.626953\"/>\n     <use xlink:href=\"#DejaVuSans-6c\" x=\"277.929688\"/>\n     <use xlink:href=\"#DejaVuSans-6f\" x=\"305.712891\"/>\n     <use xlink:href=\"#DejaVuSans-74\" x=\"366.894531\"/>\n     <use xlink:href=\"#DejaVuSans-20\" x=\"406.103516\"/>\n     <use xlink:href=\"#DejaVuSans-70\" x=\"437.890625\"/>\n     <use xlink:href=\"#DejaVuSans-61\" x=\"501.367188\"/>\n     <use xlink:href=\"#DejaVuSans-72\" x=\"562.646484\"/>\n     <use xlink:href=\"#DejaVuSans-61\" x=\"603.759766\"/>\n     <use xlink:href=\"#DejaVuSans-20\" x=\"665.039062\"/>\n     <use xlink:href=\"#DejaVuSans-66\" x=\"696.826172\"/>\n     <use xlink:href=\"#DejaVuSans-72\" x=\"732.03125\"/>\n     <use xlink:href=\"#DejaVuSans-65\" x=\"770.894531\"/>\n     <use xlink:href=\"#DejaVuSans-65\" x=\"832.417969\"/>\n     <use xlink:href=\"#DejaVuSans-74\" x=\"893.941406\"/>\n     <use xlink:href=\"#DejaVuSans-69\" x=\"933.150391\"/>\n     <use xlink:href=\"#DejaVuSans-6d\" x=\"960.933594\"/>\n     <use xlink:href=\"#DejaVuSans-65\" x=\"1058.345703\"/>\n    </g>\n   </g>\n  </g>\n  <g id=\"axes_9\">\n   <g id=\"patch_50\">\n    <path d=\"M 762.94375 1090.9 \nL 1065.32375 1090.9 \nL 1065.32375 781.68 \nL 762.94375 781.68 \nz\n\" style=\"fill: #ffffff\"/>\n   </g>\n   <g id=\"patch_51\">\n    <path d=\"M 793.18175 1006.567273 \nL 1035.08575 1006.567273 \nL 1035.08575 866.012727 \nL 793.18175 866.012727 \nL 793.18175 1006.567273 \nz\n\" clip-path=\"url(#pf95ebfc413)\" style=\"fill: #3274a1; stroke: #3f3f3f; stroke-width: 1.5; stroke-linejoin: miter\"/>\n   </g>\n   <g id=\"matplotlib.axis_17\">\n    <g id=\"xtick_9\">\n     <g id=\"line2d_122\">\n      <g>\n       <use xlink:href=\"#m66ac7727a7\" x=\"914.13375\" y=\"1090.9\" style=\"stroke: #000000; stroke-width: 0.8\"/>\n      </g>\n     </g>\n    </g>\n   </g>\n   <g id=\"matplotlib.axis_18\">\n    <g id=\"ytick_66\">\n     <g id=\"line2d_123\">\n      <g>\n       <use xlink:href=\"#mbd7f2e0b6a\" x=\"762.94375\" y=\"1076.844545\" style=\"stroke: #000000; stroke-width: 0.8\"/>\n      </g>\n     </g>\n     <g id=\"text_82\">\n      <!-- 1.0 -->\n      <g transform=\"translate(740.040625 1080.643764) scale(0.1 -0.1)\">\n       <use xlink:href=\"#DejaVuSans-31\"/>\n       <use xlink:href=\"#DejaVuSans-2e\" x=\"63.623047\"/>\n       <use xlink:href=\"#DejaVuSans-30\" x=\"95.410156\"/>\n      </g>\n     </g>\n    </g>\n    <g id=\"ytick_67\">\n     <g id=\"line2d_124\">\n      <g>\n       <use xlink:href=\"#mbd7f2e0b6a\" x=\"762.94375\" y=\"1041.705909\" style=\"stroke: #000000; stroke-width: 0.8\"/>\n      </g>\n     </g>\n     <g id=\"text_83\">\n      <!-- 1.5 -->\n      <g transform=\"translate(740.040625 1045.505128) scale(0.1 -0.1)\">\n       <use xlink:href=\"#DejaVuSans-31\"/>\n       <use xlink:href=\"#DejaVuSans-2e\" x=\"63.623047\"/>\n       <use xlink:href=\"#DejaVuSans-35\" x=\"95.410156\"/>\n      </g>\n     </g>\n    </g>\n    <g id=\"ytick_68\">\n     <g id=\"line2d_125\">\n      <g>\n       <use xlink:href=\"#mbd7f2e0b6a\" x=\"762.94375\" y=\"1006.567273\" style=\"stroke: #000000; stroke-width: 0.8\"/>\n      </g>\n     </g>\n     <g id=\"text_84\">\n      <!-- 2.0 -->\n      <g transform=\"translate(740.040625 1010.366491) scale(0.1 -0.1)\">\n       <use xlink:href=\"#DejaVuSans-32\"/>\n       <use xlink:href=\"#DejaVuSans-2e\" x=\"63.623047\"/>\n       <use xlink:href=\"#DejaVuSans-30\" x=\"95.410156\"/>\n      </g>\n     </g>\n    </g>\n    <g id=\"ytick_69\">\n     <g id=\"line2d_126\">\n      <g>\n       <use xlink:href=\"#mbd7f2e0b6a\" x=\"762.94375\" y=\"971.428636\" style=\"stroke: #000000; stroke-width: 0.8\"/>\n      </g>\n     </g>\n     <g id=\"text_85\">\n      <!-- 2.5 -->\n      <g transform=\"translate(740.040625 975.227855) scale(0.1 -0.1)\">\n       <use xlink:href=\"#DejaVuSans-32\"/>\n       <use xlink:href=\"#DejaVuSans-2e\" x=\"63.623047\"/>\n       <use xlink:href=\"#DejaVuSans-35\" x=\"95.410156\"/>\n      </g>\n     </g>\n    </g>\n    <g id=\"ytick_70\">\n     <g id=\"line2d_127\">\n      <g>\n       <use xlink:href=\"#mbd7f2e0b6a\" x=\"762.94375\" y=\"936.29\" style=\"stroke: #000000; stroke-width: 0.8\"/>\n      </g>\n     </g>\n     <g id=\"text_86\">\n      <!-- 3.0 -->\n      <g transform=\"translate(740.040625 940.089219) scale(0.1 -0.1)\">\n       <use xlink:href=\"#DejaVuSans-33\"/>\n       <use xlink:href=\"#DejaVuSans-2e\" x=\"63.623047\"/>\n       <use xlink:href=\"#DejaVuSans-30\" x=\"95.410156\"/>\n      </g>\n     </g>\n    </g>\n    <g id=\"ytick_71\">\n     <g id=\"line2d_128\">\n      <g>\n       <use xlink:href=\"#mbd7f2e0b6a\" x=\"762.94375\" y=\"901.151364\" style=\"stroke: #000000; stroke-width: 0.8\"/>\n      </g>\n     </g>\n     <g id=\"text_87\">\n      <!-- 3.5 -->\n      <g transform=\"translate(740.040625 904.950582) scale(0.1 -0.1)\">\n       <use xlink:href=\"#DejaVuSans-33\"/>\n       <use xlink:href=\"#DejaVuSans-2e\" x=\"63.623047\"/>\n       <use xlink:href=\"#DejaVuSans-35\" x=\"95.410156\"/>\n      </g>\n     </g>\n    </g>\n    <g id=\"ytick_72\">\n     <g id=\"line2d_129\">\n      <g>\n       <use xlink:href=\"#mbd7f2e0b6a\" x=\"762.94375\" y=\"866.012727\" style=\"stroke: #000000; stroke-width: 0.8\"/>\n      </g>\n     </g>\n     <g id=\"text_88\">\n      <!-- 4.0 -->\n      <g transform=\"translate(740.040625 869.811946) scale(0.1 -0.1)\">\n       <use xlink:href=\"#DejaVuSans-34\"/>\n       <use xlink:href=\"#DejaVuSans-2e\" x=\"63.623047\"/>\n       <use xlink:href=\"#DejaVuSans-30\" x=\"95.410156\"/>\n      </g>\n     </g>\n    </g>\n    <g id=\"ytick_73\">\n     <g id=\"line2d_130\">\n      <g>\n       <use xlink:href=\"#mbd7f2e0b6a\" x=\"762.94375\" y=\"830.874091\" style=\"stroke: #000000; stroke-width: 0.8\"/>\n      </g>\n     </g>\n     <g id=\"text_89\">\n      <!-- 4.5 -->\n      <g transform=\"translate(740.040625 834.67331) scale(0.1 -0.1)\">\n       <use xlink:href=\"#DejaVuSans-34\"/>\n       <use xlink:href=\"#DejaVuSans-2e\" x=\"63.623047\"/>\n       <use xlink:href=\"#DejaVuSans-35\" x=\"95.410156\"/>\n      </g>\n     </g>\n    </g>\n    <g id=\"ytick_74\">\n     <g id=\"line2d_131\">\n      <g>\n       <use xlink:href=\"#mbd7f2e0b6a\" x=\"762.94375\" y=\"795.735455\" style=\"stroke: #000000; stroke-width: 0.8\"/>\n      </g>\n     </g>\n     <g id=\"text_90\">\n      <!-- 5.0 -->\n      <g transform=\"translate(740.040625 799.534673) scale(0.1 -0.1)\">\n       <use xlink:href=\"#DejaVuSans-35\"/>\n       <use xlink:href=\"#DejaVuSans-2e\" x=\"63.623047\"/>\n       <use xlink:href=\"#DejaVuSans-30\" x=\"95.410156\"/>\n      </g>\n     </g>\n    </g>\n    <g id=\"text_91\">\n     <!-- goout -->\n     <g transform=\"translate(733.960938 950.711875) rotate(-90) scale(0.1 -0.1)\">\n      <use xlink:href=\"#DejaVuSans-67\"/>\n      <use xlink:href=\"#DejaVuSans-6f\" x=\"63.476562\"/>\n      <use xlink:href=\"#DejaVuSans-6f\" x=\"124.658203\"/>\n      <use xlink:href=\"#DejaVuSans-75\" x=\"185.839844\"/>\n      <use xlink:href=\"#DejaVuSans-74\" x=\"249.21875\"/>\n     </g>\n    </g>\n   </g>\n   <g id=\"line2d_132\">\n    <path d=\"M 914.13375 1006.567273 \nL 914.13375 1076.844545 \n\" clip-path=\"url(#pf95ebfc413)\" style=\"fill: none; stroke: #3f3f3f; stroke-width: 1.5; stroke-linecap: square\"/>\n   </g>\n   <g id=\"line2d_133\">\n    <path d=\"M 914.13375 866.012727 \nL 914.13375 795.735455 \n\" clip-path=\"url(#pf95ebfc413)\" style=\"fill: none; stroke: #3f3f3f; stroke-width: 1.5; stroke-linecap: square\"/>\n   </g>\n   <g id=\"line2d_134\">\n    <path d=\"M 853.65775 1076.844545 \nL 974.60975 1076.844545 \n\" clip-path=\"url(#pf95ebfc413)\" style=\"fill: none; stroke: #3f3f3f; stroke-width: 1.5; stroke-linecap: square\"/>\n   </g>\n   <g id=\"line2d_135\">\n    <path d=\"M 853.65775 795.735455 \nL 974.60975 795.735455 \n\" clip-path=\"url(#pf95ebfc413)\" style=\"fill: none; stroke: #3f3f3f; stroke-width: 1.5; stroke-linecap: square\"/>\n   </g>\n   <g id=\"line2d_136\"/>\n   <g id=\"line2d_137\">\n    <path d=\"M 793.18175 936.29 \nL 1035.08575 936.29 \n\" clip-path=\"url(#pf95ebfc413)\" style=\"fill: none; stroke: #3f3f3f; stroke-width: 1.5; stroke-linecap: square\"/>\n   </g>\n   <g id=\"patch_52\">\n    <path d=\"M 762.94375 1090.9 \nL 762.94375 781.68 \n\" style=\"fill: none; stroke: #000000; stroke-width: 0.8; stroke-linejoin: miter; stroke-linecap: square\"/>\n   </g>\n   <g id=\"patch_53\">\n    <path d=\"M 1065.32375 1090.9 \nL 1065.32375 781.68 \n\" style=\"fill: none; stroke: #000000; stroke-width: 0.8; stroke-linejoin: miter; stroke-linecap: square\"/>\n   </g>\n   <g id=\"patch_54\">\n    <path d=\"M 762.94375 1090.9 \nL 1065.32375 1090.9 \n\" style=\"fill: none; stroke: #000000; stroke-width: 0.8; stroke-linejoin: miter; stroke-linecap: square\"/>\n   </g>\n   <g id=\"patch_55\">\n    <path d=\"M 762.94375 781.68 \nL 1065.32375 781.68 \n\" style=\"fill: none; stroke: #000000; stroke-width: 0.8; stroke-linejoin: miter; stroke-linecap: square\"/>\n   </g>\n   <g id=\"text_92\">\n    <!-- Box Plot para goout -->\n    <g transform=\"translate(855.017812 775.68) scale(0.12 -0.12)\">\n     <use xlink:href=\"#DejaVuSans-42\"/>\n     <use xlink:href=\"#DejaVuSans-6f\" x=\"68.603516\"/>\n     <use xlink:href=\"#DejaVuSans-78\" x=\"126.660156\"/>\n     <use xlink:href=\"#DejaVuSans-20\" x=\"185.839844\"/>\n     <use xlink:href=\"#DejaVuSans-50\" x=\"217.626953\"/>\n     <use xlink:href=\"#DejaVuSans-6c\" x=\"277.929688\"/>\n     <use xlink:href=\"#DejaVuSans-6f\" x=\"305.712891\"/>\n     <use xlink:href=\"#DejaVuSans-74\" x=\"366.894531\"/>\n     <use xlink:href=\"#DejaVuSans-20\" x=\"406.103516\"/>\n     <use xlink:href=\"#DejaVuSans-70\" x=\"437.890625\"/>\n     <use xlink:href=\"#DejaVuSans-61\" x=\"501.367188\"/>\n     <use xlink:href=\"#DejaVuSans-72\" x=\"562.646484\"/>\n     <use xlink:href=\"#DejaVuSans-61\" x=\"603.759766\"/>\n     <use xlink:href=\"#DejaVuSans-20\" x=\"665.039062\"/>\n     <use xlink:href=\"#DejaVuSans-67\" x=\"696.826172\"/>\n     <use xlink:href=\"#DejaVuSans-6f\" x=\"760.302734\"/>\n     <use xlink:href=\"#DejaVuSans-6f\" x=\"821.484375\"/>\n     <use xlink:href=\"#DejaVuSans-75\" x=\"882.666016\"/>\n     <use xlink:href=\"#DejaVuSans-74\" x=\"946.044922\"/>\n    </g>\n   </g>\n  </g>\n  <g id=\"axes_10\">\n   <g id=\"patch_56\">\n    <path d=\"M 50.14375 1430.5 \nL 352.52375 1430.5 \nL 352.52375 1121.28 \nL 50.14375 1121.28 \nz\n\" style=\"fill: #ffffff\"/>\n   </g>\n   <g id=\"patch_57\">\n    <path d=\"M 80.38175 1416.444545 \nL 322.28575 1416.444545 \nL 322.28575 1346.167273 \nL 80.38175 1346.167273 \nL 80.38175 1416.444545 \nz\n\" clip-path=\"url(#p7ced067b3f)\" style=\"fill: #3274a1; stroke: #3f3f3f; stroke-width: 1.5; stroke-linejoin: miter\"/>\n   </g>\n   <g id=\"matplotlib.axis_19\">\n    <g id=\"xtick_10\">\n     <g id=\"line2d_138\">\n      <g>\n       <use xlink:href=\"#m66ac7727a7\" x=\"201.33375\" y=\"1430.5\" style=\"stroke: #000000; stroke-width: 0.8\"/>\n      </g>\n     </g>\n    </g>\n   </g>\n   <g id=\"matplotlib.axis_20\">\n    <g id=\"ytick_75\">\n     <g id=\"line2d_139\">\n      <g>\n       <use xlink:href=\"#mbd7f2e0b6a\" x=\"50.14375\" y=\"1416.444545\" style=\"stroke: #000000; stroke-width: 0.8\"/>\n      </g>\n     </g>\n     <g id=\"text_93\">\n      <!-- 1.0 -->\n      <g transform=\"translate(27.240625 1420.243764) scale(0.1 -0.1)\">\n       <use xlink:href=\"#DejaVuSans-31\"/>\n       <use xlink:href=\"#DejaVuSans-2e\" x=\"63.623047\"/>\n       <use xlink:href=\"#DejaVuSans-30\" x=\"95.410156\"/>\n      </g>\n     </g>\n    </g>\n    <g id=\"ytick_76\">\n     <g id=\"line2d_140\">\n      <g>\n       <use xlink:href=\"#mbd7f2e0b6a\" x=\"50.14375\" y=\"1381.305909\" style=\"stroke: #000000; stroke-width: 0.8\"/>\n      </g>\n     </g>\n     <g id=\"text_94\">\n      <!-- 1.5 -->\n      <g transform=\"translate(27.240625 1385.105128) scale(0.1 -0.1)\">\n       <use xlink:href=\"#DejaVuSans-31\"/>\n       <use xlink:href=\"#DejaVuSans-2e\" x=\"63.623047\"/>\n       <use xlink:href=\"#DejaVuSans-35\" x=\"95.410156\"/>\n      </g>\n     </g>\n    </g>\n    <g id=\"ytick_77\">\n     <g id=\"line2d_141\">\n      <g>\n       <use xlink:href=\"#mbd7f2e0b6a\" x=\"50.14375\" y=\"1346.167273\" style=\"stroke: #000000; stroke-width: 0.8\"/>\n      </g>\n     </g>\n     <g id=\"text_95\">\n      <!-- 2.0 -->\n      <g transform=\"translate(27.240625 1349.966491) scale(0.1 -0.1)\">\n       <use xlink:href=\"#DejaVuSans-32\"/>\n       <use xlink:href=\"#DejaVuSans-2e\" x=\"63.623047\"/>\n       <use xlink:href=\"#DejaVuSans-30\" x=\"95.410156\"/>\n      </g>\n     </g>\n    </g>\n    <g id=\"ytick_78\">\n     <g id=\"line2d_142\">\n      <g>\n       <use xlink:href=\"#mbd7f2e0b6a\" x=\"50.14375\" y=\"1311.028636\" style=\"stroke: #000000; stroke-width: 0.8\"/>\n      </g>\n     </g>\n     <g id=\"text_96\">\n      <!-- 2.5 -->\n      <g transform=\"translate(27.240625 1314.827855) scale(0.1 -0.1)\">\n       <use xlink:href=\"#DejaVuSans-32\"/>\n       <use xlink:href=\"#DejaVuSans-2e\" x=\"63.623047\"/>\n       <use xlink:href=\"#DejaVuSans-35\" x=\"95.410156\"/>\n      </g>\n     </g>\n    </g>\n    <g id=\"ytick_79\">\n     <g id=\"line2d_143\">\n      <g>\n       <use xlink:href=\"#mbd7f2e0b6a\" x=\"50.14375\" y=\"1275.89\" style=\"stroke: #000000; stroke-width: 0.8\"/>\n      </g>\n     </g>\n     <g id=\"text_97\">\n      <!-- 3.0 -->\n      <g transform=\"translate(27.240625 1279.689219) scale(0.1 -0.1)\">\n       <use xlink:href=\"#DejaVuSans-33\"/>\n       <use xlink:href=\"#DejaVuSans-2e\" x=\"63.623047\"/>\n       <use xlink:href=\"#DejaVuSans-30\" x=\"95.410156\"/>\n      </g>\n     </g>\n    </g>\n    <g id=\"ytick_80\">\n     <g id=\"line2d_144\">\n      <g>\n       <use xlink:href=\"#mbd7f2e0b6a\" x=\"50.14375\" y=\"1240.751364\" style=\"stroke: #000000; stroke-width: 0.8\"/>\n      </g>\n     </g>\n     <g id=\"text_98\">\n      <!-- 3.5 -->\n      <g transform=\"translate(27.240625 1244.550582) scale(0.1 -0.1)\">\n       <use xlink:href=\"#DejaVuSans-33\"/>\n       <use xlink:href=\"#DejaVuSans-2e\" x=\"63.623047\"/>\n       <use xlink:href=\"#DejaVuSans-35\" x=\"95.410156\"/>\n      </g>\n     </g>\n    </g>\n    <g id=\"ytick_81\">\n     <g id=\"line2d_145\">\n      <g>\n       <use xlink:href=\"#mbd7f2e0b6a\" x=\"50.14375\" y=\"1205.612727\" style=\"stroke: #000000; stroke-width: 0.8\"/>\n      </g>\n     </g>\n     <g id=\"text_99\">\n      <!-- 4.0 -->\n      <g transform=\"translate(27.240625 1209.411946) scale(0.1 -0.1)\">\n       <use xlink:href=\"#DejaVuSans-34\"/>\n       <use xlink:href=\"#DejaVuSans-2e\" x=\"63.623047\"/>\n       <use xlink:href=\"#DejaVuSans-30\" x=\"95.410156\"/>\n      </g>\n     </g>\n    </g>\n    <g id=\"ytick_82\">\n     <g id=\"line2d_146\">\n      <g>\n       <use xlink:href=\"#mbd7f2e0b6a\" x=\"50.14375\" y=\"1170.474091\" style=\"stroke: #000000; stroke-width: 0.8\"/>\n      </g>\n     </g>\n     <g id=\"text_100\">\n      <!-- 4.5 -->\n      <g transform=\"translate(27.240625 1174.27331) scale(0.1 -0.1)\">\n       <use xlink:href=\"#DejaVuSans-34\"/>\n       <use xlink:href=\"#DejaVuSans-2e\" x=\"63.623047\"/>\n       <use xlink:href=\"#DejaVuSans-35\" x=\"95.410156\"/>\n      </g>\n     </g>\n    </g>\n    <g id=\"ytick_83\">\n     <g id=\"line2d_147\">\n      <g>\n       <use xlink:href=\"#mbd7f2e0b6a\" x=\"50.14375\" y=\"1135.335455\" style=\"stroke: #000000; stroke-width: 0.8\"/>\n      </g>\n     </g>\n     <g id=\"text_101\">\n      <!-- 5.0 -->\n      <g transform=\"translate(27.240625 1139.134673) scale(0.1 -0.1)\">\n       <use xlink:href=\"#DejaVuSans-35\"/>\n       <use xlink:href=\"#DejaVuSans-2e\" x=\"63.623047\"/>\n       <use xlink:href=\"#DejaVuSans-30\" x=\"95.410156\"/>\n      </g>\n     </g>\n    </g>\n    <g id=\"text_102\">\n     <!-- Dalc -->\n     <g transform=\"translate(21.160938 1286.942344) rotate(-90) scale(0.1 -0.1)\">\n      <defs>\n       <path id=\"DejaVuSans-44\" d=\"M 1259 4147 \nL 1259 519 \nL 2022 519 \nQ 2988 519 3436 956 \nQ 3884 1394 3884 2338 \nQ 3884 3275 3436 3711 \nQ 2988 4147 2022 4147 \nL 1259 4147 \nz\nM 628 4666 \nL 1925 4666 \nQ 3281 4666 3915 4102 \nQ 4550 3538 4550 2338 \nQ 4550 1131 3912 565 \nQ 3275 0 1925 0 \nL 628 0 \nL 628 4666 \nz\n\" transform=\"scale(0.015625)\"/>\n       <path id=\"DejaVuSans-63\" d=\"M 3122 3366 \nL 3122 2828 \nQ 2878 2963 2633 3030 \nQ 2388 3097 2138 3097 \nQ 1578 3097 1268 2742 \nQ 959 2388 959 1747 \nQ 959 1106 1268 751 \nQ 1578 397 2138 397 \nQ 2388 397 2633 464 \nQ 2878 531 3122 666 \nL 3122 134 \nQ 2881 22 2623 -34 \nQ 2366 -91 2075 -91 \nQ 1284 -91 818 406 \nQ 353 903 353 1747 \nQ 353 2603 823 3093 \nQ 1294 3584 2113 3584 \nQ 2378 3584 2631 3529 \nQ 2884 3475 3122 3366 \nz\n\" transform=\"scale(0.015625)\"/>\n      </defs>\n      <use xlink:href=\"#DejaVuSans-44\"/>\n      <use xlink:href=\"#DejaVuSans-61\" x=\"77.001953\"/>\n      <use xlink:href=\"#DejaVuSans-6c\" x=\"138.28125\"/>\n      <use xlink:href=\"#DejaVuSans-63\" x=\"166.064453\"/>\n     </g>\n    </g>\n   </g>\n   <g id=\"line2d_148\">\n    <path d=\"M 201.33375 1416.444545 \nL 201.33375 1416.444545 \n\" clip-path=\"url(#p7ced067b3f)\" style=\"fill: none; stroke: #3f3f3f; stroke-width: 1.5; stroke-linecap: square\"/>\n   </g>\n   <g id=\"line2d_149\">\n    <path d=\"M 201.33375 1346.167273 \nL 201.33375 1275.89 \n\" clip-path=\"url(#p7ced067b3f)\" style=\"fill: none; stroke: #3f3f3f; stroke-width: 1.5; stroke-linecap: square\"/>\n   </g>\n   <g id=\"line2d_150\">\n    <path d=\"M 140.85775 1416.444545 \nL 261.80975 1416.444545 \n\" clip-path=\"url(#p7ced067b3f)\" style=\"fill: none; stroke: #3f3f3f; stroke-width: 1.5; stroke-linecap: square\"/>\n   </g>\n   <g id=\"line2d_151\">\n    <path d=\"M 140.85775 1275.89 \nL 261.80975 1275.89 \n\" clip-path=\"url(#p7ced067b3f)\" style=\"fill: none; stroke: #3f3f3f; stroke-width: 1.5; stroke-linecap: square\"/>\n   </g>\n   <g id=\"line2d_152\">\n    <g clip-path=\"url(#p7ced067b3f)\">\n     <use xlink:href=\"#m946c25c304\" x=\"201.33375\" y=\"1135.335455\" style=\"fill: #3f3f3f; stroke: #3f3f3f; stroke-linejoin: miter\"/>\n     <use xlink:href=\"#m946c25c304\" x=\"201.33375\" y=\"1205.612727\" style=\"fill: #3f3f3f; stroke: #3f3f3f; stroke-linejoin: miter\"/>\n     <use xlink:href=\"#m946c25c304\" x=\"201.33375\" y=\"1135.335455\" style=\"fill: #3f3f3f; stroke: #3f3f3f; stroke-linejoin: miter\"/>\n     <use xlink:href=\"#m946c25c304\" x=\"201.33375\" y=\"1135.335455\" style=\"fill: #3f3f3f; stroke: #3f3f3f; stroke-linejoin: miter\"/>\n     <use xlink:href=\"#m946c25c304\" x=\"201.33375\" y=\"1135.335455\" style=\"fill: #3f3f3f; stroke: #3f3f3f; stroke-linejoin: miter\"/>\n     <use xlink:href=\"#m946c25c304\" x=\"201.33375\" y=\"1205.612727\" style=\"fill: #3f3f3f; stroke: #3f3f3f; stroke-linejoin: miter\"/>\n     <use xlink:href=\"#m946c25c304\" x=\"201.33375\" y=\"1205.612727\" style=\"fill: #3f3f3f; stroke: #3f3f3f; stroke-linejoin: miter\"/>\n     <use xlink:href=\"#m946c25c304\" x=\"201.33375\" y=\"1205.612727\" style=\"fill: #3f3f3f; stroke: #3f3f3f; stroke-linejoin: miter\"/>\n     <use xlink:href=\"#m946c25c304\" x=\"201.33375\" y=\"1205.612727\" style=\"fill: #3f3f3f; stroke: #3f3f3f; stroke-linejoin: miter\"/>\n     <use xlink:href=\"#m946c25c304\" x=\"201.33375\" y=\"1135.335455\" style=\"fill: #3f3f3f; stroke: #3f3f3f; stroke-linejoin: miter\"/>\n     <use xlink:href=\"#m946c25c304\" x=\"201.33375\" y=\"1205.612727\" style=\"fill: #3f3f3f; stroke: #3f3f3f; stroke-linejoin: miter\"/>\n     <use xlink:href=\"#m946c25c304\" x=\"201.33375\" y=\"1135.335455\" style=\"fill: #3f3f3f; stroke: #3f3f3f; stroke-linejoin: miter\"/>\n     <use xlink:href=\"#m946c25c304\" x=\"201.33375\" y=\"1135.335455\" style=\"fill: #3f3f3f; stroke: #3f3f3f; stroke-linejoin: miter\"/>\n     <use xlink:href=\"#m946c25c304\" x=\"201.33375\" y=\"1135.335455\" style=\"fill: #3f3f3f; stroke: #3f3f3f; stroke-linejoin: miter\"/>\n     <use xlink:href=\"#m946c25c304\" x=\"201.33375\" y=\"1135.335455\" style=\"fill: #3f3f3f; stroke: #3f3f3f; stroke-linejoin: miter\"/>\n     <use xlink:href=\"#m946c25c304\" x=\"201.33375\" y=\"1205.612727\" style=\"fill: #3f3f3f; stroke: #3f3f3f; stroke-linejoin: miter\"/>\n     <use xlink:href=\"#m946c25c304\" x=\"201.33375\" y=\"1205.612727\" style=\"fill: #3f3f3f; stroke: #3f3f3f; stroke-linejoin: miter\"/>\n     <use xlink:href=\"#m946c25c304\" x=\"201.33375\" y=\"1205.612727\" style=\"fill: #3f3f3f; stroke: #3f3f3f; stroke-linejoin: miter\"/>\n    </g>\n   </g>\n   <g id=\"line2d_153\">\n    <path d=\"M 80.38175 1416.444545 \nL 322.28575 1416.444545 \n\" clip-path=\"url(#p7ced067b3f)\" style=\"fill: none; stroke: #3f3f3f; stroke-width: 1.5; stroke-linecap: square\"/>\n   </g>\n   <g id=\"patch_58\">\n    <path d=\"M 50.14375 1430.5 \nL 50.14375 1121.28 \n\" style=\"fill: none; stroke: #000000; stroke-width: 0.8; stroke-linejoin: miter; stroke-linecap: square\"/>\n   </g>\n   <g id=\"patch_59\">\n    <path d=\"M 352.52375 1430.5 \nL 352.52375 1121.28 \n\" style=\"fill: none; stroke: #000000; stroke-width: 0.8; stroke-linejoin: miter; stroke-linecap: square\"/>\n   </g>\n   <g id=\"patch_60\">\n    <path d=\"M 50.14375 1430.5 \nL 352.52375 1430.5 \n\" style=\"fill: none; stroke: #000000; stroke-width: 0.8; stroke-linejoin: miter; stroke-linecap: square\"/>\n   </g>\n   <g id=\"patch_61\">\n    <path d=\"M 50.14375 1121.28 \nL 352.52375 1121.28 \n\" style=\"fill: none; stroke: #000000; stroke-width: 0.8; stroke-linejoin: miter; stroke-linecap: square\"/>\n   </g>\n   <g id=\"text_103\">\n    <!-- Box Plot para Dalc -->\n    <g transform=\"translate(146.26125 1115.28) scale(0.12 -0.12)\">\n     <use xlink:href=\"#DejaVuSans-42\"/>\n     <use xlink:href=\"#DejaVuSans-6f\" x=\"68.603516\"/>\n     <use xlink:href=\"#DejaVuSans-78\" x=\"126.660156\"/>\n     <use xlink:href=\"#DejaVuSans-20\" x=\"185.839844\"/>\n     <use xlink:href=\"#DejaVuSans-50\" x=\"217.626953\"/>\n     <use xlink:href=\"#DejaVuSans-6c\" x=\"277.929688\"/>\n     <use xlink:href=\"#DejaVuSans-6f\" x=\"305.712891\"/>\n     <use xlink:href=\"#DejaVuSans-74\" x=\"366.894531\"/>\n     <use xlink:href=\"#DejaVuSans-20\" x=\"406.103516\"/>\n     <use xlink:href=\"#DejaVuSans-70\" x=\"437.890625\"/>\n     <use xlink:href=\"#DejaVuSans-61\" x=\"501.367188\"/>\n     <use xlink:href=\"#DejaVuSans-72\" x=\"562.646484\"/>\n     <use xlink:href=\"#DejaVuSans-61\" x=\"603.759766\"/>\n     <use xlink:href=\"#DejaVuSans-20\" x=\"665.039062\"/>\n     <use xlink:href=\"#DejaVuSans-44\" x=\"696.826172\"/>\n     <use xlink:href=\"#DejaVuSans-61\" x=\"773.828125\"/>\n     <use xlink:href=\"#DejaVuSans-6c\" x=\"835.107422\"/>\n     <use xlink:href=\"#DejaVuSans-63\" x=\"862.890625\"/>\n    </g>\n   </g>\n  </g>\n  <g id=\"axes_11\">\n   <g id=\"patch_62\">\n    <path d=\"M 406.54375 1430.5 \nL 708.92375 1430.5 \nL 708.92375 1121.28 \nL 406.54375 1121.28 \nz\n\" style=\"fill: #ffffff\"/>\n   </g>\n   <g id=\"patch_63\">\n    <path d=\"M 436.78175 1416.444545 \nL 678.68575 1416.444545 \nL 678.68575 1275.89 \nL 436.78175 1275.89 \nL 436.78175 1416.444545 \nz\n\" clip-path=\"url(#p78d8f372a2)\" style=\"fill: #3274a1; stroke: #3f3f3f; stroke-width: 1.5; stroke-linejoin: miter\"/>\n   </g>\n   <g id=\"matplotlib.axis_21\">\n    <g id=\"xtick_11\">\n     <g id=\"line2d_154\">\n      <g>\n       <use xlink:href=\"#m66ac7727a7\" x=\"557.73375\" y=\"1430.5\" style=\"stroke: #000000; stroke-width: 0.8\"/>\n      </g>\n     </g>\n    </g>\n   </g>\n   <g id=\"matplotlib.axis_22\">\n    <g id=\"ytick_84\">\n     <g id=\"line2d_155\">\n      <g>\n       <use xlink:href=\"#mbd7f2e0b6a\" x=\"406.54375\" y=\"1416.444545\" style=\"stroke: #000000; stroke-width: 0.8\"/>\n      </g>\n     </g>\n     <g id=\"text_104\">\n      <!-- 1.0 -->\n      <g transform=\"translate(383.640625 1420.243764) scale(0.1 -0.1)\">\n       <use xlink:href=\"#DejaVuSans-31\"/>\n       <use xlink:href=\"#DejaVuSans-2e\" x=\"63.623047\"/>\n       <use xlink:href=\"#DejaVuSans-30\" x=\"95.410156\"/>\n      </g>\n     </g>\n    </g>\n    <g id=\"ytick_85\">\n     <g id=\"line2d_156\">\n      <g>\n       <use xlink:href=\"#mbd7f2e0b6a\" x=\"406.54375\" y=\"1381.305909\" style=\"stroke: #000000; stroke-width: 0.8\"/>\n      </g>\n     </g>\n     <g id=\"text_105\">\n      <!-- 1.5 -->\n      <g transform=\"translate(383.640625 1385.105128) scale(0.1 -0.1)\">\n       <use xlink:href=\"#DejaVuSans-31\"/>\n       <use xlink:href=\"#DejaVuSans-2e\" x=\"63.623047\"/>\n       <use xlink:href=\"#DejaVuSans-35\" x=\"95.410156\"/>\n      </g>\n     </g>\n    </g>\n    <g id=\"ytick_86\">\n     <g id=\"line2d_157\">\n      <g>\n       <use xlink:href=\"#mbd7f2e0b6a\" x=\"406.54375\" y=\"1346.167273\" style=\"stroke: #000000; stroke-width: 0.8\"/>\n      </g>\n     </g>\n     <g id=\"text_106\">\n      <!-- 2.0 -->\n      <g transform=\"translate(383.640625 1349.966491) scale(0.1 -0.1)\">\n       <use xlink:href=\"#DejaVuSans-32\"/>\n       <use xlink:href=\"#DejaVuSans-2e\" x=\"63.623047\"/>\n       <use xlink:href=\"#DejaVuSans-30\" x=\"95.410156\"/>\n      </g>\n     </g>\n    </g>\n    <g id=\"ytick_87\">\n     <g id=\"line2d_158\">\n      <g>\n       <use xlink:href=\"#mbd7f2e0b6a\" x=\"406.54375\" y=\"1311.028636\" style=\"stroke: #000000; stroke-width: 0.8\"/>\n      </g>\n     </g>\n     <g id=\"text_107\">\n      <!-- 2.5 -->\n      <g transform=\"translate(383.640625 1314.827855) scale(0.1 -0.1)\">\n       <use xlink:href=\"#DejaVuSans-32\"/>\n       <use xlink:href=\"#DejaVuSans-2e\" x=\"63.623047\"/>\n       <use xlink:href=\"#DejaVuSans-35\" x=\"95.410156\"/>\n      </g>\n     </g>\n    </g>\n    <g id=\"ytick_88\">\n     <g id=\"line2d_159\">\n      <g>\n       <use xlink:href=\"#mbd7f2e0b6a\" x=\"406.54375\" y=\"1275.89\" style=\"stroke: #000000; stroke-width: 0.8\"/>\n      </g>\n     </g>\n     <g id=\"text_108\">\n      <!-- 3.0 -->\n      <g transform=\"translate(383.640625 1279.689219) scale(0.1 -0.1)\">\n       <use xlink:href=\"#DejaVuSans-33\"/>\n       <use xlink:href=\"#DejaVuSans-2e\" x=\"63.623047\"/>\n       <use xlink:href=\"#DejaVuSans-30\" x=\"95.410156\"/>\n      </g>\n     </g>\n    </g>\n    <g id=\"ytick_89\">\n     <g id=\"line2d_160\">\n      <g>\n       <use xlink:href=\"#mbd7f2e0b6a\" x=\"406.54375\" y=\"1240.751364\" style=\"stroke: #000000; stroke-width: 0.8\"/>\n      </g>\n     </g>\n     <g id=\"text_109\">\n      <!-- 3.5 -->\n      <g transform=\"translate(383.640625 1244.550582) scale(0.1 -0.1)\">\n       <use xlink:href=\"#DejaVuSans-33\"/>\n       <use xlink:href=\"#DejaVuSans-2e\" x=\"63.623047\"/>\n       <use xlink:href=\"#DejaVuSans-35\" x=\"95.410156\"/>\n      </g>\n     </g>\n    </g>\n    <g id=\"ytick_90\">\n     <g id=\"line2d_161\">\n      <g>\n       <use xlink:href=\"#mbd7f2e0b6a\" x=\"406.54375\" y=\"1205.612727\" style=\"stroke: #000000; stroke-width: 0.8\"/>\n      </g>\n     </g>\n     <g id=\"text_110\">\n      <!-- 4.0 -->\n      <g transform=\"translate(383.640625 1209.411946) scale(0.1 -0.1)\">\n       <use xlink:href=\"#DejaVuSans-34\"/>\n       <use xlink:href=\"#DejaVuSans-2e\" x=\"63.623047\"/>\n       <use xlink:href=\"#DejaVuSans-30\" x=\"95.410156\"/>\n      </g>\n     </g>\n    </g>\n    <g id=\"ytick_91\">\n     <g id=\"line2d_162\">\n      <g>\n       <use xlink:href=\"#mbd7f2e0b6a\" x=\"406.54375\" y=\"1170.474091\" style=\"stroke: #000000; stroke-width: 0.8\"/>\n      </g>\n     </g>\n     <g id=\"text_111\">\n      <!-- 4.5 -->\n      <g transform=\"translate(383.640625 1174.27331) scale(0.1 -0.1)\">\n       <use xlink:href=\"#DejaVuSans-34\"/>\n       <use xlink:href=\"#DejaVuSans-2e\" x=\"63.623047\"/>\n       <use xlink:href=\"#DejaVuSans-35\" x=\"95.410156\"/>\n      </g>\n     </g>\n    </g>\n    <g id=\"ytick_92\">\n     <g id=\"line2d_163\">\n      <g>\n       <use xlink:href=\"#mbd7f2e0b6a\" x=\"406.54375\" y=\"1135.335455\" style=\"stroke: #000000; stroke-width: 0.8\"/>\n      </g>\n     </g>\n     <g id=\"text_112\">\n      <!-- 5.0 -->\n      <g transform=\"translate(383.640625 1139.134673) scale(0.1 -0.1)\">\n       <use xlink:href=\"#DejaVuSans-35\"/>\n       <use xlink:href=\"#DejaVuSans-2e\" x=\"63.623047\"/>\n       <use xlink:href=\"#DejaVuSans-30\" x=\"95.410156\"/>\n      </g>\n     </g>\n    </g>\n    <g id=\"text_113\">\n     <!-- Walc -->\n     <g transform=\"translate(377.560938 1287.717344) rotate(-90) scale(0.1 -0.1)\">\n      <defs>\n       <path id=\"DejaVuSans-57\" d=\"M 213 4666 \nL 850 4666 \nL 1831 722 \nL 2809 4666 \nL 3519 4666 \nL 4500 722 \nL 5478 4666 \nL 6119 4666 \nL 4947 0 \nL 4153 0 \nL 3169 4050 \nL 2175 0 \nL 1381 0 \nL 213 4666 \nz\n\" transform=\"scale(0.015625)\"/>\n      </defs>\n      <use xlink:href=\"#DejaVuSans-57\"/>\n      <use xlink:href=\"#DejaVuSans-61\" x=\"92.501953\"/>\n      <use xlink:href=\"#DejaVuSans-6c\" x=\"153.78125\"/>\n      <use xlink:href=\"#DejaVuSans-63\" x=\"181.564453\"/>\n     </g>\n    </g>\n   </g>\n   <g id=\"line2d_164\">\n    <path d=\"M 557.73375 1416.444545 \nL 557.73375 1416.444545 \n\" clip-path=\"url(#p78d8f372a2)\" style=\"fill: none; stroke: #3f3f3f; stroke-width: 1.5; stroke-linecap: square\"/>\n   </g>\n   <g id=\"line2d_165\">\n    <path d=\"M 557.73375 1275.89 \nL 557.73375 1135.335455 \n\" clip-path=\"url(#p78d8f372a2)\" style=\"fill: none; stroke: #3f3f3f; stroke-width: 1.5; stroke-linecap: square\"/>\n   </g>\n   <g id=\"line2d_166\">\n    <path d=\"M 497.25775 1416.444545 \nL 618.20975 1416.444545 \n\" clip-path=\"url(#p78d8f372a2)\" style=\"fill: none; stroke: #3f3f3f; stroke-width: 1.5; stroke-linecap: square\"/>\n   </g>\n   <g id=\"line2d_167\">\n    <path d=\"M 497.25775 1135.335455 \nL 618.20975 1135.335455 \n\" clip-path=\"url(#p78d8f372a2)\" style=\"fill: none; stroke: #3f3f3f; stroke-width: 1.5; stroke-linecap: square\"/>\n   </g>\n   <g id=\"line2d_168\"/>\n   <g id=\"line2d_169\">\n    <path d=\"M 436.78175 1346.167273 \nL 678.68575 1346.167273 \n\" clip-path=\"url(#p78d8f372a2)\" style=\"fill: none; stroke: #3f3f3f; stroke-width: 1.5; stroke-linecap: square\"/>\n   </g>\n   <g id=\"patch_64\">\n    <path d=\"M 406.54375 1430.5 \nL 406.54375 1121.28 \n\" style=\"fill: none; stroke: #000000; stroke-width: 0.8; stroke-linejoin: miter; stroke-linecap: square\"/>\n   </g>\n   <g id=\"patch_65\">\n    <path d=\"M 708.92375 1430.5 \nL 708.92375 1121.28 \n\" style=\"fill: none; stroke: #000000; stroke-width: 0.8; stroke-linejoin: miter; stroke-linecap: square\"/>\n   </g>\n   <g id=\"patch_66\">\n    <path d=\"M 406.54375 1430.5 \nL 708.92375 1430.5 \n\" style=\"fill: none; stroke: #000000; stroke-width: 0.8; stroke-linejoin: miter; stroke-linecap: square\"/>\n   </g>\n   <g id=\"patch_67\">\n    <path d=\"M 406.54375 1121.28 \nL 708.92375 1121.28 \n\" style=\"fill: none; stroke: #000000; stroke-width: 0.8; stroke-linejoin: miter; stroke-linecap: square\"/>\n   </g>\n   <g id=\"text_114\">\n    <!-- Box Plot para Walc -->\n    <g transform=\"translate(501.73125 1115.28) scale(0.12 -0.12)\">\n     <use xlink:href=\"#DejaVuSans-42\"/>\n     <use xlink:href=\"#DejaVuSans-6f\" x=\"68.603516\"/>\n     <use xlink:href=\"#DejaVuSans-78\" x=\"126.660156\"/>\n     <use xlink:href=\"#DejaVuSans-20\" x=\"185.839844\"/>\n     <use xlink:href=\"#DejaVuSans-50\" x=\"217.626953\"/>\n     <use xlink:href=\"#DejaVuSans-6c\" x=\"277.929688\"/>\n     <use xlink:href=\"#DejaVuSans-6f\" x=\"305.712891\"/>\n     <use xlink:href=\"#DejaVuSans-74\" x=\"366.894531\"/>\n     <use xlink:href=\"#DejaVuSans-20\" x=\"406.103516\"/>\n     <use xlink:href=\"#DejaVuSans-70\" x=\"437.890625\"/>\n     <use xlink:href=\"#DejaVuSans-61\" x=\"501.367188\"/>\n     <use xlink:href=\"#DejaVuSans-72\" x=\"562.646484\"/>\n     <use xlink:href=\"#DejaVuSans-61\" x=\"603.759766\"/>\n     <use xlink:href=\"#DejaVuSans-20\" x=\"665.039062\"/>\n     <use xlink:href=\"#DejaVuSans-57\" x=\"696.826172\"/>\n     <use xlink:href=\"#DejaVuSans-61\" x=\"789.328125\"/>\n     <use xlink:href=\"#DejaVuSans-6c\" x=\"850.607422\"/>\n     <use xlink:href=\"#DejaVuSans-63\" x=\"878.390625\"/>\n    </g>\n   </g>\n  </g>\n  <g id=\"axes_12\">\n   <g id=\"patch_68\">\n    <path d=\"M 762.94375 1430.5 \nL 1065.32375 1430.5 \nL 1065.32375 1121.28 \nL 762.94375 1121.28 \nz\n\" style=\"fill: #ffffff\"/>\n   </g>\n   <g id=\"patch_69\">\n    <path d=\"M 793.18175 1275.89 \nL 1035.08575 1275.89 \nL 1035.08575 1135.335455 \nL 793.18175 1135.335455 \nL 793.18175 1275.89 \nz\n\" clip-path=\"url(#p09c6cc1b08)\" style=\"fill: #3274a1; stroke: #3f3f3f; stroke-width: 1.5; stroke-linejoin: miter\"/>\n   </g>\n   <g id=\"matplotlib.axis_23\">\n    <g id=\"xtick_12\">\n     <g id=\"line2d_170\">\n      <g>\n       <use xlink:href=\"#m66ac7727a7\" x=\"914.13375\" y=\"1430.5\" style=\"stroke: #000000; stroke-width: 0.8\"/>\n      </g>\n     </g>\n    </g>\n   </g>\n   <g id=\"matplotlib.axis_24\">\n    <g id=\"ytick_93\">\n     <g id=\"line2d_171\">\n      <g>\n       <use xlink:href=\"#mbd7f2e0b6a\" x=\"762.94375\" y=\"1416.444545\" style=\"stroke: #000000; stroke-width: 0.8\"/>\n      </g>\n     </g>\n     <g id=\"text_115\">\n      <!-- 1.0 -->\n      <g transform=\"translate(740.040625 1420.243764) scale(0.1 -0.1)\">\n       <use xlink:href=\"#DejaVuSans-31\"/>\n       <use xlink:href=\"#DejaVuSans-2e\" x=\"63.623047\"/>\n       <use xlink:href=\"#DejaVuSans-30\" x=\"95.410156\"/>\n      </g>\n     </g>\n    </g>\n    <g id=\"ytick_94\">\n     <g id=\"line2d_172\">\n      <g>\n       <use xlink:href=\"#mbd7f2e0b6a\" x=\"762.94375\" y=\"1381.305909\" style=\"stroke: #000000; stroke-width: 0.8\"/>\n      </g>\n     </g>\n     <g id=\"text_116\">\n      <!-- 1.5 -->\n      <g transform=\"translate(740.040625 1385.105128) scale(0.1 -0.1)\">\n       <use xlink:href=\"#DejaVuSans-31\"/>\n       <use xlink:href=\"#DejaVuSans-2e\" x=\"63.623047\"/>\n       <use xlink:href=\"#DejaVuSans-35\" x=\"95.410156\"/>\n      </g>\n     </g>\n    </g>\n    <g id=\"ytick_95\">\n     <g id=\"line2d_173\">\n      <g>\n       <use xlink:href=\"#mbd7f2e0b6a\" x=\"762.94375\" y=\"1346.167273\" style=\"stroke: #000000; stroke-width: 0.8\"/>\n      </g>\n     </g>\n     <g id=\"text_117\">\n      <!-- 2.0 -->\n      <g transform=\"translate(740.040625 1349.966491) scale(0.1 -0.1)\">\n       <use xlink:href=\"#DejaVuSans-32\"/>\n       <use xlink:href=\"#DejaVuSans-2e\" x=\"63.623047\"/>\n       <use xlink:href=\"#DejaVuSans-30\" x=\"95.410156\"/>\n      </g>\n     </g>\n    </g>\n    <g id=\"ytick_96\">\n     <g id=\"line2d_174\">\n      <g>\n       <use xlink:href=\"#mbd7f2e0b6a\" x=\"762.94375\" y=\"1311.028636\" style=\"stroke: #000000; stroke-width: 0.8\"/>\n      </g>\n     </g>\n     <g id=\"text_118\">\n      <!-- 2.5 -->\n      <g transform=\"translate(740.040625 1314.827855) scale(0.1 -0.1)\">\n       <use xlink:href=\"#DejaVuSans-32\"/>\n       <use xlink:href=\"#DejaVuSans-2e\" x=\"63.623047\"/>\n       <use xlink:href=\"#DejaVuSans-35\" x=\"95.410156\"/>\n      </g>\n     </g>\n    </g>\n    <g id=\"ytick_97\">\n     <g id=\"line2d_175\">\n      <g>\n       <use xlink:href=\"#mbd7f2e0b6a\" x=\"762.94375\" y=\"1275.89\" style=\"stroke: #000000; stroke-width: 0.8\"/>\n      </g>\n     </g>\n     <g id=\"text_119\">\n      <!-- 3.0 -->\n      <g transform=\"translate(740.040625 1279.689219) scale(0.1 -0.1)\">\n       <use xlink:href=\"#DejaVuSans-33\"/>\n       <use xlink:href=\"#DejaVuSans-2e\" x=\"63.623047\"/>\n       <use xlink:href=\"#DejaVuSans-30\" x=\"95.410156\"/>\n      </g>\n     </g>\n    </g>\n    <g id=\"ytick_98\">\n     <g id=\"line2d_176\">\n      <g>\n       <use xlink:href=\"#mbd7f2e0b6a\" x=\"762.94375\" y=\"1240.751364\" style=\"stroke: #000000; stroke-width: 0.8\"/>\n      </g>\n     </g>\n     <g id=\"text_120\">\n      <!-- 3.5 -->\n      <g transform=\"translate(740.040625 1244.550582) scale(0.1 -0.1)\">\n       <use xlink:href=\"#DejaVuSans-33\"/>\n       <use xlink:href=\"#DejaVuSans-2e\" x=\"63.623047\"/>\n       <use xlink:href=\"#DejaVuSans-35\" x=\"95.410156\"/>\n      </g>\n     </g>\n    </g>\n    <g id=\"ytick_99\">\n     <g id=\"line2d_177\">\n      <g>\n       <use xlink:href=\"#mbd7f2e0b6a\" x=\"762.94375\" y=\"1205.612727\" style=\"stroke: #000000; stroke-width: 0.8\"/>\n      </g>\n     </g>\n     <g id=\"text_121\">\n      <!-- 4.0 -->\n      <g transform=\"translate(740.040625 1209.411946) scale(0.1 -0.1)\">\n       <use xlink:href=\"#DejaVuSans-34\"/>\n       <use xlink:href=\"#DejaVuSans-2e\" x=\"63.623047\"/>\n       <use xlink:href=\"#DejaVuSans-30\" x=\"95.410156\"/>\n      </g>\n     </g>\n    </g>\n    <g id=\"ytick_100\">\n     <g id=\"line2d_178\">\n      <g>\n       <use xlink:href=\"#mbd7f2e0b6a\" x=\"762.94375\" y=\"1170.474091\" style=\"stroke: #000000; stroke-width: 0.8\"/>\n      </g>\n     </g>\n     <g id=\"text_122\">\n      <!-- 4.5 -->\n      <g transform=\"translate(740.040625 1174.27331) scale(0.1 -0.1)\">\n       <use xlink:href=\"#DejaVuSans-34\"/>\n       <use xlink:href=\"#DejaVuSans-2e\" x=\"63.623047\"/>\n       <use xlink:href=\"#DejaVuSans-35\" x=\"95.410156\"/>\n      </g>\n     </g>\n    </g>\n    <g id=\"ytick_101\">\n     <g id=\"line2d_179\">\n      <g>\n       <use xlink:href=\"#mbd7f2e0b6a\" x=\"762.94375\" y=\"1135.335455\" style=\"stroke: #000000; stroke-width: 0.8\"/>\n      </g>\n     </g>\n     <g id=\"text_123\">\n      <!-- 5.0 -->\n      <g transform=\"translate(740.040625 1139.134673) scale(0.1 -0.1)\">\n       <use xlink:href=\"#DejaVuSans-35\"/>\n       <use xlink:href=\"#DejaVuSans-2e\" x=\"63.623047\"/>\n       <use xlink:href=\"#DejaVuSans-30\" x=\"95.410156\"/>\n      </g>\n     </g>\n    </g>\n    <g id=\"text_124\">\n     <!-- health -->\n     <g transform=\"translate(733.960938 1291.717344) rotate(-90) scale(0.1 -0.1)\">\n      <defs>\n       <path id=\"DejaVuSans-68\" d=\"M 3513 2113 \nL 3513 0 \nL 2938 0 \nL 2938 2094 \nQ 2938 2591 2744 2837 \nQ 2550 3084 2163 3084 \nQ 1697 3084 1428 2787 \nQ 1159 2491 1159 1978 \nL 1159 0 \nL 581 0 \nL 581 4863 \nL 1159 4863 \nL 1159 2956 \nQ 1366 3272 1645 3428 \nQ 1925 3584 2291 3584 \nQ 2894 3584 3203 3211 \nQ 3513 2838 3513 2113 \nz\n\" transform=\"scale(0.015625)\"/>\n      </defs>\n      <use xlink:href=\"#DejaVuSans-68\"/>\n      <use xlink:href=\"#DejaVuSans-65\" x=\"63.378906\"/>\n      <use xlink:href=\"#DejaVuSans-61\" x=\"124.902344\"/>\n      <use xlink:href=\"#DejaVuSans-6c\" x=\"186.181641\"/>\n      <use xlink:href=\"#DejaVuSans-74\" x=\"213.964844\"/>\n      <use xlink:href=\"#DejaVuSans-68\" x=\"253.173828\"/>\n     </g>\n    </g>\n   </g>\n   <g id=\"line2d_180\">\n    <path d=\"M 914.13375 1275.89 \nL 914.13375 1416.444545 \n\" clip-path=\"url(#p09c6cc1b08)\" style=\"fill: none; stroke: #3f3f3f; stroke-width: 1.5; stroke-linecap: square\"/>\n   </g>\n   <g id=\"line2d_181\">\n    <path d=\"M 914.13375 1135.335455 \nL 914.13375 1135.335455 \n\" clip-path=\"url(#p09c6cc1b08)\" style=\"fill: none; stroke: #3f3f3f; stroke-width: 1.5; stroke-linecap: square\"/>\n   </g>\n   <g id=\"line2d_182\">\n    <path d=\"M 853.65775 1416.444545 \nL 974.60975 1416.444545 \n\" clip-path=\"url(#p09c6cc1b08)\" style=\"fill: none; stroke: #3f3f3f; stroke-width: 1.5; stroke-linecap: square\"/>\n   </g>\n   <g id=\"line2d_183\">\n    <path d=\"M 853.65775 1135.335455 \nL 974.60975 1135.335455 \n\" clip-path=\"url(#p09c6cc1b08)\" style=\"fill: none; stroke: #3f3f3f; stroke-width: 1.5; stroke-linecap: square\"/>\n   </g>\n   <g id=\"line2d_184\"/>\n   <g id=\"line2d_185\">\n    <path d=\"M 793.18175 1205.612727 \nL 1035.08575 1205.612727 \n\" clip-path=\"url(#p09c6cc1b08)\" style=\"fill: none; stroke: #3f3f3f; stroke-width: 1.5; stroke-linecap: square\"/>\n   </g>\n   <g id=\"patch_70\">\n    <path d=\"M 762.94375 1430.5 \nL 762.94375 1121.28 \n\" style=\"fill: none; stroke: #000000; stroke-width: 0.8; stroke-linejoin: miter; stroke-linecap: square\"/>\n   </g>\n   <g id=\"patch_71\">\n    <path d=\"M 1065.32375 1430.5 \nL 1065.32375 1121.28 \n\" style=\"fill: none; stroke: #000000; stroke-width: 0.8; stroke-linejoin: miter; stroke-linecap: square\"/>\n   </g>\n   <g id=\"patch_72\">\n    <path d=\"M 762.94375 1430.5 \nL 1065.32375 1430.5 \n\" style=\"fill: none; stroke: #000000; stroke-width: 0.8; stroke-linejoin: miter; stroke-linecap: square\"/>\n   </g>\n   <g id=\"patch_73\">\n    <path d=\"M 762.94375 1121.28 \nL 1065.32375 1121.28 \n\" style=\"fill: none; stroke: #000000; stroke-width: 0.8; stroke-linejoin: miter; stroke-linecap: square\"/>\n   </g>\n   <g id=\"text_125\">\n    <!-- Box Plot para health -->\n    <g transform=\"translate(853.33125 1115.28) scale(0.12 -0.12)\">\n     <use xlink:href=\"#DejaVuSans-42\"/>\n     <use xlink:href=\"#DejaVuSans-6f\" x=\"68.603516\"/>\n     <use xlink:href=\"#DejaVuSans-78\" x=\"126.660156\"/>\n     <use xlink:href=\"#DejaVuSans-20\" x=\"185.839844\"/>\n     <use xlink:href=\"#DejaVuSans-50\" x=\"217.626953\"/>\n     <use xlink:href=\"#DejaVuSans-6c\" x=\"277.929688\"/>\n     <use xlink:href=\"#DejaVuSans-6f\" x=\"305.712891\"/>\n     <use xlink:href=\"#DejaVuSans-74\" x=\"366.894531\"/>\n     <use xlink:href=\"#DejaVuSans-20\" x=\"406.103516\"/>\n     <use xlink:href=\"#DejaVuSans-70\" x=\"437.890625\"/>\n     <use xlink:href=\"#DejaVuSans-61\" x=\"501.367188\"/>\n     <use xlink:href=\"#DejaVuSans-72\" x=\"562.646484\"/>\n     <use xlink:href=\"#DejaVuSans-61\" x=\"603.759766\"/>\n     <use xlink:href=\"#DejaVuSans-20\" x=\"665.039062\"/>\n     <use xlink:href=\"#DejaVuSans-68\" x=\"696.826172\"/>\n     <use xlink:href=\"#DejaVuSans-65\" x=\"760.205078\"/>\n     <use xlink:href=\"#DejaVuSans-61\" x=\"821.728516\"/>\n     <use xlink:href=\"#DejaVuSans-6c\" x=\"883.007812\"/>\n     <use xlink:href=\"#DejaVuSans-74\" x=\"910.791016\"/>\n     <use xlink:href=\"#DejaVuSans-68\" x=\"950\"/>\n    </g>\n   </g>\n  </g>\n  <g id=\"axes_13\">\n   <g id=\"patch_74\">\n    <path d=\"M 50.14375 1770.1 \nL 352.52375 1770.1 \nL 352.52375 1460.88 \nL 50.14375 1460.88 \nz\n\" style=\"fill: #ffffff\"/>\n   </g>\n   <g id=\"patch_75\">\n    <path d=\"M 80.38175 1756.044545 \nL 322.28575 1756.044545 \nL 322.28575 1726.059576 \nL 80.38175 1726.059576 \nL 80.38175 1756.044545 \nz\n\" clip-path=\"url(#pbfd1c01333)\" style=\"fill: #3274a1; stroke: #3f3f3f; stroke-width: 1.5; stroke-linejoin: miter\"/>\n   </g>\n   <g id=\"matplotlib.axis_25\">\n    <g id=\"xtick_13\">\n     <g id=\"line2d_186\">\n      <g>\n       <use xlink:href=\"#m66ac7727a7\" x=\"201.33375\" y=\"1770.1\" style=\"stroke: #000000; stroke-width: 0.8\"/>\n      </g>\n     </g>\n    </g>\n   </g>\n   <g id=\"matplotlib.axis_26\">\n    <g id=\"ytick_102\">\n     <g id=\"line2d_187\">\n      <g>\n       <use xlink:href=\"#mbd7f2e0b6a\" x=\"50.14375\" y=\"1756.044545\" style=\"stroke: #000000; stroke-width: 0.8\"/>\n      </g>\n     </g>\n     <g id=\"text_126\">\n      <!-- 0 -->\n      <g transform=\"translate(36.78125 1759.843764) scale(0.1 -0.1)\">\n       <use xlink:href=\"#DejaVuSans-30\"/>\n      </g>\n     </g>\n    </g>\n    <g id=\"ytick_103\">\n     <g id=\"line2d_188\">\n      <g>\n       <use xlink:href=\"#mbd7f2e0b6a\" x=\"50.14375\" y=\"1718.563333\" style=\"stroke: #000000; stroke-width: 0.8\"/>\n      </g>\n     </g>\n     <g id=\"text_127\">\n      <!-- 10 -->\n      <g transform=\"translate(30.41875 1722.362552) scale(0.1 -0.1)\">\n       <use xlink:href=\"#DejaVuSans-31\"/>\n       <use xlink:href=\"#DejaVuSans-30\" x=\"63.623047\"/>\n      </g>\n     </g>\n    </g>\n    <g id=\"ytick_104\">\n     <g id=\"line2d_189\">\n      <g>\n       <use xlink:href=\"#mbd7f2e0b6a\" x=\"50.14375\" y=\"1681.082121\" style=\"stroke: #000000; stroke-width: 0.8\"/>\n      </g>\n     </g>\n     <g id=\"text_128\">\n      <!-- 20 -->\n      <g transform=\"translate(30.41875 1684.88134) scale(0.1 -0.1)\">\n       <use xlink:href=\"#DejaVuSans-32\"/>\n       <use xlink:href=\"#DejaVuSans-30\" x=\"63.623047\"/>\n      </g>\n     </g>\n    </g>\n    <g id=\"ytick_105\">\n     <g id=\"line2d_190\">\n      <g>\n       <use xlink:href=\"#mbd7f2e0b6a\" x=\"50.14375\" y=\"1643.600909\" style=\"stroke: #000000; stroke-width: 0.8\"/>\n      </g>\n     </g>\n     <g id=\"text_129\">\n      <!-- 30 -->\n      <g transform=\"translate(30.41875 1647.400128) scale(0.1 -0.1)\">\n       <use xlink:href=\"#DejaVuSans-33\"/>\n       <use xlink:href=\"#DejaVuSans-30\" x=\"63.623047\"/>\n      </g>\n     </g>\n    </g>\n    <g id=\"ytick_106\">\n     <g id=\"line2d_191\">\n      <g>\n       <use xlink:href=\"#mbd7f2e0b6a\" x=\"50.14375\" y=\"1606.119697\" style=\"stroke: #000000; stroke-width: 0.8\"/>\n      </g>\n     </g>\n     <g id=\"text_130\">\n      <!-- 40 -->\n      <g transform=\"translate(30.41875 1609.918916) scale(0.1 -0.1)\">\n       <use xlink:href=\"#DejaVuSans-34\"/>\n       <use xlink:href=\"#DejaVuSans-30\" x=\"63.623047\"/>\n      </g>\n     </g>\n    </g>\n    <g id=\"ytick_107\">\n     <g id=\"line2d_192\">\n      <g>\n       <use xlink:href=\"#mbd7f2e0b6a\" x=\"50.14375\" y=\"1568.638485\" style=\"stroke: #000000; stroke-width: 0.8\"/>\n      </g>\n     </g>\n     <g id=\"text_131\">\n      <!-- 50 -->\n      <g transform=\"translate(30.41875 1572.437704) scale(0.1 -0.1)\">\n       <use xlink:href=\"#DejaVuSans-35\"/>\n       <use xlink:href=\"#DejaVuSans-30\" x=\"63.623047\"/>\n      </g>\n     </g>\n    </g>\n    <g id=\"ytick_108\">\n     <g id=\"line2d_193\">\n      <g>\n       <use xlink:href=\"#mbd7f2e0b6a\" x=\"50.14375\" y=\"1531.157273\" style=\"stroke: #000000; stroke-width: 0.8\"/>\n      </g>\n     </g>\n     <g id=\"text_132\">\n      <!-- 60 -->\n      <g transform=\"translate(30.41875 1534.956491) scale(0.1 -0.1)\">\n       <use xlink:href=\"#DejaVuSans-36\"/>\n       <use xlink:href=\"#DejaVuSans-30\" x=\"63.623047\"/>\n      </g>\n     </g>\n    </g>\n    <g id=\"ytick_109\">\n     <g id=\"line2d_194\">\n      <g>\n       <use xlink:href=\"#mbd7f2e0b6a\" x=\"50.14375\" y=\"1493.676061\" style=\"stroke: #000000; stroke-width: 0.8\"/>\n      </g>\n     </g>\n     <g id=\"text_133\">\n      <!-- 70 -->\n      <g transform=\"translate(30.41875 1497.475279) scale(0.1 -0.1)\">\n       <use xlink:href=\"#DejaVuSans-37\"/>\n       <use xlink:href=\"#DejaVuSans-30\" x=\"63.623047\"/>\n      </g>\n     </g>\n    </g>\n    <g id=\"text_134\">\n     <!-- absences -->\n     <g transform=\"translate(24.339063 1639.00875) rotate(-90) scale(0.1 -0.1)\">\n      <defs>\n       <path id=\"DejaVuSans-62\" d=\"M 3116 1747 \nQ 3116 2381 2855 2742 \nQ 2594 3103 2138 3103 \nQ 1681 3103 1420 2742 \nQ 1159 2381 1159 1747 \nQ 1159 1113 1420 752 \nQ 1681 391 2138 391 \nQ 2594 391 2855 752 \nQ 3116 1113 3116 1747 \nz\nM 1159 2969 \nQ 1341 3281 1617 3432 \nQ 1894 3584 2278 3584 \nQ 2916 3584 3314 3078 \nQ 3713 2572 3713 1747 \nQ 3713 922 3314 415 \nQ 2916 -91 2278 -91 \nQ 1894 -91 1617 61 \nQ 1341 213 1159 525 \nL 1159 0 \nL 581 0 \nL 581 4863 \nL 1159 4863 \nL 1159 2969 \nz\n\" transform=\"scale(0.015625)\"/>\n       <path id=\"DejaVuSans-6e\" d=\"M 3513 2113 \nL 3513 0 \nL 2938 0 \nL 2938 2094 \nQ 2938 2591 2744 2837 \nQ 2550 3084 2163 3084 \nQ 1697 3084 1428 2787 \nQ 1159 2491 1159 1978 \nL 1159 0 \nL 581 0 \nL 581 3500 \nL 1159 3500 \nL 1159 2956 \nQ 1366 3272 1645 3428 \nQ 1925 3584 2291 3584 \nQ 2894 3584 3203 3211 \nQ 3513 2838 3513 2113 \nz\n\" transform=\"scale(0.015625)\"/>\n      </defs>\n      <use xlink:href=\"#DejaVuSans-61\"/>\n      <use xlink:href=\"#DejaVuSans-62\" x=\"61.279297\"/>\n      <use xlink:href=\"#DejaVuSans-73\" x=\"124.755859\"/>\n      <use xlink:href=\"#DejaVuSans-65\" x=\"176.855469\"/>\n      <use xlink:href=\"#DejaVuSans-6e\" x=\"238.378906\"/>\n      <use xlink:href=\"#DejaVuSans-63\" x=\"301.757812\"/>\n      <use xlink:href=\"#DejaVuSans-65\" x=\"356.738281\"/>\n      <use xlink:href=\"#DejaVuSans-73\" x=\"418.261719\"/>\n     </g>\n    </g>\n   </g>\n   <g id=\"line2d_195\">\n    <path d=\"M 201.33375 1756.044545 \nL 201.33375 1756.044545 \n\" clip-path=\"url(#pbfd1c01333)\" style=\"fill: none; stroke: #3f3f3f; stroke-width: 1.5; stroke-linecap: square\"/>\n   </g>\n   <g id=\"line2d_196\">\n    <path d=\"M 201.33375 1726.059576 \nL 201.33375 1681.082121 \n\" clip-path=\"url(#pbfd1c01333)\" style=\"fill: none; stroke: #3f3f3f; stroke-width: 1.5; stroke-linecap: square\"/>\n   </g>\n   <g id=\"line2d_197\">\n    <path d=\"M 140.85775 1756.044545 \nL 261.80975 1756.044545 \n\" clip-path=\"url(#pbfd1c01333)\" style=\"fill: none; stroke: #3f3f3f; stroke-width: 1.5; stroke-linecap: square\"/>\n   </g>\n   <g id=\"line2d_198\">\n    <path d=\"M 140.85775 1681.082121 \nL 261.80975 1681.082121 \n\" clip-path=\"url(#pbfd1c01333)\" style=\"fill: none; stroke: #3f3f3f; stroke-width: 1.5; stroke-linecap: square\"/>\n   </g>\n   <g id=\"line2d_199\">\n    <g clip-path=\"url(#pbfd1c01333)\">\n     <use xlink:href=\"#m946c25c304\" x=\"201.33375\" y=\"1662.341515\" style=\"fill: #3f3f3f; stroke: #3f3f3f; stroke-linejoin: miter\"/>\n     <use xlink:href=\"#m946c25c304\" x=\"201.33375\" y=\"1553.646\" style=\"fill: #3f3f3f; stroke: #3f3f3f; stroke-linejoin: miter\"/>\n     <use xlink:href=\"#m946c25c304\" x=\"201.33375\" y=\"1658.593394\" style=\"fill: #3f3f3f; stroke: #3f3f3f; stroke-linejoin: miter\"/>\n     <use xlink:href=\"#m946c25c304\" x=\"201.33375\" y=\"1546.149758\" style=\"fill: #3f3f3f; stroke: #3f3f3f; stroke-linejoin: miter\"/>\n     <use xlink:href=\"#m946c25c304\" x=\"201.33375\" y=\"1666.089636\" style=\"fill: #3f3f3f; stroke: #3f3f3f; stroke-linejoin: miter\"/>\n     <use xlink:href=\"#m946c25c304\" x=\"201.33375\" y=\"1651.097152\" style=\"fill: #3f3f3f; stroke: #3f3f3f; stroke-linejoin: miter\"/>\n     <use xlink:href=\"#m946c25c304\" x=\"201.33375\" y=\"1673.585879\" style=\"fill: #3f3f3f; stroke: #3f3f3f; stroke-linejoin: miter\"/>\n     <use xlink:href=\"#m946c25c304\" x=\"201.33375\" y=\"1677.334\" style=\"fill: #3f3f3f; stroke: #3f3f3f; stroke-linejoin: miter\"/>\n     <use xlink:href=\"#m946c25c304\" x=\"201.33375\" y=\"1474.935455\" style=\"fill: #3f3f3f; stroke: #3f3f3f; stroke-linejoin: miter\"/>\n     <use xlink:href=\"#m946c25c304\" x=\"201.33375\" y=\"1673.585879\" style=\"fill: #3f3f3f; stroke: #3f3f3f; stroke-linejoin: miter\"/>\n     <use xlink:href=\"#m946c25c304\" x=\"201.33375\" y=\"1643.600909\" style=\"fill: #3f3f3f; stroke: #3f3f3f; stroke-linejoin: miter\"/>\n     <use xlink:href=\"#m946c25c304\" x=\"201.33375\" y=\"1613.615939\" style=\"fill: #3f3f3f; stroke: #3f3f3f; stroke-linejoin: miter\"/>\n     <use xlink:href=\"#m946c25c304\" x=\"201.33375\" y=\"1673.585879\" style=\"fill: #3f3f3f; stroke: #3f3f3f; stroke-linejoin: miter\"/>\n     <use xlink:href=\"#m946c25c304\" x=\"201.33375\" y=\"1606.119697\" style=\"fill: #3f3f3f; stroke: #3f3f3f; stroke-linejoin: miter\"/>\n     <use xlink:href=\"#m946c25c304\" x=\"201.33375\" y=\"1669.837758\" style=\"fill: #3f3f3f; stroke: #3f3f3f; stroke-linejoin: miter\"/>\n    </g>\n   </g>\n   <g id=\"line2d_200\">\n    <path d=\"M 80.38175 1741.052061 \nL 322.28575 1741.052061 \n\" clip-path=\"url(#pbfd1c01333)\" style=\"fill: none; stroke: #3f3f3f; stroke-width: 1.5; stroke-linecap: square\"/>\n   </g>\n   <g id=\"patch_76\">\n    <path d=\"M 50.14375 1770.1 \nL 50.14375 1460.88 \n\" style=\"fill: none; stroke: #000000; stroke-width: 0.8; stroke-linejoin: miter; stroke-linecap: square\"/>\n   </g>\n   <g id=\"patch_77\">\n    <path d=\"M 352.52375 1770.1 \nL 352.52375 1460.88 \n\" style=\"fill: none; stroke: #000000; stroke-width: 0.8; stroke-linejoin: miter; stroke-linecap: square\"/>\n   </g>\n   <g id=\"patch_78\">\n    <path d=\"M 50.14375 1770.1 \nL 352.52375 1770.1 \n\" style=\"fill: none; stroke: #000000; stroke-width: 0.8; stroke-linejoin: miter; stroke-linecap: square\"/>\n   </g>\n   <g id=\"patch_79\">\n    <path d=\"M 50.14375 1460.88 \nL 352.52375 1460.88 \n\" style=\"fill: none; stroke: #000000; stroke-width: 0.8; stroke-linejoin: miter; stroke-linecap: square\"/>\n   </g>\n   <g id=\"text_135\">\n    <!-- Box Plot para absences -->\n    <g transform=\"translate(131.301562 1454.88) scale(0.12 -0.12)\">\n     <use xlink:href=\"#DejaVuSans-42\"/>\n     <use xlink:href=\"#DejaVuSans-6f\" x=\"68.603516\"/>\n     <use xlink:href=\"#DejaVuSans-78\" x=\"126.660156\"/>\n     <use xlink:href=\"#DejaVuSans-20\" x=\"185.839844\"/>\n     <use xlink:href=\"#DejaVuSans-50\" x=\"217.626953\"/>\n     <use xlink:href=\"#DejaVuSans-6c\" x=\"277.929688\"/>\n     <use xlink:href=\"#DejaVuSans-6f\" x=\"305.712891\"/>\n     <use xlink:href=\"#DejaVuSans-74\" x=\"366.894531\"/>\n     <use xlink:href=\"#DejaVuSans-20\" x=\"406.103516\"/>\n     <use xlink:href=\"#DejaVuSans-70\" x=\"437.890625\"/>\n     <use xlink:href=\"#DejaVuSans-61\" x=\"501.367188\"/>\n     <use xlink:href=\"#DejaVuSans-72\" x=\"562.646484\"/>\n     <use xlink:href=\"#DejaVuSans-61\" x=\"603.759766\"/>\n     <use xlink:href=\"#DejaVuSans-20\" x=\"665.039062\"/>\n     <use xlink:href=\"#DejaVuSans-61\" x=\"696.826172\"/>\n     <use xlink:href=\"#DejaVuSans-62\" x=\"758.105469\"/>\n     <use xlink:href=\"#DejaVuSans-73\" x=\"821.582031\"/>\n     <use xlink:href=\"#DejaVuSans-65\" x=\"873.681641\"/>\n     <use xlink:href=\"#DejaVuSans-6e\" x=\"935.205078\"/>\n     <use xlink:href=\"#DejaVuSans-63\" x=\"998.583984\"/>\n     <use xlink:href=\"#DejaVuSans-65\" x=\"1053.564453\"/>\n     <use xlink:href=\"#DejaVuSans-73\" x=\"1115.087891\"/>\n    </g>\n   </g>\n  </g>\n  <g id=\"axes_14\">\n   <g id=\"patch_80\">\n    <path d=\"M 406.54375 1770.1 \nL 708.92375 1770.1 \nL 708.92375 1460.88 \nL 406.54375 1460.88 \nz\n\" style=\"fill: #ffffff\"/>\n   </g>\n   <g id=\"patch_81\">\n    <path d=\"M 436.78175 1668.197955 \nL 678.68575 1668.197955 \nL 678.68575 1580.351364 \nL 436.78175 1580.351364 \nL 436.78175 1668.197955 \nz\n\" clip-path=\"url(#p115796beca)\" style=\"fill: #3274a1; stroke: #3f3f3f; stroke-width: 1.5; stroke-linejoin: miter\"/>\n   </g>\n   <g id=\"matplotlib.axis_27\">\n    <g id=\"xtick_14\">\n     <g id=\"line2d_201\">\n      <g>\n       <use xlink:href=\"#m66ac7727a7\" x=\"557.73375\" y=\"1770.1\" style=\"stroke: #000000; stroke-width: 0.8\"/>\n      </g>\n     </g>\n    </g>\n   </g>\n   <g id=\"matplotlib.axis_28\">\n    <g id=\"ytick_110\">\n     <g id=\"line2d_202\">\n      <g>\n       <use xlink:href=\"#mbd7f2e0b6a\" x=\"406.54375\" y=\"1738.475227\" style=\"stroke: #000000; stroke-width: 0.8\"/>\n      </g>\n     </g>\n     <g id=\"text_136\">\n      <!-- 4 -->\n      <g transform=\"translate(393.18125 1742.274446) scale(0.1 -0.1)\">\n       <use xlink:href=\"#DejaVuSans-34\"/>\n      </g>\n     </g>\n    </g>\n    <g id=\"ytick_111\">\n     <g id=\"line2d_203\">\n      <g>\n       <use xlink:href=\"#mbd7f2e0b6a\" x=\"406.54375\" y=\"1703.336591\" style=\"stroke: #000000; stroke-width: 0.8\"/>\n      </g>\n     </g>\n     <g id=\"text_137\">\n      <!-- 6 -->\n      <g transform=\"translate(393.18125 1707.13581) scale(0.1 -0.1)\">\n       <use xlink:href=\"#DejaVuSans-36\"/>\n      </g>\n     </g>\n    </g>\n    <g id=\"ytick_112\">\n     <g id=\"line2d_204\">\n      <g>\n       <use xlink:href=\"#mbd7f2e0b6a\" x=\"406.54375\" y=\"1668.197955\" style=\"stroke: #000000; stroke-width: 0.8\"/>\n      </g>\n     </g>\n     <g id=\"text_138\">\n      <!-- 8 -->\n      <g transform=\"translate(393.18125 1671.997173) scale(0.1 -0.1)\">\n       <use xlink:href=\"#DejaVuSans-38\"/>\n      </g>\n     </g>\n    </g>\n    <g id=\"ytick_113\">\n     <g id=\"line2d_205\">\n      <g>\n       <use xlink:href=\"#mbd7f2e0b6a\" x=\"406.54375\" y=\"1633.059318\" style=\"stroke: #000000; stroke-width: 0.8\"/>\n      </g>\n     </g>\n     <g id=\"text_139\">\n      <!-- 10 -->\n      <g transform=\"translate(386.81875 1636.858537) scale(0.1 -0.1)\">\n       <use xlink:href=\"#DejaVuSans-31\"/>\n       <use xlink:href=\"#DejaVuSans-30\" x=\"63.623047\"/>\n      </g>\n     </g>\n    </g>\n    <g id=\"ytick_114\">\n     <g id=\"line2d_206\">\n      <g>\n       <use xlink:href=\"#mbd7f2e0b6a\" x=\"406.54375\" y=\"1597.920682\" style=\"stroke: #000000; stroke-width: 0.8\"/>\n      </g>\n     </g>\n     <g id=\"text_140\">\n      <!-- 12 -->\n      <g transform=\"translate(386.81875 1601.719901) scale(0.1 -0.1)\">\n       <use xlink:href=\"#DejaVuSans-31\"/>\n       <use xlink:href=\"#DejaVuSans-32\" x=\"63.623047\"/>\n      </g>\n     </g>\n    </g>\n    <g id=\"ytick_115\">\n     <g id=\"line2d_207\">\n      <g>\n       <use xlink:href=\"#mbd7f2e0b6a\" x=\"406.54375\" y=\"1562.782045\" style=\"stroke: #000000; stroke-width: 0.8\"/>\n      </g>\n     </g>\n     <g id=\"text_141\">\n      <!-- 14 -->\n      <g transform=\"translate(386.81875 1566.581264) scale(0.1 -0.1)\">\n       <use xlink:href=\"#DejaVuSans-31\"/>\n       <use xlink:href=\"#DejaVuSans-34\" x=\"63.623047\"/>\n      </g>\n     </g>\n    </g>\n    <g id=\"ytick_116\">\n     <g id=\"line2d_208\">\n      <g>\n       <use xlink:href=\"#mbd7f2e0b6a\" x=\"406.54375\" y=\"1527.643409\" style=\"stroke: #000000; stroke-width: 0.8\"/>\n      </g>\n     </g>\n     <g id=\"text_142\">\n      <!-- 16 -->\n      <g transform=\"translate(386.81875 1531.442628) scale(0.1 -0.1)\">\n       <use xlink:href=\"#DejaVuSans-31\"/>\n       <use xlink:href=\"#DejaVuSans-36\" x=\"63.623047\"/>\n      </g>\n     </g>\n    </g>\n    <g id=\"ytick_117\">\n     <g id=\"line2d_209\">\n      <g>\n       <use xlink:href=\"#mbd7f2e0b6a\" x=\"406.54375\" y=\"1492.504773\" style=\"stroke: #000000; stroke-width: 0.8\"/>\n      </g>\n     </g>\n     <g id=\"text_143\">\n      <!-- 18 -->\n      <g transform=\"translate(386.81875 1496.303991) scale(0.1 -0.1)\">\n       <use xlink:href=\"#DejaVuSans-31\"/>\n       <use xlink:href=\"#DejaVuSans-38\" x=\"63.623047\"/>\n      </g>\n     </g>\n    </g>\n    <g id=\"text_144\">\n     <!-- G1 -->\n     <g transform=\"translate(380.739062 1622.545469) rotate(-90) scale(0.1 -0.1)\">\n      <defs>\n       <path id=\"DejaVuSans-47\" d=\"M 3809 666 \nL 3809 1919 \nL 2778 1919 \nL 2778 2438 \nL 4434 2438 \nL 4434 434 \nQ 4069 175 3628 42 \nQ 3188 -91 2688 -91 \nQ 1594 -91 976 548 \nQ 359 1188 359 2328 \nQ 359 3472 976 4111 \nQ 1594 4750 2688 4750 \nQ 3144 4750 3555 4637 \nQ 3966 4525 4313 4306 \nL 4313 3634 \nQ 3963 3931 3569 4081 \nQ 3175 4231 2741 4231 \nQ 1884 4231 1454 3753 \nQ 1025 3275 1025 2328 \nQ 1025 1384 1454 906 \nQ 1884 428 2741 428 \nQ 3075 428 3337 486 \nQ 3600 544 3809 666 \nz\n\" transform=\"scale(0.015625)\"/>\n      </defs>\n      <use xlink:href=\"#DejaVuSans-47\"/>\n      <use xlink:href=\"#DejaVuSans-31\" x=\"77.490234\"/>\n     </g>\n    </g>\n   </g>\n   <g id=\"line2d_210\">\n    <path d=\"M 557.73375 1668.197955 \nL 557.73375 1756.044545 \n\" clip-path=\"url(#p115796beca)\" style=\"fill: none; stroke: #3f3f3f; stroke-width: 1.5; stroke-linecap: square\"/>\n   </g>\n   <g id=\"line2d_211\">\n    <path d=\"M 557.73375 1580.351364 \nL 557.73375 1474.935455 \n\" clip-path=\"url(#p115796beca)\" style=\"fill: none; stroke: #3f3f3f; stroke-width: 1.5; stroke-linecap: square\"/>\n   </g>\n   <g id=\"line2d_212\">\n    <path d=\"M 497.25775 1756.044545 \nL 618.20975 1756.044545 \n\" clip-path=\"url(#p115796beca)\" style=\"fill: none; stroke: #3f3f3f; stroke-width: 1.5; stroke-linecap: square\"/>\n   </g>\n   <g id=\"line2d_213\">\n    <path d=\"M 497.25775 1474.935455 \nL 618.20975 1474.935455 \n\" clip-path=\"url(#p115796beca)\" style=\"fill: none; stroke: #3f3f3f; stroke-width: 1.5; stroke-linecap: square\"/>\n   </g>\n   <g id=\"line2d_214\"/>\n   <g id=\"line2d_215\">\n    <path d=\"M 436.78175 1615.49 \nL 678.68575 1615.49 \n\" clip-path=\"url(#p115796beca)\" style=\"fill: none; stroke: #3f3f3f; stroke-width: 1.5; stroke-linecap: square\"/>\n   </g>\n   <g id=\"patch_82\">\n    <path d=\"M 406.54375 1770.1 \nL 406.54375 1460.88 \n\" style=\"fill: none; stroke: #000000; stroke-width: 0.8; stroke-linejoin: miter; stroke-linecap: square\"/>\n   </g>\n   <g id=\"patch_83\">\n    <path d=\"M 708.92375 1770.1 \nL 708.92375 1460.88 \n\" style=\"fill: none; stroke: #000000; stroke-width: 0.8; stroke-linejoin: miter; stroke-linecap: square\"/>\n   </g>\n   <g id=\"patch_84\">\n    <path d=\"M 406.54375 1770.1 \nL 708.92375 1770.1 \n\" style=\"fill: none; stroke: #000000; stroke-width: 0.8; stroke-linejoin: miter; stroke-linecap: square\"/>\n   </g>\n   <g id=\"patch_85\">\n    <path d=\"M 406.54375 1460.88 \nL 708.92375 1460.88 \n\" style=\"fill: none; stroke: #000000; stroke-width: 0.8; stroke-linejoin: miter; stroke-linecap: square\"/>\n   </g>\n   <g id=\"text_145\">\n    <!-- Box Plot para G1 -->\n    <g transform=\"translate(507.4575 1454.88) scale(0.12 -0.12)\">\n     <use xlink:href=\"#DejaVuSans-42\"/>\n     <use xlink:href=\"#DejaVuSans-6f\" x=\"68.603516\"/>\n     <use xlink:href=\"#DejaVuSans-78\" x=\"126.660156\"/>\n     <use xlink:href=\"#DejaVuSans-20\" x=\"185.839844\"/>\n     <use xlink:href=\"#DejaVuSans-50\" x=\"217.626953\"/>\n     <use xlink:href=\"#DejaVuSans-6c\" x=\"277.929688\"/>\n     <use xlink:href=\"#DejaVuSans-6f\" x=\"305.712891\"/>\n     <use xlink:href=\"#DejaVuSans-74\" x=\"366.894531\"/>\n     <use xlink:href=\"#DejaVuSans-20\" x=\"406.103516\"/>\n     <use xlink:href=\"#DejaVuSans-70\" x=\"437.890625\"/>\n     <use xlink:href=\"#DejaVuSans-61\" x=\"501.367188\"/>\n     <use xlink:href=\"#DejaVuSans-72\" x=\"562.646484\"/>\n     <use xlink:href=\"#DejaVuSans-61\" x=\"603.759766\"/>\n     <use xlink:href=\"#DejaVuSans-20\" x=\"665.039062\"/>\n     <use xlink:href=\"#DejaVuSans-47\" x=\"696.826172\"/>\n     <use xlink:href=\"#DejaVuSans-31\" x=\"774.316406\"/>\n    </g>\n   </g>\n  </g>\n  <g id=\"axes_15\">\n   <g id=\"patch_86\">\n    <path d=\"M 762.94375 1770.1 \nL 1065.32375 1770.1 \nL 1065.32375 1460.88 \nL 762.94375 1460.88 \nz\n\" style=\"fill: #ffffff\"/>\n   </g>\n   <g id=\"patch_87\">\n    <path d=\"M 793.18175 1622.887608 \nL 1035.08575 1622.887608 \nL 1035.08575 1563.706746 \nL 793.18175 1563.706746 \nL 793.18175 1622.887608 \nz\n\" clip-path=\"url(#p7462e58dc5)\" style=\"fill: #3274a1; stroke: #3f3f3f; stroke-width: 1.5; stroke-linejoin: miter\"/>\n   </g>\n   <g id=\"matplotlib.axis_29\">\n    <g id=\"xtick_15\">\n     <g id=\"line2d_216\">\n      <g>\n       <use xlink:href=\"#m66ac7727a7\" x=\"914.13375\" y=\"1770.1\" style=\"stroke: #000000; stroke-width: 0.8\"/>\n      </g>\n     </g>\n    </g>\n   </g>\n   <g id=\"matplotlib.axis_30\">\n    <g id=\"ytick_118\">\n     <g id=\"line2d_217\">\n      <g>\n       <use xlink:href=\"#mbd7f2e0b6a\" x=\"762.94375\" y=\"1756.044545\" style=\"stroke: #000000; stroke-width: 0.8\"/>\n      </g>\n     </g>\n     <g id=\"text_146\">\n      <!-- 0.0 -->\n      <g transform=\"translate(740.040625 1759.843764) scale(0.1 -0.1)\">\n       <use xlink:href=\"#DejaVuSans-30\"/>\n       <use xlink:href=\"#DejaVuSans-2e\" x=\"63.623047\"/>\n       <use xlink:href=\"#DejaVuSans-30\" x=\"95.410156\"/>\n      </g>\n     </g>\n    </g>\n    <g id=\"ytick_119\">\n     <g id=\"line2d_218\">\n      <g>\n       <use xlink:href=\"#mbd7f2e0b6a\" x=\"762.94375\" y=\"1719.056507\" style=\"stroke: #000000; stroke-width: 0.8\"/>\n      </g>\n     </g>\n     <g id=\"text_147\">\n      <!-- 2.5 -->\n      <g transform=\"translate(740.040625 1722.855726) scale(0.1 -0.1)\">\n       <use xlink:href=\"#DejaVuSans-32\"/>\n       <use xlink:href=\"#DejaVuSans-2e\" x=\"63.623047\"/>\n       <use xlink:href=\"#DejaVuSans-35\" x=\"95.410156\"/>\n      </g>\n     </g>\n    </g>\n    <g id=\"ytick_120\">\n     <g id=\"line2d_219\">\n      <g>\n       <use xlink:href=\"#mbd7f2e0b6a\" x=\"762.94375\" y=\"1682.068469\" style=\"stroke: #000000; stroke-width: 0.8\"/>\n      </g>\n     </g>\n     <g id=\"text_148\">\n      <!-- 5.0 -->\n      <g transform=\"translate(740.040625 1685.867688) scale(0.1 -0.1)\">\n       <use xlink:href=\"#DejaVuSans-35\"/>\n       <use xlink:href=\"#DejaVuSans-2e\" x=\"63.623047\"/>\n       <use xlink:href=\"#DejaVuSans-30\" x=\"95.410156\"/>\n      </g>\n     </g>\n    </g>\n    <g id=\"ytick_121\">\n     <g id=\"line2d_220\">\n      <g>\n       <use xlink:href=\"#mbd7f2e0b6a\" x=\"762.94375\" y=\"1645.080431\" style=\"stroke: #000000; stroke-width: 0.8\"/>\n      </g>\n     </g>\n     <g id=\"text_149\">\n      <!-- 7.5 -->\n      <g transform=\"translate(740.040625 1648.879649) scale(0.1 -0.1)\">\n       <use xlink:href=\"#DejaVuSans-37\"/>\n       <use xlink:href=\"#DejaVuSans-2e\" x=\"63.623047\"/>\n       <use xlink:href=\"#DejaVuSans-35\" x=\"95.410156\"/>\n      </g>\n     </g>\n    </g>\n    <g id=\"ytick_122\">\n     <g id=\"line2d_221\">\n      <g>\n       <use xlink:href=\"#mbd7f2e0b6a\" x=\"762.94375\" y=\"1608.092392\" style=\"stroke: #000000; stroke-width: 0.8\"/>\n      </g>\n     </g>\n     <g id=\"text_150\">\n      <!-- 10.0 -->\n      <g transform=\"translate(733.678125 1611.891611) scale(0.1 -0.1)\">\n       <use xlink:href=\"#DejaVuSans-31\"/>\n       <use xlink:href=\"#DejaVuSans-30\" x=\"63.623047\"/>\n       <use xlink:href=\"#DejaVuSans-2e\" x=\"127.246094\"/>\n       <use xlink:href=\"#DejaVuSans-30\" x=\"159.033203\"/>\n      </g>\n     </g>\n    </g>\n    <g id=\"ytick_123\">\n     <g id=\"line2d_222\">\n      <g>\n       <use xlink:href=\"#mbd7f2e0b6a\" x=\"762.94375\" y=\"1571.104354\" style=\"stroke: #000000; stroke-width: 0.8\"/>\n      </g>\n     </g>\n     <g id=\"text_151\">\n      <!-- 12.5 -->\n      <g transform=\"translate(733.678125 1574.903573) scale(0.1 -0.1)\">\n       <use xlink:href=\"#DejaVuSans-31\"/>\n       <use xlink:href=\"#DejaVuSans-32\" x=\"63.623047\"/>\n       <use xlink:href=\"#DejaVuSans-2e\" x=\"127.246094\"/>\n       <use xlink:href=\"#DejaVuSans-35\" x=\"159.033203\"/>\n      </g>\n     </g>\n    </g>\n    <g id=\"ytick_124\">\n     <g id=\"line2d_223\">\n      <g>\n       <use xlink:href=\"#mbd7f2e0b6a\" x=\"762.94375\" y=\"1534.116316\" style=\"stroke: #000000; stroke-width: 0.8\"/>\n      </g>\n     </g>\n     <g id=\"text_152\">\n      <!-- 15.0 -->\n      <g transform=\"translate(733.678125 1537.915535) scale(0.1 -0.1)\">\n       <use xlink:href=\"#DejaVuSans-31\"/>\n       <use xlink:href=\"#DejaVuSans-35\" x=\"63.623047\"/>\n       <use xlink:href=\"#DejaVuSans-2e\" x=\"127.246094\"/>\n       <use xlink:href=\"#DejaVuSans-30\" x=\"159.033203\"/>\n      </g>\n     </g>\n    </g>\n    <g id=\"ytick_125\">\n     <g id=\"line2d_224\">\n      <g>\n       <use xlink:href=\"#mbd7f2e0b6a\" x=\"762.94375\" y=\"1497.128278\" style=\"stroke: #000000; stroke-width: 0.8\"/>\n      </g>\n     </g>\n     <g id=\"text_153\">\n      <!-- 17.5 -->\n      <g transform=\"translate(733.678125 1500.927496) scale(0.1 -0.1)\">\n       <use xlink:href=\"#DejaVuSans-31\"/>\n       <use xlink:href=\"#DejaVuSans-37\" x=\"63.623047\"/>\n       <use xlink:href=\"#DejaVuSans-2e\" x=\"127.246094\"/>\n       <use xlink:href=\"#DejaVuSans-35\" x=\"159.033203\"/>\n      </g>\n     </g>\n    </g>\n    <g id=\"text_154\">\n     <!-- G2 -->\n     <g transform=\"translate(727.598438 1622.545469) rotate(-90) scale(0.1 -0.1)\">\n      <use xlink:href=\"#DejaVuSans-47\"/>\n      <use xlink:href=\"#DejaVuSans-32\" x=\"77.490234\"/>\n     </g>\n    </g>\n   </g>\n   <g id=\"line2d_225\">\n    <path d=\"M 914.13375 1622.887608 \nL 914.13375 1696.863684 \n\" clip-path=\"url(#p7462e58dc5)\" style=\"fill: none; stroke: #3f3f3f; stroke-width: 1.5; stroke-linecap: square\"/>\n   </g>\n   <g id=\"line2d_226\">\n    <path d=\"M 914.13375 1563.706746 \nL 914.13375 1474.935455 \n\" clip-path=\"url(#p7462e58dc5)\" style=\"fill: none; stroke: #3f3f3f; stroke-width: 1.5; stroke-linecap: square\"/>\n   </g>\n   <g id=\"line2d_227\">\n    <path d=\"M 853.65775 1696.863684 \nL 974.60975 1696.863684 \n\" clip-path=\"url(#p7462e58dc5)\" style=\"fill: none; stroke: #3f3f3f; stroke-width: 1.5; stroke-linecap: square\"/>\n   </g>\n   <g id=\"line2d_228\">\n    <path d=\"M 853.65775 1474.935455 \nL 974.60975 1474.935455 \n\" clip-path=\"url(#p7462e58dc5)\" style=\"fill: none; stroke: #3f3f3f; stroke-width: 1.5; stroke-linecap: square\"/>\n   </g>\n   <g id=\"line2d_229\">\n    <g clip-path=\"url(#p7462e58dc5)\">\n     <use xlink:href=\"#m946c25c304\" x=\"914.13375\" y=\"1756.044545\" style=\"fill: #3f3f3f; stroke: #3f3f3f; stroke-linejoin: miter\"/>\n     <use xlink:href=\"#m946c25c304\" x=\"914.13375\" y=\"1756.044545\" style=\"fill: #3f3f3f; stroke: #3f3f3f; stroke-linejoin: miter\"/>\n     <use xlink:href=\"#m946c25c304\" x=\"914.13375\" y=\"1756.044545\" style=\"fill: #3f3f3f; stroke: #3f3f3f; stroke-linejoin: miter\"/>\n     <use xlink:href=\"#m946c25c304\" x=\"914.13375\" y=\"1756.044545\" style=\"fill: #3f3f3f; stroke: #3f3f3f; stroke-linejoin: miter\"/>\n     <use xlink:href=\"#m946c25c304\" x=\"914.13375\" y=\"1756.044545\" style=\"fill: #3f3f3f; stroke: #3f3f3f; stroke-linejoin: miter\"/>\n     <use xlink:href=\"#m946c25c304\" x=\"914.13375\" y=\"1756.044545\" style=\"fill: #3f3f3f; stroke: #3f3f3f; stroke-linejoin: miter\"/>\n     <use xlink:href=\"#m946c25c304\" x=\"914.13375\" y=\"1756.044545\" style=\"fill: #3f3f3f; stroke: #3f3f3f; stroke-linejoin: miter\"/>\n     <use xlink:href=\"#m946c25c304\" x=\"914.13375\" y=\"1756.044545\" style=\"fill: #3f3f3f; stroke: #3f3f3f; stroke-linejoin: miter\"/>\n     <use xlink:href=\"#m946c25c304\" x=\"914.13375\" y=\"1756.044545\" style=\"fill: #3f3f3f; stroke: #3f3f3f; stroke-linejoin: miter\"/>\n     <use xlink:href=\"#m946c25c304\" x=\"914.13375\" y=\"1756.044545\" style=\"fill: #3f3f3f; stroke: #3f3f3f; stroke-linejoin: miter\"/>\n     <use xlink:href=\"#m946c25c304\" x=\"914.13375\" y=\"1756.044545\" style=\"fill: #3f3f3f; stroke: #3f3f3f; stroke-linejoin: miter\"/>\n     <use xlink:href=\"#m946c25c304\" x=\"914.13375\" y=\"1756.044545\" style=\"fill: #3f3f3f; stroke: #3f3f3f; stroke-linejoin: miter\"/>\n     <use xlink:href=\"#m946c25c304\" x=\"914.13375\" y=\"1756.044545\" style=\"fill: #3f3f3f; stroke: #3f3f3f; stroke-linejoin: miter\"/>\n    </g>\n   </g>\n   <g id=\"line2d_230\">\n    <path d=\"M 793.18175 1593.297177 \nL 1035.08575 1593.297177 \n\" clip-path=\"url(#p7462e58dc5)\" style=\"fill: none; stroke: #3f3f3f; stroke-width: 1.5; stroke-linecap: square\"/>\n   </g>\n   <g id=\"patch_88\">\n    <path d=\"M 762.94375 1770.1 \nL 762.94375 1460.88 \n\" style=\"fill: none; stroke: #000000; stroke-width: 0.8; stroke-linejoin: miter; stroke-linecap: square\"/>\n   </g>\n   <g id=\"patch_89\">\n    <path d=\"M 1065.32375 1770.1 \nL 1065.32375 1460.88 \n\" style=\"fill: none; stroke: #000000; stroke-width: 0.8; stroke-linejoin: miter; stroke-linecap: square\"/>\n   </g>\n   <g id=\"patch_90\">\n    <path d=\"M 762.94375 1770.1 \nL 1065.32375 1770.1 \n\" style=\"fill: none; stroke: #000000; stroke-width: 0.8; stroke-linejoin: miter; stroke-linecap: square\"/>\n   </g>\n   <g id=\"patch_91\">\n    <path d=\"M 762.94375 1460.88 \nL 1065.32375 1460.88 \n\" style=\"fill: none; stroke: #000000; stroke-width: 0.8; stroke-linejoin: miter; stroke-linecap: square\"/>\n   </g>\n   <g id=\"text_155\">\n    <!-- Box Plot para G2 -->\n    <g transform=\"translate(863.8575 1454.88) scale(0.12 -0.12)\">\n     <use xlink:href=\"#DejaVuSans-42\"/>\n     <use xlink:href=\"#DejaVuSans-6f\" x=\"68.603516\"/>\n     <use xlink:href=\"#DejaVuSans-78\" x=\"126.660156\"/>\n     <use xlink:href=\"#DejaVuSans-20\" x=\"185.839844\"/>\n     <use xlink:href=\"#DejaVuSans-50\" x=\"217.626953\"/>\n     <use xlink:href=\"#DejaVuSans-6c\" x=\"277.929688\"/>\n     <use xlink:href=\"#DejaVuSans-6f\" x=\"305.712891\"/>\n     <use xlink:href=\"#DejaVuSans-74\" x=\"366.894531\"/>\n     <use xlink:href=\"#DejaVuSans-20\" x=\"406.103516\"/>\n     <use xlink:href=\"#DejaVuSans-70\" x=\"437.890625\"/>\n     <use xlink:href=\"#DejaVuSans-61\" x=\"501.367188\"/>\n     <use xlink:href=\"#DejaVuSans-72\" x=\"562.646484\"/>\n     <use xlink:href=\"#DejaVuSans-61\" x=\"603.759766\"/>\n     <use xlink:href=\"#DejaVuSans-20\" x=\"665.039062\"/>\n     <use xlink:href=\"#DejaVuSans-47\" x=\"696.826172\"/>\n     <use xlink:href=\"#DejaVuSans-32\" x=\"774.316406\"/>\n    </g>\n   </g>\n  </g>\n  <g id=\"axes_16\">\n   <g id=\"patch_92\">\n    <path d=\"M 50.14375 2109.7 \nL 352.52375 2109.7 \nL 352.52375 1800.48 \nL 50.14375 1800.48 \nz\n\" style=\"fill: #ffffff\"/>\n   </g>\n   <g id=\"patch_93\">\n    <path d=\"M 80.38175 1983.200909 \nL 322.28575 1983.200909 \nL 322.28575 1898.868182 \nL 80.38175 1898.868182 \nL 80.38175 1983.200909 \nz\n\" clip-path=\"url(#pa5ac10333e)\" style=\"fill: #3274a1; stroke: #3f3f3f; stroke-width: 1.5; stroke-linejoin: miter\"/>\n   </g>\n   <g id=\"matplotlib.axis_31\">\n    <g id=\"xtick_16\">\n     <g id=\"line2d_231\">\n      <g>\n       <use xlink:href=\"#m66ac7727a7\" x=\"201.33375\" y=\"2109.7\" style=\"stroke: #000000; stroke-width: 0.8\"/>\n      </g>\n     </g>\n    </g>\n   </g>\n   <g id=\"matplotlib.axis_32\">\n    <g id=\"ytick_126\">\n     <g id=\"line2d_232\">\n      <g>\n       <use xlink:href=\"#mbd7f2e0b6a\" x=\"50.14375\" y=\"2095.644545\" style=\"stroke: #000000; stroke-width: 0.8\"/>\n      </g>\n     </g>\n     <g id=\"text_156\">\n      <!-- 0.0 -->\n      <g transform=\"translate(27.240625 2099.443764) scale(0.1 -0.1)\">\n       <use xlink:href=\"#DejaVuSans-30\"/>\n       <use xlink:href=\"#DejaVuSans-2e\" x=\"63.623047\"/>\n       <use xlink:href=\"#DejaVuSans-30\" x=\"95.410156\"/>\n      </g>\n     </g>\n    </g>\n    <g id=\"ytick_127\">\n     <g id=\"line2d_233\">\n      <g>\n       <use xlink:href=\"#mbd7f2e0b6a\" x=\"50.14375\" y=\"2060.505909\" style=\"stroke: #000000; stroke-width: 0.8\"/>\n      </g>\n     </g>\n     <g id=\"text_157\">\n      <!-- 2.5 -->\n      <g transform=\"translate(27.240625 2064.305128) scale(0.1 -0.1)\">\n       <use xlink:href=\"#DejaVuSans-32\"/>\n       <use xlink:href=\"#DejaVuSans-2e\" x=\"63.623047\"/>\n       <use xlink:href=\"#DejaVuSans-35\" x=\"95.410156\"/>\n      </g>\n     </g>\n    </g>\n    <g id=\"ytick_128\">\n     <g id=\"line2d_234\">\n      <g>\n       <use xlink:href=\"#mbd7f2e0b6a\" x=\"50.14375\" y=\"2025.367273\" style=\"stroke: #000000; stroke-width: 0.8\"/>\n      </g>\n     </g>\n     <g id=\"text_158\">\n      <!-- 5.0 -->\n      <g transform=\"translate(27.240625 2029.166491) scale(0.1 -0.1)\">\n       <use xlink:href=\"#DejaVuSans-35\"/>\n       <use xlink:href=\"#DejaVuSans-2e\" x=\"63.623047\"/>\n       <use xlink:href=\"#DejaVuSans-30\" x=\"95.410156\"/>\n      </g>\n     </g>\n    </g>\n    <g id=\"ytick_129\">\n     <g id=\"line2d_235\">\n      <g>\n       <use xlink:href=\"#mbd7f2e0b6a\" x=\"50.14375\" y=\"1990.228636\" style=\"stroke: #000000; stroke-width: 0.8\"/>\n      </g>\n     </g>\n     <g id=\"text_159\">\n      <!-- 7.5 -->\n      <g transform=\"translate(27.240625 1994.027855) scale(0.1 -0.1)\">\n       <use xlink:href=\"#DejaVuSans-37\"/>\n       <use xlink:href=\"#DejaVuSans-2e\" x=\"63.623047\"/>\n       <use xlink:href=\"#DejaVuSans-35\" x=\"95.410156\"/>\n      </g>\n     </g>\n    </g>\n    <g id=\"ytick_130\">\n     <g id=\"line2d_236\">\n      <g>\n       <use xlink:href=\"#mbd7f2e0b6a\" x=\"50.14375\" y=\"1955.09\" style=\"stroke: #000000; stroke-width: 0.8\"/>\n      </g>\n     </g>\n     <g id=\"text_160\">\n      <!-- 10.0 -->\n      <g transform=\"translate(20.878125 1958.889219) scale(0.1 -0.1)\">\n       <use xlink:href=\"#DejaVuSans-31\"/>\n       <use xlink:href=\"#DejaVuSans-30\" x=\"63.623047\"/>\n       <use xlink:href=\"#DejaVuSans-2e\" x=\"127.246094\"/>\n       <use xlink:href=\"#DejaVuSans-30\" x=\"159.033203\"/>\n      </g>\n     </g>\n    </g>\n    <g id=\"ytick_131\">\n     <g id=\"line2d_237\">\n      <g>\n       <use xlink:href=\"#mbd7f2e0b6a\" x=\"50.14375\" y=\"1919.951364\" style=\"stroke: #000000; stroke-width: 0.8\"/>\n      </g>\n     </g>\n     <g id=\"text_161\">\n      <!-- 12.5 -->\n      <g transform=\"translate(20.878125 1923.750582) scale(0.1 -0.1)\">\n       <use xlink:href=\"#DejaVuSans-31\"/>\n       <use xlink:href=\"#DejaVuSans-32\" x=\"63.623047\"/>\n       <use xlink:href=\"#DejaVuSans-2e\" x=\"127.246094\"/>\n       <use xlink:href=\"#DejaVuSans-35\" x=\"159.033203\"/>\n      </g>\n     </g>\n    </g>\n    <g id=\"ytick_132\">\n     <g id=\"line2d_238\">\n      <g>\n       <use xlink:href=\"#mbd7f2e0b6a\" x=\"50.14375\" y=\"1884.812727\" style=\"stroke: #000000; stroke-width: 0.8\"/>\n      </g>\n     </g>\n     <g id=\"text_162\">\n      <!-- 15.0 -->\n      <g transform=\"translate(20.878125 1888.611946) scale(0.1 -0.1)\">\n       <use xlink:href=\"#DejaVuSans-31\"/>\n       <use xlink:href=\"#DejaVuSans-35\" x=\"63.623047\"/>\n       <use xlink:href=\"#DejaVuSans-2e\" x=\"127.246094\"/>\n       <use xlink:href=\"#DejaVuSans-30\" x=\"159.033203\"/>\n      </g>\n     </g>\n    </g>\n    <g id=\"ytick_133\">\n     <g id=\"line2d_239\">\n      <g>\n       <use xlink:href=\"#mbd7f2e0b6a\" x=\"50.14375\" y=\"1849.674091\" style=\"stroke: #000000; stroke-width: 0.8\"/>\n      </g>\n     </g>\n     <g id=\"text_163\">\n      <!-- 17.5 -->\n      <g transform=\"translate(20.878125 1853.47331) scale(0.1 -0.1)\">\n       <use xlink:href=\"#DejaVuSans-31\"/>\n       <use xlink:href=\"#DejaVuSans-37\" x=\"63.623047\"/>\n       <use xlink:href=\"#DejaVuSans-2e\" x=\"127.246094\"/>\n       <use xlink:href=\"#DejaVuSans-35\" x=\"159.033203\"/>\n      </g>\n     </g>\n    </g>\n    <g id=\"ytick_134\">\n     <g id=\"line2d_240\">\n      <g>\n       <use xlink:href=\"#mbd7f2e0b6a\" x=\"50.14375\" y=\"1814.535455\" style=\"stroke: #000000; stroke-width: 0.8\"/>\n      </g>\n     </g>\n     <g id=\"text_164\">\n      <!-- 20.0 -->\n      <g transform=\"translate(20.878125 1818.334673) scale(0.1 -0.1)\">\n       <use xlink:href=\"#DejaVuSans-32\"/>\n       <use xlink:href=\"#DejaVuSans-30\" x=\"63.623047\"/>\n       <use xlink:href=\"#DejaVuSans-2e\" x=\"127.246094\"/>\n       <use xlink:href=\"#DejaVuSans-30\" x=\"159.033203\"/>\n      </g>\n     </g>\n    </g>\n    <g id=\"text_165\">\n     <!-- G3 -->\n     <g transform=\"translate(14.798438 1962.145469) rotate(-90) scale(0.1 -0.1)\">\n      <use xlink:href=\"#DejaVuSans-47\"/>\n      <use xlink:href=\"#DejaVuSans-33\" x=\"77.490234\"/>\n     </g>\n    </g>\n   </g>\n   <g id=\"line2d_241\">\n    <path d=\"M 201.33375 1983.200909 \nL 201.33375 2095.644545 \n\" clip-path=\"url(#pa5ac10333e)\" style=\"fill: none; stroke: #3f3f3f; stroke-width: 1.5; stroke-linecap: square\"/>\n   </g>\n   <g id=\"line2d_242\">\n    <path d=\"M 201.33375 1898.868182 \nL 201.33375 1814.535455 \n\" clip-path=\"url(#pa5ac10333e)\" style=\"fill: none; stroke: #3f3f3f; stroke-width: 1.5; stroke-linecap: square\"/>\n   </g>\n   <g id=\"line2d_243\">\n    <path d=\"M 140.85775 2095.644545 \nL 261.80975 2095.644545 \n\" clip-path=\"url(#pa5ac10333e)\" style=\"fill: none; stroke: #3f3f3f; stroke-width: 1.5; stroke-linecap: square\"/>\n   </g>\n   <g id=\"line2d_244\">\n    <path d=\"M 140.85775 1814.535455 \nL 261.80975 1814.535455 \n\" clip-path=\"url(#pa5ac10333e)\" style=\"fill: none; stroke: #3f3f3f; stroke-width: 1.5; stroke-linecap: square\"/>\n   </g>\n   <g id=\"line2d_245\"/>\n   <g id=\"line2d_246\">\n    <path d=\"M 80.38175 1941.034545 \nL 322.28575 1941.034545 \n\" clip-path=\"url(#pa5ac10333e)\" style=\"fill: none; stroke: #3f3f3f; stroke-width: 1.5; stroke-linecap: square\"/>\n   </g>\n   <g id=\"patch_94\">\n    <path d=\"M 50.14375 2109.7 \nL 50.14375 1800.48 \n\" style=\"fill: none; stroke: #000000; stroke-width: 0.8; stroke-linejoin: miter; stroke-linecap: square\"/>\n   </g>\n   <g id=\"patch_95\">\n    <path d=\"M 352.52375 2109.7 \nL 352.52375 1800.48 \n\" style=\"fill: none; stroke: #000000; stroke-width: 0.8; stroke-linejoin: miter; stroke-linecap: square\"/>\n   </g>\n   <g id=\"patch_96\">\n    <path d=\"M 50.14375 2109.7 \nL 352.52375 2109.7 \n\" style=\"fill: none; stroke: #000000; stroke-width: 0.8; stroke-linejoin: miter; stroke-linecap: square\"/>\n   </g>\n   <g id=\"patch_97\">\n    <path d=\"M 50.14375 1800.48 \nL 352.52375 1800.48 \n\" style=\"fill: none; stroke: #000000; stroke-width: 0.8; stroke-linejoin: miter; stroke-linecap: square\"/>\n   </g>\n   <g id=\"text_166\">\n    <!-- Box Plot para G3 -->\n    <g transform=\"translate(151.0575 1794.48) scale(0.12 -0.12)\">\n     <use xlink:href=\"#DejaVuSans-42\"/>\n     <use xlink:href=\"#DejaVuSans-6f\" x=\"68.603516\"/>\n     <use xlink:href=\"#DejaVuSans-78\" x=\"126.660156\"/>\n     <use xlink:href=\"#DejaVuSans-20\" x=\"185.839844\"/>\n     <use xlink:href=\"#DejaVuSans-50\" x=\"217.626953\"/>\n     <use xlink:href=\"#DejaVuSans-6c\" x=\"277.929688\"/>\n     <use xlink:href=\"#DejaVuSans-6f\" x=\"305.712891\"/>\n     <use xlink:href=\"#DejaVuSans-74\" x=\"366.894531\"/>\n     <use xlink:href=\"#DejaVuSans-20\" x=\"406.103516\"/>\n     <use xlink:href=\"#DejaVuSans-70\" x=\"437.890625\"/>\n     <use xlink:href=\"#DejaVuSans-61\" x=\"501.367188\"/>\n     <use xlink:href=\"#DejaVuSans-72\" x=\"562.646484\"/>\n     <use xlink:href=\"#DejaVuSans-61\" x=\"603.759766\"/>\n     <use xlink:href=\"#DejaVuSans-20\" x=\"665.039062\"/>\n     <use xlink:href=\"#DejaVuSans-47\" x=\"696.826172\"/>\n     <use xlink:href=\"#DejaVuSans-33\" x=\"774.316406\"/>\n    </g>\n   </g>\n  </g>\n  <g id=\"axes_17\"/>\n  <g id=\"axes_18\"/>\n  <g id=\"text_167\">\n   <!-- Matemática - Box Plots -->\n   <g transform=\"translate(444.2775 19.3575) scale(0.16 -0.16)\">\n    <defs>\n     <path id=\"DejaVuSans-e1\" d=\"M 2194 1759 \nQ 1497 1759 1228 1600 \nQ 959 1441 959 1056 \nQ 959 750 1161 570 \nQ 1363 391 1709 391 \nQ 2188 391 2477 730 \nQ 2766 1069 2766 1631 \nL 2766 1759 \nL 2194 1759 \nz\nM 3341 1997 \nL 3341 0 \nL 2766 0 \nL 2766 531 \nQ 2569 213 2275 61 \nQ 1981 -91 1556 -91 \nQ 1019 -91 701 211 \nQ 384 513 384 1019 \nQ 384 1609 779 1909 \nQ 1175 2209 1959 2209 \nL 2766 2209 \nL 2766 2266 \nQ 2766 2663 2505 2880 \nQ 2244 3097 1772 3097 \nQ 1472 3097 1187 3025 \nQ 903 2953 641 2809 \nL 641 3341 \nQ 956 3463 1253 3523 \nQ 1550 3584 1831 3584 \nQ 2591 3584 2966 3190 \nQ 3341 2797 3341 1997 \nz\nM 2290 5119 \nL 2912 5119 \nL 1894 3944 \nL 1415 3944 \nL 2290 5119 \nz\n\" transform=\"scale(0.015625)\"/>\n     <path id=\"DejaVuSans-2d\" d=\"M 313 2009 \nL 1997 2009 \nL 1997 1497 \nL 313 1497 \nL 313 2009 \nz\n\" transform=\"scale(0.015625)\"/>\n    </defs>\n    <use xlink:href=\"#DejaVuSans-4d\"/>\n    <use xlink:href=\"#DejaVuSans-61\" x=\"86.279297\"/>\n    <use xlink:href=\"#DejaVuSans-74\" x=\"147.558594\"/>\n    <use xlink:href=\"#DejaVuSans-65\" x=\"186.767578\"/>\n    <use xlink:href=\"#DejaVuSans-6d\" x=\"248.291016\"/>\n    <use xlink:href=\"#DejaVuSans-e1\" x=\"345.703125\"/>\n    <use xlink:href=\"#DejaVuSans-74\" x=\"406.982422\"/>\n    <use xlink:href=\"#DejaVuSans-69\" x=\"446.191406\"/>\n    <use xlink:href=\"#DejaVuSans-63\" x=\"473.974609\"/>\n    <use xlink:href=\"#DejaVuSans-61\" x=\"528.955078\"/>\n    <use xlink:href=\"#DejaVuSans-20\" x=\"590.234375\"/>\n    <use xlink:href=\"#DejaVuSans-2d\" x=\"622.021484\"/>\n    <use xlink:href=\"#DejaVuSans-20\" x=\"658.105469\"/>\n    <use xlink:href=\"#DejaVuSans-42\" x=\"689.892578\"/>\n    <use xlink:href=\"#DejaVuSans-6f\" x=\"758.496094\"/>\n    <use xlink:href=\"#DejaVuSans-78\" x=\"816.552734\"/>\n    <use xlink:href=\"#DejaVuSans-20\" x=\"875.732422\"/>\n    <use xlink:href=\"#DejaVuSans-50\" x=\"907.519531\"/>\n    <use xlink:href=\"#DejaVuSans-6c\" x=\"967.822266\"/>\n    <use xlink:href=\"#DejaVuSans-6f\" x=\"995.605469\"/>\n    <use xlink:href=\"#DejaVuSans-74\" x=\"1056.787109\"/>\n    <use xlink:href=\"#DejaVuSans-73\" x=\"1095.996094\"/>\n   </g>\n  </g>\n </g>\n <defs>\n  <clipPath id=\"p8296bedb0b\">\n   <rect x=\"50.14375\" y=\"102.48\" width=\"302.38\" height=\"309.22\"/>\n  </clipPath>\n  <clipPath id=\"p7b69fcff9f\">\n   <rect x=\"406.54375\" y=\"102.48\" width=\"302.38\" height=\"309.22\"/>\n  </clipPath>\n  <clipPath id=\"p4b1f3b0094\">\n   <rect x=\"762.94375\" y=\"102.48\" width=\"302.38\" height=\"309.22\"/>\n  </clipPath>\n  <clipPath id=\"p93ffe4b99f\">\n   <rect x=\"50.14375\" y=\"442.08\" width=\"302.38\" height=\"309.22\"/>\n  </clipPath>\n  <clipPath id=\"pd893588b48\">\n   <rect x=\"406.54375\" y=\"442.08\" width=\"302.38\" height=\"309.22\"/>\n  </clipPath>\n  <clipPath id=\"p187abaa70f\">\n   <rect x=\"762.94375\" y=\"442.08\" width=\"302.38\" height=\"309.22\"/>\n  </clipPath>\n  <clipPath id=\"pdb1180774b\">\n   <rect x=\"50.14375\" y=\"781.68\" width=\"302.38\" height=\"309.22\"/>\n  </clipPath>\n  <clipPath id=\"p02bff96783\">\n   <rect x=\"406.54375\" y=\"781.68\" width=\"302.38\" height=\"309.22\"/>\n  </clipPath>\n  <clipPath id=\"pf95ebfc413\">\n   <rect x=\"762.94375\" y=\"781.68\" width=\"302.38\" height=\"309.22\"/>\n  </clipPath>\n  <clipPath id=\"p7ced067b3f\">\n   <rect x=\"50.14375\" y=\"1121.28\" width=\"302.38\" height=\"309.22\"/>\n  </clipPath>\n  <clipPath id=\"p78d8f372a2\">\n   <rect x=\"406.54375\" y=\"1121.28\" width=\"302.38\" height=\"309.22\"/>\n  </clipPath>\n  <clipPath id=\"p09c6cc1b08\">\n   <rect x=\"762.94375\" y=\"1121.28\" width=\"302.38\" height=\"309.22\"/>\n  </clipPath>\n  <clipPath id=\"pbfd1c01333\">\n   <rect x=\"50.14375\" y=\"1460.88\" width=\"302.38\" height=\"309.22\"/>\n  </clipPath>\n  <clipPath id=\"p115796beca\">\n   <rect x=\"406.54375\" y=\"1460.88\" width=\"302.38\" height=\"309.22\"/>\n  </clipPath>\n  <clipPath id=\"p7462e58dc5\">\n   <rect x=\"762.94375\" y=\"1460.88\" width=\"302.38\" height=\"309.22\"/>\n  </clipPath>\n  <clipPath id=\"pa5ac10333e\">\n   <rect x=\"50.14375\" y=\"1800.48\" width=\"302.38\" height=\"309.22\"/>\n  </clipPath>\n </defs>\n</svg>\n",
            "application/pdf": "[encoded data removed]"
          },
          "metadata": {}
        }
      ],
      "source": [
        "boxplot(df_math, 'Matemática')"
      ]
    },
    {
      "cell_type": "markdown",
      "metadata": {
        "id": "_mZtjYmuTLlA"
      },
      "source": [
        "## Português"
      ]
    },
    {
      "cell_type": "markdown",
      "source": [
        "Não há valores nulos ou ausentes."
      ],
      "metadata": {
        "id": "NPMP6-yghYuW"
      }
    },
    {
      "cell_type": "code",
      "execution_count": null,
      "metadata": {
        "id": "geSp2d1oUKPN",
        "colab": {
          "base_uri": "https://localhost:8080/",
          "height": 658
        },
        "outputId": "77b3aab2-e9a8-485b-b99b-167e5c55abf5"
      },
      "outputs": [
        {
          "output_type": "display_data",
          "data": {
            "text/plain": [
              "school        0\n",
              "sex           0\n",
              "age           0\n",
              "address       0\n",
              "famsize       0\n",
              "Pstatus       0\n",
              "Medu          0\n",
              "Fedu          0\n",
              "Mjob          0\n",
              "Fjob          0\n",
              "reason        0\n",
              "guardian      0\n",
              "traveltime    0\n",
              "studytime     0\n",
              "failures      0\n",
              "schoolsup     0\n",
              "famsup        0\n",
              "paid          0\n",
              "activities    0\n",
              "nursery       0\n",
              "higher        0\n",
              "internet      0\n",
              "romantic      0\n",
              "famrel        0\n",
              "freetime      0\n",
              "goout         0\n",
              "Dalc          0\n",
              "Walc          0\n",
              "health        0\n",
              "absences      0\n",
              "G1            0\n",
              "G2            0\n",
              "G3            0\n",
              "dtype: int64"
            ]
          },
          "metadata": {}
        }
      ],
      "source": [
        "# Check for missing values\n",
        "display(df_port.isnull().sum())"
      ]
    },
    {
      "cell_type": "markdown",
      "source": [
        "Não há valores incorretos ou discrepantes (ruído)."
      ],
      "metadata": {
        "id": "55HGKe4yhXWU"
      }
    },
    {
      "cell_type": "code",
      "execution_count": null,
      "metadata": {
        "id": "HYdoThqxUPJT",
        "colab": {
          "base_uri": "https://localhost:8080/",
          "height": 343
        },
        "outputId": "d9376820-d9f2-4bd6-b76a-9e30dacd27b8"
      },
      "outputs": [
        {
          "output_type": "display_data",
          "data": {
            "text/plain": [
              "\"Unique values for school: ['GP' 'MS']\""
            ],
            "application/vnd.google.colaboratory.intrinsic+json": {
              "type": "string"
            }
          },
          "metadata": {}
        },
        {
          "output_type": "display_data",
          "data": {
            "text/plain": [
              "\"Unique values for sex: ['F' 'M']\""
            ],
            "application/vnd.google.colaboratory.intrinsic+json": {
              "type": "string"
            }
          },
          "metadata": {}
        },
        {
          "output_type": "display_data",
          "data": {
            "text/plain": [
              "\"Unique values for address: ['U' 'R']\""
            ],
            "application/vnd.google.colaboratory.intrinsic+json": {
              "type": "string"
            }
          },
          "metadata": {}
        },
        {
          "output_type": "display_data",
          "data": {
            "text/plain": [
              "\"Unique values for famsize: ['GT3' 'LE3']\""
            ],
            "application/vnd.google.colaboratory.intrinsic+json": {
              "type": "string"
            }
          },
          "metadata": {}
        },
        {
          "output_type": "display_data",
          "data": {
            "text/plain": [
              "\"Unique values for Pstatus: ['A' 'T']\""
            ],
            "application/vnd.google.colaboratory.intrinsic+json": {
              "type": "string"
            }
          },
          "metadata": {}
        },
        {
          "output_type": "display_data",
          "data": {
            "text/plain": [
              "\"Unique values for Mjob: ['at_home' 'health' 'other' 'services' 'teacher']\""
            ],
            "application/vnd.google.colaboratory.intrinsic+json": {
              "type": "string"
            }
          },
          "metadata": {}
        },
        {
          "output_type": "display_data",
          "data": {
            "text/plain": [
              "\"Unique values for Fjob: ['teacher' 'other' 'services' 'health' 'at_home']\""
            ],
            "application/vnd.google.colaboratory.intrinsic+json": {
              "type": "string"
            }
          },
          "metadata": {}
        },
        {
          "output_type": "display_data",
          "data": {
            "text/plain": [
              "\"Unique values for reason: ['course' 'other' 'home' 'reputation']\""
            ],
            "application/vnd.google.colaboratory.intrinsic+json": {
              "type": "string"
            }
          },
          "metadata": {}
        },
        {
          "output_type": "display_data",
          "data": {
            "text/plain": [
              "\"Unique values for guardian: ['mother' 'father' 'other']\""
            ],
            "application/vnd.google.colaboratory.intrinsic+json": {
              "type": "string"
            }
          },
          "metadata": {}
        },
        {
          "output_type": "display_data",
          "data": {
            "text/plain": [
              "\"Unique values for schoolsup: ['yes' 'no']\""
            ],
            "application/vnd.google.colaboratory.intrinsic+json": {
              "type": "string"
            }
          },
          "metadata": {}
        },
        {
          "output_type": "display_data",
          "data": {
            "text/plain": [
              "\"Unique values for famsup: ['no' 'yes']\""
            ],
            "application/vnd.google.colaboratory.intrinsic+json": {
              "type": "string"
            }
          },
          "metadata": {}
        },
        {
          "output_type": "display_data",
          "data": {
            "text/plain": [
              "\"Unique values for paid: ['no' 'yes']\""
            ],
            "application/vnd.google.colaboratory.intrinsic+json": {
              "type": "string"
            }
          },
          "metadata": {}
        },
        {
          "output_type": "display_data",
          "data": {
            "text/plain": [
              "\"Unique values for activities: ['no' 'yes']\""
            ],
            "application/vnd.google.colaboratory.intrinsic+json": {
              "type": "string"
            }
          },
          "metadata": {}
        },
        {
          "output_type": "display_data",
          "data": {
            "text/plain": [
              "\"Unique values for nursery: ['yes' 'no']\""
            ],
            "application/vnd.google.colaboratory.intrinsic+json": {
              "type": "string"
            }
          },
          "metadata": {}
        },
        {
          "output_type": "display_data",
          "data": {
            "text/plain": [
              "\"Unique values for higher: ['yes' 'no']\""
            ],
            "application/vnd.google.colaboratory.intrinsic+json": {
              "type": "string"
            }
          },
          "metadata": {}
        },
        {
          "output_type": "display_data",
          "data": {
            "text/plain": [
              "\"Unique values for internet: ['no' 'yes']\""
            ],
            "application/vnd.google.colaboratory.intrinsic+json": {
              "type": "string"
            }
          },
          "metadata": {}
        },
        {
          "output_type": "display_data",
          "data": {
            "text/plain": [
              "\"Unique values for romantic: ['no' 'yes']\""
            ],
            "application/vnd.google.colaboratory.intrinsic+json": {
              "type": "string"
            }
          },
          "metadata": {}
        }
      ],
      "source": [
        "# Identifying Uncommon Values\n",
        "# Display unique values for each categorical column\n",
        "categorical_columns = df_port.select_dtypes(include='object').columns\n",
        "for column in categorical_columns:\n",
        "  unique_values = df_port[column].unique()\n",
        "  display(f\"Unique values for {column}: {unique_values}\")"
      ]
    },
    {
      "cell_type": "code",
      "execution_count": null,
      "metadata": {
        "colab": {
          "base_uri": "https://localhost:8080/",
          "height": 2868
        },
        "id": "yG4QU-PsUUrL",
        "outputId": "e14f4876-870a-450f-c73f-12e6dd741c1e"
      },
      "outputs": [
        {
          "output_type": "display_data",
          "data": {
            "text/plain": [
              "<Figure size 1500x3000 with 18 Axes>"
            ],
            "image/svg+xml": "<?xml version=\"1.0\" encoding=\"utf-8\" standalone=\"no\"?>\n<!DOCTYPE svg PUBLIC \"-//W3C//DTD SVG 1.1//EN\"\n  \"http://www.w3.org/Graphics/SVG/1.1/DTD/svg11.dtd\">\n<svg xmlns:xlink=\"http://www.w3.org/1999/xlink\" width=\"1072.52375pt\" height=\"2120.4pt\" viewBox=\"0 0 1072.52375 2120.4\" xmlns=\"http://www.w3.org/2000/svg\" version=\"1.1\">\n <metadata>\n  <rdf:RDF xmlns:dc=\"http://purl.org/dc/elements/1.1/\" xmlns:cc=\"http://creativecommons.org/ns#\" xmlns:rdf=\"http://www.w3.org/1999/02/22-rdf-syntax-ns#\">\n   <cc:Work>\n    <dc:type rdf:resource=\"http://purl.org/dc/dcmitype/StillImage\"/>\n    <dc:date>2024-01-12T23:31:04.861381</dc:date>\n    <dc:format>image/svg+xml</dc:format>\n    <dc:creator>\n     <cc:Agent>\n      <dc:title>Matplotlib v3.7.1, https://matplotlib.org/</dc:title>\n     </cc:Agent>\n    </dc:creator>\n   </cc:Work>\n  </rdf:RDF>\n </metadata>\n <defs>\n  <style type=\"text/css\">*{stroke-linejoin: round; stroke-linecap: butt}</style>\n </defs>\n <g id=\"figure_1\">\n  <g id=\"patch_1\">\n   <path d=\"M 0 2120.4 \nL 1072.52375 2120.4 \nL 1072.52375 0 \nL 0 0 \nz\n\" style=\"fill: #ffffff\"/>\n  </g>\n  <g id=\"axes_1\">\n   <g id=\"patch_2\">\n    <path d=\"M 50.14375 412.6 \nL 352.52375 412.6 \nL 352.52375 103.56 \nL 50.14375 103.56 \nz\n\" style=\"fill: #ffffff\"/>\n   </g>\n   <g id=\"patch_3\">\n    <path d=\"M 80.38175 358.417662 \nL 322.28575 358.417662 \nL 322.28575 278.147532 \nL 80.38175 278.147532 \nL 80.38175 358.417662 \nz\n\" clip-path=\"url(#pce99d8fa8e)\" style=\"fill: #3274a1; stroke: #3f3f3f; stroke-width: 1.5; stroke-linejoin: miter\"/>\n   </g>\n   <g id=\"matplotlib.axis_1\">\n    <g id=\"xtick_1\">\n     <g id=\"line2d_1\">\n      <defs>\n       <path id=\"me3414331ca\" d=\"M 0 0 \nL 0 3.5 \n\" style=\"stroke: #000000; stroke-width: 0.8\"/>\n      </defs>\n      <g>\n       <use xlink:href=\"#me3414331ca\" x=\"201.33375\" y=\"412.6\" style=\"stroke: #000000; stroke-width: 0.8\"/>\n      </g>\n     </g>\n    </g>\n   </g>\n   <g id=\"matplotlib.axis_2\">\n    <g id=\"ytick_1\">\n     <g id=\"line2d_2\">\n      <defs>\n       <path id=\"m1b0ea2fc6b\" d=\"M 0 0 \nL -3.5 0 \n\" style=\"stroke: #000000; stroke-width: 0.8\"/>\n      </defs>\n      <g>\n       <use xlink:href=\"#m1b0ea2fc6b\" x=\"50.14375\" y=\"398.552727\" style=\"stroke: #000000; stroke-width: 0.8\"/>\n      </g>\n     </g>\n     <g id=\"text_1\">\n      <!-- 15 -->\n      <g transform=\"translate(30.41875 402.351946) scale(0.1 -0.1)\">\n       <defs>\n        <path id=\"DejaVuSans-31\" d=\"M 794 531 \nL 1825 531 \nL 1825 4091 \nL 703 3866 \nL 703 4441 \nL 1819 4666 \nL 2450 4666 \nL 2450 531 \nL 3481 531 \nL 3481 0 \nL 794 0 \nL 794 531 \nz\n\" transform=\"scale(0.015625)\"/>\n        <path id=\"DejaVuSans-35\" d=\"M 691 4666 \nL 3169 4666 \nL 3169 4134 \nL 1269 4134 \nL 1269 2991 \nQ 1406 3038 1543 3061 \nQ 1681 3084 1819 3084 \nQ 2600 3084 3056 2656 \nQ 3513 2228 3513 1497 \nQ 3513 744 3044 326 \nQ 2575 -91 1722 -91 \nQ 1428 -91 1123 -41 \nQ 819 9 494 109 \nL 494 744 \nQ 775 591 1075 516 \nQ 1375 441 1709 441 \nQ 2250 441 2565 725 \nQ 2881 1009 2881 1497 \nQ 2881 1984 2565 2268 \nQ 2250 2553 1709 2553 \nQ 1456 2553 1204 2497 \nQ 953 2441 691 2322 \nL 691 4666 \nz\n\" transform=\"scale(0.015625)\"/>\n       </defs>\n       <use xlink:href=\"#DejaVuSans-31\"/>\n       <use xlink:href=\"#DejaVuSans-35\" x=\"63.623047\"/>\n      </g>\n     </g>\n    </g>\n    <g id=\"ytick_2\">\n     <g id=\"line2d_3\">\n      <g>\n       <use xlink:href=\"#m1b0ea2fc6b\" x=\"50.14375\" y=\"358.417662\" style=\"stroke: #000000; stroke-width: 0.8\"/>\n      </g>\n     </g>\n     <g id=\"text_2\">\n      <!-- 16 -->\n      <g transform=\"translate(30.41875 362.216881) scale(0.1 -0.1)\">\n       <defs>\n        <path id=\"DejaVuSans-36\" d=\"M 2113 2584 \nQ 1688 2584 1439 2293 \nQ 1191 2003 1191 1497 \nQ 1191 994 1439 701 \nQ 1688 409 2113 409 \nQ 2538 409 2786 701 \nQ 3034 994 3034 1497 \nQ 3034 2003 2786 2293 \nQ 2538 2584 2113 2584 \nz\nM 3366 4563 \nL 3366 3988 \nQ 3128 4100 2886 4159 \nQ 2644 4219 2406 4219 \nQ 1781 4219 1451 3797 \nQ 1122 3375 1075 2522 \nQ 1259 2794 1537 2939 \nQ 1816 3084 2150 3084 \nQ 2853 3084 3261 2657 \nQ 3669 2231 3669 1497 \nQ 3669 778 3244 343 \nQ 2819 -91 2113 -91 \nQ 1303 -91 875 529 \nQ 447 1150 447 2328 \nQ 447 3434 972 4092 \nQ 1497 4750 2381 4750 \nQ 2619 4750 2861 4703 \nQ 3103 4656 3366 4563 \nz\n\" transform=\"scale(0.015625)\"/>\n       </defs>\n       <use xlink:href=\"#DejaVuSans-31\"/>\n       <use xlink:href=\"#DejaVuSans-36\" x=\"63.623047\"/>\n      </g>\n     </g>\n    </g>\n    <g id=\"ytick_3\">\n     <g id=\"line2d_4\">\n      <g>\n       <use xlink:href=\"#m1b0ea2fc6b\" x=\"50.14375\" y=\"318.282597\" style=\"stroke: #000000; stroke-width: 0.8\"/>\n      </g>\n     </g>\n     <g id=\"text_3\">\n      <!-- 17 -->\n      <g transform=\"translate(30.41875 322.081816) scale(0.1 -0.1)\">\n       <defs>\n        <path id=\"DejaVuSans-37\" d=\"M 525 4666 \nL 3525 4666 \nL 3525 4397 \nL 1831 0 \nL 1172 0 \nL 2766 4134 \nL 525 4134 \nL 525 4666 \nz\n\" transform=\"scale(0.015625)\"/>\n       </defs>\n       <use xlink:href=\"#DejaVuSans-31\"/>\n       <use xlink:href=\"#DejaVuSans-37\" x=\"63.623047\"/>\n      </g>\n     </g>\n    </g>\n    <g id=\"ytick_4\">\n     <g id=\"line2d_5\">\n      <g>\n       <use xlink:href=\"#m1b0ea2fc6b\" x=\"50.14375\" y=\"278.147532\" style=\"stroke: #000000; stroke-width: 0.8\"/>\n      </g>\n     </g>\n     <g id=\"text_4\">\n      <!-- 18 -->\n      <g transform=\"translate(30.41875 281.946751) scale(0.1 -0.1)\">\n       <defs>\n        <path id=\"DejaVuSans-38\" d=\"M 2034 2216 \nQ 1584 2216 1326 1975 \nQ 1069 1734 1069 1313 \nQ 1069 891 1326 650 \nQ 1584 409 2034 409 \nQ 2484 409 2743 651 \nQ 3003 894 3003 1313 \nQ 3003 1734 2745 1975 \nQ 2488 2216 2034 2216 \nz\nM 1403 2484 \nQ 997 2584 770 2862 \nQ 544 3141 544 3541 \nQ 544 4100 942 4425 \nQ 1341 4750 2034 4750 \nQ 2731 4750 3128 4425 \nQ 3525 4100 3525 3541 \nQ 3525 3141 3298 2862 \nQ 3072 2584 2669 2484 \nQ 3125 2378 3379 2068 \nQ 3634 1759 3634 1313 \nQ 3634 634 3220 271 \nQ 2806 -91 2034 -91 \nQ 1263 -91 848 271 \nQ 434 634 434 1313 \nQ 434 1759 690 2068 \nQ 947 2378 1403 2484 \nz\nM 1172 3481 \nQ 1172 3119 1398 2916 \nQ 1625 2713 2034 2713 \nQ 2441 2713 2670 2916 \nQ 2900 3119 2900 3481 \nQ 2900 3844 2670 4047 \nQ 2441 4250 2034 4250 \nQ 1625 4250 1398 4047 \nQ 1172 3844 1172 3481 \nz\n\" transform=\"scale(0.015625)\"/>\n       </defs>\n       <use xlink:href=\"#DejaVuSans-31\"/>\n       <use xlink:href=\"#DejaVuSans-38\" x=\"63.623047\"/>\n      </g>\n     </g>\n    </g>\n    <g id=\"ytick_5\">\n     <g id=\"line2d_6\">\n      <g>\n       <use xlink:href=\"#m1b0ea2fc6b\" x=\"50.14375\" y=\"238.012468\" style=\"stroke: #000000; stroke-width: 0.8\"/>\n      </g>\n     </g>\n     <g id=\"text_5\">\n      <!-- 19 -->\n      <g transform=\"translate(30.41875 241.811686) scale(0.1 -0.1)\">\n       <defs>\n        <path id=\"DejaVuSans-39\" d=\"M 703 97 \nL 703 672 \nQ 941 559 1184 500 \nQ 1428 441 1663 441 \nQ 2288 441 2617 861 \nQ 2947 1281 2994 2138 \nQ 2813 1869 2534 1725 \nQ 2256 1581 1919 1581 \nQ 1219 1581 811 2004 \nQ 403 2428 403 3163 \nQ 403 3881 828 4315 \nQ 1253 4750 1959 4750 \nQ 2769 4750 3195 4129 \nQ 3622 3509 3622 2328 \nQ 3622 1225 3098 567 \nQ 2575 -91 1691 -91 \nQ 1453 -91 1209 -44 \nQ 966 3 703 97 \nz\nM 1959 2075 \nQ 2384 2075 2632 2365 \nQ 2881 2656 2881 3163 \nQ 2881 3666 2632 3958 \nQ 2384 4250 1959 4250 \nQ 1534 4250 1286 3958 \nQ 1038 3666 1038 3163 \nQ 1038 2656 1286 2365 \nQ 1534 2075 1959 2075 \nz\n\" transform=\"scale(0.015625)\"/>\n       </defs>\n       <use xlink:href=\"#DejaVuSans-31\"/>\n       <use xlink:href=\"#DejaVuSans-39\" x=\"63.623047\"/>\n      </g>\n     </g>\n    </g>\n    <g id=\"ytick_6\">\n     <g id=\"line2d_7\">\n      <g>\n       <use xlink:href=\"#m1b0ea2fc6b\" x=\"50.14375\" y=\"197.877403\" style=\"stroke: #000000; stroke-width: 0.8\"/>\n      </g>\n     </g>\n     <g id=\"text_6\">\n      <!-- 20 -->\n      <g transform=\"translate(30.41875 201.676621) scale(0.1 -0.1)\">\n       <defs>\n        <path id=\"DejaVuSans-32\" d=\"M 1228 531 \nL 3431 531 \nL 3431 0 \nL 469 0 \nL 469 531 \nQ 828 903 1448 1529 \nQ 2069 2156 2228 2338 \nQ 2531 2678 2651 2914 \nQ 2772 3150 2772 3378 \nQ 2772 3750 2511 3984 \nQ 2250 4219 1831 4219 \nQ 1534 4219 1204 4116 \nQ 875 4013 500 3803 \nL 500 4441 \nQ 881 4594 1212 4672 \nQ 1544 4750 1819 4750 \nQ 2544 4750 2975 4387 \nQ 3406 4025 3406 3419 \nQ 3406 3131 3298 2873 \nQ 3191 2616 2906 2266 \nQ 2828 2175 2409 1742 \nQ 1991 1309 1228 531 \nz\n\" transform=\"scale(0.015625)\"/>\n        <path id=\"DejaVuSans-30\" d=\"M 2034 4250 \nQ 1547 4250 1301 3770 \nQ 1056 3291 1056 2328 \nQ 1056 1369 1301 889 \nQ 1547 409 2034 409 \nQ 2525 409 2770 889 \nQ 3016 1369 3016 2328 \nQ 3016 3291 2770 3770 \nQ 2525 4250 2034 4250 \nz\nM 2034 4750 \nQ 2819 4750 3233 4129 \nQ 3647 3509 3647 2328 \nQ 3647 1150 3233 529 \nQ 2819 -91 2034 -91 \nQ 1250 -91 836 529 \nQ 422 1150 422 2328 \nQ 422 3509 836 4129 \nQ 1250 4750 2034 4750 \nz\n\" transform=\"scale(0.015625)\"/>\n       </defs>\n       <use xlink:href=\"#DejaVuSans-32\"/>\n       <use xlink:href=\"#DejaVuSans-30\" x=\"63.623047\"/>\n      </g>\n     </g>\n    </g>\n    <g id=\"ytick_7\">\n     <g id=\"line2d_8\">\n      <g>\n       <use xlink:href=\"#m1b0ea2fc6b\" x=\"50.14375\" y=\"157.742338\" style=\"stroke: #000000; stroke-width: 0.8\"/>\n      </g>\n     </g>\n     <g id=\"text_7\">\n      <!-- 21 -->\n      <g transform=\"translate(30.41875 161.541556) scale(0.1 -0.1)\">\n       <use xlink:href=\"#DejaVuSans-32\"/>\n       <use xlink:href=\"#DejaVuSans-31\" x=\"63.623047\"/>\n      </g>\n     </g>\n    </g>\n    <g id=\"ytick_8\">\n     <g id=\"line2d_9\">\n      <g>\n       <use xlink:href=\"#m1b0ea2fc6b\" x=\"50.14375\" y=\"117.607273\" style=\"stroke: #000000; stroke-width: 0.8\"/>\n      </g>\n     </g>\n     <g id=\"text_8\">\n      <!-- 22 -->\n      <g transform=\"translate(30.41875 121.406491) scale(0.1 -0.1)\">\n       <use xlink:href=\"#DejaVuSans-32\"/>\n       <use xlink:href=\"#DejaVuSans-32\" x=\"63.623047\"/>\n      </g>\n     </g>\n    </g>\n    <g id=\"text_9\">\n     <!-- age -->\n     <g transform=\"translate(24.339063 267.394844) rotate(-90) scale(0.1 -0.1)\">\n      <defs>\n       <path id=\"DejaVuSans-61\" d=\"M 2194 1759 \nQ 1497 1759 1228 1600 \nQ 959 1441 959 1056 \nQ 959 750 1161 570 \nQ 1363 391 1709 391 \nQ 2188 391 2477 730 \nQ 2766 1069 2766 1631 \nL 2766 1759 \nL 2194 1759 \nz\nM 3341 1997 \nL 3341 0 \nL 2766 0 \nL 2766 531 \nQ 2569 213 2275 61 \nQ 1981 -91 1556 -91 \nQ 1019 -91 701 211 \nQ 384 513 384 1019 \nQ 384 1609 779 1909 \nQ 1175 2209 1959 2209 \nL 2766 2209 \nL 2766 2266 \nQ 2766 2663 2505 2880 \nQ 2244 3097 1772 3097 \nQ 1472 3097 1187 3025 \nQ 903 2953 641 2809 \nL 641 3341 \nQ 956 3463 1253 3523 \nQ 1550 3584 1831 3584 \nQ 2591 3584 2966 3190 \nQ 3341 2797 3341 1997 \nz\n\" transform=\"scale(0.015625)\"/>\n       <path id=\"DejaVuSans-67\" d=\"M 2906 1791 \nQ 2906 2416 2648 2759 \nQ 2391 3103 1925 3103 \nQ 1463 3103 1205 2759 \nQ 947 2416 947 1791 \nQ 947 1169 1205 825 \nQ 1463 481 1925 481 \nQ 2391 481 2648 825 \nQ 2906 1169 2906 1791 \nz\nM 3481 434 \nQ 3481 -459 3084 -895 \nQ 2688 -1331 1869 -1331 \nQ 1566 -1331 1297 -1286 \nQ 1028 -1241 775 -1147 \nL 775 -588 \nQ 1028 -725 1275 -790 \nQ 1522 -856 1778 -856 \nQ 2344 -856 2625 -561 \nQ 2906 -266 2906 331 \nL 2906 616 \nQ 2728 306 2450 153 \nQ 2172 0 1784 0 \nQ 1141 0 747 490 \nQ 353 981 353 1791 \nQ 353 2603 747 3093 \nQ 1141 3584 1784 3584 \nQ 2172 3584 2450 3431 \nQ 2728 3278 2906 2969 \nL 2906 3500 \nL 3481 3500 \nL 3481 434 \nz\n\" transform=\"scale(0.015625)\"/>\n       <path id=\"DejaVuSans-65\" d=\"M 3597 1894 \nL 3597 1613 \nL 953 1613 \nQ 991 1019 1311 708 \nQ 1631 397 2203 397 \nQ 2534 397 2845 478 \nQ 3156 559 3463 722 \nL 3463 178 \nQ 3153 47 2828 -22 \nQ 2503 -91 2169 -91 \nQ 1331 -91 842 396 \nQ 353 884 353 1716 \nQ 353 2575 817 3079 \nQ 1281 3584 2069 3584 \nQ 2775 3584 3186 3129 \nQ 3597 2675 3597 1894 \nz\nM 3022 2063 \nQ 3016 2534 2758 2815 \nQ 2500 3097 2075 3097 \nQ 1594 3097 1305 2825 \nQ 1016 2553 972 2059 \nL 3022 2063 \nz\n\" transform=\"scale(0.015625)\"/>\n      </defs>\n      <use xlink:href=\"#DejaVuSans-61\"/>\n      <use xlink:href=\"#DejaVuSans-67\" x=\"61.279297\"/>\n      <use xlink:href=\"#DejaVuSans-65\" x=\"124.755859\"/>\n     </g>\n    </g>\n   </g>\n   <g id=\"line2d_10\">\n    <path d=\"M 201.33375 358.417662 \nL 201.33375 398.552727 \n\" clip-path=\"url(#pce99d8fa8e)\" style=\"fill: none; stroke: #3f3f3f; stroke-width: 1.5; stroke-linecap: square\"/>\n   </g>\n   <g id=\"line2d_11\">\n    <path d=\"M 201.33375 278.147532 \nL 201.33375 157.742338 \n\" clip-path=\"url(#pce99d8fa8e)\" style=\"fill: none; stroke: #3f3f3f; stroke-width: 1.5; stroke-linecap: square\"/>\n   </g>\n   <g id=\"line2d_12\">\n    <path d=\"M 140.85775 398.552727 \nL 261.80975 398.552727 \n\" clip-path=\"url(#pce99d8fa8e)\" style=\"fill: none; stroke: #3f3f3f; stroke-width: 1.5; stroke-linecap: square\"/>\n   </g>\n   <g id=\"line2d_13\">\n    <path d=\"M 140.85775 157.742338 \nL 261.80975 157.742338 \n\" clip-path=\"url(#pce99d8fa8e)\" style=\"fill: none; stroke: #3f3f3f; stroke-width: 1.5; stroke-linecap: square\"/>\n   </g>\n   <g id=\"line2d_14\">\n    <defs>\n     <path id=\"ma3115d322c\" d=\"M -0 3.535534 \nL 2.12132 0 \nL -0 -3.535534 \nL -2.12132 -0 \nz\n\" style=\"stroke: #3f3f3f; stroke-linejoin: miter\"/>\n    </defs>\n    <g clip-path=\"url(#pce99d8fa8e)\">\n     <use xlink:href=\"#ma3115d322c\" x=\"201.33375\" y=\"117.607273\" style=\"fill: #3f3f3f; stroke: #3f3f3f; stroke-linejoin: miter\"/>\n    </g>\n   </g>\n   <g id=\"line2d_15\">\n    <path d=\"M 80.38175 318.282597 \nL 322.28575 318.282597 \n\" clip-path=\"url(#pce99d8fa8e)\" style=\"fill: none; stroke: #3f3f3f; stroke-width: 1.5; stroke-linecap: square\"/>\n   </g>\n   <g id=\"patch_4\">\n    <path d=\"M 50.14375 412.6 \nL 50.14375 103.56 \n\" style=\"fill: none; stroke: #000000; stroke-width: 0.8; stroke-linejoin: miter; stroke-linecap: square\"/>\n   </g>\n   <g id=\"patch_5\">\n    <path d=\"M 352.52375 412.6 \nL 352.52375 103.56 \n\" style=\"fill: none; stroke: #000000; stroke-width: 0.8; stroke-linejoin: miter; stroke-linecap: square\"/>\n   </g>\n   <g id=\"patch_6\">\n    <path d=\"M 50.14375 412.6 \nL 352.52375 412.6 \n\" style=\"fill: none; stroke: #000000; stroke-width: 0.8; stroke-linejoin: miter; stroke-linecap: square\"/>\n   </g>\n   <g id=\"patch_7\">\n    <path d=\"M 50.14375 103.56 \nL 352.52375 103.56 \n\" style=\"fill: none; stroke: #000000; stroke-width: 0.8; stroke-linejoin: miter; stroke-linecap: square\"/>\n   </g>\n   <g id=\"text_10\">\n    <!-- Box Plot para age -->\n    <g transform=\"translate(148.34625 97.56) scale(0.12 -0.12)\">\n     <defs>\n      <path id=\"DejaVuSans-42\" d=\"M 1259 2228 \nL 1259 519 \nL 2272 519 \nQ 2781 519 3026 730 \nQ 3272 941 3272 1375 \nQ 3272 1813 3026 2020 \nQ 2781 2228 2272 2228 \nL 1259 2228 \nz\nM 1259 4147 \nL 1259 2741 \nL 2194 2741 \nQ 2656 2741 2882 2914 \nQ 3109 3088 3109 3444 \nQ 3109 3797 2882 3972 \nQ 2656 4147 2194 4147 \nL 1259 4147 \nz\nM 628 4666 \nL 2241 4666 \nQ 2963 4666 3353 4366 \nQ 3744 4066 3744 3513 \nQ 3744 3084 3544 2831 \nQ 3344 2578 2956 2516 \nQ 3422 2416 3680 2098 \nQ 3938 1781 3938 1306 \nQ 3938 681 3513 340 \nQ 3088 0 2303 0 \nL 628 0 \nL 628 4666 \nz\n\" transform=\"scale(0.015625)\"/>\n      <path id=\"DejaVuSans-6f\" d=\"M 1959 3097 \nQ 1497 3097 1228 2736 \nQ 959 2375 959 1747 \nQ 959 1119 1226 758 \nQ 1494 397 1959 397 \nQ 2419 397 2687 759 \nQ 2956 1122 2956 1747 \nQ 2956 2369 2687 2733 \nQ 2419 3097 1959 3097 \nz\nM 1959 3584 \nQ 2709 3584 3137 3096 \nQ 3566 2609 3566 1747 \nQ 3566 888 3137 398 \nQ 2709 -91 1959 -91 \nQ 1206 -91 779 398 \nQ 353 888 353 1747 \nQ 353 2609 779 3096 \nQ 1206 3584 1959 3584 \nz\n\" transform=\"scale(0.015625)\"/>\n      <path id=\"DejaVuSans-78\" d=\"M 3513 3500 \nL 2247 1797 \nL 3578 0 \nL 2900 0 \nL 1881 1375 \nL 863 0 \nL 184 0 \nL 1544 1831 \nL 300 3500 \nL 978 3500 \nL 1906 2253 \nL 2834 3500 \nL 3513 3500 \nz\n\" transform=\"scale(0.015625)\"/>\n      <path id=\"DejaVuSans-20\" transform=\"scale(0.015625)\"/>\n      <path id=\"DejaVuSans-50\" d=\"M 1259 4147 \nL 1259 2394 \nL 2053 2394 \nQ 2494 2394 2734 2622 \nQ 2975 2850 2975 3272 \nQ 2975 3691 2734 3919 \nQ 2494 4147 2053 4147 \nL 1259 4147 \nz\nM 628 4666 \nL 2053 4666 \nQ 2838 4666 3239 4311 \nQ 3641 3956 3641 3272 \nQ 3641 2581 3239 2228 \nQ 2838 1875 2053 1875 \nL 1259 1875 \nL 1259 0 \nL 628 0 \nL 628 4666 \nz\n\" transform=\"scale(0.015625)\"/>\n      <path id=\"DejaVuSans-6c\" d=\"M 603 4863 \nL 1178 4863 \nL 1178 0 \nL 603 0 \nL 603 4863 \nz\n\" transform=\"scale(0.015625)\"/>\n      <path id=\"DejaVuSans-74\" d=\"M 1172 4494 \nL 1172 3500 \nL 2356 3500 \nL 2356 3053 \nL 1172 3053 \nL 1172 1153 \nQ 1172 725 1289 603 \nQ 1406 481 1766 481 \nL 2356 481 \nL 2356 0 \nL 1766 0 \nQ 1100 0 847 248 \nQ 594 497 594 1153 \nL 594 3053 \nL 172 3053 \nL 172 3500 \nL 594 3500 \nL 594 4494 \nL 1172 4494 \nz\n\" transform=\"scale(0.015625)\"/>\n      <path id=\"DejaVuSans-70\" d=\"M 1159 525 \nL 1159 -1331 \nL 581 -1331 \nL 581 3500 \nL 1159 3500 \nL 1159 2969 \nQ 1341 3281 1617 3432 \nQ 1894 3584 2278 3584 \nQ 2916 3584 3314 3078 \nQ 3713 2572 3713 1747 \nQ 3713 922 3314 415 \nQ 2916 -91 2278 -91 \nQ 1894 -91 1617 61 \nQ 1341 213 1159 525 \nz\nM 3116 1747 \nQ 3116 2381 2855 2742 \nQ 2594 3103 2138 3103 \nQ 1681 3103 1420 2742 \nQ 1159 2381 1159 1747 \nQ 1159 1113 1420 752 \nQ 1681 391 2138 391 \nQ 2594 391 2855 752 \nQ 3116 1113 3116 1747 \nz\n\" transform=\"scale(0.015625)\"/>\n      <path id=\"DejaVuSans-72\" d=\"M 2631 2963 \nQ 2534 3019 2420 3045 \nQ 2306 3072 2169 3072 \nQ 1681 3072 1420 2755 \nQ 1159 2438 1159 1844 \nL 1159 0 \nL 581 0 \nL 581 3500 \nL 1159 3500 \nL 1159 2956 \nQ 1341 3275 1631 3429 \nQ 1922 3584 2338 3584 \nQ 2397 3584 2469 3576 \nQ 2541 3569 2628 3553 \nL 2631 2963 \nz\n\" transform=\"scale(0.015625)\"/>\n     </defs>\n     <use xlink:href=\"#DejaVuSans-42\"/>\n     <use xlink:href=\"#DejaVuSans-6f\" x=\"68.603516\"/>\n     <use xlink:href=\"#DejaVuSans-78\" x=\"126.660156\"/>\n     <use xlink:href=\"#DejaVuSans-20\" x=\"185.839844\"/>\n     <use xlink:href=\"#DejaVuSans-50\" x=\"217.626953\"/>\n     <use xlink:href=\"#DejaVuSans-6c\" x=\"277.929688\"/>\n     <use xlink:href=\"#DejaVuSans-6f\" x=\"305.712891\"/>\n     <use xlink:href=\"#DejaVuSans-74\" x=\"366.894531\"/>\n     <use xlink:href=\"#DejaVuSans-20\" x=\"406.103516\"/>\n     <use xlink:href=\"#DejaVuSans-70\" x=\"437.890625\"/>\n     <use xlink:href=\"#DejaVuSans-61\" x=\"501.367188\"/>\n     <use xlink:href=\"#DejaVuSans-72\" x=\"562.646484\"/>\n     <use xlink:href=\"#DejaVuSans-61\" x=\"603.759766\"/>\n     <use xlink:href=\"#DejaVuSans-20\" x=\"665.039062\"/>\n     <use xlink:href=\"#DejaVuSans-61\" x=\"696.826172\"/>\n     <use xlink:href=\"#DejaVuSans-67\" x=\"758.105469\"/>\n     <use xlink:href=\"#DejaVuSans-65\" x=\"821.582031\"/>\n    </g>\n   </g>\n  </g>\n  <g id=\"axes_2\">\n   <g id=\"patch_8\">\n    <path d=\"M 406.54375 412.6 \nL 708.92375 412.6 \nL 708.92375 103.56 \nL 406.54375 103.56 \nz\n\" style=\"fill: #ffffff\"/>\n   </g>\n   <g id=\"patch_9\">\n    <path d=\"M 436.78175 258.08 \nL 678.68575 258.08 \nL 678.68575 117.607273 \nL 436.78175 117.607273 \nL 436.78175 258.08 \nz\n\" clip-path=\"url(#p9d00beab41)\" style=\"fill: #3274a1; stroke: #3f3f3f; stroke-width: 1.5; stroke-linejoin: miter\"/>\n   </g>\n   <g id=\"matplotlib.axis_3\">\n    <g id=\"xtick_2\">\n     <g id=\"line2d_16\">\n      <g>\n       <use xlink:href=\"#me3414331ca\" x=\"557.73375\" y=\"412.6\" style=\"stroke: #000000; stroke-width: 0.8\"/>\n      </g>\n     </g>\n    </g>\n   </g>\n   <g id=\"matplotlib.axis_4\">\n    <g id=\"ytick_9\">\n     <g id=\"line2d_17\">\n      <g>\n       <use xlink:href=\"#m1b0ea2fc6b\" x=\"406.54375\" y=\"398.552727\" style=\"stroke: #000000; stroke-width: 0.8\"/>\n      </g>\n     </g>\n     <g id=\"text_11\">\n      <!-- 0.0 -->\n      <g transform=\"translate(383.640625 402.351946) scale(0.1 -0.1)\">\n       <defs>\n        <path id=\"DejaVuSans-2e\" d=\"M 684 794 \nL 1344 794 \nL 1344 0 \nL 684 0 \nL 684 794 \nz\n\" transform=\"scale(0.015625)\"/>\n       </defs>\n       <use xlink:href=\"#DejaVuSans-30\"/>\n       <use xlink:href=\"#DejaVuSans-2e\" x=\"63.623047\"/>\n       <use xlink:href=\"#DejaVuSans-30\" x=\"95.410156\"/>\n      </g>\n     </g>\n    </g>\n    <g id=\"ytick_10\">\n     <g id=\"line2d_18\">\n      <g>\n       <use xlink:href=\"#m1b0ea2fc6b\" x=\"406.54375\" y=\"363.434545\" style=\"stroke: #000000; stroke-width: 0.8\"/>\n      </g>\n     </g>\n     <g id=\"text_12\">\n      <!-- 0.5 -->\n      <g transform=\"translate(383.640625 367.233764) scale(0.1 -0.1)\">\n       <use xlink:href=\"#DejaVuSans-30\"/>\n       <use xlink:href=\"#DejaVuSans-2e\" x=\"63.623047\"/>\n       <use xlink:href=\"#DejaVuSans-35\" x=\"95.410156\"/>\n      </g>\n     </g>\n    </g>\n    <g id=\"ytick_11\">\n     <g id=\"line2d_19\">\n      <g>\n       <use xlink:href=\"#m1b0ea2fc6b\" x=\"406.54375\" y=\"328.316364\" style=\"stroke: #000000; stroke-width: 0.8\"/>\n      </g>\n     </g>\n     <g id=\"text_13\">\n      <!-- 1.0 -->\n      <g transform=\"translate(383.640625 332.115582) scale(0.1 -0.1)\">\n       <use xlink:href=\"#DejaVuSans-31\"/>\n       <use xlink:href=\"#DejaVuSans-2e\" x=\"63.623047\"/>\n       <use xlink:href=\"#DejaVuSans-30\" x=\"95.410156\"/>\n      </g>\n     </g>\n    </g>\n    <g id=\"ytick_12\">\n     <g id=\"line2d_20\">\n      <g>\n       <use xlink:href=\"#m1b0ea2fc6b\" x=\"406.54375\" y=\"293.198182\" style=\"stroke: #000000; stroke-width: 0.8\"/>\n      </g>\n     </g>\n     <g id=\"text_14\">\n      <!-- 1.5 -->\n      <g transform=\"translate(383.640625 296.997401) scale(0.1 -0.1)\">\n       <use xlink:href=\"#DejaVuSans-31\"/>\n       <use xlink:href=\"#DejaVuSans-2e\" x=\"63.623047\"/>\n       <use xlink:href=\"#DejaVuSans-35\" x=\"95.410156\"/>\n      </g>\n     </g>\n    </g>\n    <g id=\"ytick_13\">\n     <g id=\"line2d_21\">\n      <g>\n       <use xlink:href=\"#m1b0ea2fc6b\" x=\"406.54375\" y=\"258.08\" style=\"stroke: #000000; stroke-width: 0.8\"/>\n      </g>\n     </g>\n     <g id=\"text_15\">\n      <!-- 2.0 -->\n      <g transform=\"translate(383.640625 261.879219) scale(0.1 -0.1)\">\n       <use xlink:href=\"#DejaVuSans-32\"/>\n       <use xlink:href=\"#DejaVuSans-2e\" x=\"63.623047\"/>\n       <use xlink:href=\"#DejaVuSans-30\" x=\"95.410156\"/>\n      </g>\n     </g>\n    </g>\n    <g id=\"ytick_14\">\n     <g id=\"line2d_22\">\n      <g>\n       <use xlink:href=\"#m1b0ea2fc6b\" x=\"406.54375\" y=\"222.961818\" style=\"stroke: #000000; stroke-width: 0.8\"/>\n      </g>\n     </g>\n     <g id=\"text_16\">\n      <!-- 2.5 -->\n      <g transform=\"translate(383.640625 226.761037) scale(0.1 -0.1)\">\n       <use xlink:href=\"#DejaVuSans-32\"/>\n       <use xlink:href=\"#DejaVuSans-2e\" x=\"63.623047\"/>\n       <use xlink:href=\"#DejaVuSans-35\" x=\"95.410156\"/>\n      </g>\n     </g>\n    </g>\n    <g id=\"ytick_15\">\n     <g id=\"line2d_23\">\n      <g>\n       <use xlink:href=\"#m1b0ea2fc6b\" x=\"406.54375\" y=\"187.843636\" style=\"stroke: #000000; stroke-width: 0.8\"/>\n      </g>\n     </g>\n     <g id=\"text_17\">\n      <!-- 3.0 -->\n      <g transform=\"translate(383.640625 191.642855) scale(0.1 -0.1)\">\n       <defs>\n        <path id=\"DejaVuSans-33\" d=\"M 2597 2516 \nQ 3050 2419 3304 2112 \nQ 3559 1806 3559 1356 \nQ 3559 666 3084 287 \nQ 2609 -91 1734 -91 \nQ 1441 -91 1130 -33 \nQ 819 25 488 141 \nL 488 750 \nQ 750 597 1062 519 \nQ 1375 441 1716 441 \nQ 2309 441 2620 675 \nQ 2931 909 2931 1356 \nQ 2931 1769 2642 2001 \nQ 2353 2234 1838 2234 \nL 1294 2234 \nL 1294 2753 \nL 1863 2753 \nQ 2328 2753 2575 2939 \nQ 2822 3125 2822 3475 \nQ 2822 3834 2567 4026 \nQ 2313 4219 1838 4219 \nQ 1578 4219 1281 4162 \nQ 984 4106 628 3988 \nL 628 4550 \nQ 988 4650 1302 4700 \nQ 1616 4750 1894 4750 \nQ 2613 4750 3031 4423 \nQ 3450 4097 3450 3541 \nQ 3450 3153 3228 2886 \nQ 3006 2619 2597 2516 \nz\n\" transform=\"scale(0.015625)\"/>\n       </defs>\n       <use xlink:href=\"#DejaVuSans-33\"/>\n       <use xlink:href=\"#DejaVuSans-2e\" x=\"63.623047\"/>\n       <use xlink:href=\"#DejaVuSans-30\" x=\"95.410156\"/>\n      </g>\n     </g>\n    </g>\n    <g id=\"ytick_16\">\n     <g id=\"line2d_24\">\n      <g>\n       <use xlink:href=\"#m1b0ea2fc6b\" x=\"406.54375\" y=\"152.725455\" style=\"stroke: #000000; stroke-width: 0.8\"/>\n      </g>\n     </g>\n     <g id=\"text_18\">\n      <!-- 3.5 -->\n      <g transform=\"translate(383.640625 156.524673) scale(0.1 -0.1)\">\n       <use xlink:href=\"#DejaVuSans-33\"/>\n       <use xlink:href=\"#DejaVuSans-2e\" x=\"63.623047\"/>\n       <use xlink:href=\"#DejaVuSans-35\" x=\"95.410156\"/>\n      </g>\n     </g>\n    </g>\n    <g id=\"ytick_17\">\n     <g id=\"line2d_25\">\n      <g>\n       <use xlink:href=\"#m1b0ea2fc6b\" x=\"406.54375\" y=\"117.607273\" style=\"stroke: #000000; stroke-width: 0.8\"/>\n      </g>\n     </g>\n     <g id=\"text_19\">\n      <!-- 4.0 -->\n      <g transform=\"translate(383.640625 121.406491) scale(0.1 -0.1)\">\n       <defs>\n        <path id=\"DejaVuSans-34\" d=\"M 2419 4116 \nL 825 1625 \nL 2419 1625 \nL 2419 4116 \nz\nM 2253 4666 \nL 3047 4666 \nL 3047 1625 \nL 3713 1625 \nL 3713 1100 \nL 3047 1100 \nL 3047 0 \nL 2419 0 \nL 2419 1100 \nL 313 1100 \nL 313 1709 \nL 2253 4666 \nz\n\" transform=\"scale(0.015625)\"/>\n       </defs>\n       <use xlink:href=\"#DejaVuSans-34\"/>\n       <use xlink:href=\"#DejaVuSans-2e\" x=\"63.623047\"/>\n       <use xlink:href=\"#DejaVuSans-30\" x=\"95.410156\"/>\n      </g>\n     </g>\n    </g>\n    <g id=\"text_20\">\n     <!-- Medu -->\n     <g transform=\"translate(377.560938 271.813594) rotate(-90) scale(0.1 -0.1)\">\n      <defs>\n       <path id=\"DejaVuSans-4d\" d=\"M 628 4666 \nL 1569 4666 \nL 2759 1491 \nL 3956 4666 \nL 4897 4666 \nL 4897 0 \nL 4281 0 \nL 4281 4097 \nL 3078 897 \nL 2444 897 \nL 1241 4097 \nL 1241 0 \nL 628 0 \nL 628 4666 \nz\n\" transform=\"scale(0.015625)\"/>\n       <path id=\"DejaVuSans-64\" d=\"M 2906 2969 \nL 2906 4863 \nL 3481 4863 \nL 3481 0 \nL 2906 0 \nL 2906 525 \nQ 2725 213 2448 61 \nQ 2172 -91 1784 -91 \nQ 1150 -91 751 415 \nQ 353 922 353 1747 \nQ 353 2572 751 3078 \nQ 1150 3584 1784 3584 \nQ 2172 3584 2448 3432 \nQ 2725 3281 2906 2969 \nz\nM 947 1747 \nQ 947 1113 1208 752 \nQ 1469 391 1925 391 \nQ 2381 391 2643 752 \nQ 2906 1113 2906 1747 \nQ 2906 2381 2643 2742 \nQ 2381 3103 1925 3103 \nQ 1469 3103 1208 2742 \nQ 947 2381 947 1747 \nz\n\" transform=\"scale(0.015625)\"/>\n       <path id=\"DejaVuSans-75\" d=\"M 544 1381 \nL 544 3500 \nL 1119 3500 \nL 1119 1403 \nQ 1119 906 1312 657 \nQ 1506 409 1894 409 \nQ 2359 409 2629 706 \nQ 2900 1003 2900 1516 \nL 2900 3500 \nL 3475 3500 \nL 3475 0 \nL 2900 0 \nL 2900 538 \nQ 2691 219 2414 64 \nQ 2138 -91 1772 -91 \nQ 1169 -91 856 284 \nQ 544 659 544 1381 \nz\nM 1991 3584 \nL 1991 3584 \nz\n\" transform=\"scale(0.015625)\"/>\n      </defs>\n      <use xlink:href=\"#DejaVuSans-4d\"/>\n      <use xlink:href=\"#DejaVuSans-65\" x=\"86.279297\"/>\n      <use xlink:href=\"#DejaVuSans-64\" x=\"147.802734\"/>\n      <use xlink:href=\"#DejaVuSans-75\" x=\"211.279297\"/>\n     </g>\n    </g>\n   </g>\n   <g id=\"line2d_26\">\n    <path d=\"M 557.73375 258.08 \nL 557.73375 398.552727 \n\" clip-path=\"url(#p9d00beab41)\" style=\"fill: none; stroke: #3f3f3f; stroke-width: 1.5; stroke-linecap: square\"/>\n   </g>\n   <g id=\"line2d_27\">\n    <path d=\"M 557.73375 117.607273 \nL 557.73375 117.607273 \n\" clip-path=\"url(#p9d00beab41)\" style=\"fill: none; stroke: #3f3f3f; stroke-width: 1.5; stroke-linecap: square\"/>\n   </g>\n   <g id=\"line2d_28\">\n    <path d=\"M 497.25775 398.552727 \nL 618.20975 398.552727 \n\" clip-path=\"url(#p9d00beab41)\" style=\"fill: none; stroke: #3f3f3f; stroke-width: 1.5; stroke-linecap: square\"/>\n   </g>\n   <g id=\"line2d_29\">\n    <path d=\"M 497.25775 117.607273 \nL 618.20975 117.607273 \n\" clip-path=\"url(#p9d00beab41)\" style=\"fill: none; stroke: #3f3f3f; stroke-width: 1.5; stroke-linecap: square\"/>\n   </g>\n   <g id=\"line2d_30\"/>\n   <g id=\"line2d_31\">\n    <path d=\"M 436.78175 258.08 \nL 678.68575 258.08 \n\" clip-path=\"url(#p9d00beab41)\" style=\"fill: none; stroke: #3f3f3f; stroke-width: 1.5; stroke-linecap: square\"/>\n   </g>\n   <g id=\"patch_10\">\n    <path d=\"M 406.54375 412.6 \nL 406.54375 103.56 \n\" style=\"fill: none; stroke: #000000; stroke-width: 0.8; stroke-linejoin: miter; stroke-linecap: square\"/>\n   </g>\n   <g id=\"patch_11\">\n    <path d=\"M 708.92375 412.6 \nL 708.92375 103.56 \n\" style=\"fill: none; stroke: #000000; stroke-width: 0.8; stroke-linejoin: miter; stroke-linecap: square\"/>\n   </g>\n   <g id=\"patch_12\">\n    <path d=\"M 406.54375 412.6 \nL 708.92375 412.6 \n\" style=\"fill: none; stroke: #000000; stroke-width: 0.8; stroke-linejoin: miter; stroke-linecap: square\"/>\n   </g>\n   <g id=\"patch_13\">\n    <path d=\"M 406.54375 103.56 \nL 708.92375 103.56 \n\" style=\"fill: none; stroke: #000000; stroke-width: 0.8; stroke-linejoin: miter; stroke-linecap: square\"/>\n   </g>\n   <g id=\"text_21\">\n    <!-- Box Plot para Medu -->\n    <g transform=\"translate(499.44375 97.56) scale(0.12 -0.12)\">\n     <use xlink:href=\"#DejaVuSans-42\"/>\n     <use xlink:href=\"#DejaVuSans-6f\" x=\"68.603516\"/>\n     <use xlink:href=\"#DejaVuSans-78\" x=\"126.660156\"/>\n     <use xlink:href=\"#DejaVuSans-20\" x=\"185.839844\"/>\n     <use xlink:href=\"#DejaVuSans-50\" x=\"217.626953\"/>\n     <use xlink:href=\"#DejaVuSans-6c\" x=\"277.929688\"/>\n     <use xlink:href=\"#DejaVuSans-6f\" x=\"305.712891\"/>\n     <use xlink:href=\"#DejaVuSans-74\" x=\"366.894531\"/>\n     <use xlink:href=\"#DejaVuSans-20\" x=\"406.103516\"/>\n     <use xlink:href=\"#DejaVuSans-70\" x=\"437.890625\"/>\n     <use xlink:href=\"#DejaVuSans-61\" x=\"501.367188\"/>\n     <use xlink:href=\"#DejaVuSans-72\" x=\"562.646484\"/>\n     <use xlink:href=\"#DejaVuSans-61\" x=\"603.759766\"/>\n     <use xlink:href=\"#DejaVuSans-20\" x=\"665.039062\"/>\n     <use xlink:href=\"#DejaVuSans-4d\" x=\"696.826172\"/>\n     <use xlink:href=\"#DejaVuSans-65\" x=\"783.105469\"/>\n     <use xlink:href=\"#DejaVuSans-64\" x=\"844.628906\"/>\n     <use xlink:href=\"#DejaVuSans-75\" x=\"908.105469\"/>\n    </g>\n   </g>\n  </g>\n  <g id=\"axes_3\">\n   <g id=\"patch_14\">\n    <path d=\"M 762.94375 412.6 \nL 1065.32375 412.6 \nL 1065.32375 103.56 \nL 762.94375 103.56 \nz\n\" style=\"fill: #ffffff\"/>\n   </g>\n   <g id=\"patch_15\">\n    <path d=\"M 793.18175 328.316364 \nL 1035.08575 328.316364 \nL 1035.08575 187.843636 \nL 793.18175 187.843636 \nL 793.18175 328.316364 \nz\n\" clip-path=\"url(#p8e5f9cb6ec)\" style=\"fill: #3274a1; stroke: #3f3f3f; stroke-width: 1.5; stroke-linejoin: miter\"/>\n   </g>\n   <g id=\"matplotlib.axis_5\">\n    <g id=\"xtick_3\">\n     <g id=\"line2d_32\">\n      <g>\n       <use xlink:href=\"#me3414331ca\" x=\"914.13375\" y=\"412.6\" style=\"stroke: #000000; stroke-width: 0.8\"/>\n      </g>\n     </g>\n    </g>\n   </g>\n   <g id=\"matplotlib.axis_6\">\n    <g id=\"ytick_18\">\n     <g id=\"line2d_33\">\n      <g>\n       <use xlink:href=\"#m1b0ea2fc6b\" x=\"762.94375\" y=\"398.552727\" style=\"stroke: #000000; stroke-width: 0.8\"/>\n      </g>\n     </g>\n     <g id=\"text_22\">\n      <!-- 0.0 -->\n      <g transform=\"translate(740.040625 402.351946) scale(0.1 -0.1)\">\n       <use xlink:href=\"#DejaVuSans-30\"/>\n       <use xlink:href=\"#DejaVuSans-2e\" x=\"63.623047\"/>\n       <use xlink:href=\"#DejaVuSans-30\" x=\"95.410156\"/>\n      </g>\n     </g>\n    </g>\n    <g id=\"ytick_19\">\n     <g id=\"line2d_34\">\n      <g>\n       <use xlink:href=\"#m1b0ea2fc6b\" x=\"762.94375\" y=\"363.434545\" style=\"stroke: #000000; stroke-width: 0.8\"/>\n      </g>\n     </g>\n     <g id=\"text_23\">\n      <!-- 0.5 -->\n      <g transform=\"translate(740.040625 367.233764) scale(0.1 -0.1)\">\n       <use xlink:href=\"#DejaVuSans-30\"/>\n       <use xlink:href=\"#DejaVuSans-2e\" x=\"63.623047\"/>\n       <use xlink:href=\"#DejaVuSans-35\" x=\"95.410156\"/>\n      </g>\n     </g>\n    </g>\n    <g id=\"ytick_20\">\n     <g id=\"line2d_35\">\n      <g>\n       <use xlink:href=\"#m1b0ea2fc6b\" x=\"762.94375\" y=\"328.316364\" style=\"stroke: #000000; stroke-width: 0.8\"/>\n      </g>\n     </g>\n     <g id=\"text_24\">\n      <!-- 1.0 -->\n      <g transform=\"translate(740.040625 332.115582) scale(0.1 -0.1)\">\n       <use xlink:href=\"#DejaVuSans-31\"/>\n       <use xlink:href=\"#DejaVuSans-2e\" x=\"63.623047\"/>\n       <use xlink:href=\"#DejaVuSans-30\" x=\"95.410156\"/>\n      </g>\n     </g>\n    </g>\n    <g id=\"ytick_21\">\n     <g id=\"line2d_36\">\n      <g>\n       <use xlink:href=\"#m1b0ea2fc6b\" x=\"762.94375\" y=\"293.198182\" style=\"stroke: #000000; stroke-width: 0.8\"/>\n      </g>\n     </g>\n     <g id=\"text_25\">\n      <!-- 1.5 -->\n      <g transform=\"translate(740.040625 296.997401) scale(0.1 -0.1)\">\n       <use xlink:href=\"#DejaVuSans-31\"/>\n       <use xlink:href=\"#DejaVuSans-2e\" x=\"63.623047\"/>\n       <use xlink:href=\"#DejaVuSans-35\" x=\"95.410156\"/>\n      </g>\n     </g>\n    </g>\n    <g id=\"ytick_22\">\n     <g id=\"line2d_37\">\n      <g>\n       <use xlink:href=\"#m1b0ea2fc6b\" x=\"762.94375\" y=\"258.08\" style=\"stroke: #000000; stroke-width: 0.8\"/>\n      </g>\n     </g>\n     <g id=\"text_26\">\n      <!-- 2.0 -->\n      <g transform=\"translate(740.040625 261.879219) scale(0.1 -0.1)\">\n       <use xlink:href=\"#DejaVuSans-32\"/>\n       <use xlink:href=\"#DejaVuSans-2e\" x=\"63.623047\"/>\n       <use xlink:href=\"#DejaVuSans-30\" x=\"95.410156\"/>\n      </g>\n     </g>\n    </g>\n    <g id=\"ytick_23\">\n     <g id=\"line2d_38\">\n      <g>\n       <use xlink:href=\"#m1b0ea2fc6b\" x=\"762.94375\" y=\"222.961818\" style=\"stroke: #000000; stroke-width: 0.8\"/>\n      </g>\n     </g>\n     <g id=\"text_27\">\n      <!-- 2.5 -->\n      <g transform=\"translate(740.040625 226.761037) scale(0.1 -0.1)\">\n       <use xlink:href=\"#DejaVuSans-32\"/>\n       <use xlink:href=\"#DejaVuSans-2e\" x=\"63.623047\"/>\n       <use xlink:href=\"#DejaVuSans-35\" x=\"95.410156\"/>\n      </g>\n     </g>\n    </g>\n    <g id=\"ytick_24\">\n     <g id=\"line2d_39\">\n      <g>\n       <use xlink:href=\"#m1b0ea2fc6b\" x=\"762.94375\" y=\"187.843636\" style=\"stroke: #000000; stroke-width: 0.8\"/>\n      </g>\n     </g>\n     <g id=\"text_28\">\n      <!-- 3.0 -->\n      <g transform=\"translate(740.040625 191.642855) scale(0.1 -0.1)\">\n       <use xlink:href=\"#DejaVuSans-33\"/>\n       <use xlink:href=\"#DejaVuSans-2e\" x=\"63.623047\"/>\n       <use xlink:href=\"#DejaVuSans-30\" x=\"95.410156\"/>\n      </g>\n     </g>\n    </g>\n    <g id=\"ytick_25\">\n     <g id=\"line2d_40\">\n      <g>\n       <use xlink:href=\"#m1b0ea2fc6b\" x=\"762.94375\" y=\"152.725455\" style=\"stroke: #000000; stroke-width: 0.8\"/>\n      </g>\n     </g>\n     <g id=\"text_29\">\n      <!-- 3.5 -->\n      <g transform=\"translate(740.040625 156.524673) scale(0.1 -0.1)\">\n       <use xlink:href=\"#DejaVuSans-33\"/>\n       <use xlink:href=\"#DejaVuSans-2e\" x=\"63.623047\"/>\n       <use xlink:href=\"#DejaVuSans-35\" x=\"95.410156\"/>\n      </g>\n     </g>\n    </g>\n    <g id=\"ytick_26\">\n     <g id=\"line2d_41\">\n      <g>\n       <use xlink:href=\"#m1b0ea2fc6b\" x=\"762.94375\" y=\"117.607273\" style=\"stroke: #000000; stroke-width: 0.8\"/>\n      </g>\n     </g>\n     <g id=\"text_30\">\n      <!-- 4.0 -->\n      <g transform=\"translate(740.040625 121.406491) scale(0.1 -0.1)\">\n       <use xlink:href=\"#DejaVuSans-34\"/>\n       <use xlink:href=\"#DejaVuSans-2e\" x=\"63.623047\"/>\n       <use xlink:href=\"#DejaVuSans-30\" x=\"95.410156\"/>\n      </g>\n     </g>\n    </g>\n    <g id=\"text_31\">\n     <!-- Fedu -->\n     <g transform=\"translate(733.960938 270.100313) rotate(-90) scale(0.1 -0.1)\">\n      <defs>\n       <path id=\"DejaVuSans-46\" d=\"M 628 4666 \nL 3309 4666 \nL 3309 4134 \nL 1259 4134 \nL 1259 2759 \nL 3109 2759 \nL 3109 2228 \nL 1259 2228 \nL 1259 0 \nL 628 0 \nL 628 4666 \nz\n\" transform=\"scale(0.015625)\"/>\n      </defs>\n      <use xlink:href=\"#DejaVuSans-46\"/>\n      <use xlink:href=\"#DejaVuSans-65\" x=\"52.019531\"/>\n      <use xlink:href=\"#DejaVuSans-64\" x=\"113.542969\"/>\n      <use xlink:href=\"#DejaVuSans-75\" x=\"177.019531\"/>\n     </g>\n    </g>\n   </g>\n   <g id=\"line2d_42\">\n    <path d=\"M 914.13375 328.316364 \nL 914.13375 398.552727 \n\" clip-path=\"url(#p8e5f9cb6ec)\" style=\"fill: none; stroke: #3f3f3f; stroke-width: 1.5; stroke-linecap: square\"/>\n   </g>\n   <g id=\"line2d_43\">\n    <path d=\"M 914.13375 187.843636 \nL 914.13375 117.607273 \n\" clip-path=\"url(#p8e5f9cb6ec)\" style=\"fill: none; stroke: #3f3f3f; stroke-width: 1.5; stroke-linecap: square\"/>\n   </g>\n   <g id=\"line2d_44\">\n    <path d=\"M 853.65775 398.552727 \nL 974.60975 398.552727 \n\" clip-path=\"url(#p8e5f9cb6ec)\" style=\"fill: none; stroke: #3f3f3f; stroke-width: 1.5; stroke-linecap: square\"/>\n   </g>\n   <g id=\"line2d_45\">\n    <path d=\"M 853.65775 117.607273 \nL 974.60975 117.607273 \n\" clip-path=\"url(#p8e5f9cb6ec)\" style=\"fill: none; stroke: #3f3f3f; stroke-width: 1.5; stroke-linecap: square\"/>\n   </g>\n   <g id=\"line2d_46\"/>\n   <g id=\"line2d_47\">\n    <path d=\"M 793.18175 258.08 \nL 1035.08575 258.08 \n\" clip-path=\"url(#p8e5f9cb6ec)\" style=\"fill: none; stroke: #3f3f3f; stroke-width: 1.5; stroke-linecap: square\"/>\n   </g>\n   <g id=\"patch_16\">\n    <path d=\"M 762.94375 412.6 \nL 762.94375 103.56 \n\" style=\"fill: none; stroke: #000000; stroke-width: 0.8; stroke-linejoin: miter; stroke-linecap: square\"/>\n   </g>\n   <g id=\"patch_17\">\n    <path d=\"M 1065.32375 412.6 \nL 1065.32375 103.56 \n\" style=\"fill: none; stroke: #000000; stroke-width: 0.8; stroke-linejoin: miter; stroke-linecap: square\"/>\n   </g>\n   <g id=\"patch_18\">\n    <path d=\"M 762.94375 412.6 \nL 1065.32375 412.6 \n\" style=\"fill: none; stroke: #000000; stroke-width: 0.8; stroke-linejoin: miter; stroke-linecap: square\"/>\n   </g>\n   <g id=\"patch_19\">\n    <path d=\"M 762.94375 103.56 \nL 1065.32375 103.56 \n\" style=\"fill: none; stroke: #000000; stroke-width: 0.8; stroke-linejoin: miter; stroke-linecap: square\"/>\n   </g>\n   <g id=\"text_32\">\n    <!-- Box Plot para Fedu -->\n    <g transform=\"translate(857.899687 97.56) scale(0.12 -0.12)\">\n     <use xlink:href=\"#DejaVuSans-42\"/>\n     <use xlink:href=\"#DejaVuSans-6f\" x=\"68.603516\"/>\n     <use xlink:href=\"#DejaVuSans-78\" x=\"126.660156\"/>\n     <use xlink:href=\"#DejaVuSans-20\" x=\"185.839844\"/>\n     <use xlink:href=\"#DejaVuSans-50\" x=\"217.626953\"/>\n     <use xlink:href=\"#DejaVuSans-6c\" x=\"277.929688\"/>\n     <use xlink:href=\"#DejaVuSans-6f\" x=\"305.712891\"/>\n     <use xlink:href=\"#DejaVuSans-74\" x=\"366.894531\"/>\n     <use xlink:href=\"#DejaVuSans-20\" x=\"406.103516\"/>\n     <use xlink:href=\"#DejaVuSans-70\" x=\"437.890625\"/>\n     <use xlink:href=\"#DejaVuSans-61\" x=\"501.367188\"/>\n     <use xlink:href=\"#DejaVuSans-72\" x=\"562.646484\"/>\n     <use xlink:href=\"#DejaVuSans-61\" x=\"603.759766\"/>\n     <use xlink:href=\"#DejaVuSans-20\" x=\"665.039062\"/>\n     <use xlink:href=\"#DejaVuSans-46\" x=\"696.826172\"/>\n     <use xlink:href=\"#DejaVuSans-65\" x=\"748.845703\"/>\n     <use xlink:href=\"#DejaVuSans-64\" x=\"810.369141\"/>\n     <use xlink:href=\"#DejaVuSans-75\" x=\"873.845703\"/>\n    </g>\n   </g>\n  </g>\n  <g id=\"axes_4\">\n   <g id=\"patch_20\">\n    <path d=\"M 50.14375 752.02 \nL 352.52375 752.02 \nL 352.52375 442.98 \nL 50.14375 442.98 \nz\n\" style=\"fill: #ffffff\"/>\n   </g>\n   <g id=\"patch_21\">\n    <path d=\"M 80.38175 737.972727 \nL 322.28575 737.972727 \nL 322.28575 644.324242 \nL 80.38175 644.324242 \nL 80.38175 737.972727 \nz\n\" clip-path=\"url(#p9a41b6fdd6)\" style=\"fill: #3274a1; stroke: #3f3f3f; stroke-width: 1.5; stroke-linejoin: miter\"/>\n   </g>\n   <g id=\"matplotlib.axis_7\">\n    <g id=\"xtick_4\">\n     <g id=\"line2d_48\">\n      <g>\n       <use xlink:href=\"#me3414331ca\" x=\"201.33375\" y=\"752.02\" style=\"stroke: #000000; stroke-width: 0.8\"/>\n      </g>\n     </g>\n    </g>\n   </g>\n   <g id=\"matplotlib.axis_8\">\n    <g id=\"ytick_27\">\n     <g id=\"line2d_49\">\n      <g>\n       <use xlink:href=\"#m1b0ea2fc6b\" x=\"50.14375\" y=\"737.972727\" style=\"stroke: #000000; stroke-width: 0.8\"/>\n      </g>\n     </g>\n     <g id=\"text_33\">\n      <!-- 1.0 -->\n      <g transform=\"translate(27.240625 741.771946) scale(0.1 -0.1)\">\n       <use xlink:href=\"#DejaVuSans-31\"/>\n       <use xlink:href=\"#DejaVuSans-2e\" x=\"63.623047\"/>\n       <use xlink:href=\"#DejaVuSans-30\" x=\"95.410156\"/>\n      </g>\n     </g>\n    </g>\n    <g id=\"ytick_28\">\n     <g id=\"line2d_50\">\n      <g>\n       <use xlink:href=\"#m1b0ea2fc6b\" x=\"50.14375\" y=\"691.148485\" style=\"stroke: #000000; stroke-width: 0.8\"/>\n      </g>\n     </g>\n     <g id=\"text_34\">\n      <!-- 1.5 -->\n      <g transform=\"translate(27.240625 694.947704) scale(0.1 -0.1)\">\n       <use xlink:href=\"#DejaVuSans-31\"/>\n       <use xlink:href=\"#DejaVuSans-2e\" x=\"63.623047\"/>\n       <use xlink:href=\"#DejaVuSans-35\" x=\"95.410156\"/>\n      </g>\n     </g>\n    </g>\n    <g id=\"ytick_29\">\n     <g id=\"line2d_51\">\n      <g>\n       <use xlink:href=\"#m1b0ea2fc6b\" x=\"50.14375\" y=\"644.324242\" style=\"stroke: #000000; stroke-width: 0.8\"/>\n      </g>\n     </g>\n     <g id=\"text_35\">\n      <!-- 2.0 -->\n      <g transform=\"translate(27.240625 648.123461) scale(0.1 -0.1)\">\n       <use xlink:href=\"#DejaVuSans-32\"/>\n       <use xlink:href=\"#DejaVuSans-2e\" x=\"63.623047\"/>\n       <use xlink:href=\"#DejaVuSans-30\" x=\"95.410156\"/>\n      </g>\n     </g>\n    </g>\n    <g id=\"ytick_30\">\n     <g id=\"line2d_52\">\n      <g>\n       <use xlink:href=\"#m1b0ea2fc6b\" x=\"50.14375\" y=\"597.5\" style=\"stroke: #000000; stroke-width: 0.8\"/>\n      </g>\n     </g>\n     <g id=\"text_36\">\n      <!-- 2.5 -->\n      <g transform=\"translate(27.240625 601.299219) scale(0.1 -0.1)\">\n       <use xlink:href=\"#DejaVuSans-32\"/>\n       <use xlink:href=\"#DejaVuSans-2e\" x=\"63.623047\"/>\n       <use xlink:href=\"#DejaVuSans-35\" x=\"95.410156\"/>\n      </g>\n     </g>\n    </g>\n    <g id=\"ytick_31\">\n     <g id=\"line2d_53\">\n      <g>\n       <use xlink:href=\"#m1b0ea2fc6b\" x=\"50.14375\" y=\"550.675758\" style=\"stroke: #000000; stroke-width: 0.8\"/>\n      </g>\n     </g>\n     <g id=\"text_37\">\n      <!-- 3.0 -->\n      <g transform=\"translate(27.240625 554.474976) scale(0.1 -0.1)\">\n       <use xlink:href=\"#DejaVuSans-33\"/>\n       <use xlink:href=\"#DejaVuSans-2e\" x=\"63.623047\"/>\n       <use xlink:href=\"#DejaVuSans-30\" x=\"95.410156\"/>\n      </g>\n     </g>\n    </g>\n    <g id=\"ytick_32\">\n     <g id=\"line2d_54\">\n      <g>\n       <use xlink:href=\"#m1b0ea2fc6b\" x=\"50.14375\" y=\"503.851515\" style=\"stroke: #000000; stroke-width: 0.8\"/>\n      </g>\n     </g>\n     <g id=\"text_38\">\n      <!-- 3.5 -->\n      <g transform=\"translate(27.240625 507.650734) scale(0.1 -0.1)\">\n       <use xlink:href=\"#DejaVuSans-33\"/>\n       <use xlink:href=\"#DejaVuSans-2e\" x=\"63.623047\"/>\n       <use xlink:href=\"#DejaVuSans-35\" x=\"95.410156\"/>\n      </g>\n     </g>\n    </g>\n    <g id=\"ytick_33\">\n     <g id=\"line2d_55\">\n      <g>\n       <use xlink:href=\"#m1b0ea2fc6b\" x=\"50.14375\" y=\"457.027273\" style=\"stroke: #000000; stroke-width: 0.8\"/>\n      </g>\n     </g>\n     <g id=\"text_39\">\n      <!-- 4.0 -->\n      <g transform=\"translate(27.240625 460.826491) scale(0.1 -0.1)\">\n       <use xlink:href=\"#DejaVuSans-34\"/>\n       <use xlink:href=\"#DejaVuSans-2e\" x=\"63.623047\"/>\n       <use xlink:href=\"#DejaVuSans-30\" x=\"95.410156\"/>\n      </g>\n     </g>\n    </g>\n    <g id=\"text_40\">\n     <!-- traveltime -->\n     <g transform=\"translate(21.160937 623.300781) rotate(-90) scale(0.1 -0.1)\">\n      <defs>\n       <path id=\"DejaVuSans-76\" d=\"M 191 3500 \nL 800 3500 \nL 1894 563 \nL 2988 3500 \nL 3597 3500 \nL 2284 0 \nL 1503 0 \nL 191 3500 \nz\n\" transform=\"scale(0.015625)\"/>\n       <path id=\"DejaVuSans-69\" d=\"M 603 3500 \nL 1178 3500 \nL 1178 0 \nL 603 0 \nL 603 3500 \nz\nM 603 4863 \nL 1178 4863 \nL 1178 4134 \nL 603 4134 \nL 603 4863 \nz\n\" transform=\"scale(0.015625)\"/>\n       <path id=\"DejaVuSans-6d\" d=\"M 3328 2828 \nQ 3544 3216 3844 3400 \nQ 4144 3584 4550 3584 \nQ 5097 3584 5394 3201 \nQ 5691 2819 5691 2113 \nL 5691 0 \nL 5113 0 \nL 5113 2094 \nQ 5113 2597 4934 2840 \nQ 4756 3084 4391 3084 \nQ 3944 3084 3684 2787 \nQ 3425 2491 3425 1978 \nL 3425 0 \nL 2847 0 \nL 2847 2094 \nQ 2847 2600 2669 2842 \nQ 2491 3084 2119 3084 \nQ 1678 3084 1418 2786 \nQ 1159 2488 1159 1978 \nL 1159 0 \nL 581 0 \nL 581 3500 \nL 1159 3500 \nL 1159 2956 \nQ 1356 3278 1631 3431 \nQ 1906 3584 2284 3584 \nQ 2666 3584 2933 3390 \nQ 3200 3197 3328 2828 \nz\n\" transform=\"scale(0.015625)\"/>\n      </defs>\n      <use xlink:href=\"#DejaVuSans-74\"/>\n      <use xlink:href=\"#DejaVuSans-72\" x=\"39.208984\"/>\n      <use xlink:href=\"#DejaVuSans-61\" x=\"80.322266\"/>\n      <use xlink:href=\"#DejaVuSans-76\" x=\"141.601562\"/>\n      <use xlink:href=\"#DejaVuSans-65\" x=\"200.78125\"/>\n      <use xlink:href=\"#DejaVuSans-6c\" x=\"262.304688\"/>\n      <use xlink:href=\"#DejaVuSans-74\" x=\"290.087891\"/>\n      <use xlink:href=\"#DejaVuSans-69\" x=\"329.296875\"/>\n      <use xlink:href=\"#DejaVuSans-6d\" x=\"357.080078\"/>\n      <use xlink:href=\"#DejaVuSans-65\" x=\"454.492188\"/>\n     </g>\n    </g>\n   </g>\n   <g id=\"line2d_56\">\n    <path d=\"M 201.33375 737.972727 \nL 201.33375 737.972727 \n\" clip-path=\"url(#p9a41b6fdd6)\" style=\"fill: none; stroke: #3f3f3f; stroke-width: 1.5; stroke-linecap: square\"/>\n   </g>\n   <g id=\"line2d_57\">\n    <path d=\"M 201.33375 644.324242 \nL 201.33375 550.675758 \n\" clip-path=\"url(#p9a41b6fdd6)\" style=\"fill: none; stroke: #3f3f3f; stroke-width: 1.5; stroke-linecap: square\"/>\n   </g>\n   <g id=\"line2d_58\">\n    <path d=\"M 140.85775 737.972727 \nL 261.80975 737.972727 \n\" clip-path=\"url(#p9a41b6fdd6)\" style=\"fill: none; stroke: #3f3f3f; stroke-width: 1.5; stroke-linecap: square\"/>\n   </g>\n   <g id=\"line2d_59\">\n    <path d=\"M 140.85775 550.675758 \nL 261.80975 550.675758 \n\" clip-path=\"url(#p9a41b6fdd6)\" style=\"fill: none; stroke: #3f3f3f; stroke-width: 1.5; stroke-linecap: square\"/>\n   </g>\n   <g id=\"line2d_60\">\n    <g clip-path=\"url(#p9a41b6fdd6)\">\n     <use xlink:href=\"#ma3115d322c\" x=\"201.33375\" y=\"457.027273\" style=\"fill: #3f3f3f; stroke: #3f3f3f; stroke-linejoin: miter\"/>\n     <use xlink:href=\"#ma3115d322c\" x=\"201.33375\" y=\"457.027273\" style=\"fill: #3f3f3f; stroke: #3f3f3f; stroke-linejoin: miter\"/>\n     <use xlink:href=\"#ma3115d322c\" x=\"201.33375\" y=\"457.027273\" style=\"fill: #3f3f3f; stroke: #3f3f3f; stroke-linejoin: miter\"/>\n     <use xlink:href=\"#ma3115d322c\" x=\"201.33375\" y=\"457.027273\" style=\"fill: #3f3f3f; stroke: #3f3f3f; stroke-linejoin: miter\"/>\n     <use xlink:href=\"#ma3115d322c\" x=\"201.33375\" y=\"457.027273\" style=\"fill: #3f3f3f; stroke: #3f3f3f; stroke-linejoin: miter\"/>\n     <use xlink:href=\"#ma3115d322c\" x=\"201.33375\" y=\"457.027273\" style=\"fill: #3f3f3f; stroke: #3f3f3f; stroke-linejoin: miter\"/>\n     <use xlink:href=\"#ma3115d322c\" x=\"201.33375\" y=\"457.027273\" style=\"fill: #3f3f3f; stroke: #3f3f3f; stroke-linejoin: miter\"/>\n     <use xlink:href=\"#ma3115d322c\" x=\"201.33375\" y=\"457.027273\" style=\"fill: #3f3f3f; stroke: #3f3f3f; stroke-linejoin: miter\"/>\n     <use xlink:href=\"#ma3115d322c\" x=\"201.33375\" y=\"457.027273\" style=\"fill: #3f3f3f; stroke: #3f3f3f; stroke-linejoin: miter\"/>\n     <use xlink:href=\"#ma3115d322c\" x=\"201.33375\" y=\"457.027273\" style=\"fill: #3f3f3f; stroke: #3f3f3f; stroke-linejoin: miter\"/>\n     <use xlink:href=\"#ma3115d322c\" x=\"201.33375\" y=\"457.027273\" style=\"fill: #3f3f3f; stroke: #3f3f3f; stroke-linejoin: miter\"/>\n     <use xlink:href=\"#ma3115d322c\" x=\"201.33375\" y=\"457.027273\" style=\"fill: #3f3f3f; stroke: #3f3f3f; stroke-linejoin: miter\"/>\n     <use xlink:href=\"#ma3115d322c\" x=\"201.33375\" y=\"457.027273\" style=\"fill: #3f3f3f; stroke: #3f3f3f; stroke-linejoin: miter\"/>\n     <use xlink:href=\"#ma3115d322c\" x=\"201.33375\" y=\"457.027273\" style=\"fill: #3f3f3f; stroke: #3f3f3f; stroke-linejoin: miter\"/>\n     <use xlink:href=\"#ma3115d322c\" x=\"201.33375\" y=\"457.027273\" style=\"fill: #3f3f3f; stroke: #3f3f3f; stroke-linejoin: miter\"/>\n     <use xlink:href=\"#ma3115d322c\" x=\"201.33375\" y=\"457.027273\" style=\"fill: #3f3f3f; stroke: #3f3f3f; stroke-linejoin: miter\"/>\n    </g>\n   </g>\n   <g id=\"line2d_61\">\n    <path d=\"M 80.38175 737.972727 \nL 322.28575 737.972727 \n\" clip-path=\"url(#p9a41b6fdd6)\" style=\"fill: none; stroke: #3f3f3f; stroke-width: 1.5; stroke-linecap: square\"/>\n   </g>\n   <g id=\"patch_22\">\n    <path d=\"M 50.14375 752.02 \nL 50.14375 442.98 \n\" style=\"fill: none; stroke: #000000; stroke-width: 0.8; stroke-linejoin: miter; stroke-linecap: square\"/>\n   </g>\n   <g id=\"patch_23\">\n    <path d=\"M 352.52375 752.02 \nL 352.52375 442.98 \n\" style=\"fill: none; stroke: #000000; stroke-width: 0.8; stroke-linejoin: miter; stroke-linecap: square\"/>\n   </g>\n   <g id=\"patch_24\">\n    <path d=\"M 50.14375 752.02 \nL 352.52375 752.02 \n\" style=\"fill: none; stroke: #000000; stroke-width: 0.8; stroke-linejoin: miter; stroke-linecap: square\"/>\n   </g>\n   <g id=\"patch_25\">\n    <path d=\"M 50.14375 442.98 \nL 352.52375 442.98 \n\" style=\"fill: none; stroke: #000000; stroke-width: 0.8; stroke-linejoin: miter; stroke-linecap: square\"/>\n   </g>\n   <g id=\"text_41\">\n    <!-- Box Plot para traveltime -->\n    <g transform=\"translate(128.563125 436.98) scale(0.12 -0.12)\">\n     <use xlink:href=\"#DejaVuSans-42\"/>\n     <use xlink:href=\"#DejaVuSans-6f\" x=\"68.603516\"/>\n     <use xlink:href=\"#DejaVuSans-78\" x=\"126.660156\"/>\n     <use xlink:href=\"#DejaVuSans-20\" x=\"185.839844\"/>\n     <use xlink:href=\"#DejaVuSans-50\" x=\"217.626953\"/>\n     <use xlink:href=\"#DejaVuSans-6c\" x=\"277.929688\"/>\n     <use xlink:href=\"#DejaVuSans-6f\" x=\"305.712891\"/>\n     <use xlink:href=\"#DejaVuSans-74\" x=\"366.894531\"/>\n     <use xlink:href=\"#DejaVuSans-20\" x=\"406.103516\"/>\n     <use xlink:href=\"#DejaVuSans-70\" x=\"437.890625\"/>\n     <use xlink:href=\"#DejaVuSans-61\" x=\"501.367188\"/>\n     <use xlink:href=\"#DejaVuSans-72\" x=\"562.646484\"/>\n     <use xlink:href=\"#DejaVuSans-61\" x=\"603.759766\"/>\n     <use xlink:href=\"#DejaVuSans-20\" x=\"665.039062\"/>\n     <use xlink:href=\"#DejaVuSans-74\" x=\"696.826172\"/>\n     <use xlink:href=\"#DejaVuSans-72\" x=\"736.035156\"/>\n     <use xlink:href=\"#DejaVuSans-61\" x=\"777.148438\"/>\n     <use xlink:href=\"#DejaVuSans-76\" x=\"838.427734\"/>\n     <use xlink:href=\"#DejaVuSans-65\" x=\"897.607422\"/>\n     <use xlink:href=\"#DejaVuSans-6c\" x=\"959.130859\"/>\n     <use xlink:href=\"#DejaVuSans-74\" x=\"986.914062\"/>\n     <use xlink:href=\"#DejaVuSans-69\" x=\"1026.123047\"/>\n     <use xlink:href=\"#DejaVuSans-6d\" x=\"1053.90625\"/>\n     <use xlink:href=\"#DejaVuSans-65\" x=\"1151.318359\"/>\n    </g>\n   </g>\n  </g>\n  <g id=\"axes_5\">\n   <g id=\"patch_26\">\n    <path d=\"M 406.54375 752.02 \nL 708.92375 752.02 \nL 708.92375 442.98 \nL 406.54375 442.98 \nz\n\" style=\"fill: #ffffff\"/>\n   </g>\n   <g id=\"patch_27\">\n    <path d=\"M 436.78175 737.972727 \nL 678.68575 737.972727 \nL 678.68575 644.324242 \nL 436.78175 644.324242 \nL 436.78175 737.972727 \nz\n\" clip-path=\"url(#p656668f4a7)\" style=\"fill: #3274a1; stroke: #3f3f3f; stroke-width: 1.5; stroke-linejoin: miter\"/>\n   </g>\n   <g id=\"matplotlib.axis_9\">\n    <g id=\"xtick_5\">\n     <g id=\"line2d_62\">\n      <g>\n       <use xlink:href=\"#me3414331ca\" x=\"557.73375\" y=\"752.02\" style=\"stroke: #000000; stroke-width: 0.8\"/>\n      </g>\n     </g>\n    </g>\n   </g>\n   <g id=\"matplotlib.axis_10\">\n    <g id=\"ytick_34\">\n     <g id=\"line2d_63\">\n      <g>\n       <use xlink:href=\"#m1b0ea2fc6b\" x=\"406.54375\" y=\"737.972727\" style=\"stroke: #000000; stroke-width: 0.8\"/>\n      </g>\n     </g>\n     <g id=\"text_42\">\n      <!-- 1.0 -->\n      <g transform=\"translate(383.640625 741.771946) scale(0.1 -0.1)\">\n       <use xlink:href=\"#DejaVuSans-31\"/>\n       <use xlink:href=\"#DejaVuSans-2e\" x=\"63.623047\"/>\n       <use xlink:href=\"#DejaVuSans-30\" x=\"95.410156\"/>\n      </g>\n     </g>\n    </g>\n    <g id=\"ytick_35\">\n     <g id=\"line2d_64\">\n      <g>\n       <use xlink:href=\"#m1b0ea2fc6b\" x=\"406.54375\" y=\"691.148485\" style=\"stroke: #000000; stroke-width: 0.8\"/>\n      </g>\n     </g>\n     <g id=\"text_43\">\n      <!-- 1.5 -->\n      <g transform=\"translate(383.640625 694.947704) scale(0.1 -0.1)\">\n       <use xlink:href=\"#DejaVuSans-31\"/>\n       <use xlink:href=\"#DejaVuSans-2e\" x=\"63.623047\"/>\n       <use xlink:href=\"#DejaVuSans-35\" x=\"95.410156\"/>\n      </g>\n     </g>\n    </g>\n    <g id=\"ytick_36\">\n     <g id=\"line2d_65\">\n      <g>\n       <use xlink:href=\"#m1b0ea2fc6b\" x=\"406.54375\" y=\"644.324242\" style=\"stroke: #000000; stroke-width: 0.8\"/>\n      </g>\n     </g>\n     <g id=\"text_44\">\n      <!-- 2.0 -->\n      <g transform=\"translate(383.640625 648.123461) scale(0.1 -0.1)\">\n       <use xlink:href=\"#DejaVuSans-32\"/>\n       <use xlink:href=\"#DejaVuSans-2e\" x=\"63.623047\"/>\n       <use xlink:href=\"#DejaVuSans-30\" x=\"95.410156\"/>\n      </g>\n     </g>\n    </g>\n    <g id=\"ytick_37\">\n     <g id=\"line2d_66\">\n      <g>\n       <use xlink:href=\"#m1b0ea2fc6b\" x=\"406.54375\" y=\"597.5\" style=\"stroke: #000000; stroke-width: 0.8\"/>\n      </g>\n     </g>\n     <g id=\"text_45\">\n      <!-- 2.5 -->\n      <g transform=\"translate(383.640625 601.299219) scale(0.1 -0.1)\">\n       <use xlink:href=\"#DejaVuSans-32\"/>\n       <use xlink:href=\"#DejaVuSans-2e\" x=\"63.623047\"/>\n       <use xlink:href=\"#DejaVuSans-35\" x=\"95.410156\"/>\n      </g>\n     </g>\n    </g>\n    <g id=\"ytick_38\">\n     <g id=\"line2d_67\">\n      <g>\n       <use xlink:href=\"#m1b0ea2fc6b\" x=\"406.54375\" y=\"550.675758\" style=\"stroke: #000000; stroke-width: 0.8\"/>\n      </g>\n     </g>\n     <g id=\"text_46\">\n      <!-- 3.0 -->\n      <g transform=\"translate(383.640625 554.474976) scale(0.1 -0.1)\">\n       <use xlink:href=\"#DejaVuSans-33\"/>\n       <use xlink:href=\"#DejaVuSans-2e\" x=\"63.623047\"/>\n       <use xlink:href=\"#DejaVuSans-30\" x=\"95.410156\"/>\n      </g>\n     </g>\n    </g>\n    <g id=\"ytick_39\">\n     <g id=\"line2d_68\">\n      <g>\n       <use xlink:href=\"#m1b0ea2fc6b\" x=\"406.54375\" y=\"503.851515\" style=\"stroke: #000000; stroke-width: 0.8\"/>\n      </g>\n     </g>\n     <g id=\"text_47\">\n      <!-- 3.5 -->\n      <g transform=\"translate(383.640625 507.650734) scale(0.1 -0.1)\">\n       <use xlink:href=\"#DejaVuSans-33\"/>\n       <use xlink:href=\"#DejaVuSans-2e\" x=\"63.623047\"/>\n       <use xlink:href=\"#DejaVuSans-35\" x=\"95.410156\"/>\n      </g>\n     </g>\n    </g>\n    <g id=\"ytick_40\">\n     <g id=\"line2d_69\">\n      <g>\n       <use xlink:href=\"#m1b0ea2fc6b\" x=\"406.54375\" y=\"457.027273\" style=\"stroke: #000000; stroke-width: 0.8\"/>\n      </g>\n     </g>\n     <g id=\"text_48\">\n      <!-- 4.0 -->\n      <g transform=\"translate(383.640625 460.826491) scale(0.1 -0.1)\">\n       <use xlink:href=\"#DejaVuSans-34\"/>\n       <use xlink:href=\"#DejaVuSans-2e\" x=\"63.623047\"/>\n       <use xlink:href=\"#DejaVuSans-30\" x=\"95.410156\"/>\n      </g>\n     </g>\n    </g>\n    <g id=\"text_49\">\n     <!-- studytime -->\n     <g transform=\"translate(377.560938 622.663281) rotate(-90) scale(0.1 -0.1)\">\n      <defs>\n       <path id=\"DejaVuSans-73\" d=\"M 2834 3397 \nL 2834 2853 \nQ 2591 2978 2328 3040 \nQ 2066 3103 1784 3103 \nQ 1356 3103 1142 2972 \nQ 928 2841 928 2578 \nQ 928 2378 1081 2264 \nQ 1234 2150 1697 2047 \nL 1894 2003 \nQ 2506 1872 2764 1633 \nQ 3022 1394 3022 966 \nQ 3022 478 2636 193 \nQ 2250 -91 1575 -91 \nQ 1294 -91 989 -36 \nQ 684 19 347 128 \nL 347 722 \nQ 666 556 975 473 \nQ 1284 391 1588 391 \nQ 1994 391 2212 530 \nQ 2431 669 2431 922 \nQ 2431 1156 2273 1281 \nQ 2116 1406 1581 1522 \nL 1381 1569 \nQ 847 1681 609 1914 \nQ 372 2147 372 2553 \nQ 372 3047 722 3315 \nQ 1072 3584 1716 3584 \nQ 2034 3584 2315 3537 \nQ 2597 3491 2834 3397 \nz\n\" transform=\"scale(0.015625)\"/>\n       <path id=\"DejaVuSans-79\" d=\"M 2059 -325 \nQ 1816 -950 1584 -1140 \nQ 1353 -1331 966 -1331 \nL 506 -1331 \nL 506 -850 \nL 844 -850 \nQ 1081 -850 1212 -737 \nQ 1344 -625 1503 -206 \nL 1606 56 \nL 191 3500 \nL 800 3500 \nL 1894 763 \nL 2988 3500 \nL 3597 3500 \nL 2059 -325 \nz\n\" transform=\"scale(0.015625)\"/>\n      </defs>\n      <use xlink:href=\"#DejaVuSans-73\"/>\n      <use xlink:href=\"#DejaVuSans-74\" x=\"52.099609\"/>\n      <use xlink:href=\"#DejaVuSans-75\" x=\"91.308594\"/>\n      <use xlink:href=\"#DejaVuSans-64\" x=\"154.6875\"/>\n      <use xlink:href=\"#DejaVuSans-79\" x=\"218.164062\"/>\n      <use xlink:href=\"#DejaVuSans-74\" x=\"277.34375\"/>\n      <use xlink:href=\"#DejaVuSans-69\" x=\"316.552734\"/>\n      <use xlink:href=\"#DejaVuSans-6d\" x=\"344.335938\"/>\n      <use xlink:href=\"#DejaVuSans-65\" x=\"441.748047\"/>\n     </g>\n    </g>\n   </g>\n   <g id=\"line2d_70\">\n    <path d=\"M 557.73375 737.972727 \nL 557.73375 737.972727 \n\" clip-path=\"url(#p656668f4a7)\" style=\"fill: none; stroke: #3f3f3f; stroke-width: 1.5; stroke-linecap: square\"/>\n   </g>\n   <g id=\"line2d_71\">\n    <path d=\"M 557.73375 644.324242 \nL 557.73375 550.675758 \n\" clip-path=\"url(#p656668f4a7)\" style=\"fill: none; stroke: #3f3f3f; stroke-width: 1.5; stroke-linecap: square\"/>\n   </g>\n   <g id=\"line2d_72\">\n    <path d=\"M 497.25775 737.972727 \nL 618.20975 737.972727 \n\" clip-path=\"url(#p656668f4a7)\" style=\"fill: none; stroke: #3f3f3f; stroke-width: 1.5; stroke-linecap: square\"/>\n   </g>\n   <g id=\"line2d_73\">\n    <path d=\"M 497.25775 550.675758 \nL 618.20975 550.675758 \n\" clip-path=\"url(#p656668f4a7)\" style=\"fill: none; stroke: #3f3f3f; stroke-width: 1.5; stroke-linecap: square\"/>\n   </g>\n   <g id=\"line2d_74\">\n    <g clip-path=\"url(#p656668f4a7)\">\n     <use xlink:href=\"#ma3115d322c\" x=\"557.73375\" y=\"457.027273\" style=\"fill: #3f3f3f; stroke: #3f3f3f; stroke-linejoin: miter\"/>\n     <use xlink:href=\"#ma3115d322c\" x=\"557.73375\" y=\"457.027273\" style=\"fill: #3f3f3f; stroke: #3f3f3f; stroke-linejoin: miter\"/>\n     <use xlink:href=\"#ma3115d322c\" x=\"557.73375\" y=\"457.027273\" style=\"fill: #3f3f3f; stroke: #3f3f3f; stroke-linejoin: miter\"/>\n     <use xlink:href=\"#ma3115d322c\" x=\"557.73375\" y=\"457.027273\" style=\"fill: #3f3f3f; stroke: #3f3f3f; stroke-linejoin: miter\"/>\n     <use xlink:href=\"#ma3115d322c\" x=\"557.73375\" y=\"457.027273\" style=\"fill: #3f3f3f; stroke: #3f3f3f; stroke-linejoin: miter\"/>\n     <use xlink:href=\"#ma3115d322c\" x=\"557.73375\" y=\"457.027273\" style=\"fill: #3f3f3f; stroke: #3f3f3f; stroke-linejoin: miter\"/>\n     <use xlink:href=\"#ma3115d322c\" x=\"557.73375\" y=\"457.027273\" style=\"fill: #3f3f3f; stroke: #3f3f3f; stroke-linejoin: miter\"/>\n     <use xlink:href=\"#ma3115d322c\" x=\"557.73375\" y=\"457.027273\" style=\"fill: #3f3f3f; stroke: #3f3f3f; stroke-linejoin: miter\"/>\n     <use xlink:href=\"#ma3115d322c\" x=\"557.73375\" y=\"457.027273\" style=\"fill: #3f3f3f; stroke: #3f3f3f; stroke-linejoin: miter\"/>\n     <use xlink:href=\"#ma3115d322c\" x=\"557.73375\" y=\"457.027273\" style=\"fill: #3f3f3f; stroke: #3f3f3f; stroke-linejoin: miter\"/>\n     <use xlink:href=\"#ma3115d322c\" x=\"557.73375\" y=\"457.027273\" style=\"fill: #3f3f3f; stroke: #3f3f3f; stroke-linejoin: miter\"/>\n     <use xlink:href=\"#ma3115d322c\" x=\"557.73375\" y=\"457.027273\" style=\"fill: #3f3f3f; stroke: #3f3f3f; stroke-linejoin: miter\"/>\n     <use xlink:href=\"#ma3115d322c\" x=\"557.73375\" y=\"457.027273\" style=\"fill: #3f3f3f; stroke: #3f3f3f; stroke-linejoin: miter\"/>\n     <use xlink:href=\"#ma3115d322c\" x=\"557.73375\" y=\"457.027273\" style=\"fill: #3f3f3f; stroke: #3f3f3f; stroke-linejoin: miter\"/>\n     <use xlink:href=\"#ma3115d322c\" x=\"557.73375\" y=\"457.027273\" style=\"fill: #3f3f3f; stroke: #3f3f3f; stroke-linejoin: miter\"/>\n     <use xlink:href=\"#ma3115d322c\" x=\"557.73375\" y=\"457.027273\" style=\"fill: #3f3f3f; stroke: #3f3f3f; stroke-linejoin: miter\"/>\n     <use xlink:href=\"#ma3115d322c\" x=\"557.73375\" y=\"457.027273\" style=\"fill: #3f3f3f; stroke: #3f3f3f; stroke-linejoin: miter\"/>\n     <use xlink:href=\"#ma3115d322c\" x=\"557.73375\" y=\"457.027273\" style=\"fill: #3f3f3f; stroke: #3f3f3f; stroke-linejoin: miter\"/>\n     <use xlink:href=\"#ma3115d322c\" x=\"557.73375\" y=\"457.027273\" style=\"fill: #3f3f3f; stroke: #3f3f3f; stroke-linejoin: miter\"/>\n     <use xlink:href=\"#ma3115d322c\" x=\"557.73375\" y=\"457.027273\" style=\"fill: #3f3f3f; stroke: #3f3f3f; stroke-linejoin: miter\"/>\n     <use xlink:href=\"#ma3115d322c\" x=\"557.73375\" y=\"457.027273\" style=\"fill: #3f3f3f; stroke: #3f3f3f; stroke-linejoin: miter\"/>\n     <use xlink:href=\"#ma3115d322c\" x=\"557.73375\" y=\"457.027273\" style=\"fill: #3f3f3f; stroke: #3f3f3f; stroke-linejoin: miter\"/>\n     <use xlink:href=\"#ma3115d322c\" x=\"557.73375\" y=\"457.027273\" style=\"fill: #3f3f3f; stroke: #3f3f3f; stroke-linejoin: miter\"/>\n     <use xlink:href=\"#ma3115d322c\" x=\"557.73375\" y=\"457.027273\" style=\"fill: #3f3f3f; stroke: #3f3f3f; stroke-linejoin: miter\"/>\n     <use xlink:href=\"#ma3115d322c\" x=\"557.73375\" y=\"457.027273\" style=\"fill: #3f3f3f; stroke: #3f3f3f; stroke-linejoin: miter\"/>\n     <use xlink:href=\"#ma3115d322c\" x=\"557.73375\" y=\"457.027273\" style=\"fill: #3f3f3f; stroke: #3f3f3f; stroke-linejoin: miter\"/>\n     <use xlink:href=\"#ma3115d322c\" x=\"557.73375\" y=\"457.027273\" style=\"fill: #3f3f3f; stroke: #3f3f3f; stroke-linejoin: miter\"/>\n     <use xlink:href=\"#ma3115d322c\" x=\"557.73375\" y=\"457.027273\" style=\"fill: #3f3f3f; stroke: #3f3f3f; stroke-linejoin: miter\"/>\n     <use xlink:href=\"#ma3115d322c\" x=\"557.73375\" y=\"457.027273\" style=\"fill: #3f3f3f; stroke: #3f3f3f; stroke-linejoin: miter\"/>\n     <use xlink:href=\"#ma3115d322c\" x=\"557.73375\" y=\"457.027273\" style=\"fill: #3f3f3f; stroke: #3f3f3f; stroke-linejoin: miter\"/>\n     <use xlink:href=\"#ma3115d322c\" x=\"557.73375\" y=\"457.027273\" style=\"fill: #3f3f3f; stroke: #3f3f3f; stroke-linejoin: miter\"/>\n     <use xlink:href=\"#ma3115d322c\" x=\"557.73375\" y=\"457.027273\" style=\"fill: #3f3f3f; stroke: #3f3f3f; stroke-linejoin: miter\"/>\n     <use xlink:href=\"#ma3115d322c\" x=\"557.73375\" y=\"457.027273\" style=\"fill: #3f3f3f; stroke: #3f3f3f; stroke-linejoin: miter\"/>\n     <use xlink:href=\"#ma3115d322c\" x=\"557.73375\" y=\"457.027273\" style=\"fill: #3f3f3f; stroke: #3f3f3f; stroke-linejoin: miter\"/>\n     <use xlink:href=\"#ma3115d322c\" x=\"557.73375\" y=\"457.027273\" style=\"fill: #3f3f3f; stroke: #3f3f3f; stroke-linejoin: miter\"/>\n    </g>\n   </g>\n   <g id=\"line2d_75\">\n    <path d=\"M 436.78175 644.324242 \nL 678.68575 644.324242 \n\" clip-path=\"url(#p656668f4a7)\" style=\"fill: none; stroke: #3f3f3f; stroke-width: 1.5; stroke-linecap: square\"/>\n   </g>\n   <g id=\"patch_28\">\n    <path d=\"M 406.54375 752.02 \nL 406.54375 442.98 \n\" style=\"fill: none; stroke: #000000; stroke-width: 0.8; stroke-linejoin: miter; stroke-linecap: square\"/>\n   </g>\n   <g id=\"patch_29\">\n    <path d=\"M 708.92375 752.02 \nL 708.92375 442.98 \n\" style=\"fill: none; stroke: #000000; stroke-width: 0.8; stroke-linejoin: miter; stroke-linecap: square\"/>\n   </g>\n   <g id=\"patch_30\">\n    <path d=\"M 406.54375 752.02 \nL 708.92375 752.02 \n\" style=\"fill: none; stroke: #000000; stroke-width: 0.8; stroke-linejoin: miter; stroke-linecap: square\"/>\n   </g>\n   <g id=\"patch_31\">\n    <path d=\"M 406.54375 442.98 \nL 708.92375 442.98 \n\" style=\"fill: none; stroke: #000000; stroke-width: 0.8; stroke-linejoin: miter; stroke-linecap: square\"/>\n   </g>\n   <g id=\"text_50\">\n    <!-- Box Plot para studytime -->\n    <g transform=\"translate(485.728125 436.98) scale(0.12 -0.12)\">\n     <use xlink:href=\"#DejaVuSans-42\"/>\n     <use xlink:href=\"#DejaVuSans-6f\" x=\"68.603516\"/>\n     <use xlink:href=\"#DejaVuSans-78\" x=\"126.660156\"/>\n     <use xlink:href=\"#DejaVuSans-20\" x=\"185.839844\"/>\n     <use xlink:href=\"#DejaVuSans-50\" x=\"217.626953\"/>\n     <use xlink:href=\"#DejaVuSans-6c\" x=\"277.929688\"/>\n     <use xlink:href=\"#DejaVuSans-6f\" x=\"305.712891\"/>\n     <use xlink:href=\"#DejaVuSans-74\" x=\"366.894531\"/>\n     <use xlink:href=\"#DejaVuSans-20\" x=\"406.103516\"/>\n     <use xlink:href=\"#DejaVuSans-70\" x=\"437.890625\"/>\n     <use xlink:href=\"#DejaVuSans-61\" x=\"501.367188\"/>\n     <use xlink:href=\"#DejaVuSans-72\" x=\"562.646484\"/>\n     <use xlink:href=\"#DejaVuSans-61\" x=\"603.759766\"/>\n     <use xlink:href=\"#DejaVuSans-20\" x=\"665.039062\"/>\n     <use xlink:href=\"#DejaVuSans-73\" x=\"696.826172\"/>\n     <use xlink:href=\"#DejaVuSans-74\" x=\"748.925781\"/>\n     <use xlink:href=\"#DejaVuSans-75\" x=\"788.134766\"/>\n     <use xlink:href=\"#DejaVuSans-64\" x=\"851.513672\"/>\n     <use xlink:href=\"#DejaVuSans-79\" x=\"914.990234\"/>\n     <use xlink:href=\"#DejaVuSans-74\" x=\"974.169922\"/>\n     <use xlink:href=\"#DejaVuSans-69\" x=\"1013.378906\"/>\n     <use xlink:href=\"#DejaVuSans-6d\" x=\"1041.162109\"/>\n     <use xlink:href=\"#DejaVuSans-65\" x=\"1138.574219\"/>\n    </g>\n   </g>\n  </g>\n  <g id=\"axes_6\">\n   <g id=\"patch_32\">\n    <path d=\"M 762.94375 752.02 \nL 1065.32375 752.02 \nL 1065.32375 442.98 \nL 762.94375 442.98 \nz\n\" style=\"fill: #ffffff\"/>\n   </g>\n   <g id=\"patch_33\">\n    <path d=\"M 793.18175 737.972727 \nL 1035.08575 737.972727 \nL 1035.08575 737.972727 \nL 793.18175 737.972727 \nL 793.18175 737.972727 \nz\n\" clip-path=\"url(#p8d8df32fdc)\" style=\"fill: #3274a1; stroke: #3f3f3f; stroke-width: 1.5; stroke-linejoin: miter\"/>\n   </g>\n   <g id=\"matplotlib.axis_11\">\n    <g id=\"xtick_6\">\n     <g id=\"line2d_76\">\n      <g>\n       <use xlink:href=\"#me3414331ca\" x=\"914.13375\" y=\"752.02\" style=\"stroke: #000000; stroke-width: 0.8\"/>\n      </g>\n     </g>\n    </g>\n   </g>\n   <g id=\"matplotlib.axis_12\">\n    <g id=\"ytick_41\">\n     <g id=\"line2d_77\">\n      <g>\n       <use xlink:href=\"#m1b0ea2fc6b\" x=\"762.94375\" y=\"737.972727\" style=\"stroke: #000000; stroke-width: 0.8\"/>\n      </g>\n     </g>\n     <g id=\"text_51\">\n      <!-- 0.0 -->\n      <g transform=\"translate(740.040625 741.771946) scale(0.1 -0.1)\">\n       <use xlink:href=\"#DejaVuSans-30\"/>\n       <use xlink:href=\"#DejaVuSans-2e\" x=\"63.623047\"/>\n       <use xlink:href=\"#DejaVuSans-30\" x=\"95.410156\"/>\n      </g>\n     </g>\n    </g>\n    <g id=\"ytick_42\">\n     <g id=\"line2d_78\">\n      <g>\n       <use xlink:href=\"#m1b0ea2fc6b\" x=\"762.94375\" y=\"691.148485\" style=\"stroke: #000000; stroke-width: 0.8\"/>\n      </g>\n     </g>\n     <g id=\"text_52\">\n      <!-- 0.5 -->\n      <g transform=\"translate(740.040625 694.947704) scale(0.1 -0.1)\">\n       <use xlink:href=\"#DejaVuSans-30\"/>\n       <use xlink:href=\"#DejaVuSans-2e\" x=\"63.623047\"/>\n       <use xlink:href=\"#DejaVuSans-35\" x=\"95.410156\"/>\n      </g>\n     </g>\n    </g>\n    <g id=\"ytick_43\">\n     <g id=\"line2d_79\">\n      <g>\n       <use xlink:href=\"#m1b0ea2fc6b\" x=\"762.94375\" y=\"644.324242\" style=\"stroke: #000000; stroke-width: 0.8\"/>\n      </g>\n     </g>\n     <g id=\"text_53\">\n      <!-- 1.0 -->\n      <g transform=\"translate(740.040625 648.123461) scale(0.1 -0.1)\">\n       <use xlink:href=\"#DejaVuSans-31\"/>\n       <use xlink:href=\"#DejaVuSans-2e\" x=\"63.623047\"/>\n       <use xlink:href=\"#DejaVuSans-30\" x=\"95.410156\"/>\n      </g>\n     </g>\n    </g>\n    <g id=\"ytick_44\">\n     <g id=\"line2d_80\">\n      <g>\n       <use xlink:href=\"#m1b0ea2fc6b\" x=\"762.94375\" y=\"597.5\" style=\"stroke: #000000; stroke-width: 0.8\"/>\n      </g>\n     </g>\n     <g id=\"text_54\">\n      <!-- 1.5 -->\n      <g transform=\"translate(740.040625 601.299219) scale(0.1 -0.1)\">\n       <use xlink:href=\"#DejaVuSans-31\"/>\n       <use xlink:href=\"#DejaVuSans-2e\" x=\"63.623047\"/>\n       <use xlink:href=\"#DejaVuSans-35\" x=\"95.410156\"/>\n      </g>\n     </g>\n    </g>\n    <g id=\"ytick_45\">\n     <g id=\"line2d_81\">\n      <g>\n       <use xlink:href=\"#m1b0ea2fc6b\" x=\"762.94375\" y=\"550.675758\" style=\"stroke: #000000; stroke-width: 0.8\"/>\n      </g>\n     </g>\n     <g id=\"text_55\">\n      <!-- 2.0 -->\n      <g transform=\"translate(740.040625 554.474976) scale(0.1 -0.1)\">\n       <use xlink:href=\"#DejaVuSans-32\"/>\n       <use xlink:href=\"#DejaVuSans-2e\" x=\"63.623047\"/>\n       <use xlink:href=\"#DejaVuSans-30\" x=\"95.410156\"/>\n      </g>\n     </g>\n    </g>\n    <g id=\"ytick_46\">\n     <g id=\"line2d_82\">\n      <g>\n       <use xlink:href=\"#m1b0ea2fc6b\" x=\"762.94375\" y=\"503.851515\" style=\"stroke: #000000; stroke-width: 0.8\"/>\n      </g>\n     </g>\n     <g id=\"text_56\">\n      <!-- 2.5 -->\n      <g transform=\"translate(740.040625 507.650734) scale(0.1 -0.1)\">\n       <use xlink:href=\"#DejaVuSans-32\"/>\n       <use xlink:href=\"#DejaVuSans-2e\" x=\"63.623047\"/>\n       <use xlink:href=\"#DejaVuSans-35\" x=\"95.410156\"/>\n      </g>\n     </g>\n    </g>\n    <g id=\"ytick_47\">\n     <g id=\"line2d_83\">\n      <g>\n       <use xlink:href=\"#m1b0ea2fc6b\" x=\"762.94375\" y=\"457.027273\" style=\"stroke: #000000; stroke-width: 0.8\"/>\n      </g>\n     </g>\n     <g id=\"text_57\">\n      <!-- 3.0 -->\n      <g transform=\"translate(740.040625 460.826491) scale(0.1 -0.1)\">\n       <use xlink:href=\"#DejaVuSans-33\"/>\n       <use xlink:href=\"#DejaVuSans-2e\" x=\"63.623047\"/>\n       <use xlink:href=\"#DejaVuSans-30\" x=\"95.410156\"/>\n      </g>\n     </g>\n    </g>\n    <g id=\"text_58\">\n     <!-- failures -->\n     <g transform=\"translate(733.960938 615.895313) rotate(-90) scale(0.1 -0.1)\">\n      <defs>\n       <path id=\"DejaVuSans-66\" d=\"M 2375 4863 \nL 2375 4384 \nL 1825 4384 \nQ 1516 4384 1395 4259 \nQ 1275 4134 1275 3809 \nL 1275 3500 \nL 2222 3500 \nL 2222 3053 \nL 1275 3053 \nL 1275 0 \nL 697 0 \nL 697 3053 \nL 147 3053 \nL 147 3500 \nL 697 3500 \nL 697 3744 \nQ 697 4328 969 4595 \nQ 1241 4863 1831 4863 \nL 2375 4863 \nz\n\" transform=\"scale(0.015625)\"/>\n      </defs>\n      <use xlink:href=\"#DejaVuSans-66\"/>\n      <use xlink:href=\"#DejaVuSans-61\" x=\"35.205078\"/>\n      <use xlink:href=\"#DejaVuSans-69\" x=\"96.484375\"/>\n      <use xlink:href=\"#DejaVuSans-6c\" x=\"124.267578\"/>\n      <use xlink:href=\"#DejaVuSans-75\" x=\"152.050781\"/>\n      <use xlink:href=\"#DejaVuSans-72\" x=\"215.429688\"/>\n      <use xlink:href=\"#DejaVuSans-65\" x=\"254.292969\"/>\n      <use xlink:href=\"#DejaVuSans-73\" x=\"315.816406\"/>\n     </g>\n    </g>\n   </g>\n   <g id=\"line2d_84\">\n    <path d=\"M 914.13375 737.972727 \nL 914.13375 737.972727 \n\" clip-path=\"url(#p8d8df32fdc)\" style=\"fill: none; stroke: #3f3f3f; stroke-width: 1.5; stroke-linecap: square\"/>\n   </g>\n   <g id=\"line2d_85\">\n    <path d=\"M 914.13375 737.972727 \nL 914.13375 737.972727 \n\" clip-path=\"url(#p8d8df32fdc)\" style=\"fill: none; stroke: #3f3f3f; stroke-width: 1.5; stroke-linecap: square\"/>\n   </g>\n   <g id=\"line2d_86\">\n    <path d=\"M 853.65775 737.972727 \nL 974.60975 737.972727 \n\" clip-path=\"url(#p8d8df32fdc)\" style=\"fill: none; stroke: #3f3f3f; stroke-width: 1.5; stroke-linecap: square\"/>\n   </g>\n   <g id=\"line2d_87\">\n    <path d=\"M 853.65775 737.972727 \nL 974.60975 737.972727 \n\" clip-path=\"url(#p8d8df32fdc)\" style=\"fill: none; stroke: #3f3f3f; stroke-width: 1.5; stroke-linecap: square\"/>\n   </g>\n   <g id=\"line2d_88\">\n    <g clip-path=\"url(#p8d8df32fdc)\">\n     <use xlink:href=\"#ma3115d322c\" x=\"914.13375\" y=\"457.027273\" style=\"fill: #3f3f3f; stroke: #3f3f3f; stroke-linejoin: miter\"/>\n     <use xlink:href=\"#ma3115d322c\" x=\"914.13375\" y=\"644.324242\" style=\"fill: #3f3f3f; stroke: #3f3f3f; stroke-linejoin: miter\"/>\n     <use xlink:href=\"#ma3115d322c\" x=\"914.13375\" y=\"457.027273\" style=\"fill: #3f3f3f; stroke: #3f3f3f; stroke-linejoin: miter\"/>\n     <use xlink:href=\"#ma3115d322c\" x=\"914.13375\" y=\"644.324242\" style=\"fill: #3f3f3f; stroke: #3f3f3f; stroke-linejoin: miter\"/>\n     <use xlink:href=\"#ma3115d322c\" x=\"914.13375\" y=\"644.324242\" style=\"fill: #3f3f3f; stroke: #3f3f3f; stroke-linejoin: miter\"/>\n     <use xlink:href=\"#ma3115d322c\" x=\"914.13375\" y=\"550.675758\" style=\"fill: #3f3f3f; stroke: #3f3f3f; stroke-linejoin: miter\"/>\n     <use xlink:href=\"#ma3115d322c\" x=\"914.13375\" y=\"457.027273\" style=\"fill: #3f3f3f; stroke: #3f3f3f; stroke-linejoin: miter\"/>\n     <use xlink:href=\"#ma3115d322c\" x=\"914.13375\" y=\"644.324242\" style=\"fill: #3f3f3f; stroke: #3f3f3f; stroke-linejoin: miter\"/>\n     <use xlink:href=\"#ma3115d322c\" x=\"914.13375\" y=\"550.675758\" style=\"fill: #3f3f3f; stroke: #3f3f3f; stroke-linejoin: miter\"/>\n     <use xlink:href=\"#ma3115d322c\" x=\"914.13375\" y=\"644.324242\" style=\"fill: #3f3f3f; stroke: #3f3f3f; stroke-linejoin: miter\"/>\n     <use xlink:href=\"#ma3115d322c\" x=\"914.13375\" y=\"644.324242\" style=\"fill: #3f3f3f; stroke: #3f3f3f; stroke-linejoin: miter\"/>\n     <use xlink:href=\"#ma3115d322c\" x=\"914.13375\" y=\"550.675758\" style=\"fill: #3f3f3f; stroke: #3f3f3f; stroke-linejoin: miter\"/>\n     <use xlink:href=\"#ma3115d322c\" x=\"914.13375\" y=\"644.324242\" style=\"fill: #3f3f3f; stroke: #3f3f3f; stroke-linejoin: miter\"/>\n     <use xlink:href=\"#ma3115d322c\" x=\"914.13375\" y=\"457.027273\" style=\"fill: #3f3f3f; stroke: #3f3f3f; stroke-linejoin: miter\"/>\n     <use xlink:href=\"#ma3115d322c\" x=\"914.13375\" y=\"457.027273\" style=\"fill: #3f3f3f; stroke: #3f3f3f; stroke-linejoin: miter\"/>\n     <use xlink:href=\"#ma3115d322c\" x=\"914.13375\" y=\"644.324242\" style=\"fill: #3f3f3f; stroke: #3f3f3f; stroke-linejoin: miter\"/>\n     <use xlink:href=\"#ma3115d322c\" x=\"914.13375\" y=\"550.675758\" style=\"fill: #3f3f3f; stroke: #3f3f3f; stroke-linejoin: miter\"/>\n     <use xlink:href=\"#ma3115d322c\" x=\"914.13375\" y=\"644.324242\" style=\"fill: #3f3f3f; stroke: #3f3f3f; stroke-linejoin: miter\"/>\n     <use xlink:href=\"#ma3115d322c\" x=\"914.13375\" y=\"550.675758\" style=\"fill: #3f3f3f; stroke: #3f3f3f; stroke-linejoin: miter\"/>\n     <use xlink:href=\"#ma3115d322c\" x=\"914.13375\" y=\"644.324242\" style=\"fill: #3f3f3f; stroke: #3f3f3f; stroke-linejoin: miter\"/>\n     <use xlink:href=\"#ma3115d322c\" x=\"914.13375\" y=\"457.027273\" style=\"fill: #3f3f3f; stroke: #3f3f3f; stroke-linejoin: miter\"/>\n     <use xlink:href=\"#ma3115d322c\" x=\"914.13375\" y=\"644.324242\" style=\"fill: #3f3f3f; stroke: #3f3f3f; stroke-linejoin: miter\"/>\n     <use xlink:href=\"#ma3115d322c\" x=\"914.13375\" y=\"644.324242\" style=\"fill: #3f3f3f; stroke: #3f3f3f; stroke-linejoin: miter\"/>\n     <use xlink:href=\"#ma3115d322c\" x=\"914.13375\" y=\"644.324242\" style=\"fill: #3f3f3f; stroke: #3f3f3f; stroke-linejoin: miter\"/>\n     <use xlink:href=\"#ma3115d322c\" x=\"914.13375\" y=\"457.027273\" style=\"fill: #3f3f3f; stroke: #3f3f3f; stroke-linejoin: miter\"/>\n     <use xlink:href=\"#ma3115d322c\" x=\"914.13375\" y=\"644.324242\" style=\"fill: #3f3f3f; stroke: #3f3f3f; stroke-linejoin: miter\"/>\n     <use xlink:href=\"#ma3115d322c\" x=\"914.13375\" y=\"644.324242\" style=\"fill: #3f3f3f; stroke: #3f3f3f; stroke-linejoin: miter\"/>\n     <use xlink:href=\"#ma3115d322c\" x=\"914.13375\" y=\"644.324242\" style=\"fill: #3f3f3f; stroke: #3f3f3f; stroke-linejoin: miter\"/>\n     <use xlink:href=\"#ma3115d322c\" x=\"914.13375\" y=\"644.324242\" style=\"fill: #3f3f3f; stroke: #3f3f3f; stroke-linejoin: miter\"/>\n     <use xlink:href=\"#ma3115d322c\" x=\"914.13375\" y=\"644.324242\" style=\"fill: #3f3f3f; stroke: #3f3f3f; stroke-linejoin: miter\"/>\n     <use xlink:href=\"#ma3115d322c\" x=\"914.13375\" y=\"644.324242\" style=\"fill: #3f3f3f; stroke: #3f3f3f; stroke-linejoin: miter\"/>\n     <use xlink:href=\"#ma3115d322c\" x=\"914.13375\" y=\"457.027273\" style=\"fill: #3f3f3f; stroke: #3f3f3f; stroke-linejoin: miter\"/>\n     <use xlink:href=\"#ma3115d322c\" x=\"914.13375\" y=\"644.324242\" style=\"fill: #3f3f3f; stroke: #3f3f3f; stroke-linejoin: miter\"/>\n     <use xlink:href=\"#ma3115d322c\" x=\"914.13375\" y=\"550.675758\" style=\"fill: #3f3f3f; stroke: #3f3f3f; stroke-linejoin: miter\"/>\n     <use xlink:href=\"#ma3115d322c\" x=\"914.13375\" y=\"644.324242\" style=\"fill: #3f3f3f; stroke: #3f3f3f; stroke-linejoin: miter\"/>\n     <use xlink:href=\"#ma3115d322c\" x=\"914.13375\" y=\"644.324242\" style=\"fill: #3f3f3f; stroke: #3f3f3f; stroke-linejoin: miter\"/>\n     <use xlink:href=\"#ma3115d322c\" x=\"914.13375\" y=\"644.324242\" style=\"fill: #3f3f3f; stroke: #3f3f3f; stroke-linejoin: miter\"/>\n     <use xlink:href=\"#ma3115d322c\" x=\"914.13375\" y=\"644.324242\" style=\"fill: #3f3f3f; stroke: #3f3f3f; stroke-linejoin: miter\"/>\n     <use xlink:href=\"#ma3115d322c\" x=\"914.13375\" y=\"644.324242\" style=\"fill: #3f3f3f; stroke: #3f3f3f; stroke-linejoin: miter\"/>\n     <use xlink:href=\"#ma3115d322c\" x=\"914.13375\" y=\"550.675758\" style=\"fill: #3f3f3f; stroke: #3f3f3f; stroke-linejoin: miter\"/>\n     <use xlink:href=\"#ma3115d322c\" x=\"914.13375\" y=\"550.675758\" style=\"fill: #3f3f3f; stroke: #3f3f3f; stroke-linejoin: miter\"/>\n     <use xlink:href=\"#ma3115d322c\" x=\"914.13375\" y=\"644.324242\" style=\"fill: #3f3f3f; stroke: #3f3f3f; stroke-linejoin: miter\"/>\n     <use xlink:href=\"#ma3115d322c\" x=\"914.13375\" y=\"644.324242\" style=\"fill: #3f3f3f; stroke: #3f3f3f; stroke-linejoin: miter\"/>\n     <use xlink:href=\"#ma3115d322c\" x=\"914.13375\" y=\"550.675758\" style=\"fill: #3f3f3f; stroke: #3f3f3f; stroke-linejoin: miter\"/>\n     <use xlink:href=\"#ma3115d322c\" x=\"914.13375\" y=\"550.675758\" style=\"fill: #3f3f3f; stroke: #3f3f3f; stroke-linejoin: miter\"/>\n     <use xlink:href=\"#ma3115d322c\" x=\"914.13375\" y=\"644.324242\" style=\"fill: #3f3f3f; stroke: #3f3f3f; stroke-linejoin: miter\"/>\n     <use xlink:href=\"#ma3115d322c\" x=\"914.13375\" y=\"644.324242\" style=\"fill: #3f3f3f; stroke: #3f3f3f; stroke-linejoin: miter\"/>\n     <use xlink:href=\"#ma3115d322c\" x=\"914.13375\" y=\"644.324242\" style=\"fill: #3f3f3f; stroke: #3f3f3f; stroke-linejoin: miter\"/>\n     <use xlink:href=\"#ma3115d322c\" x=\"914.13375\" y=\"644.324242\" style=\"fill: #3f3f3f; stroke: #3f3f3f; stroke-linejoin: miter\"/>\n     <use xlink:href=\"#ma3115d322c\" x=\"914.13375\" y=\"644.324242\" style=\"fill: #3f3f3f; stroke: #3f3f3f; stroke-linejoin: miter\"/>\n     <use xlink:href=\"#ma3115d322c\" x=\"914.13375\" y=\"644.324242\" style=\"fill: #3f3f3f; stroke: #3f3f3f; stroke-linejoin: miter\"/>\n     <use xlink:href=\"#ma3115d322c\" x=\"914.13375\" y=\"644.324242\" style=\"fill: #3f3f3f; stroke: #3f3f3f; stroke-linejoin: miter\"/>\n     <use xlink:href=\"#ma3115d322c\" x=\"914.13375\" y=\"644.324242\" style=\"fill: #3f3f3f; stroke: #3f3f3f; stroke-linejoin: miter\"/>\n     <use xlink:href=\"#ma3115d322c\" x=\"914.13375\" y=\"644.324242\" style=\"fill: #3f3f3f; stroke: #3f3f3f; stroke-linejoin: miter\"/>\n     <use xlink:href=\"#ma3115d322c\" x=\"914.13375\" y=\"644.324242\" style=\"fill: #3f3f3f; stroke: #3f3f3f; stroke-linejoin: miter\"/>\n     <use xlink:href=\"#ma3115d322c\" x=\"914.13375\" y=\"457.027273\" style=\"fill: #3f3f3f; stroke: #3f3f3f; stroke-linejoin: miter\"/>\n     <use xlink:href=\"#ma3115d322c\" x=\"914.13375\" y=\"644.324242\" style=\"fill: #3f3f3f; stroke: #3f3f3f; stroke-linejoin: miter\"/>\n     <use xlink:href=\"#ma3115d322c\" x=\"914.13375\" y=\"644.324242\" style=\"fill: #3f3f3f; stroke: #3f3f3f; stroke-linejoin: miter\"/>\n     <use xlink:href=\"#ma3115d322c\" x=\"914.13375\" y=\"550.675758\" style=\"fill: #3f3f3f; stroke: #3f3f3f; stroke-linejoin: miter\"/>\n     <use xlink:href=\"#ma3115d322c\" x=\"914.13375\" y=\"644.324242\" style=\"fill: #3f3f3f; stroke: #3f3f3f; stroke-linejoin: miter\"/>\n     <use xlink:href=\"#ma3115d322c\" x=\"914.13375\" y=\"644.324242\" style=\"fill: #3f3f3f; stroke: #3f3f3f; stroke-linejoin: miter\"/>\n     <use xlink:href=\"#ma3115d322c\" x=\"914.13375\" y=\"644.324242\" style=\"fill: #3f3f3f; stroke: #3f3f3f; stroke-linejoin: miter\"/>\n     <use xlink:href=\"#ma3115d322c\" x=\"914.13375\" y=\"644.324242\" style=\"fill: #3f3f3f; stroke: #3f3f3f; stroke-linejoin: miter\"/>\n     <use xlink:href=\"#ma3115d322c\" x=\"914.13375\" y=\"644.324242\" style=\"fill: #3f3f3f; stroke: #3f3f3f; stroke-linejoin: miter\"/>\n     <use xlink:href=\"#ma3115d322c\" x=\"914.13375\" y=\"644.324242\" style=\"fill: #3f3f3f; stroke: #3f3f3f; stroke-linejoin: miter\"/>\n     <use xlink:href=\"#ma3115d322c\" x=\"914.13375\" y=\"644.324242\" style=\"fill: #3f3f3f; stroke: #3f3f3f; stroke-linejoin: miter\"/>\n     <use xlink:href=\"#ma3115d322c\" x=\"914.13375\" y=\"644.324242\" style=\"fill: #3f3f3f; stroke: #3f3f3f; stroke-linejoin: miter\"/>\n     <use xlink:href=\"#ma3115d322c\" x=\"914.13375\" y=\"644.324242\" style=\"fill: #3f3f3f; stroke: #3f3f3f; stroke-linejoin: miter\"/>\n     <use xlink:href=\"#ma3115d322c\" x=\"914.13375\" y=\"644.324242\" style=\"fill: #3f3f3f; stroke: #3f3f3f; stroke-linejoin: miter\"/>\n     <use xlink:href=\"#ma3115d322c\" x=\"914.13375\" y=\"644.324242\" style=\"fill: #3f3f3f; stroke: #3f3f3f; stroke-linejoin: miter\"/>\n     <use xlink:href=\"#ma3115d322c\" x=\"914.13375\" y=\"457.027273\" style=\"fill: #3f3f3f; stroke: #3f3f3f; stroke-linejoin: miter\"/>\n     <use xlink:href=\"#ma3115d322c\" x=\"914.13375\" y=\"644.324242\" style=\"fill: #3f3f3f; stroke: #3f3f3f; stroke-linejoin: miter\"/>\n     <use xlink:href=\"#ma3115d322c\" x=\"914.13375\" y=\"550.675758\" style=\"fill: #3f3f3f; stroke: #3f3f3f; stroke-linejoin: miter\"/>\n     <use xlink:href=\"#ma3115d322c\" x=\"914.13375\" y=\"457.027273\" style=\"fill: #3f3f3f; stroke: #3f3f3f; stroke-linejoin: miter\"/>\n     <use xlink:href=\"#ma3115d322c\" x=\"914.13375\" y=\"644.324242\" style=\"fill: #3f3f3f; stroke: #3f3f3f; stroke-linejoin: miter\"/>\n     <use xlink:href=\"#ma3115d322c\" x=\"914.13375\" y=\"644.324242\" style=\"fill: #3f3f3f; stroke: #3f3f3f; stroke-linejoin: miter\"/>\n     <use xlink:href=\"#ma3115d322c\" x=\"914.13375\" y=\"644.324242\" style=\"fill: #3f3f3f; stroke: #3f3f3f; stroke-linejoin: miter\"/>\n     <use xlink:href=\"#ma3115d322c\" x=\"914.13375\" y=\"644.324242\" style=\"fill: #3f3f3f; stroke: #3f3f3f; stroke-linejoin: miter\"/>\n     <use xlink:href=\"#ma3115d322c\" x=\"914.13375\" y=\"457.027273\" style=\"fill: #3f3f3f; stroke: #3f3f3f; stroke-linejoin: miter\"/>\n     <use xlink:href=\"#ma3115d322c\" x=\"914.13375\" y=\"550.675758\" style=\"fill: #3f3f3f; stroke: #3f3f3f; stroke-linejoin: miter\"/>\n     <use xlink:href=\"#ma3115d322c\" x=\"914.13375\" y=\"457.027273\" style=\"fill: #3f3f3f; stroke: #3f3f3f; stroke-linejoin: miter\"/>\n     <use xlink:href=\"#ma3115d322c\" x=\"914.13375\" y=\"550.675758\" style=\"fill: #3f3f3f; stroke: #3f3f3f; stroke-linejoin: miter\"/>\n     <use xlink:href=\"#ma3115d322c\" x=\"914.13375\" y=\"644.324242\" style=\"fill: #3f3f3f; stroke: #3f3f3f; stroke-linejoin: miter\"/>\n     <use xlink:href=\"#ma3115d322c\" x=\"914.13375\" y=\"644.324242\" style=\"fill: #3f3f3f; stroke: #3f3f3f; stroke-linejoin: miter\"/>\n     <use xlink:href=\"#ma3115d322c\" x=\"914.13375\" y=\"644.324242\" style=\"fill: #3f3f3f; stroke: #3f3f3f; stroke-linejoin: miter\"/>\n     <use xlink:href=\"#ma3115d322c\" x=\"914.13375\" y=\"644.324242\" style=\"fill: #3f3f3f; stroke: #3f3f3f; stroke-linejoin: miter\"/>\n     <use xlink:href=\"#ma3115d322c\" x=\"914.13375\" y=\"550.675758\" style=\"fill: #3f3f3f; stroke: #3f3f3f; stroke-linejoin: miter\"/>\n     <use xlink:href=\"#ma3115d322c\" x=\"914.13375\" y=\"644.324242\" style=\"fill: #3f3f3f; stroke: #3f3f3f; stroke-linejoin: miter\"/>\n     <use xlink:href=\"#ma3115d322c\" x=\"914.13375\" y=\"644.324242\" style=\"fill: #3f3f3f; stroke: #3f3f3f; stroke-linejoin: miter\"/>\n     <use xlink:href=\"#ma3115d322c\" x=\"914.13375\" y=\"550.675758\" style=\"fill: #3f3f3f; stroke: #3f3f3f; stroke-linejoin: miter\"/>\n     <use xlink:href=\"#ma3115d322c\" x=\"914.13375\" y=\"644.324242\" style=\"fill: #3f3f3f; stroke: #3f3f3f; stroke-linejoin: miter\"/>\n     <use xlink:href=\"#ma3115d322c\" x=\"914.13375\" y=\"644.324242\" style=\"fill: #3f3f3f; stroke: #3f3f3f; stroke-linejoin: miter\"/>\n     <use xlink:href=\"#ma3115d322c\" x=\"914.13375\" y=\"644.324242\" style=\"fill: #3f3f3f; stroke: #3f3f3f; stroke-linejoin: miter\"/>\n     <use xlink:href=\"#ma3115d322c\" x=\"914.13375\" y=\"457.027273\" style=\"fill: #3f3f3f; stroke: #3f3f3f; stroke-linejoin: miter\"/>\n     <use xlink:href=\"#ma3115d322c\" x=\"914.13375\" y=\"644.324242\" style=\"fill: #3f3f3f; stroke: #3f3f3f; stroke-linejoin: miter\"/>\n     <use xlink:href=\"#ma3115d322c\" x=\"914.13375\" y=\"644.324242\" style=\"fill: #3f3f3f; stroke: #3f3f3f; stroke-linejoin: miter\"/>\n     <use xlink:href=\"#ma3115d322c\" x=\"914.13375\" y=\"644.324242\" style=\"fill: #3f3f3f; stroke: #3f3f3f; stroke-linejoin: miter\"/>\n     <use xlink:href=\"#ma3115d322c\" x=\"914.13375\" y=\"644.324242\" style=\"fill: #3f3f3f; stroke: #3f3f3f; stroke-linejoin: miter\"/>\n     <use xlink:href=\"#ma3115d322c\" x=\"914.13375\" y=\"644.324242\" style=\"fill: #3f3f3f; stroke: #3f3f3f; stroke-linejoin: miter\"/>\n     <use xlink:href=\"#ma3115d322c\" x=\"914.13375\" y=\"644.324242\" style=\"fill: #3f3f3f; stroke: #3f3f3f; stroke-linejoin: miter\"/>\n    </g>\n   </g>\n   <g id=\"line2d_89\">\n    <path d=\"M 793.18175 737.972727 \nL 1035.08575 737.972727 \n\" clip-path=\"url(#p8d8df32fdc)\" style=\"fill: none; stroke: #3f3f3f; stroke-width: 1.5; stroke-linecap: square\"/>\n   </g>\n   <g id=\"patch_34\">\n    <path d=\"M 762.94375 752.02 \nL 762.94375 442.98 \n\" style=\"fill: none; stroke: #000000; stroke-width: 0.8; stroke-linejoin: miter; stroke-linecap: square\"/>\n   </g>\n   <g id=\"patch_35\">\n    <path d=\"M 1065.32375 752.02 \nL 1065.32375 442.98 \n\" style=\"fill: none; stroke: #000000; stroke-width: 0.8; stroke-linejoin: miter; stroke-linecap: square\"/>\n   </g>\n   <g id=\"patch_36\">\n    <path d=\"M 762.94375 752.02 \nL 1065.32375 752.02 \n\" style=\"fill: none; stroke: #000000; stroke-width: 0.8; stroke-linejoin: miter; stroke-linecap: square\"/>\n   </g>\n   <g id=\"patch_37\">\n    <path d=\"M 762.94375 442.98 \nL 1065.32375 442.98 \n\" style=\"fill: none; stroke: #000000; stroke-width: 0.8; stroke-linejoin: miter; stroke-linecap: square\"/>\n   </g>\n   <g id=\"text_59\">\n    <!-- Box Plot para failures -->\n    <g transform=\"translate(850.249687 436.98) scale(0.12 -0.12)\">\n     <use xlink:href=\"#DejaVuSans-42\"/>\n     <use xlink:href=\"#DejaVuSans-6f\" x=\"68.603516\"/>\n     <use xlink:href=\"#DejaVuSans-78\" x=\"126.660156\"/>\n     <use xlink:href=\"#DejaVuSans-20\" x=\"185.839844\"/>\n     <use xlink:href=\"#DejaVuSans-50\" x=\"217.626953\"/>\n     <use xlink:href=\"#DejaVuSans-6c\" x=\"277.929688\"/>\n     <use xlink:href=\"#DejaVuSans-6f\" x=\"305.712891\"/>\n     <use xlink:href=\"#DejaVuSans-74\" x=\"366.894531\"/>\n     <use xlink:href=\"#DejaVuSans-20\" x=\"406.103516\"/>\n     <use xlink:href=\"#DejaVuSans-70\" x=\"437.890625\"/>\n     <use xlink:href=\"#DejaVuSans-61\" x=\"501.367188\"/>\n     <use xlink:href=\"#DejaVuSans-72\" x=\"562.646484\"/>\n     <use xlink:href=\"#DejaVuSans-61\" x=\"603.759766\"/>\n     <use xlink:href=\"#DejaVuSans-20\" x=\"665.039062\"/>\n     <use xlink:href=\"#DejaVuSans-66\" x=\"696.826172\"/>\n     <use xlink:href=\"#DejaVuSans-61\" x=\"732.03125\"/>\n     <use xlink:href=\"#DejaVuSans-69\" x=\"793.310547\"/>\n     <use xlink:href=\"#DejaVuSans-6c\" x=\"821.09375\"/>\n     <use xlink:href=\"#DejaVuSans-75\" x=\"848.876953\"/>\n     <use xlink:href=\"#DejaVuSans-72\" x=\"912.255859\"/>\n     <use xlink:href=\"#DejaVuSans-65\" x=\"951.119141\"/>\n     <use xlink:href=\"#DejaVuSans-73\" x=\"1012.642578\"/>\n    </g>\n   </g>\n  </g>\n  <g id=\"axes_7\">\n   <g id=\"patch_38\">\n    <path d=\"M 50.14375 1091.44 \nL 352.52375 1091.44 \nL 352.52375 782.4 \nL 50.14375 782.4 \nz\n\" style=\"fill: #ffffff\"/>\n   </g>\n   <g id=\"patch_39\">\n    <path d=\"M 80.38175 866.683636 \nL 322.28575 866.683636 \nL 322.28575 796.447273 \nL 80.38175 796.447273 \nL 80.38175 866.683636 \nz\n\" clip-path=\"url(#p6ee8b8de9b)\" style=\"fill: #3274a1; stroke: #3f3f3f; stroke-width: 1.5; stroke-linejoin: miter\"/>\n   </g>\n   <g id=\"matplotlib.axis_13\">\n    <g id=\"xtick_7\">\n     <g id=\"line2d_90\">\n      <g>\n       <use xlink:href=\"#me3414331ca\" x=\"201.33375\" y=\"1091.44\" style=\"stroke: #000000; stroke-width: 0.8\"/>\n      </g>\n     </g>\n    </g>\n   </g>\n   <g id=\"matplotlib.axis_14\">\n    <g id=\"ytick_48\">\n     <g id=\"line2d_91\">\n      <g>\n       <use xlink:href=\"#m1b0ea2fc6b\" x=\"50.14375\" y=\"1077.392727\" style=\"stroke: #000000; stroke-width: 0.8\"/>\n      </g>\n     </g>\n     <g id=\"text_60\">\n      <!-- 1.0 -->\n      <g transform=\"translate(27.240625 1081.191946) scale(0.1 -0.1)\">\n       <use xlink:href=\"#DejaVuSans-31\"/>\n       <use xlink:href=\"#DejaVuSans-2e\" x=\"63.623047\"/>\n       <use xlink:href=\"#DejaVuSans-30\" x=\"95.410156\"/>\n      </g>\n     </g>\n    </g>\n    <g id=\"ytick_49\">\n     <g id=\"line2d_92\">\n      <g>\n       <use xlink:href=\"#m1b0ea2fc6b\" x=\"50.14375\" y=\"1042.274545\" style=\"stroke: #000000; stroke-width: 0.8\"/>\n      </g>\n     </g>\n     <g id=\"text_61\">\n      <!-- 1.5 -->\n      <g transform=\"translate(27.240625 1046.073764) scale(0.1 -0.1)\">\n       <use xlink:href=\"#DejaVuSans-31\"/>\n       <use xlink:href=\"#DejaVuSans-2e\" x=\"63.623047\"/>\n       <use xlink:href=\"#DejaVuSans-35\" x=\"95.410156\"/>\n      </g>\n     </g>\n    </g>\n    <g id=\"ytick_50\">\n     <g id=\"line2d_93\">\n      <g>\n       <use xlink:href=\"#m1b0ea2fc6b\" x=\"50.14375\" y=\"1007.156364\" style=\"stroke: #000000; stroke-width: 0.8\"/>\n      </g>\n     </g>\n     <g id=\"text_62\">\n      <!-- 2.0 -->\n      <g transform=\"translate(27.240625 1010.955582) scale(0.1 -0.1)\">\n       <use xlink:href=\"#DejaVuSans-32\"/>\n       <use xlink:href=\"#DejaVuSans-2e\" x=\"63.623047\"/>\n       <use xlink:href=\"#DejaVuSans-30\" x=\"95.410156\"/>\n      </g>\n     </g>\n    </g>\n    <g id=\"ytick_51\">\n     <g id=\"line2d_94\">\n      <g>\n       <use xlink:href=\"#m1b0ea2fc6b\" x=\"50.14375\" y=\"972.038182\" style=\"stroke: #000000; stroke-width: 0.8\"/>\n      </g>\n     </g>\n     <g id=\"text_63\">\n      <!-- 2.5 -->\n      <g transform=\"translate(27.240625 975.837401) scale(0.1 -0.1)\">\n       <use xlink:href=\"#DejaVuSans-32\"/>\n       <use xlink:href=\"#DejaVuSans-2e\" x=\"63.623047\"/>\n       <use xlink:href=\"#DejaVuSans-35\" x=\"95.410156\"/>\n      </g>\n     </g>\n    </g>\n    <g id=\"ytick_52\">\n     <g id=\"line2d_95\">\n      <g>\n       <use xlink:href=\"#m1b0ea2fc6b\" x=\"50.14375\" y=\"936.92\" style=\"stroke: #000000; stroke-width: 0.8\"/>\n      </g>\n     </g>\n     <g id=\"text_64\">\n      <!-- 3.0 -->\n      <g transform=\"translate(27.240625 940.719219) scale(0.1 -0.1)\">\n       <use xlink:href=\"#DejaVuSans-33\"/>\n       <use xlink:href=\"#DejaVuSans-2e\" x=\"63.623047\"/>\n       <use xlink:href=\"#DejaVuSans-30\" x=\"95.410156\"/>\n      </g>\n     </g>\n    </g>\n    <g id=\"ytick_53\">\n     <g id=\"line2d_96\">\n      <g>\n       <use xlink:href=\"#m1b0ea2fc6b\" x=\"50.14375\" y=\"901.801818\" style=\"stroke: #000000; stroke-width: 0.8\"/>\n      </g>\n     </g>\n     <g id=\"text_65\">\n      <!-- 3.5 -->\n      <g transform=\"translate(27.240625 905.601037) scale(0.1 -0.1)\">\n       <use xlink:href=\"#DejaVuSans-33\"/>\n       <use xlink:href=\"#DejaVuSans-2e\" x=\"63.623047\"/>\n       <use xlink:href=\"#DejaVuSans-35\" x=\"95.410156\"/>\n      </g>\n     </g>\n    </g>\n    <g id=\"ytick_54\">\n     <g id=\"line2d_97\">\n      <g>\n       <use xlink:href=\"#m1b0ea2fc6b\" x=\"50.14375\" y=\"866.683636\" style=\"stroke: #000000; stroke-width: 0.8\"/>\n      </g>\n     </g>\n     <g id=\"text_66\">\n      <!-- 4.0 -->\n      <g transform=\"translate(27.240625 870.482855) scale(0.1 -0.1)\">\n       <use xlink:href=\"#DejaVuSans-34\"/>\n       <use xlink:href=\"#DejaVuSans-2e\" x=\"63.623047\"/>\n       <use xlink:href=\"#DejaVuSans-30\" x=\"95.410156\"/>\n      </g>\n     </g>\n    </g>\n    <g id=\"ytick_55\">\n     <g id=\"line2d_98\">\n      <g>\n       <use xlink:href=\"#m1b0ea2fc6b\" x=\"50.14375\" y=\"831.565455\" style=\"stroke: #000000; stroke-width: 0.8\"/>\n      </g>\n     </g>\n     <g id=\"text_67\">\n      <!-- 4.5 -->\n      <g transform=\"translate(27.240625 835.364673) scale(0.1 -0.1)\">\n       <use xlink:href=\"#DejaVuSans-34\"/>\n       <use xlink:href=\"#DejaVuSans-2e\" x=\"63.623047\"/>\n       <use xlink:href=\"#DejaVuSans-35\" x=\"95.410156\"/>\n      </g>\n     </g>\n    </g>\n    <g id=\"ytick_56\">\n     <g id=\"line2d_99\">\n      <g>\n       <use xlink:href=\"#m1b0ea2fc6b\" x=\"50.14375\" y=\"796.447273\" style=\"stroke: #000000; stroke-width: 0.8\"/>\n      </g>\n     </g>\n     <g id=\"text_68\">\n      <!-- 5.0 -->\n      <g transform=\"translate(27.240625 800.246491) scale(0.1 -0.1)\">\n       <use xlink:href=\"#DejaVuSans-35\"/>\n       <use xlink:href=\"#DejaVuSans-2e\" x=\"63.623047\"/>\n       <use xlink:href=\"#DejaVuSans-30\" x=\"95.410156\"/>\n      </g>\n     </g>\n    </g>\n    <g id=\"text_69\">\n     <!-- famrel -->\n     <g transform=\"translate(21.160937 953.023125) rotate(-90) scale(0.1 -0.1)\">\n      <use xlink:href=\"#DejaVuSans-66\"/>\n      <use xlink:href=\"#DejaVuSans-61\" x=\"35.205078\"/>\n      <use xlink:href=\"#DejaVuSans-6d\" x=\"96.484375\"/>\n      <use xlink:href=\"#DejaVuSans-72\" x=\"193.896484\"/>\n      <use xlink:href=\"#DejaVuSans-65\" x=\"232.759766\"/>\n      <use xlink:href=\"#DejaVuSans-6c\" x=\"294.283203\"/>\n     </g>\n    </g>\n   </g>\n   <g id=\"line2d_100\">\n    <path d=\"M 201.33375 866.683636 \nL 201.33375 936.92 \n\" clip-path=\"url(#p6ee8b8de9b)\" style=\"fill: none; stroke: #3f3f3f; stroke-width: 1.5; stroke-linecap: square\"/>\n   </g>\n   <g id=\"line2d_101\">\n    <path d=\"M 201.33375 796.447273 \nL 201.33375 796.447273 \n\" clip-path=\"url(#p6ee8b8de9b)\" style=\"fill: none; stroke: #3f3f3f; stroke-width: 1.5; stroke-linecap: square\"/>\n   </g>\n   <g id=\"line2d_102\">\n    <path d=\"M 140.85775 936.92 \nL 261.80975 936.92 \n\" clip-path=\"url(#p6ee8b8de9b)\" style=\"fill: none; stroke: #3f3f3f; stroke-width: 1.5; stroke-linecap: square\"/>\n   </g>\n   <g id=\"line2d_103\">\n    <path d=\"M 140.85775 796.447273 \nL 261.80975 796.447273 \n\" clip-path=\"url(#p6ee8b8de9b)\" style=\"fill: none; stroke: #3f3f3f; stroke-width: 1.5; stroke-linecap: square\"/>\n   </g>\n   <g id=\"line2d_104\">\n    <g clip-path=\"url(#p6ee8b8de9b)\">\n     <use xlink:href=\"#ma3115d322c\" x=\"201.33375\" y=\"1077.392727\" style=\"fill: #3f3f3f; stroke: #3f3f3f; stroke-linejoin: miter\"/>\n     <use xlink:href=\"#ma3115d322c\" x=\"201.33375\" y=\"1007.156364\" style=\"fill: #3f3f3f; stroke: #3f3f3f; stroke-linejoin: miter\"/>\n     <use xlink:href=\"#ma3115d322c\" x=\"201.33375\" y=\"1007.156364\" style=\"fill: #3f3f3f; stroke: #3f3f3f; stroke-linejoin: miter\"/>\n     <use xlink:href=\"#ma3115d322c\" x=\"201.33375\" y=\"1007.156364\" style=\"fill: #3f3f3f; stroke: #3f3f3f; stroke-linejoin: miter\"/>\n     <use xlink:href=\"#ma3115d322c\" x=\"201.33375\" y=\"1007.156364\" style=\"fill: #3f3f3f; stroke: #3f3f3f; stroke-linejoin: miter\"/>\n     <use xlink:href=\"#ma3115d322c\" x=\"201.33375\" y=\"1077.392727\" style=\"fill: #3f3f3f; stroke: #3f3f3f; stroke-linejoin: miter\"/>\n     <use xlink:href=\"#ma3115d322c\" x=\"201.33375\" y=\"1007.156364\" style=\"fill: #3f3f3f; stroke: #3f3f3f; stroke-linejoin: miter\"/>\n     <use xlink:href=\"#ma3115d322c\" x=\"201.33375\" y=\"1077.392727\" style=\"fill: #3f3f3f; stroke: #3f3f3f; stroke-linejoin: miter\"/>\n     <use xlink:href=\"#ma3115d322c\" x=\"201.33375\" y=\"1007.156364\" style=\"fill: #3f3f3f; stroke: #3f3f3f; stroke-linejoin: miter\"/>\n     <use xlink:href=\"#ma3115d322c\" x=\"201.33375\" y=\"1077.392727\" style=\"fill: #3f3f3f; stroke: #3f3f3f; stroke-linejoin: miter\"/>\n     <use xlink:href=\"#ma3115d322c\" x=\"201.33375\" y=\"1007.156364\" style=\"fill: #3f3f3f; stroke: #3f3f3f; stroke-linejoin: miter\"/>\n     <use xlink:href=\"#ma3115d322c\" x=\"201.33375\" y=\"1007.156364\" style=\"fill: #3f3f3f; stroke: #3f3f3f; stroke-linejoin: miter\"/>\n     <use xlink:href=\"#ma3115d322c\" x=\"201.33375\" y=\"1007.156364\" style=\"fill: #3f3f3f; stroke: #3f3f3f; stroke-linejoin: miter\"/>\n     <use xlink:href=\"#ma3115d322c\" x=\"201.33375\" y=\"1007.156364\" style=\"fill: #3f3f3f; stroke: #3f3f3f; stroke-linejoin: miter\"/>\n     <use xlink:href=\"#ma3115d322c\" x=\"201.33375\" y=\"1077.392727\" style=\"fill: #3f3f3f; stroke: #3f3f3f; stroke-linejoin: miter\"/>\n     <use xlink:href=\"#ma3115d322c\" x=\"201.33375\" y=\"1007.156364\" style=\"fill: #3f3f3f; stroke: #3f3f3f; stroke-linejoin: miter\"/>\n     <use xlink:href=\"#ma3115d322c\" x=\"201.33375\" y=\"1077.392727\" style=\"fill: #3f3f3f; stroke: #3f3f3f; stroke-linejoin: miter\"/>\n     <use xlink:href=\"#ma3115d322c\" x=\"201.33375\" y=\"1007.156364\" style=\"fill: #3f3f3f; stroke: #3f3f3f; stroke-linejoin: miter\"/>\n     <use xlink:href=\"#ma3115d322c\" x=\"201.33375\" y=\"1007.156364\" style=\"fill: #3f3f3f; stroke: #3f3f3f; stroke-linejoin: miter\"/>\n     <use xlink:href=\"#ma3115d322c\" x=\"201.33375\" y=\"1007.156364\" style=\"fill: #3f3f3f; stroke: #3f3f3f; stroke-linejoin: miter\"/>\n     <use xlink:href=\"#ma3115d322c\" x=\"201.33375\" y=\"1077.392727\" style=\"fill: #3f3f3f; stroke: #3f3f3f; stroke-linejoin: miter\"/>\n     <use xlink:href=\"#ma3115d322c\" x=\"201.33375\" y=\"1007.156364\" style=\"fill: #3f3f3f; stroke: #3f3f3f; stroke-linejoin: miter\"/>\n     <use xlink:href=\"#ma3115d322c\" x=\"201.33375\" y=\"1007.156364\" style=\"fill: #3f3f3f; stroke: #3f3f3f; stroke-linejoin: miter\"/>\n     <use xlink:href=\"#ma3115d322c\" x=\"201.33375\" y=\"1077.392727\" style=\"fill: #3f3f3f; stroke: #3f3f3f; stroke-linejoin: miter\"/>\n     <use xlink:href=\"#ma3115d322c\" x=\"201.33375\" y=\"1077.392727\" style=\"fill: #3f3f3f; stroke: #3f3f3f; stroke-linejoin: miter\"/>\n     <use xlink:href=\"#ma3115d322c\" x=\"201.33375\" y=\"1007.156364\" style=\"fill: #3f3f3f; stroke: #3f3f3f; stroke-linejoin: miter\"/>\n     <use xlink:href=\"#ma3115d322c\" x=\"201.33375\" y=\"1077.392727\" style=\"fill: #3f3f3f; stroke: #3f3f3f; stroke-linejoin: miter\"/>\n     <use xlink:href=\"#ma3115d322c\" x=\"201.33375\" y=\"1077.392727\" style=\"fill: #3f3f3f; stroke: #3f3f3f; stroke-linejoin: miter\"/>\n     <use xlink:href=\"#ma3115d322c\" x=\"201.33375\" y=\"1077.392727\" style=\"fill: #3f3f3f; stroke: #3f3f3f; stroke-linejoin: miter\"/>\n     <use xlink:href=\"#ma3115d322c\" x=\"201.33375\" y=\"1077.392727\" style=\"fill: #3f3f3f; stroke: #3f3f3f; stroke-linejoin: miter\"/>\n     <use xlink:href=\"#ma3115d322c\" x=\"201.33375\" y=\"1077.392727\" style=\"fill: #3f3f3f; stroke: #3f3f3f; stroke-linejoin: miter\"/>\n     <use xlink:href=\"#ma3115d322c\" x=\"201.33375\" y=\"1007.156364\" style=\"fill: #3f3f3f; stroke: #3f3f3f; stroke-linejoin: miter\"/>\n     <use xlink:href=\"#ma3115d322c\" x=\"201.33375\" y=\"1077.392727\" style=\"fill: #3f3f3f; stroke: #3f3f3f; stroke-linejoin: miter\"/>\n     <use xlink:href=\"#ma3115d322c\" x=\"201.33375\" y=\"1007.156364\" style=\"fill: #3f3f3f; stroke: #3f3f3f; stroke-linejoin: miter\"/>\n     <use xlink:href=\"#ma3115d322c\" x=\"201.33375\" y=\"1077.392727\" style=\"fill: #3f3f3f; stroke: #3f3f3f; stroke-linejoin: miter\"/>\n     <use xlink:href=\"#ma3115d322c\" x=\"201.33375\" y=\"1007.156364\" style=\"fill: #3f3f3f; stroke: #3f3f3f; stroke-linejoin: miter\"/>\n     <use xlink:href=\"#ma3115d322c\" x=\"201.33375\" y=\"1007.156364\" style=\"fill: #3f3f3f; stroke: #3f3f3f; stroke-linejoin: miter\"/>\n     <use xlink:href=\"#ma3115d322c\" x=\"201.33375\" y=\"1007.156364\" style=\"fill: #3f3f3f; stroke: #3f3f3f; stroke-linejoin: miter\"/>\n     <use xlink:href=\"#ma3115d322c\" x=\"201.33375\" y=\"1077.392727\" style=\"fill: #3f3f3f; stroke: #3f3f3f; stroke-linejoin: miter\"/>\n     <use xlink:href=\"#ma3115d322c\" x=\"201.33375\" y=\"1077.392727\" style=\"fill: #3f3f3f; stroke: #3f3f3f; stroke-linejoin: miter\"/>\n     <use xlink:href=\"#ma3115d322c\" x=\"201.33375\" y=\"1007.156364\" style=\"fill: #3f3f3f; stroke: #3f3f3f; stroke-linejoin: miter\"/>\n     <use xlink:href=\"#ma3115d322c\" x=\"201.33375\" y=\"1007.156364\" style=\"fill: #3f3f3f; stroke: #3f3f3f; stroke-linejoin: miter\"/>\n     <use xlink:href=\"#ma3115d322c\" x=\"201.33375\" y=\"1007.156364\" style=\"fill: #3f3f3f; stroke: #3f3f3f; stroke-linejoin: miter\"/>\n     <use xlink:href=\"#ma3115d322c\" x=\"201.33375\" y=\"1077.392727\" style=\"fill: #3f3f3f; stroke: #3f3f3f; stroke-linejoin: miter\"/>\n     <use xlink:href=\"#ma3115d322c\" x=\"201.33375\" y=\"1007.156364\" style=\"fill: #3f3f3f; stroke: #3f3f3f; stroke-linejoin: miter\"/>\n     <use xlink:href=\"#ma3115d322c\" x=\"201.33375\" y=\"1007.156364\" style=\"fill: #3f3f3f; stroke: #3f3f3f; stroke-linejoin: miter\"/>\n     <use xlink:href=\"#ma3115d322c\" x=\"201.33375\" y=\"1077.392727\" style=\"fill: #3f3f3f; stroke: #3f3f3f; stroke-linejoin: miter\"/>\n     <use xlink:href=\"#ma3115d322c\" x=\"201.33375\" y=\"1077.392727\" style=\"fill: #3f3f3f; stroke: #3f3f3f; stroke-linejoin: miter\"/>\n     <use xlink:href=\"#ma3115d322c\" x=\"201.33375\" y=\"1007.156364\" style=\"fill: #3f3f3f; stroke: #3f3f3f; stroke-linejoin: miter\"/>\n     <use xlink:href=\"#ma3115d322c\" x=\"201.33375\" y=\"1077.392727\" style=\"fill: #3f3f3f; stroke: #3f3f3f; stroke-linejoin: miter\"/>\n     <use xlink:href=\"#ma3115d322c\" x=\"201.33375\" y=\"1007.156364\" style=\"fill: #3f3f3f; stroke: #3f3f3f; stroke-linejoin: miter\"/>\n    </g>\n   </g>\n   <g id=\"line2d_105\">\n    <path d=\"M 80.38175 866.683636 \nL 322.28575 866.683636 \n\" clip-path=\"url(#p6ee8b8de9b)\" style=\"fill: none; stroke: #3f3f3f; stroke-width: 1.5; stroke-linecap: square\"/>\n   </g>\n   <g id=\"patch_40\">\n    <path d=\"M 50.14375 1091.44 \nL 50.14375 782.4 \n\" style=\"fill: none; stroke: #000000; stroke-width: 0.8; stroke-linejoin: miter; stroke-linecap: square\"/>\n   </g>\n   <g id=\"patch_41\">\n    <path d=\"M 352.52375 1091.44 \nL 352.52375 782.4 \n\" style=\"fill: none; stroke: #000000; stroke-width: 0.8; stroke-linejoin: miter; stroke-linecap: square\"/>\n   </g>\n   <g id=\"patch_42\">\n    <path d=\"M 50.14375 1091.44 \nL 352.52375 1091.44 \n\" style=\"fill: none; stroke: #000000; stroke-width: 0.8; stroke-linejoin: miter; stroke-linecap: square\"/>\n   </g>\n   <g id=\"patch_43\">\n    <path d=\"M 50.14375 782.4 \nL 352.52375 782.4 \n\" style=\"fill: none; stroke: #000000; stroke-width: 0.8; stroke-linejoin: miter; stroke-linecap: square\"/>\n   </g>\n   <g id=\"text_70\">\n    <!-- Box Plot para famrel -->\n    <g transform=\"translate(140.200312 776.4) scale(0.12 -0.12)\">\n     <use xlink:href=\"#DejaVuSans-42\"/>\n     <use xlink:href=\"#DejaVuSans-6f\" x=\"68.603516\"/>\n     <use xlink:href=\"#DejaVuSans-78\" x=\"126.660156\"/>\n     <use xlink:href=\"#DejaVuSans-20\" x=\"185.839844\"/>\n     <use xlink:href=\"#DejaVuSans-50\" x=\"217.626953\"/>\n     <use xlink:href=\"#DejaVuSans-6c\" x=\"277.929688\"/>\n     <use xlink:href=\"#DejaVuSans-6f\" x=\"305.712891\"/>\n     <use xlink:href=\"#DejaVuSans-74\" x=\"366.894531\"/>\n     <use xlink:href=\"#DejaVuSans-20\" x=\"406.103516\"/>\n     <use xlink:href=\"#DejaVuSans-70\" x=\"437.890625\"/>\n     <use xlink:href=\"#DejaVuSans-61\" x=\"501.367188\"/>\n     <use xlink:href=\"#DejaVuSans-72\" x=\"562.646484\"/>\n     <use xlink:href=\"#DejaVuSans-61\" x=\"603.759766\"/>\n     <use xlink:href=\"#DejaVuSans-20\" x=\"665.039062\"/>\n     <use xlink:href=\"#DejaVuSans-66\" x=\"696.826172\"/>\n     <use xlink:href=\"#DejaVuSans-61\" x=\"732.03125\"/>\n     <use xlink:href=\"#DejaVuSans-6d\" x=\"793.310547\"/>\n     <use xlink:href=\"#DejaVuSans-72\" x=\"890.722656\"/>\n     <use xlink:href=\"#DejaVuSans-65\" x=\"929.585938\"/>\n     <use xlink:href=\"#DejaVuSans-6c\" x=\"991.109375\"/>\n    </g>\n   </g>\n  </g>\n  <g id=\"axes_8\">\n   <g id=\"patch_44\">\n    <path d=\"M 406.54375 1091.44 \nL 708.92375 1091.44 \nL 708.92375 782.4 \nL 406.54375 782.4 \nz\n\" style=\"fill: #ffffff\"/>\n   </g>\n   <g id=\"patch_45\">\n    <path d=\"M 436.78175 936.92 \nL 678.68575 936.92 \nL 678.68575 866.683636 \nL 436.78175 866.683636 \nL 436.78175 936.92 \nz\n\" clip-path=\"url(#p337697aefc)\" style=\"fill: #3274a1; stroke: #3f3f3f; stroke-width: 1.5; stroke-linejoin: miter\"/>\n   </g>\n   <g id=\"matplotlib.axis_15\">\n    <g id=\"xtick_8\">\n     <g id=\"line2d_106\">\n      <g>\n       <use xlink:href=\"#me3414331ca\" x=\"557.73375\" y=\"1091.44\" style=\"stroke: #000000; stroke-width: 0.8\"/>\n      </g>\n     </g>\n    </g>\n   </g>\n   <g id=\"matplotlib.axis_16\">\n    <g id=\"ytick_57\">\n     <g id=\"line2d_107\">\n      <g>\n       <use xlink:href=\"#m1b0ea2fc6b\" x=\"406.54375\" y=\"1077.392727\" style=\"stroke: #000000; stroke-width: 0.8\"/>\n      </g>\n     </g>\n     <g id=\"text_71\">\n      <!-- 1.0 -->\n      <g transform=\"translate(383.640625 1081.191946) scale(0.1 -0.1)\">\n       <use xlink:href=\"#DejaVuSans-31\"/>\n       <use xlink:href=\"#DejaVuSans-2e\" x=\"63.623047\"/>\n       <use xlink:href=\"#DejaVuSans-30\" x=\"95.410156\"/>\n      </g>\n     </g>\n    </g>\n    <g id=\"ytick_58\">\n     <g id=\"line2d_108\">\n      <g>\n       <use xlink:href=\"#m1b0ea2fc6b\" x=\"406.54375\" y=\"1042.274545\" style=\"stroke: #000000; stroke-width: 0.8\"/>\n      </g>\n     </g>\n     <g id=\"text_72\">\n      <!-- 1.5 -->\n      <g transform=\"translate(383.640625 1046.073764) scale(0.1 -0.1)\">\n       <use xlink:href=\"#DejaVuSans-31\"/>\n       <use xlink:href=\"#DejaVuSans-2e\" x=\"63.623047\"/>\n       <use xlink:href=\"#DejaVuSans-35\" x=\"95.410156\"/>\n      </g>\n     </g>\n    </g>\n    <g id=\"ytick_59\">\n     <g id=\"line2d_109\">\n      <g>\n       <use xlink:href=\"#m1b0ea2fc6b\" x=\"406.54375\" y=\"1007.156364\" style=\"stroke: #000000; stroke-width: 0.8\"/>\n      </g>\n     </g>\n     <g id=\"text_73\">\n      <!-- 2.0 -->\n      <g transform=\"translate(383.640625 1010.955582) scale(0.1 -0.1)\">\n       <use xlink:href=\"#DejaVuSans-32\"/>\n       <use xlink:href=\"#DejaVuSans-2e\" x=\"63.623047\"/>\n       <use xlink:href=\"#DejaVuSans-30\" x=\"95.410156\"/>\n      </g>\n     </g>\n    </g>\n    <g id=\"ytick_60\">\n     <g id=\"line2d_110\">\n      <g>\n       <use xlink:href=\"#m1b0ea2fc6b\" x=\"406.54375\" y=\"972.038182\" style=\"stroke: #000000; stroke-width: 0.8\"/>\n      </g>\n     </g>\n     <g id=\"text_74\">\n      <!-- 2.5 -->\n      <g transform=\"translate(383.640625 975.837401) scale(0.1 -0.1)\">\n       <use xlink:href=\"#DejaVuSans-32\"/>\n       <use xlink:href=\"#DejaVuSans-2e\" x=\"63.623047\"/>\n       <use xlink:href=\"#DejaVuSans-35\" x=\"95.410156\"/>\n      </g>\n     </g>\n    </g>\n    <g id=\"ytick_61\">\n     <g id=\"line2d_111\">\n      <g>\n       <use xlink:href=\"#m1b0ea2fc6b\" x=\"406.54375\" y=\"936.92\" style=\"stroke: #000000; stroke-width: 0.8\"/>\n      </g>\n     </g>\n     <g id=\"text_75\">\n      <!-- 3.0 -->\n      <g transform=\"translate(383.640625 940.719219) scale(0.1 -0.1)\">\n       <use xlink:href=\"#DejaVuSans-33\"/>\n       <use xlink:href=\"#DejaVuSans-2e\" x=\"63.623047\"/>\n       <use xlink:href=\"#DejaVuSans-30\" x=\"95.410156\"/>\n      </g>\n     </g>\n    </g>\n    <g id=\"ytick_62\">\n     <g id=\"line2d_112\">\n      <g>\n       <use xlink:href=\"#m1b0ea2fc6b\" x=\"406.54375\" y=\"901.801818\" style=\"stroke: #000000; stroke-width: 0.8\"/>\n      </g>\n     </g>\n     <g id=\"text_76\">\n      <!-- 3.5 -->\n      <g transform=\"translate(383.640625 905.601037) scale(0.1 -0.1)\">\n       <use xlink:href=\"#DejaVuSans-33\"/>\n       <use xlink:href=\"#DejaVuSans-2e\" x=\"63.623047\"/>\n       <use xlink:href=\"#DejaVuSans-35\" x=\"95.410156\"/>\n      </g>\n     </g>\n    </g>\n    <g id=\"ytick_63\">\n     <g id=\"line2d_113\">\n      <g>\n       <use xlink:href=\"#m1b0ea2fc6b\" x=\"406.54375\" y=\"866.683636\" style=\"stroke: #000000; stroke-width: 0.8\"/>\n      </g>\n     </g>\n     <g id=\"text_77\">\n      <!-- 4.0 -->\n      <g transform=\"translate(383.640625 870.482855) scale(0.1 -0.1)\">\n       <use xlink:href=\"#DejaVuSans-34\"/>\n       <use xlink:href=\"#DejaVuSans-2e\" x=\"63.623047\"/>\n       <use xlink:href=\"#DejaVuSans-30\" x=\"95.410156\"/>\n      </g>\n     </g>\n    </g>\n    <g id=\"ytick_64\">\n     <g id=\"line2d_114\">\n      <g>\n       <use xlink:href=\"#m1b0ea2fc6b\" x=\"406.54375\" y=\"831.565455\" style=\"stroke: #000000; stroke-width: 0.8\"/>\n      </g>\n     </g>\n     <g id=\"text_78\">\n      <!-- 4.5 -->\n      <g transform=\"translate(383.640625 835.364673) scale(0.1 -0.1)\">\n       <use xlink:href=\"#DejaVuSans-34\"/>\n       <use xlink:href=\"#DejaVuSans-2e\" x=\"63.623047\"/>\n       <use xlink:href=\"#DejaVuSans-35\" x=\"95.410156\"/>\n      </g>\n     </g>\n    </g>\n    <g id=\"ytick_65\">\n     <g id=\"line2d_115\">\n      <g>\n       <use xlink:href=\"#m1b0ea2fc6b\" x=\"406.54375\" y=\"796.447273\" style=\"stroke: #000000; stroke-width: 0.8\"/>\n      </g>\n     </g>\n     <g id=\"text_79\">\n      <!-- 5.0 -->\n      <g transform=\"translate(383.640625 800.246491) scale(0.1 -0.1)\">\n       <use xlink:href=\"#DejaVuSans-35\"/>\n       <use xlink:href=\"#DejaVuSans-2e\" x=\"63.623047\"/>\n       <use xlink:href=\"#DejaVuSans-30\" x=\"95.410156\"/>\n      </g>\n     </g>\n    </g>\n    <g id=\"text_80\">\n     <!-- freetime -->\n     <g transform=\"translate(377.560938 958.072344) rotate(-90) scale(0.1 -0.1)\">\n      <use xlink:href=\"#DejaVuSans-66\"/>\n      <use xlink:href=\"#DejaVuSans-72\" x=\"35.205078\"/>\n      <use xlink:href=\"#DejaVuSans-65\" x=\"74.068359\"/>\n      <use xlink:href=\"#DejaVuSans-65\" x=\"135.591797\"/>\n      <use xlink:href=\"#DejaVuSans-74\" x=\"197.115234\"/>\n      <use xlink:href=\"#DejaVuSans-69\" x=\"236.324219\"/>\n      <use xlink:href=\"#DejaVuSans-6d\" x=\"264.107422\"/>\n      <use xlink:href=\"#DejaVuSans-65\" x=\"361.519531\"/>\n     </g>\n    </g>\n   </g>\n   <g id=\"line2d_116\">\n    <path d=\"M 557.73375 936.92 \nL 557.73375 1007.156364 \n\" clip-path=\"url(#p337697aefc)\" style=\"fill: none; stroke: #3f3f3f; stroke-width: 1.5; stroke-linecap: square\"/>\n   </g>\n   <g id=\"line2d_117\">\n    <path d=\"M 557.73375 866.683636 \nL 557.73375 796.447273 \n\" clip-path=\"url(#p337697aefc)\" style=\"fill: none; stroke: #3f3f3f; stroke-width: 1.5; stroke-linecap: square\"/>\n   </g>\n   <g id=\"line2d_118\">\n    <path d=\"M 497.25775 1007.156364 \nL 618.20975 1007.156364 \n\" clip-path=\"url(#p337697aefc)\" style=\"fill: none; stroke: #3f3f3f; stroke-width: 1.5; stroke-linecap: square\"/>\n   </g>\n   <g id=\"line2d_119\">\n    <path d=\"M 497.25775 796.447273 \nL 618.20975 796.447273 \n\" clip-path=\"url(#p337697aefc)\" style=\"fill: none; stroke: #3f3f3f; stroke-width: 1.5; stroke-linecap: square\"/>\n   </g>\n   <g id=\"line2d_120\">\n    <g clip-path=\"url(#p337697aefc)\">\n     <use xlink:href=\"#ma3115d322c\" x=\"557.73375\" y=\"1077.392727\" style=\"fill: #3f3f3f; stroke: #3f3f3f; stroke-linejoin: miter\"/>\n     <use xlink:href=\"#ma3115d322c\" x=\"557.73375\" y=\"1077.392727\" style=\"fill: #3f3f3f; stroke: #3f3f3f; stroke-linejoin: miter\"/>\n     <use xlink:href=\"#ma3115d322c\" x=\"557.73375\" y=\"1077.392727\" style=\"fill: #3f3f3f; stroke: #3f3f3f; stroke-linejoin: miter\"/>\n     <use xlink:href=\"#ma3115d322c\" x=\"557.73375\" y=\"1077.392727\" style=\"fill: #3f3f3f; stroke: #3f3f3f; stroke-linejoin: miter\"/>\n     <use xlink:href=\"#ma3115d322c\" x=\"557.73375\" y=\"1077.392727\" style=\"fill: #3f3f3f; stroke: #3f3f3f; stroke-linejoin: miter\"/>\n     <use xlink:href=\"#ma3115d322c\" x=\"557.73375\" y=\"1077.392727\" style=\"fill: #3f3f3f; stroke: #3f3f3f; stroke-linejoin: miter\"/>\n     <use xlink:href=\"#ma3115d322c\" x=\"557.73375\" y=\"1077.392727\" style=\"fill: #3f3f3f; stroke: #3f3f3f; stroke-linejoin: miter\"/>\n     <use xlink:href=\"#ma3115d322c\" x=\"557.73375\" y=\"1077.392727\" style=\"fill: #3f3f3f; stroke: #3f3f3f; stroke-linejoin: miter\"/>\n     <use xlink:href=\"#ma3115d322c\" x=\"557.73375\" y=\"1077.392727\" style=\"fill: #3f3f3f; stroke: #3f3f3f; stroke-linejoin: miter\"/>\n     <use xlink:href=\"#ma3115d322c\" x=\"557.73375\" y=\"1077.392727\" style=\"fill: #3f3f3f; stroke: #3f3f3f; stroke-linejoin: miter\"/>\n     <use xlink:href=\"#ma3115d322c\" x=\"557.73375\" y=\"1077.392727\" style=\"fill: #3f3f3f; stroke: #3f3f3f; stroke-linejoin: miter\"/>\n     <use xlink:href=\"#ma3115d322c\" x=\"557.73375\" y=\"1077.392727\" style=\"fill: #3f3f3f; stroke: #3f3f3f; stroke-linejoin: miter\"/>\n     <use xlink:href=\"#ma3115d322c\" x=\"557.73375\" y=\"1077.392727\" style=\"fill: #3f3f3f; stroke: #3f3f3f; stroke-linejoin: miter\"/>\n     <use xlink:href=\"#ma3115d322c\" x=\"557.73375\" y=\"1077.392727\" style=\"fill: #3f3f3f; stroke: #3f3f3f; stroke-linejoin: miter\"/>\n     <use xlink:href=\"#ma3115d322c\" x=\"557.73375\" y=\"1077.392727\" style=\"fill: #3f3f3f; stroke: #3f3f3f; stroke-linejoin: miter\"/>\n     <use xlink:href=\"#ma3115d322c\" x=\"557.73375\" y=\"1077.392727\" style=\"fill: #3f3f3f; stroke: #3f3f3f; stroke-linejoin: miter\"/>\n     <use xlink:href=\"#ma3115d322c\" x=\"557.73375\" y=\"1077.392727\" style=\"fill: #3f3f3f; stroke: #3f3f3f; stroke-linejoin: miter\"/>\n     <use xlink:href=\"#ma3115d322c\" x=\"557.73375\" y=\"1077.392727\" style=\"fill: #3f3f3f; stroke: #3f3f3f; stroke-linejoin: miter\"/>\n     <use xlink:href=\"#ma3115d322c\" x=\"557.73375\" y=\"1077.392727\" style=\"fill: #3f3f3f; stroke: #3f3f3f; stroke-linejoin: miter\"/>\n     <use xlink:href=\"#ma3115d322c\" x=\"557.73375\" y=\"1077.392727\" style=\"fill: #3f3f3f; stroke: #3f3f3f; stroke-linejoin: miter\"/>\n     <use xlink:href=\"#ma3115d322c\" x=\"557.73375\" y=\"1077.392727\" style=\"fill: #3f3f3f; stroke: #3f3f3f; stroke-linejoin: miter\"/>\n     <use xlink:href=\"#ma3115d322c\" x=\"557.73375\" y=\"1077.392727\" style=\"fill: #3f3f3f; stroke: #3f3f3f; stroke-linejoin: miter\"/>\n     <use xlink:href=\"#ma3115d322c\" x=\"557.73375\" y=\"1077.392727\" style=\"fill: #3f3f3f; stroke: #3f3f3f; stroke-linejoin: miter\"/>\n     <use xlink:href=\"#ma3115d322c\" x=\"557.73375\" y=\"1077.392727\" style=\"fill: #3f3f3f; stroke: #3f3f3f; stroke-linejoin: miter\"/>\n     <use xlink:href=\"#ma3115d322c\" x=\"557.73375\" y=\"1077.392727\" style=\"fill: #3f3f3f; stroke: #3f3f3f; stroke-linejoin: miter\"/>\n     <use xlink:href=\"#ma3115d322c\" x=\"557.73375\" y=\"1077.392727\" style=\"fill: #3f3f3f; stroke: #3f3f3f; stroke-linejoin: miter\"/>\n     <use xlink:href=\"#ma3115d322c\" x=\"557.73375\" y=\"1077.392727\" style=\"fill: #3f3f3f; stroke: #3f3f3f; stroke-linejoin: miter\"/>\n     <use xlink:href=\"#ma3115d322c\" x=\"557.73375\" y=\"1077.392727\" style=\"fill: #3f3f3f; stroke: #3f3f3f; stroke-linejoin: miter\"/>\n     <use xlink:href=\"#ma3115d322c\" x=\"557.73375\" y=\"1077.392727\" style=\"fill: #3f3f3f; stroke: #3f3f3f; stroke-linejoin: miter\"/>\n     <use xlink:href=\"#ma3115d322c\" x=\"557.73375\" y=\"1077.392727\" style=\"fill: #3f3f3f; stroke: #3f3f3f; stroke-linejoin: miter\"/>\n     <use xlink:href=\"#ma3115d322c\" x=\"557.73375\" y=\"1077.392727\" style=\"fill: #3f3f3f; stroke: #3f3f3f; stroke-linejoin: miter\"/>\n     <use xlink:href=\"#ma3115d322c\" x=\"557.73375\" y=\"1077.392727\" style=\"fill: #3f3f3f; stroke: #3f3f3f; stroke-linejoin: miter\"/>\n     <use xlink:href=\"#ma3115d322c\" x=\"557.73375\" y=\"1077.392727\" style=\"fill: #3f3f3f; stroke: #3f3f3f; stroke-linejoin: miter\"/>\n     <use xlink:href=\"#ma3115d322c\" x=\"557.73375\" y=\"1077.392727\" style=\"fill: #3f3f3f; stroke: #3f3f3f; stroke-linejoin: miter\"/>\n     <use xlink:href=\"#ma3115d322c\" x=\"557.73375\" y=\"1077.392727\" style=\"fill: #3f3f3f; stroke: #3f3f3f; stroke-linejoin: miter\"/>\n     <use xlink:href=\"#ma3115d322c\" x=\"557.73375\" y=\"1077.392727\" style=\"fill: #3f3f3f; stroke: #3f3f3f; stroke-linejoin: miter\"/>\n     <use xlink:href=\"#ma3115d322c\" x=\"557.73375\" y=\"1077.392727\" style=\"fill: #3f3f3f; stroke: #3f3f3f; stroke-linejoin: miter\"/>\n     <use xlink:href=\"#ma3115d322c\" x=\"557.73375\" y=\"1077.392727\" style=\"fill: #3f3f3f; stroke: #3f3f3f; stroke-linejoin: miter\"/>\n     <use xlink:href=\"#ma3115d322c\" x=\"557.73375\" y=\"1077.392727\" style=\"fill: #3f3f3f; stroke: #3f3f3f; stroke-linejoin: miter\"/>\n     <use xlink:href=\"#ma3115d322c\" x=\"557.73375\" y=\"1077.392727\" style=\"fill: #3f3f3f; stroke: #3f3f3f; stroke-linejoin: miter\"/>\n     <use xlink:href=\"#ma3115d322c\" x=\"557.73375\" y=\"1077.392727\" style=\"fill: #3f3f3f; stroke: #3f3f3f; stroke-linejoin: miter\"/>\n     <use xlink:href=\"#ma3115d322c\" x=\"557.73375\" y=\"1077.392727\" style=\"fill: #3f3f3f; stroke: #3f3f3f; stroke-linejoin: miter\"/>\n     <use xlink:href=\"#ma3115d322c\" x=\"557.73375\" y=\"1077.392727\" style=\"fill: #3f3f3f; stroke: #3f3f3f; stroke-linejoin: miter\"/>\n     <use xlink:href=\"#ma3115d322c\" x=\"557.73375\" y=\"1077.392727\" style=\"fill: #3f3f3f; stroke: #3f3f3f; stroke-linejoin: miter\"/>\n     <use xlink:href=\"#ma3115d322c\" x=\"557.73375\" y=\"1077.392727\" style=\"fill: #3f3f3f; stroke: #3f3f3f; stroke-linejoin: miter\"/>\n    </g>\n   </g>\n   <g id=\"line2d_121\">\n    <path d=\"M 436.78175 936.92 \nL 678.68575 936.92 \n\" clip-path=\"url(#p337697aefc)\" style=\"fill: none; stroke: #3f3f3f; stroke-width: 1.5; stroke-linecap: square\"/>\n   </g>\n   <g id=\"patch_46\">\n    <path d=\"M 406.54375 1091.44 \nL 406.54375 782.4 \n\" style=\"fill: none; stroke: #000000; stroke-width: 0.8; stroke-linejoin: miter; stroke-linecap: square\"/>\n   </g>\n   <g id=\"patch_47\">\n    <path d=\"M 708.92375 1091.44 \nL 708.92375 782.4 \n\" style=\"fill: none; stroke: #000000; stroke-width: 0.8; stroke-linejoin: miter; stroke-linecap: square\"/>\n   </g>\n   <g id=\"patch_48\">\n    <path d=\"M 406.54375 1091.44 \nL 708.92375 1091.44 \n\" style=\"fill: none; stroke: #000000; stroke-width: 0.8; stroke-linejoin: miter; stroke-linecap: square\"/>\n   </g>\n   <g id=\"patch_49\">\n    <path d=\"M 406.54375 782.4 \nL 708.92375 782.4 \n\" style=\"fill: none; stroke: #000000; stroke-width: 0.8; stroke-linejoin: miter; stroke-linecap: square\"/>\n   </g>\n   <g id=\"text_81\">\n    <!-- Box Plot para freetime -->\n    <g transform=\"translate(490.54125 776.4) scale(0.12 -0.12)\">\n     <use xlink:href=\"#DejaVuSans-42\"/>\n     <use xlink:href=\"#DejaVuSans-6f\" x=\"68.603516\"/>\n     <use xlink:href=\"#DejaVuSans-78\" x=\"126.660156\"/>\n     <use xlink:href=\"#DejaVuSans-20\" x=\"185.839844\"/>\n     <use xlink:href=\"#DejaVuSans-50\" x=\"217.626953\"/>\n     <use xlink:href=\"#DejaVuSans-6c\" x=\"277.929688\"/>\n     <use xlink:href=\"#DejaVuSans-6f\" x=\"305.712891\"/>\n     <use xlink:href=\"#DejaVuSans-74\" x=\"366.894531\"/>\n     <use xlink:href=\"#DejaVuSans-20\" x=\"406.103516\"/>\n     <use xlink:href=\"#DejaVuSans-70\" x=\"437.890625\"/>\n     <use xlink:href=\"#DejaVuSans-61\" x=\"501.367188\"/>\n     <use xlink:href=\"#DejaVuSans-72\" x=\"562.646484\"/>\n     <use xlink:href=\"#DejaVuSans-61\" x=\"603.759766\"/>\n     <use xlink:href=\"#DejaVuSans-20\" x=\"665.039062\"/>\n     <use xlink:href=\"#DejaVuSans-66\" x=\"696.826172\"/>\n     <use xlink:href=\"#DejaVuSans-72\" x=\"732.03125\"/>\n     <use xlink:href=\"#DejaVuSans-65\" x=\"770.894531\"/>\n     <use xlink:href=\"#DejaVuSans-65\" x=\"832.417969\"/>\n     <use xlink:href=\"#DejaVuSans-74\" x=\"893.941406\"/>\n     <use xlink:href=\"#DejaVuSans-69\" x=\"933.150391\"/>\n     <use xlink:href=\"#DejaVuSans-6d\" x=\"960.933594\"/>\n     <use xlink:href=\"#DejaVuSans-65\" x=\"1058.345703\"/>\n    </g>\n   </g>\n  </g>\n  <g id=\"axes_9\">\n   <g id=\"patch_50\">\n    <path d=\"M 762.94375 1091.44 \nL 1065.32375 1091.44 \nL 1065.32375 782.4 \nL 762.94375 782.4 \nz\n\" style=\"fill: #ffffff\"/>\n   </g>\n   <g id=\"patch_51\">\n    <path d=\"M 793.18175 1007.156364 \nL 1035.08575 1007.156364 \nL 1035.08575 866.683636 \nL 793.18175 866.683636 \nL 793.18175 1007.156364 \nz\n\" clip-path=\"url(#pda2c03f640)\" style=\"fill: #3274a1; stroke: #3f3f3f; stroke-width: 1.5; stroke-linejoin: miter\"/>\n   </g>\n   <g id=\"matplotlib.axis_17\">\n    <g id=\"xtick_9\">\n     <g id=\"line2d_122\">\n      <g>\n       <use xlink:href=\"#me3414331ca\" x=\"914.13375\" y=\"1091.44\" style=\"stroke: #000000; stroke-width: 0.8\"/>\n      </g>\n     </g>\n    </g>\n   </g>\n   <g id=\"matplotlib.axis_18\">\n    <g id=\"ytick_66\">\n     <g id=\"line2d_123\">\n      <g>\n       <use xlink:href=\"#m1b0ea2fc6b\" x=\"762.94375\" y=\"1077.392727\" style=\"stroke: #000000; stroke-width: 0.8\"/>\n      </g>\n     </g>\n     <g id=\"text_82\">\n      <!-- 1.0 -->\n      <g transform=\"translate(740.040625 1081.191946) scale(0.1 -0.1)\">\n       <use xlink:href=\"#DejaVuSans-31\"/>\n       <use xlink:href=\"#DejaVuSans-2e\" x=\"63.623047\"/>\n       <use xlink:href=\"#DejaVuSans-30\" x=\"95.410156\"/>\n      </g>\n     </g>\n    </g>\n    <g id=\"ytick_67\">\n     <g id=\"line2d_124\">\n      <g>\n       <use xlink:href=\"#m1b0ea2fc6b\" x=\"762.94375\" y=\"1042.274545\" style=\"stroke: #000000; stroke-width: 0.8\"/>\n      </g>\n     </g>\n     <g id=\"text_83\">\n      <!-- 1.5 -->\n      <g transform=\"translate(740.040625 1046.073764) scale(0.1 -0.1)\">\n       <use xlink:href=\"#DejaVuSans-31\"/>\n       <use xlink:href=\"#DejaVuSans-2e\" x=\"63.623047\"/>\n       <use xlink:href=\"#DejaVuSans-35\" x=\"95.410156\"/>\n      </g>\n     </g>\n    </g>\n    <g id=\"ytick_68\">\n     <g id=\"line2d_125\">\n      <g>\n       <use xlink:href=\"#m1b0ea2fc6b\" x=\"762.94375\" y=\"1007.156364\" style=\"stroke: #000000; stroke-width: 0.8\"/>\n      </g>\n     </g>\n     <g id=\"text_84\">\n      <!-- 2.0 -->\n      <g transform=\"translate(740.040625 1010.955582) scale(0.1 -0.1)\">\n       <use xlink:href=\"#DejaVuSans-32\"/>\n       <use xlink:href=\"#DejaVuSans-2e\" x=\"63.623047\"/>\n       <use xlink:href=\"#DejaVuSans-30\" x=\"95.410156\"/>\n      </g>\n     </g>\n    </g>\n    <g id=\"ytick_69\">\n     <g id=\"line2d_126\">\n      <g>\n       <use xlink:href=\"#m1b0ea2fc6b\" x=\"762.94375\" y=\"972.038182\" style=\"stroke: #000000; stroke-width: 0.8\"/>\n      </g>\n     </g>\n     <g id=\"text_85\">\n      <!-- 2.5 -->\n      <g transform=\"translate(740.040625 975.837401) scale(0.1 -0.1)\">\n       <use xlink:href=\"#DejaVuSans-32\"/>\n       <use xlink:href=\"#DejaVuSans-2e\" x=\"63.623047\"/>\n       <use xlink:href=\"#DejaVuSans-35\" x=\"95.410156\"/>\n      </g>\n     </g>\n    </g>\n    <g id=\"ytick_70\">\n     <g id=\"line2d_127\">\n      <g>\n       <use xlink:href=\"#m1b0ea2fc6b\" x=\"762.94375\" y=\"936.92\" style=\"stroke: #000000; stroke-width: 0.8\"/>\n      </g>\n     </g>\n     <g id=\"text_86\">\n      <!-- 3.0 -->\n      <g transform=\"translate(740.040625 940.719219) scale(0.1 -0.1)\">\n       <use xlink:href=\"#DejaVuSans-33\"/>\n       <use xlink:href=\"#DejaVuSans-2e\" x=\"63.623047\"/>\n       <use xlink:href=\"#DejaVuSans-30\" x=\"95.410156\"/>\n      </g>\n     </g>\n    </g>\n    <g id=\"ytick_71\">\n     <g id=\"line2d_128\">\n      <g>\n       <use xlink:href=\"#m1b0ea2fc6b\" x=\"762.94375\" y=\"901.801818\" style=\"stroke: #000000; stroke-width: 0.8\"/>\n      </g>\n     </g>\n     <g id=\"text_87\">\n      <!-- 3.5 -->\n      <g transform=\"translate(740.040625 905.601037) scale(0.1 -0.1)\">\n       <use xlink:href=\"#DejaVuSans-33\"/>\n       <use xlink:href=\"#DejaVuSans-2e\" x=\"63.623047\"/>\n       <use xlink:href=\"#DejaVuSans-35\" x=\"95.410156\"/>\n      </g>\n     </g>\n    </g>\n    <g id=\"ytick_72\">\n     <g id=\"line2d_129\">\n      <g>\n       <use xlink:href=\"#m1b0ea2fc6b\" x=\"762.94375\" y=\"866.683636\" style=\"stroke: #000000; stroke-width: 0.8\"/>\n      </g>\n     </g>\n     <g id=\"text_88\">\n      <!-- 4.0 -->\n      <g transform=\"translate(740.040625 870.482855) scale(0.1 -0.1)\">\n       <use xlink:href=\"#DejaVuSans-34\"/>\n       <use xlink:href=\"#DejaVuSans-2e\" x=\"63.623047\"/>\n       <use xlink:href=\"#DejaVuSans-30\" x=\"95.410156\"/>\n      </g>\n     </g>\n    </g>\n    <g id=\"ytick_73\">\n     <g id=\"line2d_130\">\n      <g>\n       <use xlink:href=\"#m1b0ea2fc6b\" x=\"762.94375\" y=\"831.565455\" style=\"stroke: #000000; stroke-width: 0.8\"/>\n      </g>\n     </g>\n     <g id=\"text_89\">\n      <!-- 4.5 -->\n      <g transform=\"translate(740.040625 835.364673) scale(0.1 -0.1)\">\n       <use xlink:href=\"#DejaVuSans-34\"/>\n       <use xlink:href=\"#DejaVuSans-2e\" x=\"63.623047\"/>\n       <use xlink:href=\"#DejaVuSans-35\" x=\"95.410156\"/>\n      </g>\n     </g>\n    </g>\n    <g id=\"ytick_74\">\n     <g id=\"line2d_131\">\n      <g>\n       <use xlink:href=\"#m1b0ea2fc6b\" x=\"762.94375\" y=\"796.447273\" style=\"stroke: #000000; stroke-width: 0.8\"/>\n      </g>\n     </g>\n     <g id=\"text_90\">\n      <!-- 5.0 -->\n      <g transform=\"translate(740.040625 800.246491) scale(0.1 -0.1)\">\n       <use xlink:href=\"#DejaVuSans-35\"/>\n       <use xlink:href=\"#DejaVuSans-2e\" x=\"63.623047\"/>\n       <use xlink:href=\"#DejaVuSans-30\" x=\"95.410156\"/>\n      </g>\n     </g>\n    </g>\n    <g id=\"text_91\">\n     <!-- goout -->\n     <g transform=\"translate(733.960938 951.341875) rotate(-90) scale(0.1 -0.1)\">\n      <use xlink:href=\"#DejaVuSans-67\"/>\n      <use xlink:href=\"#DejaVuSans-6f\" x=\"63.476562\"/>\n      <use xlink:href=\"#DejaVuSans-6f\" x=\"124.658203\"/>\n      <use xlink:href=\"#DejaVuSans-75\" x=\"185.839844\"/>\n      <use xlink:href=\"#DejaVuSans-74\" x=\"249.21875\"/>\n     </g>\n    </g>\n   </g>\n   <g id=\"line2d_132\">\n    <path d=\"M 914.13375 1007.156364 \nL 914.13375 1077.392727 \n\" clip-path=\"url(#pda2c03f640)\" style=\"fill: none; stroke: #3f3f3f; stroke-width: 1.5; stroke-linecap: square\"/>\n   </g>\n   <g id=\"line2d_133\">\n    <path d=\"M 914.13375 866.683636 \nL 914.13375 796.447273 \n\" clip-path=\"url(#pda2c03f640)\" style=\"fill: none; stroke: #3f3f3f; stroke-width: 1.5; stroke-linecap: square\"/>\n   </g>\n   <g id=\"line2d_134\">\n    <path d=\"M 853.65775 1077.392727 \nL 974.60975 1077.392727 \n\" clip-path=\"url(#pda2c03f640)\" style=\"fill: none; stroke: #3f3f3f; stroke-width: 1.5; stroke-linecap: square\"/>\n   </g>\n   <g id=\"line2d_135\">\n    <path d=\"M 853.65775 796.447273 \nL 974.60975 796.447273 \n\" clip-path=\"url(#pda2c03f640)\" style=\"fill: none; stroke: #3f3f3f; stroke-width: 1.5; stroke-linecap: square\"/>\n   </g>\n   <g id=\"line2d_136\"/>\n   <g id=\"line2d_137\">\n    <path d=\"M 793.18175 936.92 \nL 1035.08575 936.92 \n\" clip-path=\"url(#pda2c03f640)\" style=\"fill: none; stroke: #3f3f3f; stroke-width: 1.5; stroke-linecap: square\"/>\n   </g>\n   <g id=\"patch_52\">\n    <path d=\"M 762.94375 1091.44 \nL 762.94375 782.4 \n\" style=\"fill: none; stroke: #000000; stroke-width: 0.8; stroke-linejoin: miter; stroke-linecap: square\"/>\n   </g>\n   <g id=\"patch_53\">\n    <path d=\"M 1065.32375 1091.44 \nL 1065.32375 782.4 \n\" style=\"fill: none; stroke: #000000; stroke-width: 0.8; stroke-linejoin: miter; stroke-linecap: square\"/>\n   </g>\n   <g id=\"patch_54\">\n    <path d=\"M 762.94375 1091.44 \nL 1065.32375 1091.44 \n\" style=\"fill: none; stroke: #000000; stroke-width: 0.8; stroke-linejoin: miter; stroke-linecap: square\"/>\n   </g>\n   <g id=\"patch_55\">\n    <path d=\"M 762.94375 782.4 \nL 1065.32375 782.4 \n\" style=\"fill: none; stroke: #000000; stroke-width: 0.8; stroke-linejoin: miter; stroke-linecap: square\"/>\n   </g>\n   <g id=\"text_92\">\n    <!-- Box Plot para goout -->\n    <g transform=\"translate(855.017812 776.4) scale(0.12 -0.12)\">\n     <use xlink:href=\"#DejaVuSans-42\"/>\n     <use xlink:href=\"#DejaVuSans-6f\" x=\"68.603516\"/>\n     <use xlink:href=\"#DejaVuSans-78\" x=\"126.660156\"/>\n     <use xlink:href=\"#DejaVuSans-20\" x=\"185.839844\"/>\n     <use xlink:href=\"#DejaVuSans-50\" x=\"217.626953\"/>\n     <use xlink:href=\"#DejaVuSans-6c\" x=\"277.929688\"/>\n     <use xlink:href=\"#DejaVuSans-6f\" x=\"305.712891\"/>\n     <use xlink:href=\"#DejaVuSans-74\" x=\"366.894531\"/>\n     <use xlink:href=\"#DejaVuSans-20\" x=\"406.103516\"/>\n     <use xlink:href=\"#DejaVuSans-70\" x=\"437.890625\"/>\n     <use xlink:href=\"#DejaVuSans-61\" x=\"501.367188\"/>\n     <use xlink:href=\"#DejaVuSans-72\" x=\"562.646484\"/>\n     <use xlink:href=\"#DejaVuSans-61\" x=\"603.759766\"/>\n     <use xlink:href=\"#DejaVuSans-20\" x=\"665.039062\"/>\n     <use xlink:href=\"#DejaVuSans-67\" x=\"696.826172\"/>\n     <use xlink:href=\"#DejaVuSans-6f\" x=\"760.302734\"/>\n     <use xlink:href=\"#DejaVuSans-6f\" x=\"821.484375\"/>\n     <use xlink:href=\"#DejaVuSans-75\" x=\"882.666016\"/>\n     <use xlink:href=\"#DejaVuSans-74\" x=\"946.044922\"/>\n    </g>\n   </g>\n  </g>\n  <g id=\"axes_10\">\n   <g id=\"patch_56\">\n    <path d=\"M 50.14375 1430.86 \nL 352.52375 1430.86 \nL 352.52375 1121.82 \nL 50.14375 1121.82 \nz\n\" style=\"fill: #ffffff\"/>\n   </g>\n   <g id=\"patch_57\">\n    <path d=\"M 80.38175 1416.812727 \nL 322.28575 1416.812727 \nL 322.28575 1346.576364 \nL 80.38175 1346.576364 \nL 80.38175 1416.812727 \nz\n\" clip-path=\"url(#pe8bc44fd7f)\" style=\"fill: #3274a1; stroke: #3f3f3f; stroke-width: 1.5; stroke-linejoin: miter\"/>\n   </g>\n   <g id=\"matplotlib.axis_19\">\n    <g id=\"xtick_10\">\n     <g id=\"line2d_138\">\n      <g>\n       <use xlink:href=\"#me3414331ca\" x=\"201.33375\" y=\"1430.86\" style=\"stroke: #000000; stroke-width: 0.8\"/>\n      </g>\n     </g>\n    </g>\n   </g>\n   <g id=\"matplotlib.axis_20\">\n    <g id=\"ytick_75\">\n     <g id=\"line2d_139\">\n      <g>\n       <use xlink:href=\"#m1b0ea2fc6b\" x=\"50.14375\" y=\"1416.812727\" style=\"stroke: #000000; stroke-width: 0.8\"/>\n      </g>\n     </g>\n     <g id=\"text_93\">\n      <!-- 1.0 -->\n      <g transform=\"translate(27.240625 1420.611946) scale(0.1 -0.1)\">\n       <use xlink:href=\"#DejaVuSans-31\"/>\n       <use xlink:href=\"#DejaVuSans-2e\" x=\"63.623047\"/>\n       <use xlink:href=\"#DejaVuSans-30\" x=\"95.410156\"/>\n      </g>\n     </g>\n    </g>\n    <g id=\"ytick_76\">\n     <g id=\"line2d_140\">\n      <g>\n       <use xlink:href=\"#m1b0ea2fc6b\" x=\"50.14375\" y=\"1381.694545\" style=\"stroke: #000000; stroke-width: 0.8\"/>\n      </g>\n     </g>\n     <g id=\"text_94\">\n      <!-- 1.5 -->\n      <g transform=\"translate(27.240625 1385.493764) scale(0.1 -0.1)\">\n       <use xlink:href=\"#DejaVuSans-31\"/>\n       <use xlink:href=\"#DejaVuSans-2e\" x=\"63.623047\"/>\n       <use xlink:href=\"#DejaVuSans-35\" x=\"95.410156\"/>\n      </g>\n     </g>\n    </g>\n    <g id=\"ytick_77\">\n     <g id=\"line2d_141\">\n      <g>\n       <use xlink:href=\"#m1b0ea2fc6b\" x=\"50.14375\" y=\"1346.576364\" style=\"stroke: #000000; stroke-width: 0.8\"/>\n      </g>\n     </g>\n     <g id=\"text_95\">\n      <!-- 2.0 -->\n      <g transform=\"translate(27.240625 1350.375582) scale(0.1 -0.1)\">\n       <use xlink:href=\"#DejaVuSans-32\"/>\n       <use xlink:href=\"#DejaVuSans-2e\" x=\"63.623047\"/>\n       <use xlink:href=\"#DejaVuSans-30\" x=\"95.410156\"/>\n      </g>\n     </g>\n    </g>\n    <g id=\"ytick_78\">\n     <g id=\"line2d_142\">\n      <g>\n       <use xlink:href=\"#m1b0ea2fc6b\" x=\"50.14375\" y=\"1311.458182\" style=\"stroke: #000000; stroke-width: 0.8\"/>\n      </g>\n     </g>\n     <g id=\"text_96\">\n      <!-- 2.5 -->\n      <g transform=\"translate(27.240625 1315.257401) scale(0.1 -0.1)\">\n       <use xlink:href=\"#DejaVuSans-32\"/>\n       <use xlink:href=\"#DejaVuSans-2e\" x=\"63.623047\"/>\n       <use xlink:href=\"#DejaVuSans-35\" x=\"95.410156\"/>\n      </g>\n     </g>\n    </g>\n    <g id=\"ytick_79\">\n     <g id=\"line2d_143\">\n      <g>\n       <use xlink:href=\"#m1b0ea2fc6b\" x=\"50.14375\" y=\"1276.34\" style=\"stroke: #000000; stroke-width: 0.8\"/>\n      </g>\n     </g>\n     <g id=\"text_97\">\n      <!-- 3.0 -->\n      <g transform=\"translate(27.240625 1280.139219) scale(0.1 -0.1)\">\n       <use xlink:href=\"#DejaVuSans-33\"/>\n       <use xlink:href=\"#DejaVuSans-2e\" x=\"63.623047\"/>\n       <use xlink:href=\"#DejaVuSans-30\" x=\"95.410156\"/>\n      </g>\n     </g>\n    </g>\n    <g id=\"ytick_80\">\n     <g id=\"line2d_144\">\n      <g>\n       <use xlink:href=\"#m1b0ea2fc6b\" x=\"50.14375\" y=\"1241.221818\" style=\"stroke: #000000; stroke-width: 0.8\"/>\n      </g>\n     </g>\n     <g id=\"text_98\">\n      <!-- 3.5 -->\n      <g transform=\"translate(27.240625 1245.021037) scale(0.1 -0.1)\">\n       <use xlink:href=\"#DejaVuSans-33\"/>\n       <use xlink:href=\"#DejaVuSans-2e\" x=\"63.623047\"/>\n       <use xlink:href=\"#DejaVuSans-35\" x=\"95.410156\"/>\n      </g>\n     </g>\n    </g>\n    <g id=\"ytick_81\">\n     <g id=\"line2d_145\">\n      <g>\n       <use xlink:href=\"#m1b0ea2fc6b\" x=\"50.14375\" y=\"1206.103636\" style=\"stroke: #000000; stroke-width: 0.8\"/>\n      </g>\n     </g>\n     <g id=\"text_99\">\n      <!-- 4.0 -->\n      <g transform=\"translate(27.240625 1209.902855) scale(0.1 -0.1)\">\n       <use xlink:href=\"#DejaVuSans-34\"/>\n       <use xlink:href=\"#DejaVuSans-2e\" x=\"63.623047\"/>\n       <use xlink:href=\"#DejaVuSans-30\" x=\"95.410156\"/>\n      </g>\n     </g>\n    </g>\n    <g id=\"ytick_82\">\n     <g id=\"line2d_146\">\n      <g>\n       <use xlink:href=\"#m1b0ea2fc6b\" x=\"50.14375\" y=\"1170.985455\" style=\"stroke: #000000; stroke-width: 0.8\"/>\n      </g>\n     </g>\n     <g id=\"text_100\">\n      <!-- 4.5 -->\n      <g transform=\"translate(27.240625 1174.784673) scale(0.1 -0.1)\">\n       <use xlink:href=\"#DejaVuSans-34\"/>\n       <use xlink:href=\"#DejaVuSans-2e\" x=\"63.623047\"/>\n       <use xlink:href=\"#DejaVuSans-35\" x=\"95.410156\"/>\n      </g>\n     </g>\n    </g>\n    <g id=\"ytick_83\">\n     <g id=\"line2d_147\">\n      <g>\n       <use xlink:href=\"#m1b0ea2fc6b\" x=\"50.14375\" y=\"1135.867273\" style=\"stroke: #000000; stroke-width: 0.8\"/>\n      </g>\n     </g>\n     <g id=\"text_101\">\n      <!-- 5.0 -->\n      <g transform=\"translate(27.240625 1139.666491) scale(0.1 -0.1)\">\n       <use xlink:href=\"#DejaVuSans-35\"/>\n       <use xlink:href=\"#DejaVuSans-2e\" x=\"63.623047\"/>\n       <use xlink:href=\"#DejaVuSans-30\" x=\"95.410156\"/>\n      </g>\n     </g>\n    </g>\n    <g id=\"text_102\">\n     <!-- Dalc -->\n     <g transform=\"translate(21.160938 1287.392344) rotate(-90) scale(0.1 -0.1)\">\n      <defs>\n       <path id=\"DejaVuSans-44\" d=\"M 1259 4147 \nL 1259 519 \nL 2022 519 \nQ 2988 519 3436 956 \nQ 3884 1394 3884 2338 \nQ 3884 3275 3436 3711 \nQ 2988 4147 2022 4147 \nL 1259 4147 \nz\nM 628 4666 \nL 1925 4666 \nQ 3281 4666 3915 4102 \nQ 4550 3538 4550 2338 \nQ 4550 1131 3912 565 \nQ 3275 0 1925 0 \nL 628 0 \nL 628 4666 \nz\n\" transform=\"scale(0.015625)\"/>\n       <path id=\"DejaVuSans-63\" d=\"M 3122 3366 \nL 3122 2828 \nQ 2878 2963 2633 3030 \nQ 2388 3097 2138 3097 \nQ 1578 3097 1268 2742 \nQ 959 2388 959 1747 \nQ 959 1106 1268 751 \nQ 1578 397 2138 397 \nQ 2388 397 2633 464 \nQ 2878 531 3122 666 \nL 3122 134 \nQ 2881 22 2623 -34 \nQ 2366 -91 2075 -91 \nQ 1284 -91 818 406 \nQ 353 903 353 1747 \nQ 353 2603 823 3093 \nQ 1294 3584 2113 3584 \nQ 2378 3584 2631 3529 \nQ 2884 3475 3122 3366 \nz\n\" transform=\"scale(0.015625)\"/>\n      </defs>\n      <use xlink:href=\"#DejaVuSans-44\"/>\n      <use xlink:href=\"#DejaVuSans-61\" x=\"77.001953\"/>\n      <use xlink:href=\"#DejaVuSans-6c\" x=\"138.28125\"/>\n      <use xlink:href=\"#DejaVuSans-63\" x=\"166.064453\"/>\n     </g>\n    </g>\n   </g>\n   <g id=\"line2d_148\">\n    <path d=\"M 201.33375 1416.812727 \nL 201.33375 1416.812727 \n\" clip-path=\"url(#pe8bc44fd7f)\" style=\"fill: none; stroke: #3f3f3f; stroke-width: 1.5; stroke-linecap: square\"/>\n   </g>\n   <g id=\"line2d_149\">\n    <path d=\"M 201.33375 1346.576364 \nL 201.33375 1276.34 \n\" clip-path=\"url(#pe8bc44fd7f)\" style=\"fill: none; stroke: #3f3f3f; stroke-width: 1.5; stroke-linecap: square\"/>\n   </g>\n   <g id=\"line2d_150\">\n    <path d=\"M 140.85775 1416.812727 \nL 261.80975 1416.812727 \n\" clip-path=\"url(#pe8bc44fd7f)\" style=\"fill: none; stroke: #3f3f3f; stroke-width: 1.5; stroke-linecap: square\"/>\n   </g>\n   <g id=\"line2d_151\">\n    <path d=\"M 140.85775 1276.34 \nL 261.80975 1276.34 \n\" clip-path=\"url(#pe8bc44fd7f)\" style=\"fill: none; stroke: #3f3f3f; stroke-width: 1.5; stroke-linecap: square\"/>\n   </g>\n   <g id=\"line2d_152\">\n    <g clip-path=\"url(#pe8bc44fd7f)\">\n     <use xlink:href=\"#ma3115d322c\" x=\"201.33375\" y=\"1135.867273\" style=\"fill: #3f3f3f; stroke: #3f3f3f; stroke-linejoin: miter\"/>\n     <use xlink:href=\"#ma3115d322c\" x=\"201.33375\" y=\"1206.103636\" style=\"fill: #3f3f3f; stroke: #3f3f3f; stroke-linejoin: miter\"/>\n     <use xlink:href=\"#ma3115d322c\" x=\"201.33375\" y=\"1135.867273\" style=\"fill: #3f3f3f; stroke: #3f3f3f; stroke-linejoin: miter\"/>\n     <use xlink:href=\"#ma3115d322c\" x=\"201.33375\" y=\"1135.867273\" style=\"fill: #3f3f3f; stroke: #3f3f3f; stroke-linejoin: miter\"/>\n     <use xlink:href=\"#ma3115d322c\" x=\"201.33375\" y=\"1135.867273\" style=\"fill: #3f3f3f; stroke: #3f3f3f; stroke-linejoin: miter\"/>\n     <use xlink:href=\"#ma3115d322c\" x=\"201.33375\" y=\"1206.103636\" style=\"fill: #3f3f3f; stroke: #3f3f3f; stroke-linejoin: miter\"/>\n     <use xlink:href=\"#ma3115d322c\" x=\"201.33375\" y=\"1135.867273\" style=\"fill: #3f3f3f; stroke: #3f3f3f; stroke-linejoin: miter\"/>\n     <use xlink:href=\"#ma3115d322c\" x=\"201.33375\" y=\"1206.103636\" style=\"fill: #3f3f3f; stroke: #3f3f3f; stroke-linejoin: miter\"/>\n     <use xlink:href=\"#ma3115d322c\" x=\"201.33375\" y=\"1206.103636\" style=\"fill: #3f3f3f; stroke: #3f3f3f; stroke-linejoin: miter\"/>\n     <use xlink:href=\"#ma3115d322c\" x=\"201.33375\" y=\"1206.103636\" style=\"fill: #3f3f3f; stroke: #3f3f3f; stroke-linejoin: miter\"/>\n     <use xlink:href=\"#ma3115d322c\" x=\"201.33375\" y=\"1206.103636\" style=\"fill: #3f3f3f; stroke: #3f3f3f; stroke-linejoin: miter\"/>\n     <use xlink:href=\"#ma3115d322c\" x=\"201.33375\" y=\"1135.867273\" style=\"fill: #3f3f3f; stroke: #3f3f3f; stroke-linejoin: miter\"/>\n     <use xlink:href=\"#ma3115d322c\" x=\"201.33375\" y=\"1206.103636\" style=\"fill: #3f3f3f; stroke: #3f3f3f; stroke-linejoin: miter\"/>\n     <use xlink:href=\"#ma3115d322c\" x=\"201.33375\" y=\"1135.867273\" style=\"fill: #3f3f3f; stroke: #3f3f3f; stroke-linejoin: miter\"/>\n     <use xlink:href=\"#ma3115d322c\" x=\"201.33375\" y=\"1135.867273\" style=\"fill: #3f3f3f; stroke: #3f3f3f; stroke-linejoin: miter\"/>\n     <use xlink:href=\"#ma3115d322c\" x=\"201.33375\" y=\"1206.103636\" style=\"fill: #3f3f3f; stroke: #3f3f3f; stroke-linejoin: miter\"/>\n     <use xlink:href=\"#ma3115d322c\" x=\"201.33375\" y=\"1206.103636\" style=\"fill: #3f3f3f; stroke: #3f3f3f; stroke-linejoin: miter\"/>\n     <use xlink:href=\"#ma3115d322c\" x=\"201.33375\" y=\"1206.103636\" style=\"fill: #3f3f3f; stroke: #3f3f3f; stroke-linejoin: miter\"/>\n     <use xlink:href=\"#ma3115d322c\" x=\"201.33375\" y=\"1135.867273\" style=\"fill: #3f3f3f; stroke: #3f3f3f; stroke-linejoin: miter\"/>\n     <use xlink:href=\"#ma3115d322c\" x=\"201.33375\" y=\"1135.867273\" style=\"fill: #3f3f3f; stroke: #3f3f3f; stroke-linejoin: miter\"/>\n     <use xlink:href=\"#ma3115d322c\" x=\"201.33375\" y=\"1206.103636\" style=\"fill: #3f3f3f; stroke: #3f3f3f; stroke-linejoin: miter\"/>\n     <use xlink:href=\"#ma3115d322c\" x=\"201.33375\" y=\"1206.103636\" style=\"fill: #3f3f3f; stroke: #3f3f3f; stroke-linejoin: miter\"/>\n     <use xlink:href=\"#ma3115d322c\" x=\"201.33375\" y=\"1206.103636\" style=\"fill: #3f3f3f; stroke: #3f3f3f; stroke-linejoin: miter\"/>\n     <use xlink:href=\"#ma3115d322c\" x=\"201.33375\" y=\"1135.867273\" style=\"fill: #3f3f3f; stroke: #3f3f3f; stroke-linejoin: miter\"/>\n     <use xlink:href=\"#ma3115d322c\" x=\"201.33375\" y=\"1135.867273\" style=\"fill: #3f3f3f; stroke: #3f3f3f; stroke-linejoin: miter\"/>\n     <use xlink:href=\"#ma3115d322c\" x=\"201.33375\" y=\"1206.103636\" style=\"fill: #3f3f3f; stroke: #3f3f3f; stroke-linejoin: miter\"/>\n     <use xlink:href=\"#ma3115d322c\" x=\"201.33375\" y=\"1206.103636\" style=\"fill: #3f3f3f; stroke: #3f3f3f; stroke-linejoin: miter\"/>\n     <use xlink:href=\"#ma3115d322c\" x=\"201.33375\" y=\"1135.867273\" style=\"fill: #3f3f3f; stroke: #3f3f3f; stroke-linejoin: miter\"/>\n     <use xlink:href=\"#ma3115d322c\" x=\"201.33375\" y=\"1135.867273\" style=\"fill: #3f3f3f; stroke: #3f3f3f; stroke-linejoin: miter\"/>\n     <use xlink:href=\"#ma3115d322c\" x=\"201.33375\" y=\"1135.867273\" style=\"fill: #3f3f3f; stroke: #3f3f3f; stroke-linejoin: miter\"/>\n     <use xlink:href=\"#ma3115d322c\" x=\"201.33375\" y=\"1135.867273\" style=\"fill: #3f3f3f; stroke: #3f3f3f; stroke-linejoin: miter\"/>\n     <use xlink:href=\"#ma3115d322c\" x=\"201.33375\" y=\"1135.867273\" style=\"fill: #3f3f3f; stroke: #3f3f3f; stroke-linejoin: miter\"/>\n     <use xlink:href=\"#ma3115d322c\" x=\"201.33375\" y=\"1206.103636\" style=\"fill: #3f3f3f; stroke: #3f3f3f; stroke-linejoin: miter\"/>\n     <use xlink:href=\"#ma3115d322c\" x=\"201.33375\" y=\"1206.103636\" style=\"fill: #3f3f3f; stroke: #3f3f3f; stroke-linejoin: miter\"/>\n    </g>\n   </g>\n   <g id=\"line2d_153\">\n    <path d=\"M 80.38175 1416.812727 \nL 322.28575 1416.812727 \n\" clip-path=\"url(#pe8bc44fd7f)\" style=\"fill: none; stroke: #3f3f3f; stroke-width: 1.5; stroke-linecap: square\"/>\n   </g>\n   <g id=\"patch_58\">\n    <path d=\"M 50.14375 1430.86 \nL 50.14375 1121.82 \n\" style=\"fill: none; stroke: #000000; stroke-width: 0.8; stroke-linejoin: miter; stroke-linecap: square\"/>\n   </g>\n   <g id=\"patch_59\">\n    <path d=\"M 352.52375 1430.86 \nL 352.52375 1121.82 \n\" style=\"fill: none; stroke: #000000; stroke-width: 0.8; stroke-linejoin: miter; stroke-linecap: square\"/>\n   </g>\n   <g id=\"patch_60\">\n    <path d=\"M 50.14375 1430.86 \nL 352.52375 1430.86 \n\" style=\"fill: none; stroke: #000000; stroke-width: 0.8; stroke-linejoin: miter; stroke-linecap: square\"/>\n   </g>\n   <g id=\"patch_61\">\n    <path d=\"M 50.14375 1121.82 \nL 352.52375 1121.82 \n\" style=\"fill: none; stroke: #000000; stroke-width: 0.8; stroke-linejoin: miter; stroke-linecap: square\"/>\n   </g>\n   <g id=\"text_103\">\n    <!-- Box Plot para Dalc -->\n    <g transform=\"translate(146.26125 1115.82) scale(0.12 -0.12)\">\n     <use xlink:href=\"#DejaVuSans-42\"/>\n     <use xlink:href=\"#DejaVuSans-6f\" x=\"68.603516\"/>\n     <use xlink:href=\"#DejaVuSans-78\" x=\"126.660156\"/>\n     <use xlink:href=\"#DejaVuSans-20\" x=\"185.839844\"/>\n     <use xlink:href=\"#DejaVuSans-50\" x=\"217.626953\"/>\n     <use xlink:href=\"#DejaVuSans-6c\" x=\"277.929688\"/>\n     <use xlink:href=\"#DejaVuSans-6f\" x=\"305.712891\"/>\n     <use xlink:href=\"#DejaVuSans-74\" x=\"366.894531\"/>\n     <use xlink:href=\"#DejaVuSans-20\" x=\"406.103516\"/>\n     <use xlink:href=\"#DejaVuSans-70\" x=\"437.890625\"/>\n     <use xlink:href=\"#DejaVuSans-61\" x=\"501.367188\"/>\n     <use xlink:href=\"#DejaVuSans-72\" x=\"562.646484\"/>\n     <use xlink:href=\"#DejaVuSans-61\" x=\"603.759766\"/>\n     <use xlink:href=\"#DejaVuSans-20\" x=\"665.039062\"/>\n     <use xlink:href=\"#DejaVuSans-44\" x=\"696.826172\"/>\n     <use xlink:href=\"#DejaVuSans-61\" x=\"773.828125\"/>\n     <use xlink:href=\"#DejaVuSans-6c\" x=\"835.107422\"/>\n     <use xlink:href=\"#DejaVuSans-63\" x=\"862.890625\"/>\n    </g>\n   </g>\n  </g>\n  <g id=\"axes_11\">\n   <g id=\"patch_62\">\n    <path d=\"M 406.54375 1430.86 \nL 708.92375 1430.86 \nL 708.92375 1121.82 \nL 406.54375 1121.82 \nz\n\" style=\"fill: #ffffff\"/>\n   </g>\n   <g id=\"patch_63\">\n    <path d=\"M 436.78175 1416.812727 \nL 678.68575 1416.812727 \nL 678.68575 1276.34 \nL 436.78175 1276.34 \nL 436.78175 1416.812727 \nz\n\" clip-path=\"url(#p567a40a874)\" style=\"fill: #3274a1; stroke: #3f3f3f; stroke-width: 1.5; stroke-linejoin: miter\"/>\n   </g>\n   <g id=\"matplotlib.axis_21\">\n    <g id=\"xtick_11\">\n     <g id=\"line2d_154\">\n      <g>\n       <use xlink:href=\"#me3414331ca\" x=\"557.73375\" y=\"1430.86\" style=\"stroke: #000000; stroke-width: 0.8\"/>\n      </g>\n     </g>\n    </g>\n   </g>\n   <g id=\"matplotlib.axis_22\">\n    <g id=\"ytick_84\">\n     <g id=\"line2d_155\">\n      <g>\n       <use xlink:href=\"#m1b0ea2fc6b\" x=\"406.54375\" y=\"1416.812727\" style=\"stroke: #000000; stroke-width: 0.8\"/>\n      </g>\n     </g>\n     <g id=\"text_104\">\n      <!-- 1.0 -->\n      <g transform=\"translate(383.640625 1420.611946) scale(0.1 -0.1)\">\n       <use xlink:href=\"#DejaVuSans-31\"/>\n       <use xlink:href=\"#DejaVuSans-2e\" x=\"63.623047\"/>\n       <use xlink:href=\"#DejaVuSans-30\" x=\"95.410156\"/>\n      </g>\n     </g>\n    </g>\n    <g id=\"ytick_85\">\n     <g id=\"line2d_156\">\n      <g>\n       <use xlink:href=\"#m1b0ea2fc6b\" x=\"406.54375\" y=\"1381.694545\" style=\"stroke: #000000; stroke-width: 0.8\"/>\n      </g>\n     </g>\n     <g id=\"text_105\">\n      <!-- 1.5 -->\n      <g transform=\"translate(383.640625 1385.493764) scale(0.1 -0.1)\">\n       <use xlink:href=\"#DejaVuSans-31\"/>\n       <use xlink:href=\"#DejaVuSans-2e\" x=\"63.623047\"/>\n       <use xlink:href=\"#DejaVuSans-35\" x=\"95.410156\"/>\n      </g>\n     </g>\n    </g>\n    <g id=\"ytick_86\">\n     <g id=\"line2d_157\">\n      <g>\n       <use xlink:href=\"#m1b0ea2fc6b\" x=\"406.54375\" y=\"1346.576364\" style=\"stroke: #000000; stroke-width: 0.8\"/>\n      </g>\n     </g>\n     <g id=\"text_106\">\n      <!-- 2.0 -->\n      <g transform=\"translate(383.640625 1350.375582) scale(0.1 -0.1)\">\n       <use xlink:href=\"#DejaVuSans-32\"/>\n       <use xlink:href=\"#DejaVuSans-2e\" x=\"63.623047\"/>\n       <use xlink:href=\"#DejaVuSans-30\" x=\"95.410156\"/>\n      </g>\n     </g>\n    </g>\n    <g id=\"ytick_87\">\n     <g id=\"line2d_158\">\n      <g>\n       <use xlink:href=\"#m1b0ea2fc6b\" x=\"406.54375\" y=\"1311.458182\" style=\"stroke: #000000; stroke-width: 0.8\"/>\n      </g>\n     </g>\n     <g id=\"text_107\">\n      <!-- 2.5 -->\n      <g transform=\"translate(383.640625 1315.257401) scale(0.1 -0.1)\">\n       <use xlink:href=\"#DejaVuSans-32\"/>\n       <use xlink:href=\"#DejaVuSans-2e\" x=\"63.623047\"/>\n       <use xlink:href=\"#DejaVuSans-35\" x=\"95.410156\"/>\n      </g>\n     </g>\n    </g>\n    <g id=\"ytick_88\">\n     <g id=\"line2d_159\">\n      <g>\n       <use xlink:href=\"#m1b0ea2fc6b\" x=\"406.54375\" y=\"1276.34\" style=\"stroke: #000000; stroke-width: 0.8\"/>\n      </g>\n     </g>\n     <g id=\"text_108\">\n      <!-- 3.0 -->\n      <g transform=\"translate(383.640625 1280.139219) scale(0.1 -0.1)\">\n       <use xlink:href=\"#DejaVuSans-33\"/>\n       <use xlink:href=\"#DejaVuSans-2e\" x=\"63.623047\"/>\n       <use xlink:href=\"#DejaVuSans-30\" x=\"95.410156\"/>\n      </g>\n     </g>\n    </g>\n    <g id=\"ytick_89\">\n     <g id=\"line2d_160\">\n      <g>\n       <use xlink:href=\"#m1b0ea2fc6b\" x=\"406.54375\" y=\"1241.221818\" style=\"stroke: #000000; stroke-width: 0.8\"/>\n      </g>\n     </g>\n     <g id=\"text_109\">\n      <!-- 3.5 -->\n      <g transform=\"translate(383.640625 1245.021037) scale(0.1 -0.1)\">\n       <use xlink:href=\"#DejaVuSans-33\"/>\n       <use xlink:href=\"#DejaVuSans-2e\" x=\"63.623047\"/>\n       <use xlink:href=\"#DejaVuSans-35\" x=\"95.410156\"/>\n      </g>\n     </g>\n    </g>\n    <g id=\"ytick_90\">\n     <g id=\"line2d_161\">\n      <g>\n       <use xlink:href=\"#m1b0ea2fc6b\" x=\"406.54375\" y=\"1206.103636\" style=\"stroke: #000000; stroke-width: 0.8\"/>\n      </g>\n     </g>\n     <g id=\"text_110\">\n      <!-- 4.0 -->\n      <g transform=\"translate(383.640625 1209.902855) scale(0.1 -0.1)\">\n       <use xlink:href=\"#DejaVuSans-34\"/>\n       <use xlink:href=\"#DejaVuSans-2e\" x=\"63.623047\"/>\n       <use xlink:href=\"#DejaVuSans-30\" x=\"95.410156\"/>\n      </g>\n     </g>\n    </g>\n    <g id=\"ytick_91\">\n     <g id=\"line2d_162\">\n      <g>\n       <use xlink:href=\"#m1b0ea2fc6b\" x=\"406.54375\" y=\"1170.985455\" style=\"stroke: #000000; stroke-width: 0.8\"/>\n      </g>\n     </g>\n     <g id=\"text_111\">\n      <!-- 4.5 -->\n      <g transform=\"translate(383.640625 1174.784673) scale(0.1 -0.1)\">\n       <use xlink:href=\"#DejaVuSans-34\"/>\n       <use xlink:href=\"#DejaVuSans-2e\" x=\"63.623047\"/>\n       <use xlink:href=\"#DejaVuSans-35\" x=\"95.410156\"/>\n      </g>\n     </g>\n    </g>\n    <g id=\"ytick_92\">\n     <g id=\"line2d_163\">\n      <g>\n       <use xlink:href=\"#m1b0ea2fc6b\" x=\"406.54375\" y=\"1135.867273\" style=\"stroke: #000000; stroke-width: 0.8\"/>\n      </g>\n     </g>\n     <g id=\"text_112\">\n      <!-- 5.0 -->\n      <g transform=\"translate(383.640625 1139.666491) scale(0.1 -0.1)\">\n       <use xlink:href=\"#DejaVuSans-35\"/>\n       <use xlink:href=\"#DejaVuSans-2e\" x=\"63.623047\"/>\n       <use xlink:href=\"#DejaVuSans-30\" x=\"95.410156\"/>\n      </g>\n     </g>\n    </g>\n    <g id=\"text_113\">\n     <!-- Walc -->\n     <g transform=\"translate(377.560938 1288.167344) rotate(-90) scale(0.1 -0.1)\">\n      <defs>\n       <path id=\"DejaVuSans-57\" d=\"M 213 4666 \nL 850 4666 \nL 1831 722 \nL 2809 4666 \nL 3519 4666 \nL 4500 722 \nL 5478 4666 \nL 6119 4666 \nL 4947 0 \nL 4153 0 \nL 3169 4050 \nL 2175 0 \nL 1381 0 \nL 213 4666 \nz\n\" transform=\"scale(0.015625)\"/>\n      </defs>\n      <use xlink:href=\"#DejaVuSans-57\"/>\n      <use xlink:href=\"#DejaVuSans-61\" x=\"92.501953\"/>\n      <use xlink:href=\"#DejaVuSans-6c\" x=\"153.78125\"/>\n      <use xlink:href=\"#DejaVuSans-63\" x=\"181.564453\"/>\n     </g>\n    </g>\n   </g>\n   <g id=\"line2d_164\">\n    <path d=\"M 557.73375 1416.812727 \nL 557.73375 1416.812727 \n\" clip-path=\"url(#p567a40a874)\" style=\"fill: none; stroke: #3f3f3f; stroke-width: 1.5; stroke-linecap: square\"/>\n   </g>\n   <g id=\"line2d_165\">\n    <path d=\"M 557.73375 1276.34 \nL 557.73375 1135.867273 \n\" clip-path=\"url(#p567a40a874)\" style=\"fill: none; stroke: #3f3f3f; stroke-width: 1.5; stroke-linecap: square\"/>\n   </g>\n   <g id=\"line2d_166\">\n    <path d=\"M 497.25775 1416.812727 \nL 618.20975 1416.812727 \n\" clip-path=\"url(#p567a40a874)\" style=\"fill: none; stroke: #3f3f3f; stroke-width: 1.5; stroke-linecap: square\"/>\n   </g>\n   <g id=\"line2d_167\">\n    <path d=\"M 497.25775 1135.867273 \nL 618.20975 1135.867273 \n\" clip-path=\"url(#p567a40a874)\" style=\"fill: none; stroke: #3f3f3f; stroke-width: 1.5; stroke-linecap: square\"/>\n   </g>\n   <g id=\"line2d_168\"/>\n   <g id=\"line2d_169\">\n    <path d=\"M 436.78175 1346.576364 \nL 678.68575 1346.576364 \n\" clip-path=\"url(#p567a40a874)\" style=\"fill: none; stroke: #3f3f3f; stroke-width: 1.5; stroke-linecap: square\"/>\n   </g>\n   <g id=\"patch_64\">\n    <path d=\"M 406.54375 1430.86 \nL 406.54375 1121.82 \n\" style=\"fill: none; stroke: #000000; stroke-width: 0.8; stroke-linejoin: miter; stroke-linecap: square\"/>\n   </g>\n   <g id=\"patch_65\">\n    <path d=\"M 708.92375 1430.86 \nL 708.92375 1121.82 \n\" style=\"fill: none; stroke: #000000; stroke-width: 0.8; stroke-linejoin: miter; stroke-linecap: square\"/>\n   </g>\n   <g id=\"patch_66\">\n    <path d=\"M 406.54375 1430.86 \nL 708.92375 1430.86 \n\" style=\"fill: none; stroke: #000000; stroke-width: 0.8; stroke-linejoin: miter; stroke-linecap: square\"/>\n   </g>\n   <g id=\"patch_67\">\n    <path d=\"M 406.54375 1121.82 \nL 708.92375 1121.82 \n\" style=\"fill: none; stroke: #000000; stroke-width: 0.8; stroke-linejoin: miter; stroke-linecap: square\"/>\n   </g>\n   <g id=\"text_114\">\n    <!-- Box Plot para Walc -->\n    <g transform=\"translate(501.73125 1115.82) scale(0.12 -0.12)\">\n     <use xlink:href=\"#DejaVuSans-42\"/>\n     <use xlink:href=\"#DejaVuSans-6f\" x=\"68.603516\"/>\n     <use xlink:href=\"#DejaVuSans-78\" x=\"126.660156\"/>\n     <use xlink:href=\"#DejaVuSans-20\" x=\"185.839844\"/>\n     <use xlink:href=\"#DejaVuSans-50\" x=\"217.626953\"/>\n     <use xlink:href=\"#DejaVuSans-6c\" x=\"277.929688\"/>\n     <use xlink:href=\"#DejaVuSans-6f\" x=\"305.712891\"/>\n     <use xlink:href=\"#DejaVuSans-74\" x=\"366.894531\"/>\n     <use xlink:href=\"#DejaVuSans-20\" x=\"406.103516\"/>\n     <use xlink:href=\"#DejaVuSans-70\" x=\"437.890625\"/>\n     <use xlink:href=\"#DejaVuSans-61\" x=\"501.367188\"/>\n     <use xlink:href=\"#DejaVuSans-72\" x=\"562.646484\"/>\n     <use xlink:href=\"#DejaVuSans-61\" x=\"603.759766\"/>\n     <use xlink:href=\"#DejaVuSans-20\" x=\"665.039062\"/>\n     <use xlink:href=\"#DejaVuSans-57\" x=\"696.826172\"/>\n     <use xlink:href=\"#DejaVuSans-61\" x=\"789.328125\"/>\n     <use xlink:href=\"#DejaVuSans-6c\" x=\"850.607422\"/>\n     <use xlink:href=\"#DejaVuSans-63\" x=\"878.390625\"/>\n    </g>\n   </g>\n  </g>\n  <g id=\"axes_12\">\n   <g id=\"patch_68\">\n    <path d=\"M 762.94375 1430.86 \nL 1065.32375 1430.86 \nL 1065.32375 1121.82 \nL 762.94375 1121.82 \nz\n\" style=\"fill: #ffffff\"/>\n   </g>\n   <g id=\"patch_69\">\n    <path d=\"M 793.18175 1346.576364 \nL 1035.08575 1346.576364 \nL 1035.08575 1135.867273 \nL 793.18175 1135.867273 \nL 793.18175 1346.576364 \nz\n\" clip-path=\"url(#p1982fa03b1)\" style=\"fill: #3274a1; stroke: #3f3f3f; stroke-width: 1.5; stroke-linejoin: miter\"/>\n   </g>\n   <g id=\"matplotlib.axis_23\">\n    <g id=\"xtick_12\">\n     <g id=\"line2d_170\">\n      <g>\n       <use xlink:href=\"#me3414331ca\" x=\"914.13375\" y=\"1430.86\" style=\"stroke: #000000; stroke-width: 0.8\"/>\n      </g>\n     </g>\n    </g>\n   </g>\n   <g id=\"matplotlib.axis_24\">\n    <g id=\"ytick_93\">\n     <g id=\"line2d_171\">\n      <g>\n       <use xlink:href=\"#m1b0ea2fc6b\" x=\"762.94375\" y=\"1416.812727\" style=\"stroke: #000000; stroke-width: 0.8\"/>\n      </g>\n     </g>\n     <g id=\"text_115\">\n      <!-- 1.0 -->\n      <g transform=\"translate(740.040625 1420.611946) scale(0.1 -0.1)\">\n       <use xlink:href=\"#DejaVuSans-31\"/>\n       <use xlink:href=\"#DejaVuSans-2e\" x=\"63.623047\"/>\n       <use xlink:href=\"#DejaVuSans-30\" x=\"95.410156\"/>\n      </g>\n     </g>\n    </g>\n    <g id=\"ytick_94\">\n     <g id=\"line2d_172\">\n      <g>\n       <use xlink:href=\"#m1b0ea2fc6b\" x=\"762.94375\" y=\"1381.694545\" style=\"stroke: #000000; stroke-width: 0.8\"/>\n      </g>\n     </g>\n     <g id=\"text_116\">\n      <!-- 1.5 -->\n      <g transform=\"translate(740.040625 1385.493764) scale(0.1 -0.1)\">\n       <use xlink:href=\"#DejaVuSans-31\"/>\n       <use xlink:href=\"#DejaVuSans-2e\" x=\"63.623047\"/>\n       <use xlink:href=\"#DejaVuSans-35\" x=\"95.410156\"/>\n      </g>\n     </g>\n    </g>\n    <g id=\"ytick_95\">\n     <g id=\"line2d_173\">\n      <g>\n       <use xlink:href=\"#m1b0ea2fc6b\" x=\"762.94375\" y=\"1346.576364\" style=\"stroke: #000000; stroke-width: 0.8\"/>\n      </g>\n     </g>\n     <g id=\"text_117\">\n      <!-- 2.0 -->\n      <g transform=\"translate(740.040625 1350.375582) scale(0.1 -0.1)\">\n       <use xlink:href=\"#DejaVuSans-32\"/>\n       <use xlink:href=\"#DejaVuSans-2e\" x=\"63.623047\"/>\n       <use xlink:href=\"#DejaVuSans-30\" x=\"95.410156\"/>\n      </g>\n     </g>\n    </g>\n    <g id=\"ytick_96\">\n     <g id=\"line2d_174\">\n      <g>\n       <use xlink:href=\"#m1b0ea2fc6b\" x=\"762.94375\" y=\"1311.458182\" style=\"stroke: #000000; stroke-width: 0.8\"/>\n      </g>\n     </g>\n     <g id=\"text_118\">\n      <!-- 2.5 -->\n      <g transform=\"translate(740.040625 1315.257401) scale(0.1 -0.1)\">\n       <use xlink:href=\"#DejaVuSans-32\"/>\n       <use xlink:href=\"#DejaVuSans-2e\" x=\"63.623047\"/>\n       <use xlink:href=\"#DejaVuSans-35\" x=\"95.410156\"/>\n      </g>\n     </g>\n    </g>\n    <g id=\"ytick_97\">\n     <g id=\"line2d_175\">\n      <g>\n       <use xlink:href=\"#m1b0ea2fc6b\" x=\"762.94375\" y=\"1276.34\" style=\"stroke: #000000; stroke-width: 0.8\"/>\n      </g>\n     </g>\n     <g id=\"text_119\">\n      <!-- 3.0 -->\n      <g transform=\"translate(740.040625 1280.139219) scale(0.1 -0.1)\">\n       <use xlink:href=\"#DejaVuSans-33\"/>\n       <use xlink:href=\"#DejaVuSans-2e\" x=\"63.623047\"/>\n       <use xlink:href=\"#DejaVuSans-30\" x=\"95.410156\"/>\n      </g>\n     </g>\n    </g>\n    <g id=\"ytick_98\">\n     <g id=\"line2d_176\">\n      <g>\n       <use xlink:href=\"#m1b0ea2fc6b\" x=\"762.94375\" y=\"1241.221818\" style=\"stroke: #000000; stroke-width: 0.8\"/>\n      </g>\n     </g>\n     <g id=\"text_120\">\n      <!-- 3.5 -->\n      <g transform=\"translate(740.040625 1245.021037) scale(0.1 -0.1)\">\n       <use xlink:href=\"#DejaVuSans-33\"/>\n       <use xlink:href=\"#DejaVuSans-2e\" x=\"63.623047\"/>\n       <use xlink:href=\"#DejaVuSans-35\" x=\"95.410156\"/>\n      </g>\n     </g>\n    </g>\n    <g id=\"ytick_99\">\n     <g id=\"line2d_177\">\n      <g>\n       <use xlink:href=\"#m1b0ea2fc6b\" x=\"762.94375\" y=\"1206.103636\" style=\"stroke: #000000; stroke-width: 0.8\"/>\n      </g>\n     </g>\n     <g id=\"text_121\">\n      <!-- 4.0 -->\n      <g transform=\"translate(740.040625 1209.902855) scale(0.1 -0.1)\">\n       <use xlink:href=\"#DejaVuSans-34\"/>\n       <use xlink:href=\"#DejaVuSans-2e\" x=\"63.623047\"/>\n       <use xlink:href=\"#DejaVuSans-30\" x=\"95.410156\"/>\n      </g>\n     </g>\n    </g>\n    <g id=\"ytick_100\">\n     <g id=\"line2d_178\">\n      <g>\n       <use xlink:href=\"#m1b0ea2fc6b\" x=\"762.94375\" y=\"1170.985455\" style=\"stroke: #000000; stroke-width: 0.8\"/>\n      </g>\n     </g>\n     <g id=\"text_122\">\n      <!-- 4.5 -->\n      <g transform=\"translate(740.040625 1174.784673) scale(0.1 -0.1)\">\n       <use xlink:href=\"#DejaVuSans-34\"/>\n       <use xlink:href=\"#DejaVuSans-2e\" x=\"63.623047\"/>\n       <use xlink:href=\"#DejaVuSans-35\" x=\"95.410156\"/>\n      </g>\n     </g>\n    </g>\n    <g id=\"ytick_101\">\n     <g id=\"line2d_179\">\n      <g>\n       <use xlink:href=\"#m1b0ea2fc6b\" x=\"762.94375\" y=\"1135.867273\" style=\"stroke: #000000; stroke-width: 0.8\"/>\n      </g>\n     </g>\n     <g id=\"text_123\">\n      <!-- 5.0 -->\n      <g transform=\"translate(740.040625 1139.666491) scale(0.1 -0.1)\">\n       <use xlink:href=\"#DejaVuSans-35\"/>\n       <use xlink:href=\"#DejaVuSans-2e\" x=\"63.623047\"/>\n       <use xlink:href=\"#DejaVuSans-30\" x=\"95.410156\"/>\n      </g>\n     </g>\n    </g>\n    <g id=\"text_124\">\n     <!-- health -->\n     <g transform=\"translate(733.960938 1292.167344) rotate(-90) scale(0.1 -0.1)\">\n      <defs>\n       <path id=\"DejaVuSans-68\" d=\"M 3513 2113 \nL 3513 0 \nL 2938 0 \nL 2938 2094 \nQ 2938 2591 2744 2837 \nQ 2550 3084 2163 3084 \nQ 1697 3084 1428 2787 \nQ 1159 2491 1159 1978 \nL 1159 0 \nL 581 0 \nL 581 4863 \nL 1159 4863 \nL 1159 2956 \nQ 1366 3272 1645 3428 \nQ 1925 3584 2291 3584 \nQ 2894 3584 3203 3211 \nQ 3513 2838 3513 2113 \nz\n\" transform=\"scale(0.015625)\"/>\n      </defs>\n      <use xlink:href=\"#DejaVuSans-68\"/>\n      <use xlink:href=\"#DejaVuSans-65\" x=\"63.378906\"/>\n      <use xlink:href=\"#DejaVuSans-61\" x=\"124.902344\"/>\n      <use xlink:href=\"#DejaVuSans-6c\" x=\"186.181641\"/>\n      <use xlink:href=\"#DejaVuSans-74\" x=\"213.964844\"/>\n      <use xlink:href=\"#DejaVuSans-68\" x=\"253.173828\"/>\n     </g>\n    </g>\n   </g>\n   <g id=\"line2d_180\">\n    <path d=\"M 914.13375 1346.576364 \nL 914.13375 1416.812727 \n\" clip-path=\"url(#p1982fa03b1)\" style=\"fill: none; stroke: #3f3f3f; stroke-width: 1.5; stroke-linecap: square\"/>\n   </g>\n   <g id=\"line2d_181\">\n    <path d=\"M 914.13375 1135.867273 \nL 914.13375 1135.867273 \n\" clip-path=\"url(#p1982fa03b1)\" style=\"fill: none; stroke: #3f3f3f; stroke-width: 1.5; stroke-linecap: square\"/>\n   </g>\n   <g id=\"line2d_182\">\n    <path d=\"M 853.65775 1416.812727 \nL 974.60975 1416.812727 \n\" clip-path=\"url(#p1982fa03b1)\" style=\"fill: none; stroke: #3f3f3f; stroke-width: 1.5; stroke-linecap: square\"/>\n   </g>\n   <g id=\"line2d_183\">\n    <path d=\"M 853.65775 1135.867273 \nL 974.60975 1135.867273 \n\" clip-path=\"url(#p1982fa03b1)\" style=\"fill: none; stroke: #3f3f3f; stroke-width: 1.5; stroke-linecap: square\"/>\n   </g>\n   <g id=\"line2d_184\"/>\n   <g id=\"line2d_185\">\n    <path d=\"M 793.18175 1206.103636 \nL 1035.08575 1206.103636 \n\" clip-path=\"url(#p1982fa03b1)\" style=\"fill: none; stroke: #3f3f3f; stroke-width: 1.5; stroke-linecap: square\"/>\n   </g>\n   <g id=\"patch_70\">\n    <path d=\"M 762.94375 1430.86 \nL 762.94375 1121.82 \n\" style=\"fill: none; stroke: #000000; stroke-width: 0.8; stroke-linejoin: miter; stroke-linecap: square\"/>\n   </g>\n   <g id=\"patch_71\">\n    <path d=\"M 1065.32375 1430.86 \nL 1065.32375 1121.82 \n\" style=\"fill: none; stroke: #000000; stroke-width: 0.8; stroke-linejoin: miter; stroke-linecap: square\"/>\n   </g>\n   <g id=\"patch_72\">\n    <path d=\"M 762.94375 1430.86 \nL 1065.32375 1430.86 \n\" style=\"fill: none; stroke: #000000; stroke-width: 0.8; stroke-linejoin: miter; stroke-linecap: square\"/>\n   </g>\n   <g id=\"patch_73\">\n    <path d=\"M 762.94375 1121.82 \nL 1065.32375 1121.82 \n\" style=\"fill: none; stroke: #000000; stroke-width: 0.8; stroke-linejoin: miter; stroke-linecap: square\"/>\n   </g>\n   <g id=\"text_125\">\n    <!-- Box Plot para health -->\n    <g transform=\"translate(853.33125 1115.82) scale(0.12 -0.12)\">\n     <use xlink:href=\"#DejaVuSans-42\"/>\n     <use xlink:href=\"#DejaVuSans-6f\" x=\"68.603516\"/>\n     <use xlink:href=\"#DejaVuSans-78\" x=\"126.660156\"/>\n     <use xlink:href=\"#DejaVuSans-20\" x=\"185.839844\"/>\n     <use xlink:href=\"#DejaVuSans-50\" x=\"217.626953\"/>\n     <use xlink:href=\"#DejaVuSans-6c\" x=\"277.929688\"/>\n     <use xlink:href=\"#DejaVuSans-6f\" x=\"305.712891\"/>\n     <use xlink:href=\"#DejaVuSans-74\" x=\"366.894531\"/>\n     <use xlink:href=\"#DejaVuSans-20\" x=\"406.103516\"/>\n     <use xlink:href=\"#DejaVuSans-70\" x=\"437.890625\"/>\n     <use xlink:href=\"#DejaVuSans-61\" x=\"501.367188\"/>\n     <use xlink:href=\"#DejaVuSans-72\" x=\"562.646484\"/>\n     <use xlink:href=\"#DejaVuSans-61\" x=\"603.759766\"/>\n     <use xlink:href=\"#DejaVuSans-20\" x=\"665.039062\"/>\n     <use xlink:href=\"#DejaVuSans-68\" x=\"696.826172\"/>\n     <use xlink:href=\"#DejaVuSans-65\" x=\"760.205078\"/>\n     <use xlink:href=\"#DejaVuSans-61\" x=\"821.728516\"/>\n     <use xlink:href=\"#DejaVuSans-6c\" x=\"883.007812\"/>\n     <use xlink:href=\"#DejaVuSans-74\" x=\"910.791016\"/>\n     <use xlink:href=\"#DejaVuSans-68\" x=\"950\"/>\n    </g>\n   </g>\n  </g>\n  <g id=\"axes_13\">\n   <g id=\"patch_74\">\n    <path d=\"M 50.14375 1770.28 \nL 352.52375 1770.28 \nL 352.52375 1461.24 \nL 50.14375 1461.24 \nz\n\" style=\"fill: #ffffff\"/>\n   </g>\n   <g id=\"patch_75\">\n    <path d=\"M 80.38175 1756.232727 \nL 322.28575 1756.232727 \nL 322.28575 1703.555455 \nL 80.38175 1703.555455 \nL 80.38175 1756.232727 \nz\n\" clip-path=\"url(#p9f9f74606e)\" style=\"fill: #3274a1; stroke: #3f3f3f; stroke-width: 1.5; stroke-linejoin: miter\"/>\n   </g>\n   <g id=\"matplotlib.axis_25\">\n    <g id=\"xtick_13\">\n     <g id=\"line2d_186\">\n      <g>\n       <use xlink:href=\"#me3414331ca\" x=\"201.33375\" y=\"1770.28\" style=\"stroke: #000000; stroke-width: 0.8\"/>\n      </g>\n     </g>\n    </g>\n   </g>\n   <g id=\"matplotlib.axis_26\">\n    <g id=\"ytick_102\">\n     <g id=\"line2d_187\">\n      <g>\n       <use xlink:href=\"#m1b0ea2fc6b\" x=\"50.14375\" y=\"1756.232727\" style=\"stroke: #000000; stroke-width: 0.8\"/>\n      </g>\n     </g>\n     <g id=\"text_126\">\n      <!-- 0 -->\n      <g transform=\"translate(36.78125 1760.031946) scale(0.1 -0.1)\">\n       <use xlink:href=\"#DejaVuSans-30\"/>\n      </g>\n     </g>\n    </g>\n    <g id=\"ytick_103\">\n     <g id=\"line2d_188\">\n      <g>\n       <use xlink:href=\"#m1b0ea2fc6b\" x=\"50.14375\" y=\"1712.335\" style=\"stroke: #000000; stroke-width: 0.8\"/>\n      </g>\n     </g>\n     <g id=\"text_127\">\n      <!-- 5 -->\n      <g transform=\"translate(36.78125 1716.134219) scale(0.1 -0.1)\">\n       <use xlink:href=\"#DejaVuSans-35\"/>\n      </g>\n     </g>\n    </g>\n    <g id=\"ytick_104\">\n     <g id=\"line2d_189\">\n      <g>\n       <use xlink:href=\"#m1b0ea2fc6b\" x=\"50.14375\" y=\"1668.437273\" style=\"stroke: #000000; stroke-width: 0.8\"/>\n      </g>\n     </g>\n     <g id=\"text_128\">\n      <!-- 10 -->\n      <g transform=\"translate(30.41875 1672.236491) scale(0.1 -0.1)\">\n       <use xlink:href=\"#DejaVuSans-31\"/>\n       <use xlink:href=\"#DejaVuSans-30\" x=\"63.623047\"/>\n      </g>\n     </g>\n    </g>\n    <g id=\"ytick_105\">\n     <g id=\"line2d_190\">\n      <g>\n       <use xlink:href=\"#m1b0ea2fc6b\" x=\"50.14375\" y=\"1624.539545\" style=\"stroke: #000000; stroke-width: 0.8\"/>\n      </g>\n     </g>\n     <g id=\"text_129\">\n      <!-- 15 -->\n      <g transform=\"translate(30.41875 1628.338764) scale(0.1 -0.1)\">\n       <use xlink:href=\"#DejaVuSans-31\"/>\n       <use xlink:href=\"#DejaVuSans-35\" x=\"63.623047\"/>\n      </g>\n     </g>\n    </g>\n    <g id=\"ytick_106\">\n     <g id=\"line2d_191\">\n      <g>\n       <use xlink:href=\"#m1b0ea2fc6b\" x=\"50.14375\" y=\"1580.641818\" style=\"stroke: #000000; stroke-width: 0.8\"/>\n      </g>\n     </g>\n     <g id=\"text_130\">\n      <!-- 20 -->\n      <g transform=\"translate(30.41875 1584.441037) scale(0.1 -0.1)\">\n       <use xlink:href=\"#DejaVuSans-32\"/>\n       <use xlink:href=\"#DejaVuSans-30\" x=\"63.623047\"/>\n      </g>\n     </g>\n    </g>\n    <g id=\"ytick_107\">\n     <g id=\"line2d_192\">\n      <g>\n       <use xlink:href=\"#m1b0ea2fc6b\" x=\"50.14375\" y=\"1536.744091\" style=\"stroke: #000000; stroke-width: 0.8\"/>\n      </g>\n     </g>\n     <g id=\"text_131\">\n      <!-- 25 -->\n      <g transform=\"translate(30.41875 1540.54331) scale(0.1 -0.1)\">\n       <use xlink:href=\"#DejaVuSans-32\"/>\n       <use xlink:href=\"#DejaVuSans-35\" x=\"63.623047\"/>\n      </g>\n     </g>\n    </g>\n    <g id=\"ytick_108\">\n     <g id=\"line2d_193\">\n      <g>\n       <use xlink:href=\"#m1b0ea2fc6b\" x=\"50.14375\" y=\"1492.846364\" style=\"stroke: #000000; stroke-width: 0.8\"/>\n      </g>\n     </g>\n     <g id=\"text_132\">\n      <!-- 30 -->\n      <g transform=\"translate(30.41875 1496.645582) scale(0.1 -0.1)\">\n       <use xlink:href=\"#DejaVuSans-33\"/>\n       <use xlink:href=\"#DejaVuSans-30\" x=\"63.623047\"/>\n      </g>\n     </g>\n    </g>\n    <g id=\"text_133\">\n     <!-- absences -->\n     <g transform=\"translate(24.339063 1639.27875) rotate(-90) scale(0.1 -0.1)\">\n      <defs>\n       <path id=\"DejaVuSans-62\" d=\"M 3116 1747 \nQ 3116 2381 2855 2742 \nQ 2594 3103 2138 3103 \nQ 1681 3103 1420 2742 \nQ 1159 2381 1159 1747 \nQ 1159 1113 1420 752 \nQ 1681 391 2138 391 \nQ 2594 391 2855 752 \nQ 3116 1113 3116 1747 \nz\nM 1159 2969 \nQ 1341 3281 1617 3432 \nQ 1894 3584 2278 3584 \nQ 2916 3584 3314 3078 \nQ 3713 2572 3713 1747 \nQ 3713 922 3314 415 \nQ 2916 -91 2278 -91 \nQ 1894 -91 1617 61 \nQ 1341 213 1159 525 \nL 1159 0 \nL 581 0 \nL 581 4863 \nL 1159 4863 \nL 1159 2969 \nz\n\" transform=\"scale(0.015625)\"/>\n       <path id=\"DejaVuSans-6e\" d=\"M 3513 2113 \nL 3513 0 \nL 2938 0 \nL 2938 2094 \nQ 2938 2591 2744 2837 \nQ 2550 3084 2163 3084 \nQ 1697 3084 1428 2787 \nQ 1159 2491 1159 1978 \nL 1159 0 \nL 581 0 \nL 581 3500 \nL 1159 3500 \nL 1159 2956 \nQ 1366 3272 1645 3428 \nQ 1925 3584 2291 3584 \nQ 2894 3584 3203 3211 \nQ 3513 2838 3513 2113 \nz\n\" transform=\"scale(0.015625)\"/>\n      </defs>\n      <use xlink:href=\"#DejaVuSans-61\"/>\n      <use xlink:href=\"#DejaVuSans-62\" x=\"61.279297\"/>\n      <use xlink:href=\"#DejaVuSans-73\" x=\"124.755859\"/>\n      <use xlink:href=\"#DejaVuSans-65\" x=\"176.855469\"/>\n      <use xlink:href=\"#DejaVuSans-6e\" x=\"238.378906\"/>\n      <use xlink:href=\"#DejaVuSans-63\" x=\"301.757812\"/>\n      <use xlink:href=\"#DejaVuSans-65\" x=\"356.738281\"/>\n      <use xlink:href=\"#DejaVuSans-73\" x=\"418.261719\"/>\n     </g>\n    </g>\n   </g>\n   <g id=\"line2d_194\">\n    <path d=\"M 201.33375 1756.232727 \nL 201.33375 1756.232727 \n\" clip-path=\"url(#p9f9f74606e)\" style=\"fill: none; stroke: #3f3f3f; stroke-width: 1.5; stroke-linecap: square\"/>\n   </g>\n   <g id=\"line2d_195\">\n    <path d=\"M 201.33375 1703.555455 \nL 201.33375 1624.539545 \n\" clip-path=\"url(#p9f9f74606e)\" style=\"fill: none; stroke: #3f3f3f; stroke-width: 1.5; stroke-linecap: square\"/>\n   </g>\n   <g id=\"line2d_196\">\n    <path d=\"M 140.85775 1756.232727 \nL 261.80975 1756.232727 \n\" clip-path=\"url(#p9f9f74606e)\" style=\"fill: none; stroke: #3f3f3f; stroke-width: 1.5; stroke-linecap: square\"/>\n   </g>\n   <g id=\"line2d_197\">\n    <path d=\"M 140.85775 1624.539545 \nL 261.80975 1624.539545 \n\" clip-path=\"url(#p9f9f74606e)\" style=\"fill: none; stroke: #3f3f3f; stroke-width: 1.5; stroke-linecap: square\"/>\n   </g>\n   <g id=\"line2d_198\">\n    <g clip-path=\"url(#p9f9f74606e)\">\n     <use xlink:href=\"#ma3115d322c\" x=\"201.33375\" y=\"1615.76\" style=\"fill: #3f3f3f; stroke: #3f3f3f; stroke-linejoin: miter\"/>\n     <use xlink:href=\"#ma3115d322c\" x=\"201.33375\" y=\"1615.76\" style=\"fill: #3f3f3f; stroke: #3f3f3f; stroke-linejoin: miter\"/>\n     <use xlink:href=\"#ma3115d322c\" x=\"201.33375\" y=\"1545.523636\" style=\"fill: #3f3f3f; stroke: #3f3f3f; stroke-linejoin: miter\"/>\n     <use xlink:href=\"#ma3115d322c\" x=\"201.33375\" y=\"1563.082727\" style=\"fill: #3f3f3f; stroke: #3f3f3f; stroke-linejoin: miter\"/>\n     <use xlink:href=\"#ma3115d322c\" x=\"201.33375\" y=\"1615.76\" style=\"fill: #3f3f3f; stroke: #3f3f3f; stroke-linejoin: miter\"/>\n     <use xlink:href=\"#ma3115d322c\" x=\"201.33375\" y=\"1475.287273\" style=\"fill: #3f3f3f; stroke: #3f3f3f; stroke-linejoin: miter\"/>\n     <use xlink:href=\"#ma3115d322c\" x=\"201.33375\" y=\"1615.76\" style=\"fill: #3f3f3f; stroke: #3f3f3f; stroke-linejoin: miter\"/>\n     <use xlink:href=\"#ma3115d322c\" x=\"201.33375\" y=\"1615.76\" style=\"fill: #3f3f3f; stroke: #3f3f3f; stroke-linejoin: miter\"/>\n     <use xlink:href=\"#ma3115d322c\" x=\"201.33375\" y=\"1492.846364\" style=\"fill: #3f3f3f; stroke: #3f3f3f; stroke-linejoin: miter\"/>\n     <use xlink:href=\"#ma3115d322c\" x=\"201.33375\" y=\"1571.862273\" style=\"fill: #3f3f3f; stroke: #3f3f3f; stroke-linejoin: miter\"/>\n     <use xlink:href=\"#ma3115d322c\" x=\"201.33375\" y=\"1615.76\" style=\"fill: #3f3f3f; stroke: #3f3f3f; stroke-linejoin: miter\"/>\n     <use xlink:href=\"#ma3115d322c\" x=\"201.33375\" y=\"1598.200909\" style=\"fill: #3f3f3f; stroke: #3f3f3f; stroke-linejoin: miter\"/>\n     <use xlink:href=\"#ma3115d322c\" x=\"201.33375\" y=\"1615.76\" style=\"fill: #3f3f3f; stroke: #3f3f3f; stroke-linejoin: miter\"/>\n     <use xlink:href=\"#ma3115d322c\" x=\"201.33375\" y=\"1527.964545\" style=\"fill: #3f3f3f; stroke: #3f3f3f; stroke-linejoin: miter\"/>\n     <use xlink:href=\"#ma3115d322c\" x=\"201.33375\" y=\"1615.76\" style=\"fill: #3f3f3f; stroke: #3f3f3f; stroke-linejoin: miter\"/>\n     <use xlink:href=\"#ma3115d322c\" x=\"201.33375\" y=\"1615.76\" style=\"fill: #3f3f3f; stroke: #3f3f3f; stroke-linejoin: miter\"/>\n     <use xlink:href=\"#ma3115d322c\" x=\"201.33375\" y=\"1563.082727\" style=\"fill: #3f3f3f; stroke: #3f3f3f; stroke-linejoin: miter\"/>\n     <use xlink:href=\"#ma3115d322c\" x=\"201.33375\" y=\"1598.200909\" style=\"fill: #3f3f3f; stroke: #3f3f3f; stroke-linejoin: miter\"/>\n     <use xlink:href=\"#ma3115d322c\" x=\"201.33375\" y=\"1598.200909\" style=\"fill: #3f3f3f; stroke: #3f3f3f; stroke-linejoin: miter\"/>\n     <use xlink:href=\"#ma3115d322c\" x=\"201.33375\" y=\"1615.76\" style=\"fill: #3f3f3f; stroke: #3f3f3f; stroke-linejoin: miter\"/>\n     <use xlink:href=\"#ma3115d322c\" x=\"201.33375\" y=\"1571.862273\" style=\"fill: #3f3f3f; stroke: #3f3f3f; stroke-linejoin: miter\"/>\n    </g>\n   </g>\n   <g id=\"line2d_199\">\n    <path d=\"M 80.38175 1738.673636 \nL 322.28575 1738.673636 \n\" clip-path=\"url(#p9f9f74606e)\" style=\"fill: none; stroke: #3f3f3f; stroke-width: 1.5; stroke-linecap: square\"/>\n   </g>\n   <g id=\"patch_76\">\n    <path d=\"M 50.14375 1770.28 \nL 50.14375 1461.24 \n\" style=\"fill: none; stroke: #000000; stroke-width: 0.8; stroke-linejoin: miter; stroke-linecap: square\"/>\n   </g>\n   <g id=\"patch_77\">\n    <path d=\"M 352.52375 1770.28 \nL 352.52375 1461.24 \n\" style=\"fill: none; stroke: #000000; stroke-width: 0.8; stroke-linejoin: miter; stroke-linecap: square\"/>\n   </g>\n   <g id=\"patch_78\">\n    <path d=\"M 50.14375 1770.28 \nL 352.52375 1770.28 \n\" style=\"fill: none; stroke: #000000; stroke-width: 0.8; stroke-linejoin: miter; stroke-linecap: square\"/>\n   </g>\n   <g id=\"patch_79\">\n    <path d=\"M 50.14375 1461.24 \nL 352.52375 1461.24 \n\" style=\"fill: none; stroke: #000000; stroke-width: 0.8; stroke-linejoin: miter; stroke-linecap: square\"/>\n   </g>\n   <g id=\"text_134\">\n    <!-- Box Plot para absences -->\n    <g transform=\"translate(131.301562 1455.24) scale(0.12 -0.12)\">\n     <use xlink:href=\"#DejaVuSans-42\"/>\n     <use xlink:href=\"#DejaVuSans-6f\" x=\"68.603516\"/>\n     <use xlink:href=\"#DejaVuSans-78\" x=\"126.660156\"/>\n     <use xlink:href=\"#DejaVuSans-20\" x=\"185.839844\"/>\n     <use xlink:href=\"#DejaVuSans-50\" x=\"217.626953\"/>\n     <use xlink:href=\"#DejaVuSans-6c\" x=\"277.929688\"/>\n     <use xlink:href=\"#DejaVuSans-6f\" x=\"305.712891\"/>\n     <use xlink:href=\"#DejaVuSans-74\" x=\"366.894531\"/>\n     <use xlink:href=\"#DejaVuSans-20\" x=\"406.103516\"/>\n     <use xlink:href=\"#DejaVuSans-70\" x=\"437.890625\"/>\n     <use xlink:href=\"#DejaVuSans-61\" x=\"501.367188\"/>\n     <use xlink:href=\"#DejaVuSans-72\" x=\"562.646484\"/>\n     <use xlink:href=\"#DejaVuSans-61\" x=\"603.759766\"/>\n     <use xlink:href=\"#DejaVuSans-20\" x=\"665.039062\"/>\n     <use xlink:href=\"#DejaVuSans-61\" x=\"696.826172\"/>\n     <use xlink:href=\"#DejaVuSans-62\" x=\"758.105469\"/>\n     <use xlink:href=\"#DejaVuSans-73\" x=\"821.582031\"/>\n     <use xlink:href=\"#DejaVuSans-65\" x=\"873.681641\"/>\n     <use xlink:href=\"#DejaVuSans-6e\" x=\"935.205078\"/>\n     <use xlink:href=\"#DejaVuSans-63\" x=\"998.583984\"/>\n     <use xlink:href=\"#DejaVuSans-65\" x=\"1053.564453\"/>\n     <use xlink:href=\"#DejaVuSans-73\" x=\"1115.087891\"/>\n    </g>\n   </g>\n  </g>\n  <g id=\"axes_14\">\n   <g id=\"patch_80\">\n    <path d=\"M 406.54375 1770.28 \nL 708.92375 1770.28 \nL 708.92375 1461.24 \nL 406.54375 1461.24 \nz\n\" style=\"fill: #ffffff\"/>\n   </g>\n   <g id=\"patch_81\">\n    <path d=\"M 436.78175 1608.366699 \nL 678.68575 1608.366699 \nL 678.68575 1564.00689 \nL 436.78175 1564.00689 \nL 436.78175 1608.366699 \nz\n\" clip-path=\"url(#p7cab258a52)\" style=\"fill: #3274a1; stroke: #3f3f3f; stroke-width: 1.5; stroke-linejoin: miter\"/>\n   </g>\n   <g id=\"matplotlib.axis_27\">\n    <g id=\"xtick_14\">\n     <g id=\"line2d_200\">\n      <g>\n       <use xlink:href=\"#me3414331ca\" x=\"557.73375\" y=\"1770.28\" style=\"stroke: #000000; stroke-width: 0.8\"/>\n      </g>\n     </g>\n    </g>\n   </g>\n   <g id=\"matplotlib.axis_28\">\n    <g id=\"ytick_109\">\n     <g id=\"line2d_201\">\n      <g>\n       <use xlink:href=\"#m1b0ea2fc6b\" x=\"406.54375\" y=\"1756.232727\" style=\"stroke: #000000; stroke-width: 0.8\"/>\n      </g>\n     </g>\n     <g id=\"text_135\">\n      <!-- 0.0 -->\n      <g transform=\"translate(383.640625 1760.031946) scale(0.1 -0.1)\">\n       <use xlink:href=\"#DejaVuSans-30\"/>\n       <use xlink:href=\"#DejaVuSans-2e\" x=\"63.623047\"/>\n       <use xlink:href=\"#DejaVuSans-30\" x=\"95.410156\"/>\n      </g>\n     </g>\n    </g>\n    <g id=\"ytick_110\">\n     <g id=\"line2d_202\">\n      <g>\n       <use xlink:href=\"#m1b0ea2fc6b\" x=\"406.54375\" y=\"1719.26622\" style=\"stroke: #000000; stroke-width: 0.8\"/>\n      </g>\n     </g>\n     <g id=\"text_136\">\n      <!-- 2.5 -->\n      <g transform=\"translate(383.640625 1723.065439) scale(0.1 -0.1)\">\n       <use xlink:href=\"#DejaVuSans-32\"/>\n       <use xlink:href=\"#DejaVuSans-2e\" x=\"63.623047\"/>\n       <use xlink:href=\"#DejaVuSans-35\" x=\"95.410156\"/>\n      </g>\n     </g>\n    </g>\n    <g id=\"ytick_111\">\n     <g id=\"line2d_203\">\n      <g>\n       <use xlink:href=\"#m1b0ea2fc6b\" x=\"406.54375\" y=\"1682.299713\" style=\"stroke: #000000; stroke-width: 0.8\"/>\n      </g>\n     </g>\n     <g id=\"text_137\">\n      <!-- 5.0 -->\n      <g transform=\"translate(383.640625 1686.098932) scale(0.1 -0.1)\">\n       <use xlink:href=\"#DejaVuSans-35\"/>\n       <use xlink:href=\"#DejaVuSans-2e\" x=\"63.623047\"/>\n       <use xlink:href=\"#DejaVuSans-30\" x=\"95.410156\"/>\n      </g>\n     </g>\n    </g>\n    <g id=\"ytick_112\">\n     <g id=\"line2d_204\">\n      <g>\n       <use xlink:href=\"#m1b0ea2fc6b\" x=\"406.54375\" y=\"1645.333206\" style=\"stroke: #000000; stroke-width: 0.8\"/>\n      </g>\n     </g>\n     <g id=\"text_138\">\n      <!-- 7.5 -->\n      <g transform=\"translate(383.640625 1649.132424) scale(0.1 -0.1)\">\n       <use xlink:href=\"#DejaVuSans-37\"/>\n       <use xlink:href=\"#DejaVuSans-2e\" x=\"63.623047\"/>\n       <use xlink:href=\"#DejaVuSans-35\" x=\"95.410156\"/>\n      </g>\n     </g>\n    </g>\n    <g id=\"ytick_113\">\n     <g id=\"line2d_205\">\n      <g>\n       <use xlink:href=\"#m1b0ea2fc6b\" x=\"406.54375\" y=\"1608.366699\" style=\"stroke: #000000; stroke-width: 0.8\"/>\n      </g>\n     </g>\n     <g id=\"text_139\">\n      <!-- 10.0 -->\n      <g transform=\"translate(377.278125 1612.165917) scale(0.1 -0.1)\">\n       <use xlink:href=\"#DejaVuSans-31\"/>\n       <use xlink:href=\"#DejaVuSans-30\" x=\"63.623047\"/>\n       <use xlink:href=\"#DejaVuSans-2e\" x=\"127.246094\"/>\n       <use xlink:href=\"#DejaVuSans-30\" x=\"159.033203\"/>\n      </g>\n     </g>\n    </g>\n    <g id=\"ytick_114\">\n     <g id=\"line2d_206\">\n      <g>\n       <use xlink:href=\"#m1b0ea2fc6b\" x=\"406.54375\" y=\"1571.400191\" style=\"stroke: #000000; stroke-width: 0.8\"/>\n      </g>\n     </g>\n     <g id=\"text_140\">\n      <!-- 12.5 -->\n      <g transform=\"translate(377.278125 1575.19941) scale(0.1 -0.1)\">\n       <use xlink:href=\"#DejaVuSans-31\"/>\n       <use xlink:href=\"#DejaVuSans-32\" x=\"63.623047\"/>\n       <use xlink:href=\"#DejaVuSans-2e\" x=\"127.246094\"/>\n       <use xlink:href=\"#DejaVuSans-35\" x=\"159.033203\"/>\n      </g>\n     </g>\n    </g>\n    <g id=\"ytick_115\">\n     <g id=\"line2d_207\">\n      <g>\n       <use xlink:href=\"#m1b0ea2fc6b\" x=\"406.54375\" y=\"1534.433684\" style=\"stroke: #000000; stroke-width: 0.8\"/>\n      </g>\n     </g>\n     <g id=\"text_141\">\n      <!-- 15.0 -->\n      <g transform=\"translate(377.278125 1538.232903) scale(0.1 -0.1)\">\n       <use xlink:href=\"#DejaVuSans-31\"/>\n       <use xlink:href=\"#DejaVuSans-35\" x=\"63.623047\"/>\n       <use xlink:href=\"#DejaVuSans-2e\" x=\"127.246094\"/>\n       <use xlink:href=\"#DejaVuSans-30\" x=\"159.033203\"/>\n      </g>\n     </g>\n    </g>\n    <g id=\"ytick_116\">\n     <g id=\"line2d_208\">\n      <g>\n       <use xlink:href=\"#m1b0ea2fc6b\" x=\"406.54375\" y=\"1497.467177\" style=\"stroke: #000000; stroke-width: 0.8\"/>\n      </g>\n     </g>\n     <g id=\"text_142\">\n      <!-- 17.5 -->\n      <g transform=\"translate(377.278125 1501.266396) scale(0.1 -0.1)\">\n       <use xlink:href=\"#DejaVuSans-31\"/>\n       <use xlink:href=\"#DejaVuSans-37\" x=\"63.623047\"/>\n       <use xlink:href=\"#DejaVuSans-2e\" x=\"127.246094\"/>\n       <use xlink:href=\"#DejaVuSans-35\" x=\"159.033203\"/>\n      </g>\n     </g>\n    </g>\n    <g id=\"text_143\">\n     <!-- G1 -->\n     <g transform=\"translate(371.198438 1622.815469) rotate(-90) scale(0.1 -0.1)\">\n      <defs>\n       <path id=\"DejaVuSans-47\" d=\"M 3809 666 \nL 3809 1919 \nL 2778 1919 \nL 2778 2438 \nL 4434 2438 \nL 4434 434 \nQ 4069 175 3628 42 \nQ 3188 -91 2688 -91 \nQ 1594 -91 976 548 \nQ 359 1188 359 2328 \nQ 359 3472 976 4111 \nQ 1594 4750 2688 4750 \nQ 3144 4750 3555 4637 \nQ 3966 4525 4313 4306 \nL 4313 3634 \nQ 3963 3931 3569 4081 \nQ 3175 4231 2741 4231 \nQ 1884 4231 1454 3753 \nQ 1025 3275 1025 2328 \nQ 1025 1384 1454 906 \nQ 1884 428 2741 428 \nQ 3075 428 3337 486 \nQ 3600 544 3809 666 \nz\n\" transform=\"scale(0.015625)\"/>\n      </defs>\n      <use xlink:href=\"#DejaVuSans-47\"/>\n      <use xlink:href=\"#DejaVuSans-31\" x=\"77.490234\"/>\n     </g>\n    </g>\n   </g>\n   <g id=\"line2d_209\">\n    <path d=\"M 557.73375 1608.366699 \nL 557.73375 1667.51311 \n\" clip-path=\"url(#p7cab258a52)\" style=\"fill: none; stroke: #3f3f3f; stroke-width: 1.5; stroke-linecap: square\"/>\n   </g>\n   <g id=\"line2d_210\">\n    <path d=\"M 557.73375 1564.00689 \nL 557.73375 1504.860478 \n\" clip-path=\"url(#p7cab258a52)\" style=\"fill: none; stroke: #3f3f3f; stroke-width: 1.5; stroke-linecap: square\"/>\n   </g>\n   <g id=\"line2d_211\">\n    <path d=\"M 497.25775 1667.51311 \nL 618.20975 1667.51311 \n\" clip-path=\"url(#p7cab258a52)\" style=\"fill: none; stroke: #3f3f3f; stroke-width: 1.5; stroke-linecap: square\"/>\n   </g>\n   <g id=\"line2d_212\">\n    <path d=\"M 497.25775 1504.860478 \nL 618.20975 1504.860478 \n\" clip-path=\"url(#p7cab258a52)\" style=\"fill: none; stroke: #3f3f3f; stroke-width: 1.5; stroke-linecap: square\"/>\n   </g>\n   <g id=\"line2d_213\">\n    <g clip-path=\"url(#p7cab258a52)\">\n     <use xlink:href=\"#ma3115d322c\" x=\"557.73375\" y=\"1756.232727\" style=\"fill: #3f3f3f; stroke: #3f3f3f; stroke-linejoin: miter\"/>\n     <use xlink:href=\"#ma3115d322c\" x=\"557.73375\" y=\"1682.299713\" style=\"fill: #3f3f3f; stroke: #3f3f3f; stroke-linejoin: miter\"/>\n     <use xlink:href=\"#ma3115d322c\" x=\"557.73375\" y=\"1697.086316\" style=\"fill: #3f3f3f; stroke: #3f3f3f; stroke-linejoin: miter\"/>\n     <use xlink:href=\"#ma3115d322c\" x=\"557.73375\" y=\"1697.086316\" style=\"fill: #3f3f3f; stroke: #3f3f3f; stroke-linejoin: miter\"/>\n     <use xlink:href=\"#ma3115d322c\" x=\"557.73375\" y=\"1682.299713\" style=\"fill: #3f3f3f; stroke: #3f3f3f; stroke-linejoin: miter\"/>\n     <use xlink:href=\"#ma3115d322c\" x=\"557.73375\" y=\"1682.299713\" style=\"fill: #3f3f3f; stroke: #3f3f3f; stroke-linejoin: miter\"/>\n     <use xlink:href=\"#ma3115d322c\" x=\"557.73375\" y=\"1682.299713\" style=\"fill: #3f3f3f; stroke: #3f3f3f; stroke-linejoin: miter\"/>\n     <use xlink:href=\"#ma3115d322c\" x=\"557.73375\" y=\"1682.299713\" style=\"fill: #3f3f3f; stroke: #3f3f3f; stroke-linejoin: miter\"/>\n     <use xlink:href=\"#ma3115d322c\" x=\"557.73375\" y=\"1490.073876\" style=\"fill: #3f3f3f; stroke: #3f3f3f; stroke-linejoin: miter\"/>\n     <use xlink:href=\"#ma3115d322c\" x=\"557.73375\" y=\"1490.073876\" style=\"fill: #3f3f3f; stroke: #3f3f3f; stroke-linejoin: miter\"/>\n     <use xlink:href=\"#ma3115d322c\" x=\"557.73375\" y=\"1490.073876\" style=\"fill: #3f3f3f; stroke: #3f3f3f; stroke-linejoin: miter\"/>\n     <use xlink:href=\"#ma3115d322c\" x=\"557.73375\" y=\"1490.073876\" style=\"fill: #3f3f3f; stroke: #3f3f3f; stroke-linejoin: miter\"/>\n     <use xlink:href=\"#ma3115d322c\" x=\"557.73375\" y=\"1490.073876\" style=\"fill: #3f3f3f; stroke: #3f3f3f; stroke-linejoin: miter\"/>\n     <use xlink:href=\"#ma3115d322c\" x=\"557.73375\" y=\"1490.073876\" style=\"fill: #3f3f3f; stroke: #3f3f3f; stroke-linejoin: miter\"/>\n     <use xlink:href=\"#ma3115d322c\" x=\"557.73375\" y=\"1490.073876\" style=\"fill: #3f3f3f; stroke: #3f3f3f; stroke-linejoin: miter\"/>\n     <use xlink:href=\"#ma3115d322c\" x=\"557.73375\" y=\"1475.287273\" style=\"fill: #3f3f3f; stroke: #3f3f3f; stroke-linejoin: miter\"/>\n    </g>\n   </g>\n   <g id=\"line2d_214\">\n    <path d=\"M 436.78175 1593.580096 \nL 678.68575 1593.580096 \n\" clip-path=\"url(#p7cab258a52)\" style=\"fill: none; stroke: #3f3f3f; stroke-width: 1.5; stroke-linecap: square\"/>\n   </g>\n   <g id=\"patch_82\">\n    <path d=\"M 406.54375 1770.28 \nL 406.54375 1461.24 \n\" style=\"fill: none; stroke: #000000; stroke-width: 0.8; stroke-linejoin: miter; stroke-linecap: square\"/>\n   </g>\n   <g id=\"patch_83\">\n    <path d=\"M 708.92375 1770.28 \nL 708.92375 1461.24 \n\" style=\"fill: none; stroke: #000000; stroke-width: 0.8; stroke-linejoin: miter; stroke-linecap: square\"/>\n   </g>\n   <g id=\"patch_84\">\n    <path d=\"M 406.54375 1770.28 \nL 708.92375 1770.28 \n\" style=\"fill: none; stroke: #000000; stroke-width: 0.8; stroke-linejoin: miter; stroke-linecap: square\"/>\n   </g>\n   <g id=\"patch_85\">\n    <path d=\"M 406.54375 1461.24 \nL 708.92375 1461.24 \n\" style=\"fill: none; stroke: #000000; stroke-width: 0.8; stroke-linejoin: miter; stroke-linecap: square\"/>\n   </g>\n   <g id=\"text_144\">\n    <!-- Box Plot para G1 -->\n    <g transform=\"translate(507.4575 1455.24) scale(0.12 -0.12)\">\n     <use xlink:href=\"#DejaVuSans-42\"/>\n     <use xlink:href=\"#DejaVuSans-6f\" x=\"68.603516\"/>\n     <use xlink:href=\"#DejaVuSans-78\" x=\"126.660156\"/>\n     <use xlink:href=\"#DejaVuSans-20\" x=\"185.839844\"/>\n     <use xlink:href=\"#DejaVuSans-50\" x=\"217.626953\"/>\n     <use xlink:href=\"#DejaVuSans-6c\" x=\"277.929688\"/>\n     <use xlink:href=\"#DejaVuSans-6f\" x=\"305.712891\"/>\n     <use xlink:href=\"#DejaVuSans-74\" x=\"366.894531\"/>\n     <use xlink:href=\"#DejaVuSans-20\" x=\"406.103516\"/>\n     <use xlink:href=\"#DejaVuSans-70\" x=\"437.890625\"/>\n     <use xlink:href=\"#DejaVuSans-61\" x=\"501.367188\"/>\n     <use xlink:href=\"#DejaVuSans-72\" x=\"562.646484\"/>\n     <use xlink:href=\"#DejaVuSans-61\" x=\"603.759766\"/>\n     <use xlink:href=\"#DejaVuSans-20\" x=\"665.039062\"/>\n     <use xlink:href=\"#DejaVuSans-47\" x=\"696.826172\"/>\n     <use xlink:href=\"#DejaVuSans-31\" x=\"774.316406\"/>\n    </g>\n   </g>\n  </g>\n  <g id=\"axes_15\">\n   <g id=\"patch_86\">\n    <path d=\"M 762.94375 1770.28 \nL 1065.32375 1770.28 \nL 1065.32375 1461.24 \nL 762.94375 1461.24 \nz\n\" style=\"fill: #ffffff\"/>\n   </g>\n   <g id=\"patch_87\">\n    <path d=\"M 793.18175 1608.366699 \nL 1035.08575 1608.366699 \nL 1035.08575 1564.00689 \nL 793.18175 1564.00689 \nL 793.18175 1608.366699 \nz\n\" clip-path=\"url(#pecaee01629)\" style=\"fill: #3274a1; stroke: #3f3f3f; stroke-width: 1.5; stroke-linejoin: miter\"/>\n   </g>\n   <g id=\"matplotlib.axis_29\">\n    <g id=\"xtick_15\">\n     <g id=\"line2d_215\">\n      <g>\n       <use xlink:href=\"#me3414331ca\" x=\"914.13375\" y=\"1770.28\" style=\"stroke: #000000; stroke-width: 0.8\"/>\n      </g>\n     </g>\n    </g>\n   </g>\n   <g id=\"matplotlib.axis_30\">\n    <g id=\"ytick_117\">\n     <g id=\"line2d_216\">\n      <g>\n       <use xlink:href=\"#m1b0ea2fc6b\" x=\"762.94375\" y=\"1756.232727\" style=\"stroke: #000000; stroke-width: 0.8\"/>\n      </g>\n     </g>\n     <g id=\"text_145\">\n      <!-- 0.0 -->\n      <g transform=\"translate(740.040625 1760.031946) scale(0.1 -0.1)\">\n       <use xlink:href=\"#DejaVuSans-30\"/>\n       <use xlink:href=\"#DejaVuSans-2e\" x=\"63.623047\"/>\n       <use xlink:href=\"#DejaVuSans-30\" x=\"95.410156\"/>\n      </g>\n     </g>\n    </g>\n    <g id=\"ytick_118\">\n     <g id=\"line2d_217\">\n      <g>\n       <use xlink:href=\"#m1b0ea2fc6b\" x=\"762.94375\" y=\"1719.26622\" style=\"stroke: #000000; stroke-width: 0.8\"/>\n      </g>\n     </g>\n     <g id=\"text_146\">\n      <!-- 2.5 -->\n      <g transform=\"translate(740.040625 1723.065439) scale(0.1 -0.1)\">\n       <use xlink:href=\"#DejaVuSans-32\"/>\n       <use xlink:href=\"#DejaVuSans-2e\" x=\"63.623047\"/>\n       <use xlink:href=\"#DejaVuSans-35\" x=\"95.410156\"/>\n      </g>\n     </g>\n    </g>\n    <g id=\"ytick_119\">\n     <g id=\"line2d_218\">\n      <g>\n       <use xlink:href=\"#m1b0ea2fc6b\" x=\"762.94375\" y=\"1682.299713\" style=\"stroke: #000000; stroke-width: 0.8\"/>\n      </g>\n     </g>\n     <g id=\"text_147\">\n      <!-- 5.0 -->\n      <g transform=\"translate(740.040625 1686.098932) scale(0.1 -0.1)\">\n       <use xlink:href=\"#DejaVuSans-35\"/>\n       <use xlink:href=\"#DejaVuSans-2e\" x=\"63.623047\"/>\n       <use xlink:href=\"#DejaVuSans-30\" x=\"95.410156\"/>\n      </g>\n     </g>\n    </g>\n    <g id=\"ytick_120\">\n     <g id=\"line2d_219\">\n      <g>\n       <use xlink:href=\"#m1b0ea2fc6b\" x=\"762.94375\" y=\"1645.333206\" style=\"stroke: #000000; stroke-width: 0.8\"/>\n      </g>\n     </g>\n     <g id=\"text_148\">\n      <!-- 7.5 -->\n      <g transform=\"translate(740.040625 1649.132424) scale(0.1 -0.1)\">\n       <use xlink:href=\"#DejaVuSans-37\"/>\n       <use xlink:href=\"#DejaVuSans-2e\" x=\"63.623047\"/>\n       <use xlink:href=\"#DejaVuSans-35\" x=\"95.410156\"/>\n      </g>\n     </g>\n    </g>\n    <g id=\"ytick_121\">\n     <g id=\"line2d_220\">\n      <g>\n       <use xlink:href=\"#m1b0ea2fc6b\" x=\"762.94375\" y=\"1608.366699\" style=\"stroke: #000000; stroke-width: 0.8\"/>\n      </g>\n     </g>\n     <g id=\"text_149\">\n      <!-- 10.0 -->\n      <g transform=\"translate(733.678125 1612.165917) scale(0.1 -0.1)\">\n       <use xlink:href=\"#DejaVuSans-31\"/>\n       <use xlink:href=\"#DejaVuSans-30\" x=\"63.623047\"/>\n       <use xlink:href=\"#DejaVuSans-2e\" x=\"127.246094\"/>\n       <use xlink:href=\"#DejaVuSans-30\" x=\"159.033203\"/>\n      </g>\n     </g>\n    </g>\n    <g id=\"ytick_122\">\n     <g id=\"line2d_221\">\n      <g>\n       <use xlink:href=\"#m1b0ea2fc6b\" x=\"762.94375\" y=\"1571.400191\" style=\"stroke: #000000; stroke-width: 0.8\"/>\n      </g>\n     </g>\n     <g id=\"text_150\">\n      <!-- 12.5 -->\n      <g transform=\"translate(733.678125 1575.19941) scale(0.1 -0.1)\">\n       <use xlink:href=\"#DejaVuSans-31\"/>\n       <use xlink:href=\"#DejaVuSans-32\" x=\"63.623047\"/>\n       <use xlink:href=\"#DejaVuSans-2e\" x=\"127.246094\"/>\n       <use xlink:href=\"#DejaVuSans-35\" x=\"159.033203\"/>\n      </g>\n     </g>\n    </g>\n    <g id=\"ytick_123\">\n     <g id=\"line2d_222\">\n      <g>\n       <use xlink:href=\"#m1b0ea2fc6b\" x=\"762.94375\" y=\"1534.433684\" style=\"stroke: #000000; stroke-width: 0.8\"/>\n      </g>\n     </g>\n     <g id=\"text_151\">\n      <!-- 15.0 -->\n      <g transform=\"translate(733.678125 1538.232903) scale(0.1 -0.1)\">\n       <use xlink:href=\"#DejaVuSans-31\"/>\n       <use xlink:href=\"#DejaVuSans-35\" x=\"63.623047\"/>\n       <use xlink:href=\"#DejaVuSans-2e\" x=\"127.246094\"/>\n       <use xlink:href=\"#DejaVuSans-30\" x=\"159.033203\"/>\n      </g>\n     </g>\n    </g>\n    <g id=\"ytick_124\">\n     <g id=\"line2d_223\">\n      <g>\n       <use xlink:href=\"#m1b0ea2fc6b\" x=\"762.94375\" y=\"1497.467177\" style=\"stroke: #000000; stroke-width: 0.8\"/>\n      </g>\n     </g>\n     <g id=\"text_152\">\n      <!-- 17.5 -->\n      <g transform=\"translate(733.678125 1501.266396) scale(0.1 -0.1)\">\n       <use xlink:href=\"#DejaVuSans-31\"/>\n       <use xlink:href=\"#DejaVuSans-37\" x=\"63.623047\"/>\n       <use xlink:href=\"#DejaVuSans-2e\" x=\"127.246094\"/>\n       <use xlink:href=\"#DejaVuSans-35\" x=\"159.033203\"/>\n      </g>\n     </g>\n    </g>\n    <g id=\"text_153\">\n     <!-- G2 -->\n     <g transform=\"translate(727.598438 1622.815469) rotate(-90) scale(0.1 -0.1)\">\n      <use xlink:href=\"#DejaVuSans-47\"/>\n      <use xlink:href=\"#DejaVuSans-32\" x=\"77.490234\"/>\n     </g>\n    </g>\n   </g>\n   <g id=\"line2d_224\">\n    <path d=\"M 914.13375 1608.366699 \nL 914.13375 1667.51311 \n\" clip-path=\"url(#pecaee01629)\" style=\"fill: none; stroke: #3f3f3f; stroke-width: 1.5; stroke-linecap: square\"/>\n   </g>\n   <g id=\"line2d_225\">\n    <path d=\"M 914.13375 1564.00689 \nL 914.13375 1504.860478 \n\" clip-path=\"url(#pecaee01629)\" style=\"fill: none; stroke: #3f3f3f; stroke-width: 1.5; stroke-linecap: square\"/>\n   </g>\n   <g id=\"line2d_226\">\n    <path d=\"M 853.65775 1667.51311 \nL 974.60975 1667.51311 \n\" clip-path=\"url(#pecaee01629)\" style=\"fill: none; stroke: #3f3f3f; stroke-width: 1.5; stroke-linecap: square\"/>\n   </g>\n   <g id=\"line2d_227\">\n    <path d=\"M 853.65775 1504.860478 \nL 974.60975 1504.860478 \n\" clip-path=\"url(#pecaee01629)\" style=\"fill: none; stroke: #3f3f3f; stroke-width: 1.5; stroke-linecap: square\"/>\n   </g>\n   <g id=\"line2d_228\">\n    <g clip-path=\"url(#pecaee01629)\">\n     <use xlink:href=\"#ma3115d322c\" x=\"914.13375\" y=\"1756.232727\" style=\"fill: #3f3f3f; stroke: #3f3f3f; stroke-linejoin: miter\"/>\n     <use xlink:href=\"#ma3115d322c\" x=\"914.13375\" y=\"1682.299713\" style=\"fill: #3f3f3f; stroke: #3f3f3f; stroke-linejoin: miter\"/>\n     <use xlink:href=\"#ma3115d322c\" x=\"914.13375\" y=\"1756.232727\" style=\"fill: #3f3f3f; stroke: #3f3f3f; stroke-linejoin: miter\"/>\n     <use xlink:href=\"#ma3115d322c\" x=\"914.13375\" y=\"1756.232727\" style=\"fill: #3f3f3f; stroke: #3f3f3f; stroke-linejoin: miter\"/>\n     <use xlink:href=\"#ma3115d322c\" x=\"914.13375\" y=\"1682.299713\" style=\"fill: #3f3f3f; stroke: #3f3f3f; stroke-linejoin: miter\"/>\n     <use xlink:href=\"#ma3115d322c\" x=\"914.13375\" y=\"1756.232727\" style=\"fill: #3f3f3f; stroke: #3f3f3f; stroke-linejoin: miter\"/>\n     <use xlink:href=\"#ma3115d322c\" x=\"914.13375\" y=\"1756.232727\" style=\"fill: #3f3f3f; stroke: #3f3f3f; stroke-linejoin: miter\"/>\n     <use xlink:href=\"#ma3115d322c\" x=\"914.13375\" y=\"1756.232727\" style=\"fill: #3f3f3f; stroke: #3f3f3f; stroke-linejoin: miter\"/>\n     <use xlink:href=\"#ma3115d322c\" x=\"914.13375\" y=\"1756.232727\" style=\"fill: #3f3f3f; stroke: #3f3f3f; stroke-linejoin: miter\"/>\n     <use xlink:href=\"#ma3115d322c\" x=\"914.13375\" y=\"1682.299713\" style=\"fill: #3f3f3f; stroke: #3f3f3f; stroke-linejoin: miter\"/>\n     <use xlink:href=\"#ma3115d322c\" x=\"914.13375\" y=\"1490.073876\" style=\"fill: #3f3f3f; stroke: #3f3f3f; stroke-linejoin: miter\"/>\n     <use xlink:href=\"#ma3115d322c\" x=\"914.13375\" y=\"1490.073876\" style=\"fill: #3f3f3f; stroke: #3f3f3f; stroke-linejoin: miter\"/>\n     <use xlink:href=\"#ma3115d322c\" x=\"914.13375\" y=\"1490.073876\" style=\"fill: #3f3f3f; stroke: #3f3f3f; stroke-linejoin: miter\"/>\n     <use xlink:href=\"#ma3115d322c\" x=\"914.13375\" y=\"1490.073876\" style=\"fill: #3f3f3f; stroke: #3f3f3f; stroke-linejoin: miter\"/>\n     <use xlink:href=\"#ma3115d322c\" x=\"914.13375\" y=\"1475.287273\" style=\"fill: #3f3f3f; stroke: #3f3f3f; stroke-linejoin: miter\"/>\n     <use xlink:href=\"#ma3115d322c\" x=\"914.13375\" y=\"1490.073876\" style=\"fill: #3f3f3f; stroke: #3f3f3f; stroke-linejoin: miter\"/>\n     <use xlink:href=\"#ma3115d322c\" x=\"914.13375\" y=\"1490.073876\" style=\"fill: #3f3f3f; stroke: #3f3f3f; stroke-linejoin: miter\"/>\n     <use xlink:href=\"#ma3115d322c\" x=\"914.13375\" y=\"1490.073876\" style=\"fill: #3f3f3f; stroke: #3f3f3f; stroke-linejoin: miter\"/>\n     <use xlink:href=\"#ma3115d322c\" x=\"914.13375\" y=\"1490.073876\" style=\"fill: #3f3f3f; stroke: #3f3f3f; stroke-linejoin: miter\"/>\n     <use xlink:href=\"#ma3115d322c\" x=\"914.13375\" y=\"1490.073876\" style=\"fill: #3f3f3f; stroke: #3f3f3f; stroke-linejoin: miter\"/>\n     <use xlink:href=\"#ma3115d322c\" x=\"914.13375\" y=\"1490.073876\" style=\"fill: #3f3f3f; stroke: #3f3f3f; stroke-linejoin: miter\"/>\n     <use xlink:href=\"#ma3115d322c\" x=\"914.13375\" y=\"1490.073876\" style=\"fill: #3f3f3f; stroke: #3f3f3f; stroke-linejoin: miter\"/>\n     <use xlink:href=\"#ma3115d322c\" x=\"914.13375\" y=\"1490.073876\" style=\"fill: #3f3f3f; stroke: #3f3f3f; stroke-linejoin: miter\"/>\n     <use xlink:href=\"#ma3115d322c\" x=\"914.13375\" y=\"1490.073876\" style=\"fill: #3f3f3f; stroke: #3f3f3f; stroke-linejoin: miter\"/>\n     <use xlink:href=\"#ma3115d322c\" x=\"914.13375\" y=\"1490.073876\" style=\"fill: #3f3f3f; stroke: #3f3f3f; stroke-linejoin: miter\"/>\n    </g>\n   </g>\n   <g id=\"line2d_229\">\n    <path d=\"M 793.18175 1593.580096 \nL 1035.08575 1593.580096 \n\" clip-path=\"url(#pecaee01629)\" style=\"fill: none; stroke: #3f3f3f; stroke-width: 1.5; stroke-linecap: square\"/>\n   </g>\n   <g id=\"patch_88\">\n    <path d=\"M 762.94375 1770.28 \nL 762.94375 1461.24 \n\" style=\"fill: none; stroke: #000000; stroke-width: 0.8; stroke-linejoin: miter; stroke-linecap: square\"/>\n   </g>\n   <g id=\"patch_89\">\n    <path d=\"M 1065.32375 1770.28 \nL 1065.32375 1461.24 \n\" style=\"fill: none; stroke: #000000; stroke-width: 0.8; stroke-linejoin: miter; stroke-linecap: square\"/>\n   </g>\n   <g id=\"patch_90\">\n    <path d=\"M 762.94375 1770.28 \nL 1065.32375 1770.28 \n\" style=\"fill: none; stroke: #000000; stroke-width: 0.8; stroke-linejoin: miter; stroke-linecap: square\"/>\n   </g>\n   <g id=\"patch_91\">\n    <path d=\"M 762.94375 1461.24 \nL 1065.32375 1461.24 \n\" style=\"fill: none; stroke: #000000; stroke-width: 0.8; stroke-linejoin: miter; stroke-linecap: square\"/>\n   </g>\n   <g id=\"text_154\">\n    <!-- Box Plot para G2 -->\n    <g transform=\"translate(863.8575 1455.24) scale(0.12 -0.12)\">\n     <use xlink:href=\"#DejaVuSans-42\"/>\n     <use xlink:href=\"#DejaVuSans-6f\" x=\"68.603516\"/>\n     <use xlink:href=\"#DejaVuSans-78\" x=\"126.660156\"/>\n     <use xlink:href=\"#DejaVuSans-20\" x=\"185.839844\"/>\n     <use xlink:href=\"#DejaVuSans-50\" x=\"217.626953\"/>\n     <use xlink:href=\"#DejaVuSans-6c\" x=\"277.929688\"/>\n     <use xlink:href=\"#DejaVuSans-6f\" x=\"305.712891\"/>\n     <use xlink:href=\"#DejaVuSans-74\" x=\"366.894531\"/>\n     <use xlink:href=\"#DejaVuSans-20\" x=\"406.103516\"/>\n     <use xlink:href=\"#DejaVuSans-70\" x=\"437.890625\"/>\n     <use xlink:href=\"#DejaVuSans-61\" x=\"501.367188\"/>\n     <use xlink:href=\"#DejaVuSans-72\" x=\"562.646484\"/>\n     <use xlink:href=\"#DejaVuSans-61\" x=\"603.759766\"/>\n     <use xlink:href=\"#DejaVuSans-20\" x=\"665.039062\"/>\n     <use xlink:href=\"#DejaVuSans-47\" x=\"696.826172\"/>\n     <use xlink:href=\"#DejaVuSans-32\" x=\"774.316406\"/>\n    </g>\n   </g>\n  </g>\n  <g id=\"axes_16\">\n   <g id=\"patch_92\">\n    <path d=\"M 50.14375 2109.7 \nL 352.52375 2109.7 \nL 352.52375 1800.66 \nL 50.14375 1800.66 \nz\n\" style=\"fill: #ffffff\"/>\n   </g>\n   <g id=\"patch_93\">\n    <path d=\"M 80.38175 1947.786699 \nL 322.28575 1947.786699 \nL 322.28575 1888.640287 \nL 80.38175 1888.640287 \nL 80.38175 1947.786699 \nz\n\" clip-path=\"url(#p4b6aa4f052)\" style=\"fill: #3274a1; stroke: #3f3f3f; stroke-width: 1.5; stroke-linejoin: miter\"/>\n   </g>\n   <g id=\"matplotlib.axis_31\">\n    <g id=\"xtick_16\">\n     <g id=\"line2d_230\">\n      <g>\n       <use xlink:href=\"#me3414331ca\" x=\"201.33375\" y=\"2109.7\" style=\"stroke: #000000; stroke-width: 0.8\"/>\n      </g>\n     </g>\n    </g>\n   </g>\n   <g id=\"matplotlib.axis_32\">\n    <g id=\"ytick_125\">\n     <g id=\"line2d_231\">\n      <g>\n       <use xlink:href=\"#m1b0ea2fc6b\" x=\"50.14375\" y=\"2095.652727\" style=\"stroke: #000000; stroke-width: 0.8\"/>\n      </g>\n     </g>\n     <g id=\"text_155\">\n      <!-- 0.0 -->\n      <g transform=\"translate(27.240625 2099.451946) scale(0.1 -0.1)\">\n       <use xlink:href=\"#DejaVuSans-30\"/>\n       <use xlink:href=\"#DejaVuSans-2e\" x=\"63.623047\"/>\n       <use xlink:href=\"#DejaVuSans-30\" x=\"95.410156\"/>\n      </g>\n     </g>\n    </g>\n    <g id=\"ytick_126\">\n     <g id=\"line2d_232\">\n      <g>\n       <use xlink:href=\"#m1b0ea2fc6b\" x=\"50.14375\" y=\"2058.68622\" style=\"stroke: #000000; stroke-width: 0.8\"/>\n      </g>\n     </g>\n     <g id=\"text_156\">\n      <!-- 2.5 -->\n      <g transform=\"translate(27.240625 2062.485439) scale(0.1 -0.1)\">\n       <use xlink:href=\"#DejaVuSans-32\"/>\n       <use xlink:href=\"#DejaVuSans-2e\" x=\"63.623047\"/>\n       <use xlink:href=\"#DejaVuSans-35\" x=\"95.410156\"/>\n      </g>\n     </g>\n    </g>\n    <g id=\"ytick_127\">\n     <g id=\"line2d_233\">\n      <g>\n       <use xlink:href=\"#m1b0ea2fc6b\" x=\"50.14375\" y=\"2021.719713\" style=\"stroke: #000000; stroke-width: 0.8\"/>\n      </g>\n     </g>\n     <g id=\"text_157\">\n      <!-- 5.0 -->\n      <g transform=\"translate(27.240625 2025.518932) scale(0.1 -0.1)\">\n       <use xlink:href=\"#DejaVuSans-35\"/>\n       <use xlink:href=\"#DejaVuSans-2e\" x=\"63.623047\"/>\n       <use xlink:href=\"#DejaVuSans-30\" x=\"95.410156\"/>\n      </g>\n     </g>\n    </g>\n    <g id=\"ytick_128\">\n     <g id=\"line2d_234\">\n      <g>\n       <use xlink:href=\"#m1b0ea2fc6b\" x=\"50.14375\" y=\"1984.753206\" style=\"stroke: #000000; stroke-width: 0.8\"/>\n      </g>\n     </g>\n     <g id=\"text_158\">\n      <!-- 7.5 -->\n      <g transform=\"translate(27.240625 1988.552424) scale(0.1 -0.1)\">\n       <use xlink:href=\"#DejaVuSans-37\"/>\n       <use xlink:href=\"#DejaVuSans-2e\" x=\"63.623047\"/>\n       <use xlink:href=\"#DejaVuSans-35\" x=\"95.410156\"/>\n      </g>\n     </g>\n    </g>\n    <g id=\"ytick_129\">\n     <g id=\"line2d_235\">\n      <g>\n       <use xlink:href=\"#m1b0ea2fc6b\" x=\"50.14375\" y=\"1947.786699\" style=\"stroke: #000000; stroke-width: 0.8\"/>\n      </g>\n     </g>\n     <g id=\"text_159\">\n      <!-- 10.0 -->\n      <g transform=\"translate(20.878125 1951.585917) scale(0.1 -0.1)\">\n       <use xlink:href=\"#DejaVuSans-31\"/>\n       <use xlink:href=\"#DejaVuSans-30\" x=\"63.623047\"/>\n       <use xlink:href=\"#DejaVuSans-2e\" x=\"127.246094\"/>\n       <use xlink:href=\"#DejaVuSans-30\" x=\"159.033203\"/>\n      </g>\n     </g>\n    </g>\n    <g id=\"ytick_130\">\n     <g id=\"line2d_236\">\n      <g>\n       <use xlink:href=\"#m1b0ea2fc6b\" x=\"50.14375\" y=\"1910.820191\" style=\"stroke: #000000; stroke-width: 0.8\"/>\n      </g>\n     </g>\n     <g id=\"text_160\">\n      <!-- 12.5 -->\n      <g transform=\"translate(20.878125 1914.61941) scale(0.1 -0.1)\">\n       <use xlink:href=\"#DejaVuSans-31\"/>\n       <use xlink:href=\"#DejaVuSans-32\" x=\"63.623047\"/>\n       <use xlink:href=\"#DejaVuSans-2e\" x=\"127.246094\"/>\n       <use xlink:href=\"#DejaVuSans-35\" x=\"159.033203\"/>\n      </g>\n     </g>\n    </g>\n    <g id=\"ytick_131\">\n     <g id=\"line2d_237\">\n      <g>\n       <use xlink:href=\"#m1b0ea2fc6b\" x=\"50.14375\" y=\"1873.853684\" style=\"stroke: #000000; stroke-width: 0.8\"/>\n      </g>\n     </g>\n     <g id=\"text_161\">\n      <!-- 15.0 -->\n      <g transform=\"translate(20.878125 1877.652903) scale(0.1 -0.1)\">\n       <use xlink:href=\"#DejaVuSans-31\"/>\n       <use xlink:href=\"#DejaVuSans-35\" x=\"63.623047\"/>\n       <use xlink:href=\"#DejaVuSans-2e\" x=\"127.246094\"/>\n       <use xlink:href=\"#DejaVuSans-30\" x=\"159.033203\"/>\n      </g>\n     </g>\n    </g>\n    <g id=\"ytick_132\">\n     <g id=\"line2d_238\">\n      <g>\n       <use xlink:href=\"#m1b0ea2fc6b\" x=\"50.14375\" y=\"1836.887177\" style=\"stroke: #000000; stroke-width: 0.8\"/>\n      </g>\n     </g>\n     <g id=\"text_162\">\n      <!-- 17.5 -->\n      <g transform=\"translate(20.878125 1840.686396) scale(0.1 -0.1)\">\n       <use xlink:href=\"#DejaVuSans-31\"/>\n       <use xlink:href=\"#DejaVuSans-37\" x=\"63.623047\"/>\n       <use xlink:href=\"#DejaVuSans-2e\" x=\"127.246094\"/>\n       <use xlink:href=\"#DejaVuSans-35\" x=\"159.033203\"/>\n      </g>\n     </g>\n    </g>\n    <g id=\"text_163\">\n     <!-- G3 -->\n     <g transform=\"translate(14.798438 1962.235469) rotate(-90) scale(0.1 -0.1)\">\n      <use xlink:href=\"#DejaVuSans-47\"/>\n      <use xlink:href=\"#DejaVuSans-33\" x=\"77.490234\"/>\n     </g>\n    </g>\n   </g>\n   <g id=\"line2d_239\">\n    <path d=\"M 201.33375 1947.786699 \nL 201.33375 2021.719713 \n\" clip-path=\"url(#p4b6aa4f052)\" style=\"fill: none; stroke: #3f3f3f; stroke-width: 1.5; stroke-linecap: square\"/>\n   </g>\n   <g id=\"line2d_240\">\n    <path d=\"M 201.33375 1888.640287 \nL 201.33375 1814.707273 \n\" clip-path=\"url(#p4b6aa4f052)\" style=\"fill: none; stroke: #3f3f3f; stroke-width: 1.5; stroke-linecap: square\"/>\n   </g>\n   <g id=\"line2d_241\">\n    <path d=\"M 140.85775 2021.719713 \nL 261.80975 2021.719713 \n\" clip-path=\"url(#p4b6aa4f052)\" style=\"fill: none; stroke: #3f3f3f; stroke-width: 1.5; stroke-linecap: square\"/>\n   </g>\n   <g id=\"line2d_242\">\n    <path d=\"M 140.85775 1814.707273 \nL 261.80975 1814.707273 \n\" clip-path=\"url(#p4b6aa4f052)\" style=\"fill: none; stroke: #3f3f3f; stroke-width: 1.5; stroke-linecap: square\"/>\n   </g>\n   <g id=\"line2d_243\">\n    <g clip-path=\"url(#p4b6aa4f052)\">\n     <use xlink:href=\"#ma3115d322c\" x=\"201.33375\" y=\"2095.652727\" style=\"fill: #3f3f3f; stroke: #3f3f3f; stroke-linejoin: miter\"/>\n     <use xlink:href=\"#ma3115d322c\" x=\"201.33375\" y=\"2080.866124\" style=\"fill: #3f3f3f; stroke: #3f3f3f; stroke-linejoin: miter\"/>\n     <use xlink:href=\"#ma3115d322c\" x=\"201.33375\" y=\"2095.652727\" style=\"fill: #3f3f3f; stroke: #3f3f3f; stroke-linejoin: miter\"/>\n     <use xlink:href=\"#ma3115d322c\" x=\"201.33375\" y=\"2095.652727\" style=\"fill: #3f3f3f; stroke: #3f3f3f; stroke-linejoin: miter\"/>\n     <use xlink:href=\"#ma3115d322c\" x=\"201.33375\" y=\"2095.652727\" style=\"fill: #3f3f3f; stroke: #3f3f3f; stroke-linejoin: miter\"/>\n     <use xlink:href=\"#ma3115d322c\" x=\"201.33375\" y=\"2095.652727\" style=\"fill: #3f3f3f; stroke: #3f3f3f; stroke-linejoin: miter\"/>\n     <use xlink:href=\"#ma3115d322c\" x=\"201.33375\" y=\"2095.652727\" style=\"fill: #3f3f3f; stroke: #3f3f3f; stroke-linejoin: miter\"/>\n     <use xlink:href=\"#ma3115d322c\" x=\"201.33375\" y=\"2095.652727\" style=\"fill: #3f3f3f; stroke: #3f3f3f; stroke-linejoin: miter\"/>\n     <use xlink:href=\"#ma3115d322c\" x=\"201.33375\" y=\"2095.652727\" style=\"fill: #3f3f3f; stroke: #3f3f3f; stroke-linejoin: miter\"/>\n     <use xlink:href=\"#ma3115d322c\" x=\"201.33375\" y=\"2095.652727\" style=\"fill: #3f3f3f; stroke: #3f3f3f; stroke-linejoin: miter\"/>\n     <use xlink:href=\"#ma3115d322c\" x=\"201.33375\" y=\"2095.652727\" style=\"fill: #3f3f3f; stroke: #3f3f3f; stroke-linejoin: miter\"/>\n     <use xlink:href=\"#ma3115d322c\" x=\"201.33375\" y=\"2095.652727\" style=\"fill: #3f3f3f; stroke: #3f3f3f; stroke-linejoin: miter\"/>\n     <use xlink:href=\"#ma3115d322c\" x=\"201.33375\" y=\"2095.652727\" style=\"fill: #3f3f3f; stroke: #3f3f3f; stroke-linejoin: miter\"/>\n     <use xlink:href=\"#ma3115d322c\" x=\"201.33375\" y=\"2095.652727\" style=\"fill: #3f3f3f; stroke: #3f3f3f; stroke-linejoin: miter\"/>\n     <use xlink:href=\"#ma3115d322c\" x=\"201.33375\" y=\"2095.652727\" style=\"fill: #3f3f3f; stroke: #3f3f3f; stroke-linejoin: miter\"/>\n     <use xlink:href=\"#ma3115d322c\" x=\"201.33375\" y=\"2095.652727\" style=\"fill: #3f3f3f; stroke: #3f3f3f; stroke-linejoin: miter\"/>\n    </g>\n   </g>\n   <g id=\"line2d_244\">\n    <path d=\"M 80.38175 1918.213493 \nL 322.28575 1918.213493 \n\" clip-path=\"url(#p4b6aa4f052)\" style=\"fill: none; stroke: #3f3f3f; stroke-width: 1.5; stroke-linecap: square\"/>\n   </g>\n   <g id=\"patch_94\">\n    <path d=\"M 50.14375 2109.7 \nL 50.14375 1800.66 \n\" style=\"fill: none; stroke: #000000; stroke-width: 0.8; stroke-linejoin: miter; stroke-linecap: square\"/>\n   </g>\n   <g id=\"patch_95\">\n    <path d=\"M 352.52375 2109.7 \nL 352.52375 1800.66 \n\" style=\"fill: none; stroke: #000000; stroke-width: 0.8; stroke-linejoin: miter; stroke-linecap: square\"/>\n   </g>\n   <g id=\"patch_96\">\n    <path d=\"M 50.14375 2109.7 \nL 352.52375 2109.7 \n\" style=\"fill: none; stroke: #000000; stroke-width: 0.8; stroke-linejoin: miter; stroke-linecap: square\"/>\n   </g>\n   <g id=\"patch_97\">\n    <path d=\"M 50.14375 1800.66 \nL 352.52375 1800.66 \n\" style=\"fill: none; stroke: #000000; stroke-width: 0.8; stroke-linejoin: miter; stroke-linecap: square\"/>\n   </g>\n   <g id=\"text_164\">\n    <!-- Box Plot para G3 -->\n    <g transform=\"translate(151.0575 1794.66) scale(0.12 -0.12)\">\n     <use xlink:href=\"#DejaVuSans-42\"/>\n     <use xlink:href=\"#DejaVuSans-6f\" x=\"68.603516\"/>\n     <use xlink:href=\"#DejaVuSans-78\" x=\"126.660156\"/>\n     <use xlink:href=\"#DejaVuSans-20\" x=\"185.839844\"/>\n     <use xlink:href=\"#DejaVuSans-50\" x=\"217.626953\"/>\n     <use xlink:href=\"#DejaVuSans-6c\" x=\"277.929688\"/>\n     <use xlink:href=\"#DejaVuSans-6f\" x=\"305.712891\"/>\n     <use xlink:href=\"#DejaVuSans-74\" x=\"366.894531\"/>\n     <use xlink:href=\"#DejaVuSans-20\" x=\"406.103516\"/>\n     <use xlink:href=\"#DejaVuSans-70\" x=\"437.890625\"/>\n     <use xlink:href=\"#DejaVuSans-61\" x=\"501.367188\"/>\n     <use xlink:href=\"#DejaVuSans-72\" x=\"562.646484\"/>\n     <use xlink:href=\"#DejaVuSans-61\" x=\"603.759766\"/>\n     <use xlink:href=\"#DejaVuSans-20\" x=\"665.039062\"/>\n     <use xlink:href=\"#DejaVuSans-47\" x=\"696.826172\"/>\n     <use xlink:href=\"#DejaVuSans-33\" x=\"774.316406\"/>\n    </g>\n   </g>\n  </g>\n  <g id=\"axes_17\"/>\n  <g id=\"axes_18\"/>\n  <g id=\"text_165\">\n   <!-- Português - Box Plots -->\n   <g transform=\"translate(451.33375 19.9975) scale(0.16 -0.16)\">\n    <defs>\n     <path id=\"DejaVuSans-ea\" d=\"M 3597 1894 \nL 3597 1613 \nL 953 1613 \nQ 991 1019 1311 708 \nQ 1631 397 2203 397 \nQ 2534 397 2845 478 \nQ 3156 559 3463 722 \nL 3463 178 \nQ 3153 47 2828 -22 \nQ 2503 -91 2169 -91 \nQ 1331 -91 842 396 \nQ 353 884 353 1716 \nQ 353 2575 817 3079 \nQ 1281 3584 2069 3584 \nQ 2775 3584 3186 3129 \nQ 3597 2675 3597 1894 \nz\nM 3022 2063 \nQ 3016 2534 2758 2815 \nQ 2500 3097 2075 3097 \nQ 1594 3097 1305 2825 \nQ 1016 2553 972 2059 \nL 3022 2063 \nz\nM 1801 5119 \nL 2263 5119 \nL 3029 3944 \nL 2595 3944 \nL 2032 4709 \nL 1470 3944 \nL 1035 3944 \nL 1801 5119 \nz\n\" transform=\"scale(0.015625)\"/>\n     <path id=\"DejaVuSans-2d\" d=\"M 313 2009 \nL 1997 2009 \nL 1997 1497 \nL 313 1497 \nL 313 2009 \nz\n\" transform=\"scale(0.015625)\"/>\n    </defs>\n    <use xlink:href=\"#DejaVuSans-50\"/>\n    <use xlink:href=\"#DejaVuSans-6f\" x=\"56.677734\"/>\n    <use xlink:href=\"#DejaVuSans-72\" x=\"117.859375\"/>\n    <use xlink:href=\"#DejaVuSans-74\" x=\"158.972656\"/>\n    <use xlink:href=\"#DejaVuSans-75\" x=\"198.181641\"/>\n    <use xlink:href=\"#DejaVuSans-67\" x=\"261.560547\"/>\n    <use xlink:href=\"#DejaVuSans-75\" x=\"325.037109\"/>\n    <use xlink:href=\"#DejaVuSans-ea\" x=\"388.416016\"/>\n    <use xlink:href=\"#DejaVuSans-73\" x=\"449.939453\"/>\n    <use xlink:href=\"#DejaVuSans-20\" x=\"502.039062\"/>\n    <use xlink:href=\"#DejaVuSans-2d\" x=\"533.826172\"/>\n    <use xlink:href=\"#DejaVuSans-20\" x=\"569.910156\"/>\n    <use xlink:href=\"#DejaVuSans-42\" x=\"601.697266\"/>\n    <use xlink:href=\"#DejaVuSans-6f\" x=\"670.300781\"/>\n    <use xlink:href=\"#DejaVuSans-78\" x=\"728.357422\"/>\n    <use xlink:href=\"#DejaVuSans-20\" x=\"787.537109\"/>\n    <use xlink:href=\"#DejaVuSans-50\" x=\"819.324219\"/>\n    <use xlink:href=\"#DejaVuSans-6c\" x=\"879.626953\"/>\n    <use xlink:href=\"#DejaVuSans-6f\" x=\"907.410156\"/>\n    <use xlink:href=\"#DejaVuSans-74\" x=\"968.591797\"/>\n    <use xlink:href=\"#DejaVuSans-73\" x=\"1007.800781\"/>\n   </g>\n  </g>\n </g>\n <defs>\n  <clipPath id=\"pce99d8fa8e\">\n   <rect x=\"50.14375\" y=\"103.56\" width=\"302.38\" height=\"309.04\"/>\n  </clipPath>\n  <clipPath id=\"p9d00beab41\">\n   <rect x=\"406.54375\" y=\"103.56\" width=\"302.38\" height=\"309.04\"/>\n  </clipPath>\n  <clipPath id=\"p8e5f9cb6ec\">\n   <rect x=\"762.94375\" y=\"103.56\" width=\"302.38\" height=\"309.04\"/>\n  </clipPath>\n  <clipPath id=\"p9a41b6fdd6\">\n   <rect x=\"50.14375\" y=\"442.98\" width=\"302.38\" height=\"309.04\"/>\n  </clipPath>\n  <clipPath id=\"p656668f4a7\">\n   <rect x=\"406.54375\" y=\"442.98\" width=\"302.38\" height=\"309.04\"/>\n  </clipPath>\n  <clipPath id=\"p8d8df32fdc\">\n   <rect x=\"762.94375\" y=\"442.98\" width=\"302.38\" height=\"309.04\"/>\n  </clipPath>\n  <clipPath id=\"p6ee8b8de9b\">\n   <rect x=\"50.14375\" y=\"782.4\" width=\"302.38\" height=\"309.04\"/>\n  </clipPath>\n  <clipPath id=\"p337697aefc\">\n   <rect x=\"406.54375\" y=\"782.4\" width=\"302.38\" height=\"309.04\"/>\n  </clipPath>\n  <clipPath id=\"pda2c03f640\">\n   <rect x=\"762.94375\" y=\"782.4\" width=\"302.38\" height=\"309.04\"/>\n  </clipPath>\n  <clipPath id=\"pe8bc44fd7f\">\n   <rect x=\"50.14375\" y=\"1121.82\" width=\"302.38\" height=\"309.04\"/>\n  </clipPath>\n  <clipPath id=\"p567a40a874\">\n   <rect x=\"406.54375\" y=\"1121.82\" width=\"302.38\" height=\"309.04\"/>\n  </clipPath>\n  <clipPath id=\"p1982fa03b1\">\n   <rect x=\"762.94375\" y=\"1121.82\" width=\"302.38\" height=\"309.04\"/>\n  </clipPath>\n  <clipPath id=\"p9f9f74606e\">\n   <rect x=\"50.14375\" y=\"1461.24\" width=\"302.38\" height=\"309.04\"/>\n  </clipPath>\n  <clipPath id=\"p7cab258a52\">\n   <rect x=\"406.54375\" y=\"1461.24\" width=\"302.38\" height=\"309.04\"/>\n  </clipPath>\n  <clipPath id=\"pecaee01629\">\n   <rect x=\"762.94375\" y=\"1461.24\" width=\"302.38\" height=\"309.04\"/>\n  </clipPath>\n  <clipPath id=\"p4b6aa4f052\">\n   <rect x=\"50.14375\" y=\"1800.66\" width=\"302.38\" height=\"309.04\"/>\n  </clipPath>\n </defs>\n</svg>\n",
            "application/pdf": "[encoded data removed]"
          },
          "metadata": {}
        }
      ],
      "source": [
        "boxplot(df_port, 'Português')"
      ]
    },
    {
      "cell_type": "markdown",
      "metadata": {
        "id": "W8CvtbT0Z2N2"
      },
      "source": [
        "# Análise Descritiva"
      ]
    },
    {
      "cell_type": "markdown",
      "source": [],
      "metadata": {
        "id": "4NJYqkiOAesz"
      }
    },
    {
      "cell_type": "code",
      "source": [
        "def describe(df):\n",
        "  return df.describe().applymap(lambda x: f'{x:.0f}' if x.is_integer() else f'{x:.2f}')"
      ],
      "metadata": {
        "id": "fuFUxRLS_WRo"
      },
      "execution_count": null,
      "outputs": []
    },
    {
      "cell_type": "code",
      "source": [
        "def skewness(df):\n",
        "  numeric_columns = df.select_dtypes(include=['number']).columns\n",
        "  # Calculate skewness for each numeric column\n",
        "  skewness = df[numeric_columns].apply(lambda x: skew(x))\n",
        "  return skewness"
      ],
      "metadata": {
        "id": "JQH4C-XlBE-y"
      },
      "execution_count": null,
      "outputs": []
    },
    {
      "cell_type": "markdown",
      "metadata": {
        "id": "xoD6CNn9c097"
      },
      "source": [
        "## Matemática"
      ]
    },
    {
      "cell_type": "code",
      "execution_count": null,
      "metadata": {
        "colab": {
          "base_uri": "https://localhost:8080/",
          "height": 300
        },
        "id": "sM9K1mWxc-l2",
        "outputId": "b9c6a611-e587-4a18-b4d5-a56513023e92"
      },
      "outputs": [
        {
          "output_type": "display_data",
          "data": {
            "text/plain": [
              "         age  Medu  Fedu traveltime studytime failures famrel freetime goout  \\\n",
              "count    395   395   395        395       395      395    395      395   395   \n",
              "mean   16.70  2.75  2.52       1.45      2.04     0.33   3.94     3.24  3.11   \n",
              "std     1.28  1.09  1.09       0.70      0.84     0.74   0.90     1.00  1.11   \n",
              "min       15     0     0          1         1        0      1        1     1   \n",
              "25%       16     2     2          1         1        0      4        3     2   \n",
              "50%       17     3     2          1         2        0      4        3     3   \n",
              "75%       18     4     3          2         2        0      5        4     4   \n",
              "max       22     4     4          4         4        3      5        5     5   \n",
              "\n",
              "       Dalc  Walc health absences     G1     G2     G3  \n",
              "count   395   395    395      395    395    395    395  \n",
              "mean   1.48  2.29   3.55     5.71  10.91  10.71  10.42  \n",
              "std    0.89  1.29   1.39     8.00   3.32   3.76   4.58  \n",
              "min       1     1      1        0      3      0      0  \n",
              "25%       1     1      3        0      8      9      8  \n",
              "50%       1     2      4        4     11     11     11  \n",
              "75%       2     3      5        8     13     13     14  \n",
              "max       5     5      5       75     19     19     20  "
            ],
            "text/html": [
              "\n",
              "  <div id=\"df-658b59b9-fa0d-4925-88f8-c7dc790d1f59\" class=\"colab-df-container\">\n",
              "    <div>\n",
              "<style scoped>\n",
              "    .dataframe tbody tr th:only-of-type {\n",
              "        vertical-align: middle;\n",
              "    }\n",
              "\n",
              "    .dataframe tbody tr th {\n",
              "        vertical-align: top;\n",
              "    }\n",
              "\n",
              "    .dataframe thead th {\n",
              "        text-align: right;\n",
              "    }\n",
              "</style>\n",
              "<table border=\"1\" class=\"dataframe\">\n",
              "  <thead>\n",
              "    <tr style=\"text-align: right;\">\n",
              "      <th></th>\n",
              "      <th>age</th>\n",
              "      <th>Medu</th>\n",
              "      <th>Fedu</th>\n",
              "      <th>traveltime</th>\n",
              "      <th>studytime</th>\n",
              "      <th>failures</th>\n",
              "      <th>famrel</th>\n",
              "      <th>freetime</th>\n",
              "      <th>goout</th>\n",
              "      <th>Dalc</th>\n",
              "      <th>Walc</th>\n",
              "      <th>health</th>\n",
              "      <th>absences</th>\n",
              "      <th>G1</th>\n",
              "      <th>G2</th>\n",
              "      <th>G3</th>\n",
              "    </tr>\n",
              "  </thead>\n",
              "  <tbody>\n",
              "    <tr>\n",
              "      <th>count</th>\n",
              "      <td>395</td>\n",
              "      <td>395</td>\n",
              "      <td>395</td>\n",
              "      <td>395</td>\n",
              "      <td>395</td>\n",
              "      <td>395</td>\n",
              "      <td>395</td>\n",
              "      <td>395</td>\n",
              "      <td>395</td>\n",
              "      <td>395</td>\n",
              "      <td>395</td>\n",
              "      <td>395</td>\n",
              "      <td>395</td>\n",
              "      <td>395</td>\n",
              "      <td>395</td>\n",
              "      <td>395</td>\n",
              "    </tr>\n",
              "    <tr>\n",
              "      <th>mean</th>\n",
              "      <td>16.70</td>\n",
              "      <td>2.75</td>\n",
              "      <td>2.52</td>\n",
              "      <td>1.45</td>\n",
              "      <td>2.04</td>\n",
              "      <td>0.33</td>\n",
              "      <td>3.94</td>\n",
              "      <td>3.24</td>\n",
              "      <td>3.11</td>\n",
              "      <td>1.48</td>\n",
              "      <td>2.29</td>\n",
              "      <td>3.55</td>\n",
              "      <td>5.71</td>\n",
              "      <td>10.91</td>\n",
              "      <td>10.71</td>\n",
              "      <td>10.42</td>\n",
              "    </tr>\n",
              "    <tr>\n",
              "      <th>std</th>\n",
              "      <td>1.28</td>\n",
              "      <td>1.09</td>\n",
              "      <td>1.09</td>\n",
              "      <td>0.70</td>\n",
              "      <td>0.84</td>\n",
              "      <td>0.74</td>\n",
              "      <td>0.90</td>\n",
              "      <td>1.00</td>\n",
              "      <td>1.11</td>\n",
              "      <td>0.89</td>\n",
              "      <td>1.29</td>\n",
              "      <td>1.39</td>\n",
              "      <td>8.00</td>\n",
              "      <td>3.32</td>\n",
              "      <td>3.76</td>\n",
              "      <td>4.58</td>\n",
              "    </tr>\n",
              "    <tr>\n",
              "      <th>min</th>\n",
              "      <td>15</td>\n",
              "      <td>0</td>\n",
              "      <td>0</td>\n",
              "      <td>1</td>\n",
              "      <td>1</td>\n",
              "      <td>0</td>\n",
              "      <td>1</td>\n",
              "      <td>1</td>\n",
              "      <td>1</td>\n",
              "      <td>1</td>\n",
              "      <td>1</td>\n",
              "      <td>1</td>\n",
              "      <td>0</td>\n",
              "      <td>3</td>\n",
              "      <td>0</td>\n",
              "      <td>0</td>\n",
              "    </tr>\n",
              "    <tr>\n",
              "      <th>25%</th>\n",
              "      <td>16</td>\n",
              "      <td>2</td>\n",
              "      <td>2</td>\n",
              "      <td>1</td>\n",
              "      <td>1</td>\n",
              "      <td>0</td>\n",
              "      <td>4</td>\n",
              "      <td>3</td>\n",
              "      <td>2</td>\n",
              "      <td>1</td>\n",
              "      <td>1</td>\n",
              "      <td>3</td>\n",
              "      <td>0</td>\n",
              "      <td>8</td>\n",
              "      <td>9</td>\n",
              "      <td>8</td>\n",
              "    </tr>\n",
              "    <tr>\n",
              "      <th>50%</th>\n",
              "      <td>17</td>\n",
              "      <td>3</td>\n",
              "      <td>2</td>\n",
              "      <td>1</td>\n",
              "      <td>2</td>\n",
              "      <td>0</td>\n",
              "      <td>4</td>\n",
              "      <td>3</td>\n",
              "      <td>3</td>\n",
              "      <td>1</td>\n",
              "      <td>2</td>\n",
              "      <td>4</td>\n",
              "      <td>4</td>\n",
              "      <td>11</td>\n",
              "      <td>11</td>\n",
              "      <td>11</td>\n",
              "    </tr>\n",
              "    <tr>\n",
              "      <th>75%</th>\n",
              "      <td>18</td>\n",
              "      <td>4</td>\n",
              "      <td>3</td>\n",
              "      <td>2</td>\n",
              "      <td>2</td>\n",
              "      <td>0</td>\n",
              "      <td>5</td>\n",
              "      <td>4</td>\n",
              "      <td>4</td>\n",
              "      <td>2</td>\n",
              "      <td>3</td>\n",
              "      <td>5</td>\n",
              "      <td>8</td>\n",
              "      <td>13</td>\n",
              "      <td>13</td>\n",
              "      <td>14</td>\n",
              "    </tr>\n",
              "    <tr>\n",
              "      <th>max</th>\n",
              "      <td>22</td>\n",
              "      <td>4</td>\n",
              "      <td>4</td>\n",
              "      <td>4</td>\n",
              "      <td>4</td>\n",
              "      <td>3</td>\n",
              "      <td>5</td>\n",
              "      <td>5</td>\n",
              "      <td>5</td>\n",
              "      <td>5</td>\n",
              "      <td>5</td>\n",
              "      <td>5</td>\n",
              "      <td>75</td>\n",
              "      <td>19</td>\n",
              "      <td>19</td>\n",
              "      <td>20</td>\n",
              "    </tr>\n",
              "  </tbody>\n",
              "</table>\n",
              "</div>\n",
              "    <div class=\"colab-df-buttons\">\n",
              "\n",
              "  <div class=\"colab-df-container\">\n",
              "    <button class=\"colab-df-convert\" onclick=\"convertToInteractive('df-658b59b9-fa0d-4925-88f8-c7dc790d1f59')\"\n",
              "            title=\"Convert this dataframe to an interactive table.\"\n",
              "            style=\"display:none;\">\n",
              "\n",
              "  <svg xmlns=\"http://www.w3.org/2000/svg\" height=\"24px\" viewBox=\"0 -960 960 960\">\n",
              "    <path d=\"M120-120v-720h720v720H120Zm60-500h600v-160H180v160Zm220 220h160v-160H400v160Zm0 220h160v-160H400v160ZM180-400h160v-160H180v160Zm440 0h160v-160H620v160ZM180-180h160v-160H180v160Zm440 0h160v-160H620v160Z\"/>\n",
              "  </svg>\n",
              "    </button>\n",
              "\n",
              "  <style>\n",
              "    .colab-df-container {\n",
              "      display:flex;\n",
              "      gap: 12px;\n",
              "    }\n",
              "\n",
              "    .colab-df-convert {\n",
              "      background-color: #E8F0FE;\n",
              "      border: none;\n",
              "      border-radius: 50%;\n",
              "      cursor: pointer;\n",
              "      display: none;\n",
              "      fill: #1967D2;\n",
              "      height: 32px;\n",
              "      padding: 0 0 0 0;\n",
              "      width: 32px;\n",
              "    }\n",
              "\n",
              "    .colab-df-convert:hover {\n",
              "      background-color: #E2EBFA;\n",
              "      box-shadow: 0px 1px 2px rgba(60, 64, 67, 0.3), 0px 1px 3px 1px rgba(60, 64, 67, 0.15);\n",
              "      fill: #174EA6;\n",
              "    }\n",
              "\n",
              "    .colab-df-buttons div {\n",
              "      margin-bottom: 4px;\n",
              "    }\n",
              "\n",
              "    [theme=dark] .colab-df-convert {\n",
              "      background-color: #3B4455;\n",
              "      fill: #D2E3FC;\n",
              "    }\n",
              "\n",
              "    [theme=dark] .colab-df-convert:hover {\n",
              "      background-color: #434B5C;\n",
              "      box-shadow: 0px 1px 3px 1px rgba(0, 0, 0, 0.15);\n",
              "      filter: drop-shadow(0px 1px 2px rgba(0, 0, 0, 0.3));\n",
              "      fill: #FFFFFF;\n",
              "    }\n",
              "  </style>\n",
              "\n",
              "    <script>\n",
              "      const buttonEl =\n",
              "        document.querySelector('#df-658b59b9-fa0d-4925-88f8-c7dc790d1f59 button.colab-df-convert');\n",
              "      buttonEl.style.display =\n",
              "        google.colab.kernel.accessAllowed ? 'block' : 'none';\n",
              "\n",
              "      async function convertToInteractive(key) {\n",
              "        const element = document.querySelector('#df-658b59b9-fa0d-4925-88f8-c7dc790d1f59');\n",
              "        const dataTable =\n",
              "          await google.colab.kernel.invokeFunction('convertToInteractive',\n",
              "                                                    [key], {});\n",
              "        if (!dataTable) return;\n",
              "\n",
              "        const docLinkHtml = 'Like what you see? Visit the ' +\n",
              "          '<a target=\"_blank\" href=https://colab.research.google.com/notebooks/data_table.ipynb>data table notebook</a>'\n",
              "          + ' to learn more about interactive tables.';\n",
              "        element.innerHTML = '';\n",
              "        dataTable['output_type'] = 'display_data';\n",
              "        await google.colab.output.renderOutput(dataTable, element);\n",
              "        const docLink = document.createElement('div');\n",
              "        docLink.innerHTML = docLinkHtml;\n",
              "        element.appendChild(docLink);\n",
              "      }\n",
              "    </script>\n",
              "  </div>\n",
              "\n",
              "\n",
              "<div id=\"df-ca3f5965-7db5-426b-8cab-4ee6bf388528\">\n",
              "  <button class=\"colab-df-quickchart\" onclick=\"quickchart('df-ca3f5965-7db5-426b-8cab-4ee6bf388528')\"\n",
              "            title=\"Suggest charts\"\n",
              "            style=\"display:none;\">\n",
              "\n",
              "<svg xmlns=\"http://www.w3.org/2000/svg\" height=\"24px\"viewBox=\"0 0 24 24\"\n",
              "     width=\"24px\">\n",
              "    <g>\n",
              "        <path d=\"M19 3H5c-1.1 0-2 .9-2 2v14c0 1.1.9 2 2 2h14c1.1 0 2-.9 2-2V5c0-1.1-.9-2-2-2zM9 17H7v-7h2v7zm4 0h-2V7h2v10zm4 0h-2v-4h2v4z\"/>\n",
              "    </g>\n",
              "</svg>\n",
              "  </button>\n",
              "\n",
              "<style>\n",
              "  .colab-df-quickchart {\n",
              "      --bg-color: #E8F0FE;\n",
              "      --fill-color: #1967D2;\n",
              "      --hover-bg-color: #E2EBFA;\n",
              "      --hover-fill-color: #174EA6;\n",
              "      --disabled-fill-color: #AAA;\n",
              "      --disabled-bg-color: #DDD;\n",
              "  }\n",
              "\n",
              "  [theme=dark] .colab-df-quickchart {\n",
              "      --bg-color: #3B4455;\n",
              "      --fill-color: #D2E3FC;\n",
              "      --hover-bg-color: #434B5C;\n",
              "      --hover-fill-color: #FFFFFF;\n",
              "      --disabled-bg-color: #3B4455;\n",
              "      --disabled-fill-color: #666;\n",
              "  }\n",
              "\n",
              "  .colab-df-quickchart {\n",
              "    background-color: var(--bg-color);\n",
              "    border: none;\n",
              "    border-radius: 50%;\n",
              "    cursor: pointer;\n",
              "    display: none;\n",
              "    fill: var(--fill-color);\n",
              "    height: 32px;\n",
              "    padding: 0;\n",
              "    width: 32px;\n",
              "  }\n",
              "\n",
              "  .colab-df-quickchart:hover {\n",
              "    background-color: var(--hover-bg-color);\n",
              "    box-shadow: 0 1px 2px rgba(60, 64, 67, 0.3), 0 1px 3px 1px rgba(60, 64, 67, 0.15);\n",
              "    fill: var(--button-hover-fill-color);\n",
              "  }\n",
              "\n",
              "  .colab-df-quickchart-complete:disabled,\n",
              "  .colab-df-quickchart-complete:disabled:hover {\n",
              "    background-color: var(--disabled-bg-color);\n",
              "    fill: var(--disabled-fill-color);\n",
              "    box-shadow: none;\n",
              "  }\n",
              "\n",
              "  .colab-df-spinner {\n",
              "    border: 2px solid var(--fill-color);\n",
              "    border-color: transparent;\n",
              "    border-bottom-color: var(--fill-color);\n",
              "    animation:\n",
              "      spin 1s steps(1) infinite;\n",
              "  }\n",
              "\n",
              "  @keyframes spin {\n",
              "    0% {\n",
              "      border-color: transparent;\n",
              "      border-bottom-color: var(--fill-color);\n",
              "      border-left-color: var(--fill-color);\n",
              "    }\n",
              "    20% {\n",
              "      border-color: transparent;\n",
              "      border-left-color: var(--fill-color);\n",
              "      border-top-color: var(--fill-color);\n",
              "    }\n",
              "    30% {\n",
              "      border-color: transparent;\n",
              "      border-left-color: var(--fill-color);\n",
              "      border-top-color: var(--fill-color);\n",
              "      border-right-color: var(--fill-color);\n",
              "    }\n",
              "    40% {\n",
              "      border-color: transparent;\n",
              "      border-right-color: var(--fill-color);\n",
              "      border-top-color: var(--fill-color);\n",
              "    }\n",
              "    60% {\n",
              "      border-color: transparent;\n",
              "      border-right-color: var(--fill-color);\n",
              "    }\n",
              "    80% {\n",
              "      border-color: transparent;\n",
              "      border-right-color: var(--fill-color);\n",
              "      border-bottom-color: var(--fill-color);\n",
              "    }\n",
              "    90% {\n",
              "      border-color: transparent;\n",
              "      border-bottom-color: var(--fill-color);\n",
              "    }\n",
              "  }\n",
              "</style>\n",
              "\n",
              "  <script>\n",
              "    async function quickchart(key) {\n",
              "      const quickchartButtonEl =\n",
              "        document.querySelector('#' + key + ' button');\n",
              "      quickchartButtonEl.disabled = true;  // To prevent multiple clicks.\n",
              "      quickchartButtonEl.classList.add('colab-df-spinner');\n",
              "      try {\n",
              "        const charts = await google.colab.kernel.invokeFunction(\n",
              "            'suggestCharts', [key], {});\n",
              "      } catch (error) {\n",
              "        console.error('Error during call to suggestCharts:', error);\n",
              "      }\n",
              "      quickchartButtonEl.classList.remove('colab-df-spinner');\n",
              "      quickchartButtonEl.classList.add('colab-df-quickchart-complete');\n",
              "    }\n",
              "    (() => {\n",
              "      let quickchartButtonEl =\n",
              "        document.querySelector('#df-ca3f5965-7db5-426b-8cab-4ee6bf388528 button');\n",
              "      quickchartButtonEl.style.display =\n",
              "        google.colab.kernel.accessAllowed ? 'block' : 'none';\n",
              "    })();\n",
              "  </script>\n",
              "</div>\n",
              "    </div>\n",
              "  </div>\n"
            ]
          },
          "metadata": {}
        }
      ],
      "source": [
        "display(describe(df_math))"
      ]
    },
    {
      "cell_type": "markdown",
      "source": [
        "Assimetria de cada coluna:"
      ],
      "metadata": {
        "id": "D_s1paKXfPpQ"
      }
    },
    {
      "cell_type": "code",
      "execution_count": null,
      "metadata": {
        "colab": {
          "base_uri": "https://localhost:8080/",
          "height": 338
        },
        "id": "tUpfyZ_bdm9m",
        "outputId": "a27a5295-56f8-438b-fff2-0231b80b0f0c"
      },
      "outputs": [
        {
          "output_type": "display_data",
          "data": {
            "text/plain": [
              "age           0.464498\n",
              "Medu         -0.317170\n",
              "Fedu         -0.031552\n",
              "traveltime    1.600920\n",
              "studytime     0.629739\n",
              "failures      2.377951\n",
              "famrel       -0.948263\n",
              "freetime     -0.162730\n",
              "goout         0.116060\n",
              "Dalc          2.182434\n",
              "Walc          0.609634\n",
              "health       -0.492723\n",
              "absences      3.657622\n",
              "G1            0.239699\n",
              "G2           -0.430004\n",
              "G3           -0.729887\n",
              "dtype: float64"
            ]
          },
          "metadata": {}
        }
      ],
      "source": [
        "display(skewness(df_math))"
      ]
    },
    {
      "cell_type": "markdown",
      "source": [
        "Colunas com dados simétricos:"
      ],
      "metadata": {
        "id": "lYjsUj7HfU3H"
      }
    },
    {
      "cell_type": "code",
      "source": [
        "# Check if skewness is close to 0 (symmetric)\n",
        "symmetric_columns = skewness.abs() < 0.5\n",
        "display(symmetric_columns[symmetric_columns].index)"
      ],
      "metadata": {
        "colab": {
          "base_uri": "https://localhost:8080/",
          "height": 223
        },
        "id": "bMo9k8OOfWeG",
        "outputId": "b636a71a-6cff-4c20-eedd-babaf2918d88"
      },
      "execution_count": null,
      "outputs": [
        {
          "output_type": "error",
          "ename": "AttributeError",
          "evalue": "'function' object has no attribute 'abs'",
          "traceback": [
            "\u001b[0;31m---------------------------------------------------------------------------\u001b[0m",
            "\u001b[0;31mAttributeError\u001b[0m                            Traceback (most recent call last)",
            "\u001b[0;32m<ipython-input-58-f38d8d46ee30>\u001b[0m in \u001b[0;36m<cell line: 2>\u001b[0;34m()\u001b[0m\n\u001b[1;32m      1\u001b[0m \u001b[0;31m# Check if skewness is close to 0 (symmetric)\u001b[0m\u001b[0;34m\u001b[0m\u001b[0;34m\u001b[0m\u001b[0m\n\u001b[0;32m----> 2\u001b[0;31m \u001b[0msymmetric_columns\u001b[0m \u001b[0;34m=\u001b[0m \u001b[0mskewness\u001b[0m\u001b[0;34m.\u001b[0m\u001b[0mabs\u001b[0m\u001b[0;34m(\u001b[0m\u001b[0;34m)\u001b[0m \u001b[0;34m<\u001b[0m \u001b[0;36m0.5\u001b[0m\u001b[0;34m\u001b[0m\u001b[0;34m\u001b[0m\u001b[0m\n\u001b[0m\u001b[1;32m      3\u001b[0m \u001b[0mdisplay\u001b[0m\u001b[0;34m(\u001b[0m\u001b[0msymmetric_columns\u001b[0m\u001b[0;34m[\u001b[0m\u001b[0msymmetric_columns\u001b[0m\u001b[0;34m]\u001b[0m\u001b[0;34m.\u001b[0m\u001b[0mindex\u001b[0m\u001b[0;34m)\u001b[0m\u001b[0;34m\u001b[0m\u001b[0;34m\u001b[0m\u001b[0m\n",
            "\u001b[0;31mAttributeError\u001b[0m: 'function' object has no attribute 'abs'"
          ]
        }
      ]
    },
    {
      "cell_type": "markdown",
      "metadata": {
        "id": "uJIzfF0xc4WQ"
      },
      "source": [
        "## Português"
      ]
    },
    {
      "cell_type": "code",
      "execution_count": null,
      "metadata": {
        "id": "ByNpa9cVbJGw"
      },
      "outputs": [],
      "source": [
        "display(describe(df_port))"
      ]
    },
    {
      "cell_type": "markdown",
      "source": [
        "Assimetria de cada coluna:"
      ],
      "metadata": {
        "id": "2KtiU7WAge8m"
      }
    },
    {
      "cell_type": "code",
      "source": [
        "display(skewness(df_port))"
      ],
      "metadata": {
        "id": "wRvrfLqvgin9"
      },
      "execution_count": null,
      "outputs": []
    },
    {
      "cell_type": "markdown",
      "source": [
        "Colunas com dados simétricos:"
      ],
      "metadata": {
        "id": "VXPO9yvmgmIs"
      }
    },
    {
      "cell_type": "code",
      "source": [
        "# Check if skewness is close to 0 (symmetric)\n",
        "symmetric_columns = skewness.abs() < 0.5\n",
        "display(symmetric_columns[symmetric_columns].index)"
      ],
      "metadata": {
        "id": "VxCf9Me0gub4"
      },
      "execution_count": null,
      "outputs": []
    },
    {
      "cell_type": "markdown",
      "metadata": {
        "id": "LDkhgjPsgL8G"
      },
      "source": [
        "# Visualização"
      ]
    },
    {
      "cell_type": "code",
      "execution_count": null,
      "metadata": {
        "id": "QeDWjiVvM8Lt"
      },
      "outputs": [],
      "source": [
        "def plot(df, title_prefix=\"\"):\n",
        "  # Selecting columns for bar plots (categorical and int64 columns)\n",
        "  categorical_columns = df.select_dtypes(include='object').columns\n",
        "  numeric_columns = df.select_dtypes(include='int64').columns\n",
        "\n",
        "  # Combine both types of columns\n",
        "  selected_columns = list(categorical_columns) + list(numeric_columns)\n",
        "\n",
        "  # Setting up subplots\n",
        "  num_plots = len(selected_columns)\n",
        "  num_cols = 3  # Number of columns in each row of subplots\n",
        "  num_rows = (num_plots + num_cols - 1) // num_cols  # Calculate number of rows\n",
        "\n",
        "  fig, axes = plt.subplots(num_rows, num_cols, figsize=(20, 4 * num_rows))  # Adjust figsize\n",
        "\n",
        "  # Flatten the axes to handle both 1-row and multi-row subplots\n",
        "  axes = axes.flatten()\n",
        "\n",
        "  # Plotting bar plots for each selected column\n",
        "  for i, column in enumerate(selected_columns):\n",
        "    if column == 'absences':\n",
        "      axes[i].tick_params(axis='x', rotation=90)  # Rotate labels by 90 degrees\n",
        "    sns.countplot(x=column, data=df, ax=axes[i])\n",
        "    axes[i].set_title(f'Gráfico de barras para {column}')\n",
        "\n",
        "  # Set a title for the entire subplot frame\n",
        "  fig.suptitle(f'{title_prefix} - Gŕaficos de Barras', fontsize=16)\n",
        "\n",
        "  # Adjust layout to prevent overlapping\n",
        "  plt.tight_layout(rect=[0, 0, 1, 0.96])\n",
        "\n",
        "  plt.show()"
      ]
    },
    {
      "cell_type": "markdown",
      "metadata": {
        "id": "pfzpyC_2Tlco"
      },
      "source": [
        "## Matemática"
      ]
    },
    {
      "cell_type": "code",
      "execution_count": null,
      "metadata": {
        "id": "B35nuna6Tm69"
      },
      "outputs": [],
      "source": [
        "plot(df_math, 'Matemática')"
      ]
    },
    {
      "cell_type": "markdown",
      "metadata": {
        "id": "sR77RJi1Tngw"
      },
      "source": [
        "## Português"
      ]
    },
    {
      "cell_type": "code",
      "execution_count": null,
      "metadata": {
        "id": "AL7qFKiWTpF8"
      },
      "outputs": [],
      "source": [
        "plot(df_port, 'Português')"
      ]
    },
    {
      "cell_type": "code",
      "source": [
        "# Loop para calcular e exibir a distribuição de frequências estilizada para cada variável\n",
        "for coluna in df_port.columns:\n",
        "    distribuicao = df_port[coluna].value_counts().sort_index().to_frame()\n",
        "    display(distribuicao.style.set_caption(f'Distribuição de Frequências de {coluna}').set_table_styles([{\n",
        "        'selector': 'caption',\n",
        "        'props': [('font-size', '18px'), ('color', 'purple')]\n",
        "    }]))"
      ],
      "metadata": {
        "id": "ZqM5Pvgyiz3M"
      },
      "execution_count": null,
      "outputs": []
    },
    {
      "cell_type": "markdown",
      "metadata": {
        "id": "k8jiY93eHq6G"
      },
      "source": [
        "# Perguntas\n",
        "\n",
        "\n",
        "1. Quanto o relacionamento familiar contribui para o consumo alcoólico dos estudantes? (por ex: Há um maior consumo de álcool devido a um pior relacionamento com a família?)\n",
        "2. Como o consumo alcoólico está relacionado ao desempenho acadêmico?\n",
        "3. O consumo de bebidas alcoólicas varia conforme o gênero?\n",
        "4. Sair mais com os amigos contribui para o aumento do consumo de bebidas?\n",
        "5. O nível de escolaridade dos pais está relacionado ao alcoolismo precoce?\n",
        "6. A ênfase escolhida pelo aluno possui alguma correlação com o consumo de álcool?"
      ]
    },
    {
      "cell_type": "code",
      "source": [
        "alcohol_consumption_columns = ['Dalc', 'Walc']"
      ],
      "metadata": {
        "id": "Dg2QdcuGHw7X"
      },
      "execution_count": null,
      "outputs": []
    },
    {
      "cell_type": "code",
      "source": [
        "def subset_df(df: pd.DataFrame, cols: list):\n",
        "  return df[cols]"
      ],
      "metadata": {
        "id": "G3Dw5ywAL0Zi"
      },
      "execution_count": null,
      "outputs": []
    },
    {
      "cell_type": "code",
      "source": [
        "def alcohol_corr_plt(df: pd.DataFrame, cols: list, title_suffix: str):\n",
        "  ss_df = subset_df(df, alcohol_consumption_columns + cols)\n",
        "\n",
        "  # Calculate the correlation matrix\n",
        "  correlation_matrix = ss_df.corr()\n",
        "\n",
        "  # Mask redundant diagonal values\n",
        "  mask = np.triu(np.ones_like(correlation_matrix, dtype=bool), k=1)\n",
        "\n",
        "  # Create a heatmap\n",
        "  plt.figure(figsize=(8, 6))\n",
        "  heatmap = sns.heatmap(correlation_matrix, annot=True, cmap='coolwarm', linewidths=1, square=True, mask=mask)\n",
        "\n",
        "  # Set plot title\n",
        "  plt.title('Correlation Heatmap - Alcohol Consumption and ' + title_suffix)\n",
        "\n",
        "  # Show the plot\n",
        "  plt.show()"
      ],
      "metadata": {
        "id": "1z22-nSlEYhK"
      },
      "execution_count": null,
      "outputs": []
    },
    {
      "cell_type": "code",
      "source": [
        "def alcohol_corr_sig(df: pd.DataFrame, cols: list):\n",
        "  subset_df = df[alcohol_consumption_columns + cols]\n",
        "\n",
        "  # Create an empty DataFrame to store the results\n",
        "  significance_results = pd.DataFrame(index=alcohol_consumption_columns, columns=cols)\n",
        "\n",
        "  # Iterate through each combination of alcohol and family relationship\n",
        "  for alc_variable in alcohol_consumption_columns:\n",
        "    for col in cols:\n",
        "      # Calculate the correlation coefficient and p-value\n",
        "      corr_coef, p_value = pearsonr(subset_df[alc_variable], subset_df[col])\n",
        "\n",
        "      # Check if the p-value is less than the significance level (e.g., 0.05)\n",
        "      significance = 'Significant' if p_value < 0.05 else 'Not Significant'\n",
        "\n",
        "      # Store the result in the DataFrame\n",
        "      significance_results.at[alc_variable, col] = significance\n",
        "  # Display the significance results\n",
        "  display(\"Significance of Correlations:\")\n",
        "  display(significance_results)"
      ],
      "metadata": {
        "id": "eqXjvSJNHKvN"
      },
      "execution_count": null,
      "outputs": []
    },
    {
      "cell_type": "markdown",
      "source": [
        "## Quanto o relacionamento familiar contribui para o consumo alcoólico dos estudantes?"
      ],
      "metadata": {
        "id": "TgT1qO9eriEC"
      }
    },
    {
      "cell_type": "markdown",
      "source": [
        "### Matemática"
      ],
      "metadata": {
        "id": "1ZVcBdMBrOQu"
      }
    },
    {
      "cell_type": "code",
      "source": [
        "alcohol_corr_plt(df_math, ['famrel'], 'Family Relationship Quality')"
      ],
      "metadata": {
        "id": "zIYcm7FuFnvt"
      },
      "execution_count": null,
      "outputs": []
    },
    {
      "cell_type": "code",
      "source": [
        "alcohol_corr_sig(df_math, ['famrel'])"
      ],
      "metadata": {
        "id": "JPxEbpjMIGUH"
      },
      "execution_count": null,
      "outputs": []
    },
    {
      "cell_type": "markdown",
      "source": [
        "Analisando este heatmap, percebemos que há uma correlação estatisticamente significante ainda que pequena entre o consumo de álcool nos fins de semana e o relacionamento familiar.\n"
      ],
      "metadata": {
        "id": "3I_bEisFwa6n"
      }
    },
    {
      "cell_type": "markdown",
      "source": [
        "### Português"
      ],
      "metadata": {
        "id": "-bALPLFYrcvK"
      }
    },
    {
      "cell_type": "code",
      "source": [
        "alcohol_corr_plt(df_port, ['famrel'], 'Family Relationship Quality')"
      ],
      "metadata": {
        "id": "njPBbKqbJbUo"
      },
      "execution_count": null,
      "outputs": []
    },
    {
      "cell_type": "code",
      "source": [
        "alcohol_corr_sig(df_port, ['famrel'])"
      ],
      "metadata": {
        "id": "uNIs_EnXJe3y"
      },
      "execution_count": null,
      "outputs": []
    },
    {
      "cell_type": "markdown",
      "source": [
        "## Como o consumo alcoólico está relacionado ao desempenho acadêmico?"
      ],
      "metadata": {
        "id": "lotJfAaLruEx"
      }
    },
    {
      "cell_type": "markdown",
      "source": [
        "### Matemática"
      ],
      "metadata": {
        "id": "FP7Q6LF9tTpc"
      }
    },
    {
      "cell_type": "code",
      "source": [
        "alcohol_corr_plt(df_math, ['failures', 'G1', 'G2', 'G3', 'absences'], 'Academic Performance')"
      ],
      "metadata": {
        "id": "VH1qvcd9F1nz"
      },
      "execution_count": null,
      "outputs": []
    },
    {
      "cell_type": "code",
      "source": [
        "alcohol_corr_sig(df_math, ['failures', 'G1', 'G2', 'G3', 'absences'])"
      ],
      "metadata": {
        "id": "6VN2BvQyIgdf"
      },
      "execution_count": null,
      "outputs": []
    },
    {
      "cell_type": "markdown",
      "source": [
        "Ao correlacionarmos a performance acadêmica - incluindo variáveis como notas (G1,G2,G3), se repetiu de ano, faltas - com o hábito alcoólico podemos notar que:\n",
        "\n",
        "Reprovações e faltas estão relacionadas ao consumo de álcool (tanto nos dias de semana, quanto nos fins de semanas). Ou seja, há um nexo entre estudantes com reprovações ou diversas faltas e usuários de bebida."
      ],
      "metadata": {
        "id": "c2gRGTTw3Mt8"
      }
    },
    {
      "cell_type": "markdown",
      "source": [
        "### Português"
      ],
      "metadata": {
        "id": "mi_HDYPX0coW"
      }
    },
    {
      "cell_type": "markdown",
      "source": [
        "## O consumo de bebidas alcoólicas varia conforme o gênero?"
      ],
      "metadata": {
        "id": "kM5Th2cC0V6z"
      }
    },
    {
      "cell_type": "markdown",
      "source": [
        "### Matemática"
      ],
      "metadata": {
        "id": "GGh4h3mw0Xwr"
      }
    },
    {
      "cell_type": "code",
      "source": [
        "# Select the relevant columns\n",
        "gender_alcohol_columns = ['sex', 'Dalc', 'Walc']\n",
        "\n",
        "# Create a DataFrame subset with the selected columns\n",
        "subset_df = df_math[gender_alcohol_columns]\n",
        "\n",
        "# Create a contingency table\n",
        "contingency_table = pd.crosstab(subset_df['sex'], [subset_df['Dalc'], subset_df['Walc']])\n",
        "\n",
        "# Perform the chi-square test\n",
        "chi2_stat, p_value, dof, expected = chi2_contingency(contingency_table)\n",
        "\n",
        "# Display the results\n",
        "display(f\"Chi-Square Statistic: {chi2_stat:.3f}\")\n",
        "display(f\"P-value: {p_value:.3f}\")\n",
        "\n",
        "# Check if the result is statistically significant (e.g., using a significance level of 0.05)\n",
        "if p_value < 0.05:\n",
        "    display(\"The association between alcohol consumption and gender is statistically significant.\")\n",
        "else:\n",
        "    display(\"There is no statistically significant association between alcohol consumption and gender.\")\n"
      ],
      "metadata": {
        "id": "DUVX-GW10giu"
      },
      "execution_count": null,
      "outputs": []
    },
    {
      "cell_type": "code",
      "source": [
        "# Calculate Cramer's V\n",
        "n = subset_df.shape[0]\n",
        "cramer_v = np.sqrt(chi2_stat / (n * (min(contingency_table.shape) - 1)))\n",
        "print(f\"Cramer's V: {cramer_v:.3f}\")\n"
      ],
      "metadata": {
        "id": "Xk1tVYLg1rWc"
      },
      "execution_count": null,
      "outputs": []
    },
    {
      "cell_type": "code",
      "source": [
        "# Create a normalized contingency table\n",
        "normalized_table = pd.crosstab(subset_df['sex'], subset_df['Dalc'], normalize='index')\n",
        "\n",
        "# Plot the stacked bar chart with normalized values\n",
        "normalized_table.plot(kind='bar', stacked=True)\n",
        "plt.title('Normalized Alcohol Consumption by Gender')\n",
        "plt.xlabel('Gender')\n",
        "plt.ylabel('Proportion')\n",
        "plt.legend(title='Dalc')\n",
        "plt.show()"
      ],
      "metadata": {
        "id": "qeOSiiLM3zke"
      },
      "execution_count": null,
      "outputs": []
    },
    {
      "cell_type": "markdown",
      "source": [
        "Ao analisarmos o padrão de consumo por gênero, percebe-se que os usuários masculinos tem maior tendência de consumirem quantidades elevadas de álcool do que quando comparado às usuárias femininas"
      ],
      "metadata": {
        "id": "HBKhfKvs_Zmy"
      }
    },
    {
      "cell_type": "markdown",
      "source": [
        "### Português"
      ],
      "metadata": {
        "id": "iQkRpcav0ZQ0"
      }
    },
    {
      "cell_type": "markdown",
      "source": [
        "## Sair mais com os amigos contribui para o aumento do consumo de bebidas?"
      ],
      "metadata": {
        "id": "2MF6A0Ee24kZ"
      }
    },
    {
      "cell_type": "markdown",
      "source": [
        "### Matemática"
      ],
      "metadata": {
        "id": "ub8lWgv-26Fc"
      }
    },
    {
      "cell_type": "code",
      "source": [
        "alcohol_corr_plt(df_math, ['goout'], 'Going Out with Friends')"
      ],
      "metadata": {
        "id": "ZlVycx4rI6hy"
      },
      "execution_count": null,
      "outputs": []
    },
    {
      "cell_type": "code",
      "source": [
        "# Perform a correlation test for 'goout' and 'Dalc'\n",
        "corr_coef_dalc, p_value_dalc = pearsonr(subset_df['goout'], subset_df['Dalc'])\n",
        "print(f\"Correlation Coefficient (Dalc): {corr_coef_dalc:.3f}\")\n",
        "print(f\"P-value (Dalc): {p_value_dalc:.3f}\")\n",
        "\n",
        "# Perform a correlation test for 'goout' and 'Walc'\n",
        "corr_coef_walc, p_value_walc = pearsonr(subset_df['goout'], subset_df['Walc'])\n",
        "print(f\"Correlation Coefficient (Walc): {corr_coef_walc:.3f}\")\n",
        "print(f\"P-value (Walc): {p_value_walc:.3f}\")"
      ],
      "metadata": {
        "id": "Sz8Gg5RX6PnC"
      },
      "execution_count": null,
      "outputs": []
    },
    {
      "cell_type": "markdown",
      "source": [
        "Correlacionando as variáveis entre o consumo de bebidas e sair com os amigos, inferimos que\n",
        "há uma certa relação principalmente aos finais de semana"
      ],
      "metadata": {
        "id": "ZOSTQPuN87DE"
      }
    },
    {
      "cell_type": "markdown",
      "source": [
        "### Português"
      ],
      "metadata": {
        "id": "HheWIOe927sD"
      }
    },
    {
      "cell_type": "markdown",
      "source": [
        "## O nível de escolaridade dos pais está relacionado ao alcoolismo precoce?"
      ],
      "metadata": {
        "id": "YoQ9HizQ72WC"
      }
    },
    {
      "cell_type": "markdown",
      "source": [
        "### Matemática"
      ],
      "metadata": {
        "id": "fctJhVQy77Ut"
      }
    },
    {
      "cell_type": "code",
      "source": [
        "# Select the relevant columns\n",
        "education_alcohol_columns = ['Medu', 'Fedu', 'Dalc', 'Walc']\n",
        "\n",
        "# Create a DataFrame subset with the selected columns\n",
        "subset_df = df_math[education_alcohol_columns]\n",
        "\n",
        "# Create contingency tables for Dalc and Walc vs. Medu\n",
        "contingency_table_dalc = pd.crosstab(subset_df['Dalc'], subset_df['Medu'])\n",
        "contingency_table_walc = pd.crosstab(subset_df['Walc'], subset_df['Medu'])\n",
        "\n",
        "# Perform the chi-square test for Dalc vs. Medu\n",
        "chi2_stat_dalc, p_value_dalc, dof_dalc, expected_dalc = chi2_contingency(contingency_table_dalc)\n",
        "print(f\"Chi-Square Statistic (Dalc vs. Medu): {chi2_stat_dalc:.3f}\")\n",
        "print(f\"P-value (Dalc vs. Medu): {p_value_dalc:.3f}\")\n",
        "\n",
        "# Perform the chi-square test for Walc vs. Medu\n",
        "chi2_stat_walc, p_value_walc, dof_walc, expected_walc = chi2_contingency(contingency_table_walc)\n",
        "print(f\"Chi-Square Statistic (Walc vs. Medu): {chi2_stat_walc:.3f}\")\n",
        "print(f\"P-value (Walc vs. Medu): {p_value_walc:.3f}\")\n",
        "\n",
        "# Create contingency tables for Dalc and Walc vs. Fedu\n",
        "contingency_table_dalc_fedu = pd.crosstab(subset_df['Dalc'], subset_df['Fedu'])\n",
        "contingency_table_walc_fedu = pd.crosstab(subset_df['Walc'], subset_df['Fedu'])\n",
        "\n",
        "# Perform the chi-square test for Dalc vs. Fedu\n",
        "chi2_stat_dalc_fedu, p_value_dalc_fedu, dof_dalc_fedu, expected_dalc_fedu = chi2_contingency(contingency_table_dalc_fedu)\n",
        "print(f\"Chi-Square Statistic (Dalc vs. Fedu): {chi2_stat_dalc_fedu:.3f}\")\n",
        "print(f\"P-value (Dalc vs. Fedu): {p_value_dalc_fedu:.3f}\")\n",
        "\n",
        "# Perform the chi-square test for Walc vs. Fedu\n",
        "chi2_stat_walc_fedu, p_value_walc_fedu, dof_walc_fedu, expected_walc_fedu = chi2_contingency(contingency_table_walc_fedu)\n",
        "print(f\"Chi-Square Statistic (Walc vs. Fedu): {chi2_stat_walc_fedu:.3f}\")\n",
        "print(f\"P-value (Walc vs. Fedu): {p_value_walc_fedu:.3f}\")"
      ],
      "metadata": {
        "id": "4k7DjmBH8u94"
      },
      "execution_count": null,
      "outputs": []
    },
    {
      "cell_type": "markdown",
      "source": [
        "O nível de escolaridade dos pais não apresenta ter relevância para com o consumo na adolescência"
      ],
      "metadata": {
        "id": "160xvkd3BxJU"
      }
    },
    {
      "cell_type": "markdown",
      "source": [
        "### Português"
      ],
      "metadata": {
        "id": "VyEz_PmU78oq"
      }
    },
    {
      "cell_type": "markdown",
      "source": [
        "## A ênfase escolhida pelo aluno possui alguma correlação com o consumo de álcool?"
      ],
      "metadata": {
        "id": "QoYkLH4d8Dd1"
      }
    },
    {
      "cell_type": "code",
      "source": [
        "# Select the relevant columns\n",
        "alcohol_columns = ['Dalc', 'Walc']\n",
        "\n",
        "# Create DataFrame subsets with the selected columns for both subjects\n",
        "subset_df_portuguese = df_port[alcohol_columns]\n",
        "subset_df_math = df_math[alcohol_columns]\n",
        "\n",
        "# Perform t-tests for alcohol consumption\n",
        "t_stat_dalc, p_value_dalc = ttest_ind(subset_df_portuguese['Dalc'], subset_df_math['Dalc'])\n",
        "t_stat_walc, p_value_walc = ttest_ind(subset_df_portuguese['Walc'], subset_df_math['Walc'])\n",
        "\n",
        "# Display t-test results\n",
        "display(\"T-Test Results (Dalc):\")\n",
        "display(f\"T-Statistic: {t_stat_dalc:.3f}\")\n",
        "display(f\"P-value: {p_value_dalc:.3f}\")\n",
        "\n",
        "display(\"T-Test Results (Walc):\")\n",
        "display(f\"T-Statistic: {t_stat_walc:.3f}\")\n",
        "display(f\"P-value: {p_value_walc:.3f}\")"
      ],
      "metadata": {
        "id": "3L41r_5-_l3b"
      },
      "execution_count": null,
      "outputs": []
    },
    {
      "cell_type": "markdown",
      "source": [
        "Não há uma associação relevante entre a escolha das disciplinas (português ou matemática) e o alcoolismo.\n"
      ],
      "metadata": {
        "id": "a8Ciy2GmB0X6"
      }
    },
    {
      "cell_type": "markdown",
      "metadata": {
        "id": "u_PWp2juMLcd"
      },
      "source": [
        "# Informações do dataset\n",
        "\n",
        "P. Cortez and A. Silva. Using Data Mining to Predict Secondary School Student Performance. In A. Brito and J. Teixeira Eds., Proceedings of 5th FUture BUsiness TEChnology Conference (FUBUTEC 2008) pp. 5-12, Porto, Portugal, April, 2008, EUROSIS, ISBN 978-9077381-39-7.\n",
        "\n",
        "Fabio Pagnotta, Hossain Mohammad Amran.\n",
        "Email: fabio.pagnotta@studenti.unicam.it, mohammadamra.hossain@studenti.unicam.it\n",
        "University Of Camerino\n",
        "\n",
        "https://archive.ics.uci.edu/ml/datasets/STUDENT+ALCOHOL+CONSUMPTION"
      ]
    }
  ],
  "metadata": {
    "colab": {
      "cell_execution_strategy": "setup",
      "provenance": [],
      "include_colab_link": true
    },
    "kernelspec": {
      "display_name": "Python 3",
      "name": "python3"
    },
    "language_info": {
      "name": "python"
    }
  },
  "nbformat": 4,
  "nbformat_minor": 0
}